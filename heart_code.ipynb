{
  "nbformat": 4,
  "nbformat_minor": 0,
  "metadata": {
    "colab": {
      "name": "heart_code.ipynb",
      "provenance": [],
      "collapsed_sections": []
    },
    "kernelspec": {
      "name": "python3",
      "display_name": "Python 3"
    },
    "language_info": {
      "name": "python"
    }
  },
  "cells": [
    {
      "cell_type": "markdown",
      "source": [
        "# **Heart** **Failure** **Analysis**"
      ],
      "metadata": {
        "id": "5E2iXJ_PC63I"
      }
    },
    {
      "cell_type": "code",
      "execution_count": 95,
      "metadata": {
        "id": "IXUFZzFd2cvx"
      },
      "outputs": [],
      "source": [
        "# Importing the libraries\n",
        "\n",
        "import pandas as pd\n",
        "import numpy as np\n",
        "import matplotlib.pyplot as plt\n",
        "import seaborn as sns"
      ]
    },
    {
      "cell_type": "code",
      "source": [
        "# Importing the dataset\n",
        "\n",
        "dataset = pd.read_csv('dataset.csv')"
      ],
      "metadata": {
        "id": "znJnudCa2vDo"
      },
      "execution_count": 96,
      "outputs": []
    },
    {
      "cell_type": "markdown",
      "source": [
        "## **Dataset**\n",
        "\n",
        "\n",
        "\n",
        "01.    **Age** : age of the patient [years]\n",
        "02.    **Anaemia** : Decrease of red blood cells or hemoglobin (boolean)\n",
        "3.   **creatine_phosphokinase** : Level of the CPK enzyme in the blood (mcg/L)\n",
        "4.   **diabetes** : If the patient has diabetes (boolean)\n",
        "5.   **ejection_fraction** : Percentage of blood leaving the heart at each contraction (percentage)\n",
        "6.   **high_blood_pressure** : If the patient has hypertension (boolean\n",
        "7.   **platelets** : Platelets in the blood (kiloplatelets/mL)\n",
        "8.   **serum_creatine** : Level of serum creatinine in the blood (mg/dL)\n",
        "9.   **serum_sodium** : Level of serum sodium in the blood (mEq/L)\n",
        "10.  **sex** : Woman or man (binary)\n",
        "11.  **smoking** : If the patient smokes or not (boolean)\n",
        "12.   **time** : Follow-up period (days)\n",
        "13.   **DEATH_EVENT** : If the patient deceased during the follow-up period (boolean)\n",
        "\n",
        "\n",
        "\n",
        "\n",
        "\n",
        "\n",
        "\n",
        "\n",
        "\n",
        "\n",
        "\n",
        "\n",
        "\n",
        "\n",
        "\n",
        "\n",
        "\n",
        "\n",
        "\n",
        "\n"
      ],
      "metadata": {
        "id": "QKobdZ2S8GUO"
      }
    },
    {
      "cell_type": "markdown",
      "source": [
        "### CREATINE PHOSPHOKINASE\n",
        " \n",
        "*   When the total CPK(CREATINE PHOSPHOKINASE) level is very high, it most often means there has been injury or stress to muscle tissue, the heart, or the brain. Muscle tissue injury is most likely.\n",
        "*    When a muscle is damaged, CPK leaks into the bloodstream. Finding which specific form of CPK is high helps determine which tissue has been damaged."
      ],
      "metadata": {
        "id": "kHGxFmm5RDzw"
      }
    },
    {
      "cell_type": "code",
      "source": [
        "# Lets look at the top 5 rows\n",
        "dataset.head()"
      ],
      "metadata": {
        "colab": {
          "base_uri": "https://localhost:8080/",
          "height": 206
        },
        "id": "mfdtx5uP25TK",
        "outputId": "1fd8f15e-a911-492a-ec3a-8d5897cf9bf7"
      },
      "execution_count": 97,
      "outputs": [
        {
          "output_type": "execute_result",
          "data": {
            "text/plain": [
              "    age  anaemia  creatine_phosphokinase  diabetes  ejection_fraction  \\\n",
              "0  75.0        0                     582         0                 20   \n",
              "1  55.0        0                    7861         0                 38   \n",
              "2  65.0        0                     146         0                 20   \n",
              "3  50.0        1                     111         0                 20   \n",
              "4  65.0        1                     160         1                 20   \n",
              "\n",
              "   high_blood_pressure  platelets  serum_creatine  serum_sodium  sex  smoking  \\\n",
              "0                    1  265000.00             1.9           130    1        0   \n",
              "1                    0  263358.03             1.1           136    1        0   \n",
              "2                    0  162000.00             1.3           129    1        1   \n",
              "3                    0  210000.00             1.9           137    1        0   \n",
              "4                    0  327000.00             2.7           116    0        0   \n",
              "\n",
              "   time  DEATH_EVENT  \n",
              "0     4            1  \n",
              "1     6            1  \n",
              "2     7            1  \n",
              "3     7            1  \n",
              "4     8            1  "
            ],
            "text/html": [
              "\n",
              "  <div id=\"df-790aaa91-4056-4ae2-a909-417d944cb0d2\">\n",
              "    <div class=\"colab-df-container\">\n",
              "      <div>\n",
              "<style scoped>\n",
              "    .dataframe tbody tr th:only-of-type {\n",
              "        vertical-align: middle;\n",
              "    }\n",
              "\n",
              "    .dataframe tbody tr th {\n",
              "        vertical-align: top;\n",
              "    }\n",
              "\n",
              "    .dataframe thead th {\n",
              "        text-align: right;\n",
              "    }\n",
              "</style>\n",
              "<table border=\"1\" class=\"dataframe\">\n",
              "  <thead>\n",
              "    <tr style=\"text-align: right;\">\n",
              "      <th></th>\n",
              "      <th>age</th>\n",
              "      <th>anaemia</th>\n",
              "      <th>creatine_phosphokinase</th>\n",
              "      <th>diabetes</th>\n",
              "      <th>ejection_fraction</th>\n",
              "      <th>high_blood_pressure</th>\n",
              "      <th>platelets</th>\n",
              "      <th>serum_creatine</th>\n",
              "      <th>serum_sodium</th>\n",
              "      <th>sex</th>\n",
              "      <th>smoking</th>\n",
              "      <th>time</th>\n",
              "      <th>DEATH_EVENT</th>\n",
              "    </tr>\n",
              "  </thead>\n",
              "  <tbody>\n",
              "    <tr>\n",
              "      <th>0</th>\n",
              "      <td>75.0</td>\n",
              "      <td>0</td>\n",
              "      <td>582</td>\n",
              "      <td>0</td>\n",
              "      <td>20</td>\n",
              "      <td>1</td>\n",
              "      <td>265000.00</td>\n",
              "      <td>1.9</td>\n",
              "      <td>130</td>\n",
              "      <td>1</td>\n",
              "      <td>0</td>\n",
              "      <td>4</td>\n",
              "      <td>1</td>\n",
              "    </tr>\n",
              "    <tr>\n",
              "      <th>1</th>\n",
              "      <td>55.0</td>\n",
              "      <td>0</td>\n",
              "      <td>7861</td>\n",
              "      <td>0</td>\n",
              "      <td>38</td>\n",
              "      <td>0</td>\n",
              "      <td>263358.03</td>\n",
              "      <td>1.1</td>\n",
              "      <td>136</td>\n",
              "      <td>1</td>\n",
              "      <td>0</td>\n",
              "      <td>6</td>\n",
              "      <td>1</td>\n",
              "    </tr>\n",
              "    <tr>\n",
              "      <th>2</th>\n",
              "      <td>65.0</td>\n",
              "      <td>0</td>\n",
              "      <td>146</td>\n",
              "      <td>0</td>\n",
              "      <td>20</td>\n",
              "      <td>0</td>\n",
              "      <td>162000.00</td>\n",
              "      <td>1.3</td>\n",
              "      <td>129</td>\n",
              "      <td>1</td>\n",
              "      <td>1</td>\n",
              "      <td>7</td>\n",
              "      <td>1</td>\n",
              "    </tr>\n",
              "    <tr>\n",
              "      <th>3</th>\n",
              "      <td>50.0</td>\n",
              "      <td>1</td>\n",
              "      <td>111</td>\n",
              "      <td>0</td>\n",
              "      <td>20</td>\n",
              "      <td>0</td>\n",
              "      <td>210000.00</td>\n",
              "      <td>1.9</td>\n",
              "      <td>137</td>\n",
              "      <td>1</td>\n",
              "      <td>0</td>\n",
              "      <td>7</td>\n",
              "      <td>1</td>\n",
              "    </tr>\n",
              "    <tr>\n",
              "      <th>4</th>\n",
              "      <td>65.0</td>\n",
              "      <td>1</td>\n",
              "      <td>160</td>\n",
              "      <td>1</td>\n",
              "      <td>20</td>\n",
              "      <td>0</td>\n",
              "      <td>327000.00</td>\n",
              "      <td>2.7</td>\n",
              "      <td>116</td>\n",
              "      <td>0</td>\n",
              "      <td>0</td>\n",
              "      <td>8</td>\n",
              "      <td>1</td>\n",
              "    </tr>\n",
              "  </tbody>\n",
              "</table>\n",
              "</div>\n",
              "      <button class=\"colab-df-convert\" onclick=\"convertToInteractive('df-790aaa91-4056-4ae2-a909-417d944cb0d2')\"\n",
              "              title=\"Convert this dataframe to an interactive table.\"\n",
              "              style=\"display:none;\">\n",
              "        \n",
              "  <svg xmlns=\"http://www.w3.org/2000/svg\" height=\"24px\"viewBox=\"0 0 24 24\"\n",
              "       width=\"24px\">\n",
              "    <path d=\"M0 0h24v24H0V0z\" fill=\"none\"/>\n",
              "    <path d=\"M18.56 5.44l.94 2.06.94-2.06 2.06-.94-2.06-.94-.94-2.06-.94 2.06-2.06.94zm-11 1L8.5 8.5l.94-2.06 2.06-.94-2.06-.94L8.5 2.5l-.94 2.06-2.06.94zm10 10l.94 2.06.94-2.06 2.06-.94-2.06-.94-.94-2.06-.94 2.06-2.06.94z\"/><path d=\"M17.41 7.96l-1.37-1.37c-.4-.4-.92-.59-1.43-.59-.52 0-1.04.2-1.43.59L10.3 9.45l-7.72 7.72c-.78.78-.78 2.05 0 2.83L4 21.41c.39.39.9.59 1.41.59.51 0 1.02-.2 1.41-.59l7.78-7.78 2.81-2.81c.8-.78.8-2.07 0-2.86zM5.41 20L4 18.59l7.72-7.72 1.47 1.35L5.41 20z\"/>\n",
              "  </svg>\n",
              "      </button>\n",
              "      \n",
              "  <style>\n",
              "    .colab-df-container {\n",
              "      display:flex;\n",
              "      flex-wrap:wrap;\n",
              "      gap: 12px;\n",
              "    }\n",
              "\n",
              "    .colab-df-convert {\n",
              "      background-color: #E8F0FE;\n",
              "      border: none;\n",
              "      border-radius: 50%;\n",
              "      cursor: pointer;\n",
              "      display: none;\n",
              "      fill: #1967D2;\n",
              "      height: 32px;\n",
              "      padding: 0 0 0 0;\n",
              "      width: 32px;\n",
              "    }\n",
              "\n",
              "    .colab-df-convert:hover {\n",
              "      background-color: #E2EBFA;\n",
              "      box-shadow: 0px 1px 2px rgba(60, 64, 67, 0.3), 0px 1px 3px 1px rgba(60, 64, 67, 0.15);\n",
              "      fill: #174EA6;\n",
              "    }\n",
              "\n",
              "    [theme=dark] .colab-df-convert {\n",
              "      background-color: #3B4455;\n",
              "      fill: #D2E3FC;\n",
              "    }\n",
              "\n",
              "    [theme=dark] .colab-df-convert:hover {\n",
              "      background-color: #434B5C;\n",
              "      box-shadow: 0px 1px 3px 1px rgba(0, 0, 0, 0.15);\n",
              "      filter: drop-shadow(0px 1px 2px rgba(0, 0, 0, 0.3));\n",
              "      fill: #FFFFFF;\n",
              "    }\n",
              "  </style>\n",
              "\n",
              "      <script>\n",
              "        const buttonEl =\n",
              "          document.querySelector('#df-790aaa91-4056-4ae2-a909-417d944cb0d2 button.colab-df-convert');\n",
              "        buttonEl.style.display =\n",
              "          google.colab.kernel.accessAllowed ? 'block' : 'none';\n",
              "\n",
              "        async function convertToInteractive(key) {\n",
              "          const element = document.querySelector('#df-790aaa91-4056-4ae2-a909-417d944cb0d2');\n",
              "          const dataTable =\n",
              "            await google.colab.kernel.invokeFunction('convertToInteractive',\n",
              "                                                     [key], {});\n",
              "          if (!dataTable) return;\n",
              "\n",
              "          const docLinkHtml = 'Like what you see? Visit the ' +\n",
              "            '<a target=\"_blank\" href=https://colab.research.google.com/notebooks/data_table.ipynb>data table notebook</a>'\n",
              "            + ' to learn more about interactive tables.';\n",
              "          element.innerHTML = '';\n",
              "          dataTable['output_type'] = 'display_data';\n",
              "          await google.colab.output.renderOutput(dataTable, element);\n",
              "          const docLink = document.createElement('div');\n",
              "          docLink.innerHTML = docLinkHtml;\n",
              "          element.appendChild(docLink);\n",
              "        }\n",
              "      </script>\n",
              "    </div>\n",
              "  </div>\n",
              "  "
            ]
          },
          "metadata": {},
          "execution_count": 97
        }
      ]
    },
    {
      "cell_type": "code",
      "source": [
        "# Checking for null values\n",
        "dataset.isnull().sum()"
      ],
      "metadata": {
        "colab": {
          "base_uri": "https://localhost:8080/"
        },
        "id": "yuZZ0WJE28Fj",
        "outputId": "fc27f128-59cb-4bac-985d-8880b2e1095f"
      },
      "execution_count": 98,
      "outputs": [
        {
          "output_type": "execute_result",
          "data": {
            "text/plain": [
              "age                       0\n",
              "anaemia                   0\n",
              "creatine_phosphokinase    0\n",
              "diabetes                  0\n",
              "ejection_fraction         0\n",
              "high_blood_pressure       0\n",
              "platelets                 0\n",
              "serum_creatine            0\n",
              "serum_sodium              0\n",
              "sex                       0\n",
              "smoking                   0\n",
              "time                      0\n",
              "DEATH_EVENT               0\n",
              "dtype: int64"
            ]
          },
          "metadata": {},
          "execution_count": 98
        }
      ]
    },
    {
      "cell_type": "code",
      "source": [
        "dataset.describe()"
      ],
      "metadata": {
        "colab": {
          "base_uri": "https://localhost:8080/",
          "height": 364
        },
        "id": "Ig7HOPRt3APl",
        "outputId": "5f9e1ec6-70ce-45f3-9e08-f0a7666a154f"
      },
      "execution_count": 99,
      "outputs": [
        {
          "output_type": "execute_result",
          "data": {
            "text/plain": [
              "              age     anaemia  creatine_phosphokinase    diabetes  \\\n",
              "count  299.000000  299.000000              299.000000  299.000000   \n",
              "mean    60.833893    0.431438              581.839465    0.418060   \n",
              "std     11.894809    0.496107              970.287881    0.494067   \n",
              "min     40.000000    0.000000               23.000000    0.000000   \n",
              "25%     51.000000    0.000000              116.500000    0.000000   \n",
              "50%     60.000000    0.000000              250.000000    0.000000   \n",
              "75%     70.000000    1.000000              582.000000    1.000000   \n",
              "max     95.000000    1.000000             7861.000000    1.000000   \n",
              "\n",
              "       ejection_fraction  high_blood_pressure      platelets  serum_creatine  \\\n",
              "count         299.000000           299.000000     299.000000       299.00000   \n",
              "mean           38.083612             0.351171  263358.029264         1.39388   \n",
              "std            11.834841             0.478136   97804.236869         1.03451   \n",
              "min            14.000000             0.000000   25100.000000         0.50000   \n",
              "25%            30.000000             0.000000  212500.000000         0.90000   \n",
              "50%            38.000000             0.000000  262000.000000         1.10000   \n",
              "75%            45.000000             1.000000  303500.000000         1.40000   \n",
              "max            80.000000             1.000000  850000.000000         9.40000   \n",
              "\n",
              "       serum_sodium         sex    smoking        time  DEATH_EVENT  \n",
              "count    299.000000  299.000000  299.00000  299.000000    299.00000  \n",
              "mean     136.625418    0.648829    0.32107  130.260870      0.32107  \n",
              "std        4.412477    0.478136    0.46767   77.614208      0.46767  \n",
              "min      113.000000    0.000000    0.00000    4.000000      0.00000  \n",
              "25%      134.000000    0.000000    0.00000   73.000000      0.00000  \n",
              "50%      137.000000    1.000000    0.00000  115.000000      0.00000  \n",
              "75%      140.000000    1.000000    1.00000  203.000000      1.00000  \n",
              "max      148.000000    1.000000    1.00000  285.000000      1.00000  "
            ],
            "text/html": [
              "\n",
              "  <div id=\"df-695c53ea-1e09-4be4-9d37-611a31da2d82\">\n",
              "    <div class=\"colab-df-container\">\n",
              "      <div>\n",
              "<style scoped>\n",
              "    .dataframe tbody tr th:only-of-type {\n",
              "        vertical-align: middle;\n",
              "    }\n",
              "\n",
              "    .dataframe tbody tr th {\n",
              "        vertical-align: top;\n",
              "    }\n",
              "\n",
              "    .dataframe thead th {\n",
              "        text-align: right;\n",
              "    }\n",
              "</style>\n",
              "<table border=\"1\" class=\"dataframe\">\n",
              "  <thead>\n",
              "    <tr style=\"text-align: right;\">\n",
              "      <th></th>\n",
              "      <th>age</th>\n",
              "      <th>anaemia</th>\n",
              "      <th>creatine_phosphokinase</th>\n",
              "      <th>diabetes</th>\n",
              "      <th>ejection_fraction</th>\n",
              "      <th>high_blood_pressure</th>\n",
              "      <th>platelets</th>\n",
              "      <th>serum_creatine</th>\n",
              "      <th>serum_sodium</th>\n",
              "      <th>sex</th>\n",
              "      <th>smoking</th>\n",
              "      <th>time</th>\n",
              "      <th>DEATH_EVENT</th>\n",
              "    </tr>\n",
              "  </thead>\n",
              "  <tbody>\n",
              "    <tr>\n",
              "      <th>count</th>\n",
              "      <td>299.000000</td>\n",
              "      <td>299.000000</td>\n",
              "      <td>299.000000</td>\n",
              "      <td>299.000000</td>\n",
              "      <td>299.000000</td>\n",
              "      <td>299.000000</td>\n",
              "      <td>299.000000</td>\n",
              "      <td>299.00000</td>\n",
              "      <td>299.000000</td>\n",
              "      <td>299.000000</td>\n",
              "      <td>299.00000</td>\n",
              "      <td>299.000000</td>\n",
              "      <td>299.00000</td>\n",
              "    </tr>\n",
              "    <tr>\n",
              "      <th>mean</th>\n",
              "      <td>60.833893</td>\n",
              "      <td>0.431438</td>\n",
              "      <td>581.839465</td>\n",
              "      <td>0.418060</td>\n",
              "      <td>38.083612</td>\n",
              "      <td>0.351171</td>\n",
              "      <td>263358.029264</td>\n",
              "      <td>1.39388</td>\n",
              "      <td>136.625418</td>\n",
              "      <td>0.648829</td>\n",
              "      <td>0.32107</td>\n",
              "      <td>130.260870</td>\n",
              "      <td>0.32107</td>\n",
              "    </tr>\n",
              "    <tr>\n",
              "      <th>std</th>\n",
              "      <td>11.894809</td>\n",
              "      <td>0.496107</td>\n",
              "      <td>970.287881</td>\n",
              "      <td>0.494067</td>\n",
              "      <td>11.834841</td>\n",
              "      <td>0.478136</td>\n",
              "      <td>97804.236869</td>\n",
              "      <td>1.03451</td>\n",
              "      <td>4.412477</td>\n",
              "      <td>0.478136</td>\n",
              "      <td>0.46767</td>\n",
              "      <td>77.614208</td>\n",
              "      <td>0.46767</td>\n",
              "    </tr>\n",
              "    <tr>\n",
              "      <th>min</th>\n",
              "      <td>40.000000</td>\n",
              "      <td>0.000000</td>\n",
              "      <td>23.000000</td>\n",
              "      <td>0.000000</td>\n",
              "      <td>14.000000</td>\n",
              "      <td>0.000000</td>\n",
              "      <td>25100.000000</td>\n",
              "      <td>0.50000</td>\n",
              "      <td>113.000000</td>\n",
              "      <td>0.000000</td>\n",
              "      <td>0.00000</td>\n",
              "      <td>4.000000</td>\n",
              "      <td>0.00000</td>\n",
              "    </tr>\n",
              "    <tr>\n",
              "      <th>25%</th>\n",
              "      <td>51.000000</td>\n",
              "      <td>0.000000</td>\n",
              "      <td>116.500000</td>\n",
              "      <td>0.000000</td>\n",
              "      <td>30.000000</td>\n",
              "      <td>0.000000</td>\n",
              "      <td>212500.000000</td>\n",
              "      <td>0.90000</td>\n",
              "      <td>134.000000</td>\n",
              "      <td>0.000000</td>\n",
              "      <td>0.00000</td>\n",
              "      <td>73.000000</td>\n",
              "      <td>0.00000</td>\n",
              "    </tr>\n",
              "    <tr>\n",
              "      <th>50%</th>\n",
              "      <td>60.000000</td>\n",
              "      <td>0.000000</td>\n",
              "      <td>250.000000</td>\n",
              "      <td>0.000000</td>\n",
              "      <td>38.000000</td>\n",
              "      <td>0.000000</td>\n",
              "      <td>262000.000000</td>\n",
              "      <td>1.10000</td>\n",
              "      <td>137.000000</td>\n",
              "      <td>1.000000</td>\n",
              "      <td>0.00000</td>\n",
              "      <td>115.000000</td>\n",
              "      <td>0.00000</td>\n",
              "    </tr>\n",
              "    <tr>\n",
              "      <th>75%</th>\n",
              "      <td>70.000000</td>\n",
              "      <td>1.000000</td>\n",
              "      <td>582.000000</td>\n",
              "      <td>1.000000</td>\n",
              "      <td>45.000000</td>\n",
              "      <td>1.000000</td>\n",
              "      <td>303500.000000</td>\n",
              "      <td>1.40000</td>\n",
              "      <td>140.000000</td>\n",
              "      <td>1.000000</td>\n",
              "      <td>1.00000</td>\n",
              "      <td>203.000000</td>\n",
              "      <td>1.00000</td>\n",
              "    </tr>\n",
              "    <tr>\n",
              "      <th>max</th>\n",
              "      <td>95.000000</td>\n",
              "      <td>1.000000</td>\n",
              "      <td>7861.000000</td>\n",
              "      <td>1.000000</td>\n",
              "      <td>80.000000</td>\n",
              "      <td>1.000000</td>\n",
              "      <td>850000.000000</td>\n",
              "      <td>9.40000</td>\n",
              "      <td>148.000000</td>\n",
              "      <td>1.000000</td>\n",
              "      <td>1.00000</td>\n",
              "      <td>285.000000</td>\n",
              "      <td>1.00000</td>\n",
              "    </tr>\n",
              "  </tbody>\n",
              "</table>\n",
              "</div>\n",
              "      <button class=\"colab-df-convert\" onclick=\"convertToInteractive('df-695c53ea-1e09-4be4-9d37-611a31da2d82')\"\n",
              "              title=\"Convert this dataframe to an interactive table.\"\n",
              "              style=\"display:none;\">\n",
              "        \n",
              "  <svg xmlns=\"http://www.w3.org/2000/svg\" height=\"24px\"viewBox=\"0 0 24 24\"\n",
              "       width=\"24px\">\n",
              "    <path d=\"M0 0h24v24H0V0z\" fill=\"none\"/>\n",
              "    <path d=\"M18.56 5.44l.94 2.06.94-2.06 2.06-.94-2.06-.94-.94-2.06-.94 2.06-2.06.94zm-11 1L8.5 8.5l.94-2.06 2.06-.94-2.06-.94L8.5 2.5l-.94 2.06-2.06.94zm10 10l.94 2.06.94-2.06 2.06-.94-2.06-.94-.94-2.06-.94 2.06-2.06.94z\"/><path d=\"M17.41 7.96l-1.37-1.37c-.4-.4-.92-.59-1.43-.59-.52 0-1.04.2-1.43.59L10.3 9.45l-7.72 7.72c-.78.78-.78 2.05 0 2.83L4 21.41c.39.39.9.59 1.41.59.51 0 1.02-.2 1.41-.59l7.78-7.78 2.81-2.81c.8-.78.8-2.07 0-2.86zM5.41 20L4 18.59l7.72-7.72 1.47 1.35L5.41 20z\"/>\n",
              "  </svg>\n",
              "      </button>\n",
              "      \n",
              "  <style>\n",
              "    .colab-df-container {\n",
              "      display:flex;\n",
              "      flex-wrap:wrap;\n",
              "      gap: 12px;\n",
              "    }\n",
              "\n",
              "    .colab-df-convert {\n",
              "      background-color: #E8F0FE;\n",
              "      border: none;\n",
              "      border-radius: 50%;\n",
              "      cursor: pointer;\n",
              "      display: none;\n",
              "      fill: #1967D2;\n",
              "      height: 32px;\n",
              "      padding: 0 0 0 0;\n",
              "      width: 32px;\n",
              "    }\n",
              "\n",
              "    .colab-df-convert:hover {\n",
              "      background-color: #E2EBFA;\n",
              "      box-shadow: 0px 1px 2px rgba(60, 64, 67, 0.3), 0px 1px 3px 1px rgba(60, 64, 67, 0.15);\n",
              "      fill: #174EA6;\n",
              "    }\n",
              "\n",
              "    [theme=dark] .colab-df-convert {\n",
              "      background-color: #3B4455;\n",
              "      fill: #D2E3FC;\n",
              "    }\n",
              "\n",
              "    [theme=dark] .colab-df-convert:hover {\n",
              "      background-color: #434B5C;\n",
              "      box-shadow: 0px 1px 3px 1px rgba(0, 0, 0, 0.15);\n",
              "      filter: drop-shadow(0px 1px 2px rgba(0, 0, 0, 0.3));\n",
              "      fill: #FFFFFF;\n",
              "    }\n",
              "  </style>\n",
              "\n",
              "      <script>\n",
              "        const buttonEl =\n",
              "          document.querySelector('#df-695c53ea-1e09-4be4-9d37-611a31da2d82 button.colab-df-convert');\n",
              "        buttonEl.style.display =\n",
              "          google.colab.kernel.accessAllowed ? 'block' : 'none';\n",
              "\n",
              "        async function convertToInteractive(key) {\n",
              "          const element = document.querySelector('#df-695c53ea-1e09-4be4-9d37-611a31da2d82');\n",
              "          const dataTable =\n",
              "            await google.colab.kernel.invokeFunction('convertToInteractive',\n",
              "                                                     [key], {});\n",
              "          if (!dataTable) return;\n",
              "\n",
              "          const docLinkHtml = 'Like what you see? Visit the ' +\n",
              "            '<a target=\"_blank\" href=https://colab.research.google.com/notebooks/data_table.ipynb>data table notebook</a>'\n",
              "            + ' to learn more about interactive tables.';\n",
              "          element.innerHTML = '';\n",
              "          dataTable['output_type'] = 'display_data';\n",
              "          await google.colab.output.renderOutput(dataTable, element);\n",
              "          const docLink = document.createElement('div');\n",
              "          docLink.innerHTML = docLinkHtml;\n",
              "          element.appendChild(docLink);\n",
              "        }\n",
              "      </script>\n",
              "    </div>\n",
              "  </div>\n",
              "  "
            ]
          },
          "metadata": {},
          "execution_count": 99
        }
      ]
    },
    {
      "cell_type": "markdown",
      "source": [
        "\n",
        "\n",
        "---\n",
        "\n",
        "\n",
        "\n",
        "---\n",
        "\n",
        "\n",
        "# **Finding Outliers**"
      ],
      "metadata": {
        "id": "Scp2J0QzDM90"
      }
    },
    {
      "cell_type": "code",
      "source": [
        "# Boxplot for ejection_fraction\n",
        "\n",
        "sns.boxplot(x = dataset.ejection_fraction, color = 'orange')\n",
        "plt.show()"
      ],
      "metadata": {
        "colab": {
          "base_uri": "https://localhost:8080/",
          "height": 389
        },
        "id": "uEi4yFyj5bgr",
        "outputId": "e22020d6-7af2-4f82-ea89-9aa90d32b6fa"
      },
      "execution_count": 100,
      "outputs": [
        {
          "output_type": "display_data",
          "data": {
            "text/plain": [
              "<Figure size 1080x432 with 1 Axes>"
            ],
            "image/png": "[encoded data removed]"
          },
          "metadata": {}
        }
      ]
    },
    {
      "cell_type": "code",
      "source": [
        "# We can see there are two outliers. Lets remove them\n",
        "dataset[dataset['ejection_fraction']>=70]"
      ],
      "metadata": {
        "colab": {
          "base_uri": "https://localhost:8080/",
          "height": 112
        },
        "id": "dgRbYe-V5jmS",
        "outputId": "17748421-83ae-4d09-ec8a-55f5e9a236dc"
      },
      "execution_count": 101,
      "outputs": [
        {
          "output_type": "execute_result",
          "data": {
            "text/plain": [
              "      age  anaemia  creatine_phosphokinase  diabetes  ejection_fraction  \\\n",
              "64   45.0        0                     582         0                 80   \n",
              "217  54.0        1                     427         0                 70   \n",
              "\n",
              "     high_blood_pressure  platelets  serum_creatine  serum_sodium  sex  \\\n",
              "64                     0  263358.03            1.18           137    0   \n",
              "217                    1  151000.00            9.00           137    0   \n",
              "\n",
              "     smoking  time  DEATH_EVENT  \n",
              "64         0    63            0  \n",
              "217        0   196            1  "
            ],
            "text/html": [
              "\n",
              "  <div id=\"df-b7b397f0-659b-4c5a-8682-8685ca111504\">\n",
              "    <div class=\"colab-df-container\">\n",
              "      <div>\n",
              "<style scoped>\n",
              "    .dataframe tbody tr th:only-of-type {\n",
              "        vertical-align: middle;\n",
              "    }\n",
              "\n",
              "    .dataframe tbody tr th {\n",
              "        vertical-align: top;\n",
              "    }\n",
              "\n",
              "    .dataframe thead th {\n",
              "        text-align: right;\n",
              "    }\n",
              "</style>\n",
              "<table border=\"1\" class=\"dataframe\">\n",
              "  <thead>\n",
              "    <tr style=\"text-align: right;\">\n",
              "      <th></th>\n",
              "      <th>age</th>\n",
              "      <th>anaemia</th>\n",
              "      <th>creatine_phosphokinase</th>\n",
              "      <th>diabetes</th>\n",
              "      <th>ejection_fraction</th>\n",
              "      <th>high_blood_pressure</th>\n",
              "      <th>platelets</th>\n",
              "      <th>serum_creatine</th>\n",
              "      <th>serum_sodium</th>\n",
              "      <th>sex</th>\n",
              "      <th>smoking</th>\n",
              "      <th>time</th>\n",
              "      <th>DEATH_EVENT</th>\n",
              "    </tr>\n",
              "  </thead>\n",
              "  <tbody>\n",
              "    <tr>\n",
              "      <th>64</th>\n",
              "      <td>45.0</td>\n",
              "      <td>0</td>\n",
              "      <td>582</td>\n",
              "      <td>0</td>\n",
              "      <td>80</td>\n",
              "      <td>0</td>\n",
              "      <td>263358.03</td>\n",
              "      <td>1.18</td>\n",
              "      <td>137</td>\n",
              "      <td>0</td>\n",
              "      <td>0</td>\n",
              "      <td>63</td>\n",
              "      <td>0</td>\n",
              "    </tr>\n",
              "    <tr>\n",
              "      <th>217</th>\n",
              "      <td>54.0</td>\n",
              "      <td>1</td>\n",
              "      <td>427</td>\n",
              "      <td>0</td>\n",
              "      <td>70</td>\n",
              "      <td>1</td>\n",
              "      <td>151000.00</td>\n",
              "      <td>9.00</td>\n",
              "      <td>137</td>\n",
              "      <td>0</td>\n",
              "      <td>0</td>\n",
              "      <td>196</td>\n",
              "      <td>1</td>\n",
              "    </tr>\n",
              "  </tbody>\n",
              "</table>\n",
              "</div>\n",
              "      <button class=\"colab-df-convert\" onclick=\"convertToInteractive('df-b7b397f0-659b-4c5a-8682-8685ca111504')\"\n",
              "              title=\"Convert this dataframe to an interactive table.\"\n",
              "              style=\"display:none;\">\n",
              "        \n",
              "  <svg xmlns=\"http://www.w3.org/2000/svg\" height=\"24px\"viewBox=\"0 0 24 24\"\n",
              "       width=\"24px\">\n",
              "    <path d=\"M0 0h24v24H0V0z\" fill=\"none\"/>\n",
              "    <path d=\"M18.56 5.44l.94 2.06.94-2.06 2.06-.94-2.06-.94-.94-2.06-.94 2.06-2.06.94zm-11 1L8.5 8.5l.94-2.06 2.06-.94-2.06-.94L8.5 2.5l-.94 2.06-2.06.94zm10 10l.94 2.06.94-2.06 2.06-.94-2.06-.94-.94-2.06-.94 2.06-2.06.94z\"/><path d=\"M17.41 7.96l-1.37-1.37c-.4-.4-.92-.59-1.43-.59-.52 0-1.04.2-1.43.59L10.3 9.45l-7.72 7.72c-.78.78-.78 2.05 0 2.83L4 21.41c.39.39.9.59 1.41.59.51 0 1.02-.2 1.41-.59l7.78-7.78 2.81-2.81c.8-.78.8-2.07 0-2.86zM5.41 20L4 18.59l7.72-7.72 1.47 1.35L5.41 20z\"/>\n",
              "  </svg>\n",
              "      </button>\n",
              "      \n",
              "  <style>\n",
              "    .colab-df-container {\n",
              "      display:flex;\n",
              "      flex-wrap:wrap;\n",
              "      gap: 12px;\n",
              "    }\n",
              "\n",
              "    .colab-df-convert {\n",
              "      background-color: #E8F0FE;\n",
              "      border: none;\n",
              "      border-radius: 50%;\n",
              "      cursor: pointer;\n",
              "      display: none;\n",
              "      fill: #1967D2;\n",
              "      height: 32px;\n",
              "      padding: 0 0 0 0;\n",
              "      width: 32px;\n",
              "    }\n",
              "\n",
              "    .colab-df-convert:hover {\n",
              "      background-color: #E2EBFA;\n",
              "      box-shadow: 0px 1px 2px rgba(60, 64, 67, 0.3), 0px 1px 3px 1px rgba(60, 64, 67, 0.15);\n",
              "      fill: #174EA6;\n",
              "    }\n",
              "\n",
              "    [theme=dark] .colab-df-convert {\n",
              "      background-color: #3B4455;\n",
              "      fill: #D2E3FC;\n",
              "    }\n",
              "\n",
              "    [theme=dark] .colab-df-convert:hover {\n",
              "      background-color: #434B5C;\n",
              "      box-shadow: 0px 1px 3px 1px rgba(0, 0, 0, 0.15);\n",
              "      filter: drop-shadow(0px 1px 2px rgba(0, 0, 0, 0.3));\n",
              "      fill: #FFFFFF;\n",
              "    }\n",
              "  </style>\n",
              "\n",
              "      <script>\n",
              "        const buttonEl =\n",
              "          document.querySelector('#df-b7b397f0-659b-4c5a-8682-8685ca111504 button.colab-df-convert');\n",
              "        buttonEl.style.display =\n",
              "          google.colab.kernel.accessAllowed ? 'block' : 'none';\n",
              "\n",
              "        async function convertToInteractive(key) {\n",
              "          const element = document.querySelector('#df-b7b397f0-659b-4c5a-8682-8685ca111504');\n",
              "          const dataTable =\n",
              "            await google.colab.kernel.invokeFunction('convertToInteractive',\n",
              "                                                     [key], {});\n",
              "          if (!dataTable) return;\n",
              "\n",
              "          const docLinkHtml = 'Like what you see? Visit the ' +\n",
              "            '<a target=\"_blank\" href=https://colab.research.google.com/notebooks/data_table.ipynb>data table notebook</a>'\n",
              "            + ' to learn more about interactive tables.';\n",
              "          element.innerHTML = '';\n",
              "          dataTable['output_type'] = 'display_data';\n",
              "          await google.colab.output.renderOutput(dataTable, element);\n",
              "          const docLink = document.createElement('div');\n",
              "          docLink.innerHTML = docLinkHtml;\n",
              "          element.appendChild(docLink);\n",
              "        }\n",
              "      </script>\n",
              "    </div>\n",
              "  </div>\n",
              "  "
            ]
          },
          "metadata": {},
          "execution_count": 101
        }
      ]
    },
    {
      "cell_type": "code",
      "source": [
        "dataset = dataset[dataset['ejection_fraction']<70]"
      ],
      "metadata": {
        "id": "NAWmy6b27j7G"
      },
      "execution_count": 102,
      "outputs": []
    },
    {
      "cell_type": "code",
      "source": [
        "# Boxplot for serum_creatine\n",
        "sns.boxplot(x=dataset.serum_creatine, color = 'teal')\n",
        "plt.show()"
      ],
      "metadata": {
        "colab": {
          "base_uri": "https://localhost:8080/",
          "height": 389
        },
        "id": "vq0UvdMW728c",
        "outputId": "eb057d94-9806-4391-f9af-3cc18819f18f"
      },
      "execution_count": 103,
      "outputs": [
        {
          "output_type": "display_data",
          "data": {
            "text/plain": [
              "<Figure size 1080x432 with 1 Axes>"
            ],
            "image/png": "[encoded data removed]"
          },
          "metadata": {}
        }
      ]
    },
    {
      "cell_type": "code",
      "source": [
        "# Removing outliers without a good reason will not always increase accuracy. Without a deep understanding of what are the possible ranges that\n",
        "# exist within each feature, removing outliers becomes tricky.\n",
        "\n",
        "#the values in serum_creatine falls in possible range of values. So they are not outliers. \n",
        "# They are actual data points that helps in predicting DEATH_EVENT.\"\""
      ],
      "metadata": {
        "id": "uvBWbl6S8Dc3"
      },
      "execution_count": 104,
      "outputs": []
    },
    {
      "cell_type": "markdown",
      "source": [
        "\n",
        "\n",
        "---\n",
        "\n",
        "\n",
        "\n",
        "---\n",
        "\n",
        "\n",
        "# **INSIGHTS OF THE DATASET**"
      ],
      "metadata": {
        "id": "4VfA4rFEKKKw"
      }
    },
    {
      "cell_type": "code",
      "source": [
        "# Hover over the graph to get the count of people of different age groups"
      ],
      "metadata": {
        "id": "hc828PMrKSpf"
      },
      "execution_count": 105,
      "outputs": []
    },
    {
      "cell_type": "code",
      "source": [
        "# Now lets categorize the above histogram by AGE vs DEATH_EVENT\n",
        "\n",
        "import plotly.express as px\n",
        "fig = px.histogram(dataset, x=\"age\", color=\"DEATH_EVENT\", marginal=\"rug\", hover_data=dataset.columns, \n",
        "                   title =\"Histogram for AGE vs DEATH_EVENT\", \n",
        "                   labels={\"age\": \"AGE\"},\n",
        "                   template=\"plotly_dark\",\n",
        "                   color_discrete_map={\"0\": \"RebeccaPurple\", \"1\": \"MediumPurple\"}\n",
        "                  )\n",
        "fig.show()"
      ],
      "metadata": {
        "colab": {
          "base_uri": "https://localhost:8080/",
          "height": 542
        },
        "id": "2NDVljhDK7er",
        "outputId": "bd09a916-b8bb-433c-8d69-f7b0f386a4a4"
      },
      "execution_count": 106,
      "outputs": [
        {
          "output_type": "display_data",
          "data": {
            "text/html": [
              "<html>\n",
              "<head><meta charset=\"utf-8\" /></head>\n",
              "<body>\n",
              "    <div>            <script src=\"https://cdnjs.cloudflare.com/ajax/libs/mathjax/2.7.5/MathJax.js?config=TeX-AMS-MML_SVG\"></script><script type=\"text/javascript\">if (window.MathJax) {MathJax.Hub.Config({SVG: {font: \"STIX-Web\"}});}</script>                <script type=\"text/javascript\">window.PlotlyConfig = {MathJaxConfig: 'local'};</script>\n",
              "        <script src=\"https://cdn.plot.ly/plotly-2.8.3.min.js\"></script>                <div id=\"c547bb1d-27da-4ea3-964c-ca311bf4e4e3\" class=\"plotly-graph-div\" style=\"height:525px; width:100%;\"></div>            <script type=\"text/javascript\">                                    window.PLOTLYENV=window.PLOTLYENV || {};                                    if (document.getElementById(\"c547bb1d-27da-4ea3-964c-ca311bf4e4e3\")) {                    Plotly.newPlot(                        \"c547bb1d-27da-4ea3-964c-ca311bf4e4e3\",                        [{\"alignmentgroup\":\"True\",\"bingroup\":\"x\",\"hovertemplate\":\"DEATH_EVENT=1<br>AGE=%{x}<br>count=%{y}<extra></extra>\",\"legendgroup\":\"1\",\"marker\":{\"color\":\"#00cc96\",\"pattern\":{\"shape\":\"\"}},\"name\":\"1\",\"offsetgroup\":\"1\",\"orientation\":\"v\",\"showlegend\":true,\"x\":[75.0,55.0,65.0,50.0,65.0,90.0,75.0,60.0,65.0,80.0,75.0,62.0,45.0,50.0,82.0,87.0,45.0,70.0,48.0,65.0,68.0,75.0,80.0,95.0,70.0,58.0,82.0,94.0,85.0,50.0,65.0,69.0,90.0,82.0,60.0,70.0,50.0,70.0,60.0,50.0,51.0,60.0,80.0,57.0,68.0,53.0,60.0,70.0,60.0,95.0,49.0,72.0,45.0,50.0,45.0,60.0,42.0,72.0,70.0,65.0,85.0,69.0,60.0,60.0,59.0,60.0,72.0,85.0,70.0,86.0,60.0,46.0,80.0,72.0,75.0,72.0,50.0,45.0,80.0,59.0,59.0,65.0,75.0,58.0,60.667,50.0,60.0,45.0,77.0,48.0,73.0,60.0,55.0,65.0,55.0],\"xaxis\":\"x\",\"yaxis\":\"y\",\"type\":\"histogram\"},{\"alignmentgroup\":\"True\",\"boxpoints\":\"all\",\"customdata\":[[0.0,582.0,0.0,20.0,1.0,265000.0,1.9,130.0,1.0,0.0,4.0,1.0],[0.0,7861.0,0.0,38.0,0.0,263358.03,1.1,136.0,1.0,0.0,6.0,1.0],[0.0,146.0,0.0,20.0,0.0,162000.0,1.3,129.0,1.0,1.0,7.0,1.0],[1.0,111.0,0.0,20.0,0.0,210000.0,1.9,137.0,1.0,0.0,7.0,1.0],[1.0,160.0,1.0,20.0,0.0,327000.0,2.7,116.0,0.0,0.0,8.0,1.0],[1.0,47.0,0.0,40.0,1.0,204000.0,2.1,132.0,1.0,1.0,8.0,1.0],[1.0,246.0,0.0,15.0,0.0,127000.0,1.2,137.0,1.0,0.0,10.0,1.0],[1.0,315.0,1.0,60.0,0.0,454000.0,1.1,131.0,1.0,1.0,10.0,1.0],[0.0,157.0,0.0,65.0,0.0,263358.03,1.5,138.0,0.0,0.0,10.0,1.0],[1.0,123.0,0.0,35.0,1.0,388000.0,9.4,133.0,1.0,1.0,10.0,1.0],[1.0,81.0,0.0,38.0,1.0,368000.0,4.0,131.0,1.0,1.0,10.0,1.0],[0.0,231.0,0.0,25.0,1.0,253000.0,0.9,140.0,1.0,1.0,10.0,1.0],[1.0,981.0,0.0,30.0,0.0,136000.0,1.1,137.0,1.0,0.0,11.0,1.0],[1.0,168.0,0.0,38.0,1.0,276000.0,1.1,137.0,1.0,0.0,11.0,1.0],[1.0,379.0,0.0,50.0,0.0,47000.0,1.3,136.0,1.0,0.0,13.0,1.0],[1.0,149.0,0.0,38.0,0.0,262000.0,0.9,140.0,1.0,0.0,14.0,1.0],[0.0,582.0,0.0,14.0,0.0,166000.0,0.8,127.0,1.0,0.0,14.0,1.0],[1.0,125.0,0.0,25.0,1.0,237000.0,1.0,140.0,0.0,0.0,15.0,1.0],[1.0,582.0,1.0,55.0,0.0,87000.0,1.9,121.0,0.0,0.0,15.0,1.0],[1.0,128.0,1.0,30.0,1.0,297000.0,1.6,136.0,0.0,0.0,20.0,1.0],[1.0,220.0,0.0,35.0,1.0,289000.0,0.9,140.0,1.0,1.0,20.0,1.0],[0.0,582.0,1.0,30.0,1.0,263358.03,1.83,134.0,0.0,0.0,23.0,1.0],[0.0,148.0,1.0,38.0,0.0,149000.0,1.9,144.0,1.0,1.0,23.0,1.0],[1.0,112.0,0.0,40.0,1.0,196000.0,1.0,138.0,0.0,0.0,24.0,1.0],[0.0,122.0,1.0,45.0,1.0,284000.0,1.3,136.0,1.0,1.0,26.0,1.0],[1.0,60.0,0.0,38.0,0.0,153000.0,5.8,134.0,1.0,0.0,26.0,1.0],[0.0,70.0,1.0,30.0,0.0,200000.0,1.2,132.0,1.0,1.0,26.0,1.0],[0.0,582.0,1.0,38.0,1.0,263358.03,1.83,134.0,1.0,0.0,27.0,1.0],[0.0,23.0,0.0,45.0,0.0,360000.0,3.0,132.0,1.0,0.0,28.0,1.0],[1.0,249.0,1.0,35.0,1.0,319000.0,1.0,128.0,0.0,0.0,28.0,1.0],[0.0,94.0,1.0,50.0,1.0,188000.0,1.0,140.0,1.0,0.0,29.0,1.0],[0.0,582.0,1.0,35.0,0.0,228000.0,3.5,134.0,1.0,0.0,30.0,1.0],[1.0,60.0,1.0,50.0,0.0,226000.0,1.0,134.0,1.0,0.0,30.0,1.0],[1.0,855.0,1.0,50.0,1.0,321000.0,1.0,145.0,0.0,0.0,30.0,1.0],[0.0,235.0,1.0,38.0,0.0,329000.0,3.0,142.0,0.0,0.0,30.0,1.0],[0.0,582.0,0.0,20.0,1.0,263358.03,1.83,134.0,1.0,1.0,31.0,1.0],[0.0,124.0,1.0,30.0,1.0,153000.0,1.2,136.0,0.0,1.0,32.0,1.0],[0.0,571.0,1.0,45.0,1.0,185000.0,1.2,139.0,1.0,1.0,33.0,1.0],[1.0,588.0,1.0,60.0,0.0,194000.0,1.1,142.0,0.0,0.0,33.0,1.0],[0.0,582.0,1.0,38.0,0.0,310000.0,1.9,135.0,1.0,1.0,35.0,1.0],[0.0,1380.0,0.0,25.0,1.0,271000.0,0.9,130.0,1.0,0.0,38.0,1.0],[0.0,582.0,1.0,38.0,1.0,451000.0,0.6,138.0,1.0,1.0,40.0,1.0],[1.0,553.0,0.0,20.0,1.0,140000.0,4.4,133.0,1.0,0.0,41.0,1.0],[1.0,129.0,0.0,30.0,0.0,395000.0,1.0,140.0,0.0,0.0,42.0,1.0],[1.0,577.0,0.0,25.0,1.0,166000.0,1.0,138.0,1.0,0.0,43.0,1.0],[1.0,91.0,0.0,20.0,1.0,418000.0,1.4,139.0,0.0,0.0,43.0,1.0],[0.0,3964.0,1.0,62.0,0.0,263358.03,6.8,146.0,0.0,0.0,43.0,1.0],[1.0,69.0,1.0,50.0,1.0,351000.0,1.0,134.0,0.0,0.0,44.0,1.0],[1.0,260.0,1.0,38.0,0.0,255000.0,2.2,132.0,0.0,1.0,45.0,1.0],[1.0,371.0,0.0,30.0,0.0,461000.0,2.0,132.0,1.0,0.0,50.0,1.0],[0.0,789.0,0.0,20.0,1.0,319000.0,1.1,136.0,1.0,1.0,55.0,1.0],[0.0,364.0,1.0,20.0,1.0,254000.0,1.3,136.0,1.0,1.0,59.0,1.0],[0.0,7702.0,1.0,25.0,1.0,390000.0,1.0,139.0,1.0,0.0,60.0,1.0],[0.0,318.0,0.0,40.0,1.0,216000.0,2.3,131.0,0.0,0.0,60.0,1.0],[0.0,582.0,0.0,35.0,0.0,385000.0,1.0,145.0,1.0,0.0,61.0,1.0],[0.0,68.0,0.0,20.0,0.0,119000.0,2.9,127.0,1.0,1.0,64.0,1.0],[1.0,250.0,1.0,15.0,0.0,213000.0,1.3,136.0,0.0,0.0,65.0,1.0],[1.0,110.0,0.0,25.0,0.0,274000.0,1.0,140.0,1.0,1.0,65.0,1.0],[0.0,161.0,0.0,25.0,0.0,244000.0,1.2,142.0,0.0,0.0,66.0,1.0],[0.0,113.0,1.0,25.0,0.0,497000.0,1.83,135.0,1.0,0.0,67.0,1.0],[0.0,5882.0,0.0,35.0,0.0,243000.0,1.0,132.0,1.0,1.0,72.0,1.0],[0.0,582.0,0.0,20.0,0.0,266000.0,1.2,134.0,1.0,1.0,73.0,1.0],[1.0,47.0,0.0,20.0,0.0,204000.0,0.7,139.0,1.0,1.0,73.0,1.0],[1.0,76.0,1.0,25.0,0.0,196000.0,2.5,132.0,0.0,0.0,77.0,1.0],[1.0,280.0,1.0,25.0,1.0,302000.0,1.0,141.0,0.0,0.0,78.0,1.0],[1.0,154.0,0.0,25.0,0.0,210000.0,1.7,135.0,1.0,0.0,82.0,1.0],[1.0,328.0,0.0,30.0,1.0,621000.0,1.7,138.0,0.0,1.0,88.0,1.0],[0.0,129.0,0.0,60.0,0.0,306000.0,1.2,132.0,1.0,1.0,90.0,1.0],[1.0,143.0,0.0,60.0,0.0,351000.0,1.3,137.0,0.0,0.0,90.0,1.0],[0.0,582.0,0.0,38.0,0.0,263358.03,1.83,134.0,0.0,0.0,95.0,1.0],[0.0,582.0,0.0,40.0,0.0,217000.0,3.7,134.0,1.0,0.0,96.0,1.0],[0.0,168.0,1.0,17.0,1.0,271000.0,2.1,124.0,0.0,0.0,100.0,1.0],[0.0,805.0,0.0,38.0,0.0,263358.03,1.1,134.0,1.0,0.0,109.0,1.0],[1.0,943.0,0.0,25.0,1.0,338000.0,1.7,139.0,1.0,1.0,111.0,1.0],[1.0,582.0,0.0,30.0,0.0,225000.0,1.83,134.0,1.0,0.0,113.0,1.0],[0.0,233.0,0.0,45.0,1.0,235000.0,2.5,135.0,0.0,0.0,115.0,1.0],[1.0,2334.0,1.0,35.0,0.0,75000.0,0.9,142.0,0.0,0.0,126.0,1.0],[0.0,2442.0,1.0,30.0,0.0,334000.0,1.1,139.0,1.0,0.0,129.0,1.0],[0.0,776.0,1.0,38.0,1.0,192000.0,1.3,135.0,0.0,0.0,130.0,1.0],[0.0,66.0,1.0,20.0,0.0,70000.0,2.4,134.0,1.0,0.0,135.0,1.0],[1.0,176.0,1.0,25.0,0.0,221000.0,1.0,136.0,1.0,1.0,150.0,1.0],[0.0,395.0,1.0,25.0,0.0,265000.0,1.2,136.0,1.0,1.0,154.0,1.0],[0.0,99.0,0.0,38.0,1.0,224000.0,2.5,134.0,1.0,0.0,162.0,1.0],[1.0,145.0,0.0,25.0,0.0,219000.0,1.2,137.0,1.0,1.0,170.0,1.0],[1.0,104.0,1.0,30.0,0.0,389000.0,1.5,136.0,1.0,0.0,171.0,1.0],[0.0,582.0,0.0,50.0,0.0,153000.0,0.6,134.0,0.0,0.0,172.0,1.0],[0.0,1896.0,1.0,25.0,0.0,365000.0,2.1,144.0,0.0,0.0,172.0,1.0],[0.0,582.0,0.0,20.0,1.0,126000.0,1.6,135.0,1.0,0.0,180.0,1.0],[1.0,418.0,0.0,45.0,0.0,223000.0,1.8,145.0,1.0,0.0,180.0,1.0],[1.0,131.0,1.0,30.0,1.0,244000.0,1.6,130.0,0.0,0.0,193.0,1.0],[0.0,582.0,0.0,20.0,0.0,263358.03,1.83,134.0,1.0,0.0,198.0,1.0],[0.0,166.0,0.0,30.0,0.0,62000.0,1.7,127.0,0.0,0.0,207.0,1.0],[0.0,2017.0,0.0,25.0,0.0,314000.0,1.1,138.0,1.0,0.0,214.0,1.0],[1.0,258.0,1.0,25.0,0.0,198000.0,1.4,129.0,1.0,0.0,235.0,1.0],[0.0,1199.0,0.0,20.0,0.0,263358.03,1.83,134.0,1.0,1.0,241.0,1.0]],\"fillcolor\":\"rgba(255,255,255,0)\",\"hoveron\":\"points\",\"hovertemplate\":\"DEATH_EVENT=%{customdata[11]}<br>AGE=%{x}<br>anaemia=%{customdata[0]}<br>creatine_phosphokinase=%{customdata[1]}<br>diabetes=%{customdata[2]}<br>ejection_fraction=%{customdata[3]}<br>high_blood_pressure=%{customdata[4]}<br>platelets=%{customdata[5]}<br>serum_creatine=%{customdata[6]}<br>serum_sodium=%{customdata[7]}<br>sex=%{customdata[8]}<br>smoking=%{customdata[9]}<br>time=%{customdata[10]}<extra></extra>\",\"jitter\":0,\"legendgroup\":\"1\",\"line\":{\"color\":\"rgba(255,255,255,0)\"},\"marker\":{\"color\":\"#00cc96\",\"symbol\":\"line-ns-open\"},\"name\":\"1\",\"offsetgroup\":\"1\",\"showlegend\":false,\"x\":[75.0,55.0,65.0,50.0,65.0,90.0,75.0,60.0,65.0,80.0,75.0,62.0,45.0,50.0,82.0,87.0,45.0,70.0,48.0,65.0,68.0,75.0,80.0,95.0,70.0,58.0,82.0,94.0,85.0,50.0,65.0,69.0,90.0,82.0,60.0,70.0,50.0,70.0,60.0,50.0,51.0,60.0,80.0,57.0,68.0,53.0,60.0,70.0,60.0,95.0,49.0,72.0,45.0,50.0,45.0,60.0,42.0,72.0,70.0,65.0,85.0,69.0,60.0,60.0,59.0,60.0,72.0,85.0,70.0,86.0,60.0,46.0,80.0,72.0,75.0,72.0,50.0,45.0,80.0,59.0,59.0,65.0,75.0,58.0,60.667,50.0,60.0,45.0,77.0,48.0,73.0,60.0,55.0,65.0,55.0],\"xaxis\":\"x2\",\"yaxis\":\"y2\",\"type\":\"box\"},{\"alignmentgroup\":\"True\",\"bingroup\":\"x\",\"hovertemplate\":\"DEATH_EVENT=0<br>AGE=%{x}<br>count=%{y}<extra></extra>\",\"legendgroup\":\"0\",\"marker\":{\"color\":\"#ab63fa\",\"pattern\":{\"shape\":\"\"}},\"name\":\"0\",\"offsetgroup\":\"0\",\"orientation\":\"v\",\"showlegend\":true,\"x\":[49.0,65.0,53.0,50.0,60.0,72.0,70.0,60.0,55.0,41.0,58.0,65.0,70.0,42.0,75.0,55.0,70.0,67.0,79.0,51.0,55.0,65.0,44.0,57.0,70.0,60.0,42.0,58.0,58.0,63.0,70.0,60.0,63.0,65.0,75.0,80.0,42.0,60.0,55.0,45.0,63.0,45.0,55.0,50.0,60.0,58.0,60.0,85.0,65.0,60.0,66.0,60.0,60.0,43.0,58.0,61.0,53.0,53.0,60.0,46.0,63.0,81.0,75.0,65.0,68.0,62.0,50.0,46.0,50.0,61.0,50.0,52.0,64.0,60.0,62.0,50.0,50.0,65.0,60.0,52.0,50.0,85.0,59.0,66.0,45.0,63.0,53.0,65.0,70.0,51.0,52.0,70.0,50.0,65.0,60.0,69.0,49.0,63.0,55.0,40.0,60.667,40.0,80.0,64.0,50.0,73.0,45.0,65.0,50.0,60.0,63.0,45.0,70.0,60.0,78.0,50.0,40.0,85.0,60.0,49.0,70.0,50.0,78.0,65.0,73.0,70.0,68.0,55.0,65.0,42.0,47.0,58.0,75.0,58.0,55.0,65.0,72.0,70.0,40.0,53.0,53.0,77.0,75.0,70.0,65.0,55.0,70.0,65.0,40.0,73.0,54.0,61.0,64.0,40.0,53.0,50.0,55.0,50.0,70.0,53.0,52.0,65.0,58.0,45.0,53.0,55.0,62.0,68.0,61.0,50.0,56.0,45.0,40.0,44.0,51.0,67.0,42.0,60.0,45.0,70.0,70.0,50.0,55.0,70.0,70.0,42.0,65.0,50.0,55.0,60.0,45.0,65.0,90.0,45.0,60.0,52.0,63.0,62.0,55.0,45.0,45.0,50.0],\"xaxis\":\"x\",\"yaxis\":\"y\",\"type\":\"histogram\"},{\"alignmentgroup\":\"True\",\"boxpoints\":\"all\",\"customdata\":[[1.0,80.0,0.0,30.0,1.0,427000.0,1.0,138.0,0.0,0.0,12.0,0.0],[1.0,52.0,0.0,25.0,1.0,276000.0,1.3,137.0,0.0,0.0,16.0,0.0],[0.0,63.0,1.0,60.0,0.0,368000.0,0.8,135.0,1.0,0.0,22.0,0.0],[1.0,159.0,1.0,30.0,0.0,302000.0,1.2,138.0,0.0,0.0,29.0,0.0],[0.0,2656.0,1.0,30.0,0.0,305000.0,2.3,137.0,1.0,0.0,30.0,0.0],[0.0,127.0,1.0,50.0,1.0,218000.0,1.0,134.0,1.0,0.0,33.0,0.0],[1.0,75.0,0.0,35.0,0.0,223000.0,2.7,138.0,1.0,1.0,54.0,0.0],[1.0,607.0,0.0,40.0,0.0,216000.0,0.6,138.0,1.0,1.0,54.0,0.0],[0.0,109.0,0.0,35.0,0.0,254000.0,1.1,139.0,1.0,1.0,60.0,0.0],[0.0,148.0,0.0,40.0,0.0,374000.0,0.8,140.0,1.0,1.0,68.0,0.0],[0.0,582.0,1.0,35.0,0.0,122000.0,0.9,139.0,1.0,1.0,71.0,0.0],[0.0,224.0,1.0,50.0,0.0,149000.0,1.3,137.0,1.0,1.0,72.0,0.0],[0.0,92.0,0.0,60.0,1.0,317000.0,0.8,140.0,0.0,1.0,74.0,0.0],[0.0,102.0,1.0,40.0,0.0,237000.0,1.2,140.0,1.0,0.0,74.0,0.0],[1.0,203.0,1.0,38.0,1.0,283000.0,0.6,131.0,1.0,1.0,74.0,0.0],[0.0,336.0,0.0,45.0,1.0,324000.0,0.9,140.0,0.0,0.0,74.0,0.0],[0.0,69.0,0.0,40.0,0.0,293000.0,1.7,136.0,0.0,0.0,75.0,0.0],[0.0,582.0,0.0,50.0,0.0,263358.03,1.18,137.0,1.0,1.0,76.0,0.0],[1.0,55.0,0.0,50.0,1.0,172000.0,1.8,133.0,1.0,0.0,78.0,0.0],[0.0,78.0,0.0,50.0,0.0,406000.0,0.7,140.0,1.0,0.0,79.0,0.0],[0.0,47.0,0.0,35.0,1.0,173000.0,1.1,137.0,1.0,0.0,79.0,0.0],[1.0,68.0,1.0,60.0,1.0,304000.0,0.8,140.0,1.0,0.0,79.0,0.0],[0.0,84.0,1.0,40.0,1.0,235000.0,0.7,139.0,1.0,0.0,79.0,0.0],[1.0,115.0,0.0,25.0,1.0,181000.0,1.1,144.0,1.0,0.0,79.0,0.0],[0.0,66.0,1.0,45.0,0.0,249000.0,0.8,136.0,1.0,1.0,80.0,0.0],[0.0,897.0,1.0,45.0,0.0,297000.0,1.0,133.0,1.0,0.0,80.0,0.0],[0.0,582.0,0.0,60.0,0.0,263358.03,1.18,137.0,0.0,0.0,82.0,0.0],[0.0,144.0,1.0,38.0,1.0,327000.0,0.7,142.0,0.0,0.0,83.0,0.0],[1.0,133.0,0.0,60.0,1.0,219000.0,1.0,141.0,1.0,0.0,83.0,0.0],[1.0,514.0,1.0,25.0,1.0,254000.0,1.3,134.0,1.0,0.0,83.0,0.0],[1.0,59.0,0.0,60.0,0.0,255000.0,1.1,136.0,0.0,0.0,85.0,0.0],[1.0,156.0,1.0,25.0,1.0,318000.0,1.2,137.0,0.0,0.0,85.0,0.0],[1.0,61.0,1.0,40.0,0.0,221000.0,1.1,140.0,0.0,0.0,86.0,0.0],[1.0,305.0,0.0,25.0,0.0,298000.0,1.1,141.0,1.0,0.0,87.0,0.0],[0.0,582.0,0.0,45.0,1.0,263358.03,1.18,137.0,1.0,0.0,87.0,0.0],[0.0,898.0,0.0,25.0,0.0,149000.0,1.1,144.0,1.0,1.0,87.0,0.0],[0.0,5209.0,0.0,30.0,0.0,226000.0,1.0,140.0,1.0,1.0,87.0,0.0],[0.0,53.0,0.0,50.0,1.0,286000.0,2.3,143.0,0.0,0.0,87.0,0.0],[0.0,748.0,0.0,45.0,0.0,263000.0,1.3,137.0,1.0,0.0,88.0,0.0],[1.0,1876.0,1.0,35.0,0.0,226000.0,0.9,138.0,1.0,0.0,88.0,0.0],[0.0,936.0,0.0,38.0,0.0,304000.0,1.1,133.0,1.0,1.0,88.0,0.0],[0.0,292.0,1.0,35.0,0.0,850000.0,1.3,142.0,1.0,1.0,88.0,0.0],[0.0,60.0,0.0,35.0,0.0,228000.0,1.2,135.0,1.0,1.0,90.0,0.0],[0.0,369.0,1.0,25.0,0.0,252000.0,1.6,136.0,1.0,0.0,90.0,0.0],[1.0,754.0,1.0,40.0,1.0,328000.0,1.2,126.0,1.0,0.0,91.0,0.0],[1.0,400.0,0.0,40.0,0.0,164000.0,1.0,139.0,0.0,0.0,91.0,0.0],[1.0,96.0,1.0,60.0,1.0,271000.0,0.7,136.0,0.0,0.0,94.0,0.0],[1.0,102.0,0.0,60.0,0.0,507000.0,3.2,138.0,0.0,0.0,94.0,0.0],[1.0,113.0,1.0,60.0,1.0,203000.0,0.9,140.0,0.0,0.0,94.0,0.0],[1.0,737.0,0.0,60.0,1.0,210000.0,1.5,135.0,1.0,1.0,95.0,0.0],[1.0,68.0,1.0,38.0,1.0,162000.0,1.0,136.0,0.0,0.0,95.0,0.0],[0.0,96.0,1.0,38.0,0.0,228000.0,0.75,140.0,0.0,0.0,95.0,0.0],[1.0,582.0,0.0,30.0,1.0,127000.0,0.9,145.0,0.0,0.0,95.0,0.0],[1.0,358.0,0.0,50.0,0.0,237000.0,1.3,135.0,0.0,0.0,97.0,0.0],[1.0,200.0,1.0,60.0,0.0,300000.0,0.8,137.0,0.0,0.0,104.0,0.0],[0.0,248.0,0.0,30.0,1.0,267000.0,0.7,136.0,1.0,1.0,104.0,0.0],[1.0,270.0,1.0,35.0,0.0,227000.0,3.4,145.0,1.0,0.0,105.0,0.0],[1.0,1808.0,0.0,60.0,1.0,249000.0,0.7,138.0,1.0,1.0,106.0,0.0],[1.0,1082.0,1.0,45.0,0.0,250000.0,6.1,131.0,1.0,0.0,107.0,0.0],[0.0,719.0,0.0,40.0,1.0,263358.03,1.18,137.0,0.0,0.0,107.0,0.0],[0.0,193.0,0.0,60.0,1.0,295000.0,1.3,145.0,1.0,1.0,107.0,0.0],[0.0,4540.0,0.0,35.0,0.0,231000.0,1.18,137.0,1.0,1.0,107.0,0.0],[0.0,582.0,0.0,40.0,0.0,263358.03,1.18,137.0,1.0,0.0,107.0,0.0],[1.0,59.0,1.0,60.0,0.0,172000.0,0.9,137.0,0.0,0.0,107.0,0.0],[1.0,646.0,0.0,25.0,0.0,305000.0,2.1,130.0,1.0,0.0,108.0,0.0],[0.0,281.0,1.0,35.0,0.0,221000.0,1.0,136.0,0.0,0.0,108.0,0.0],[0.0,1548.0,0.0,30.0,1.0,211000.0,0.8,138.0,1.0,0.0,108.0,0.0],[1.0,291.0,0.0,35.0,0.0,348000.0,0.9,140.0,0.0,0.0,109.0,0.0],[0.0,482.0,1.0,30.0,0.0,329000.0,0.9,132.0,0.0,0.0,109.0,0.0],[1.0,84.0,0.0,40.0,1.0,229000.0,0.9,141.0,0.0,0.0,110.0,0.0],[0.0,185.0,0.0,30.0,0.0,266000.0,0.7,141.0,1.0,1.0,112.0,0.0],[0.0,132.0,0.0,30.0,0.0,218000.0,0.7,136.0,1.0,1.0,112.0,0.0],[0.0,1610.0,0.0,60.0,0.0,242000.0,1.0,137.0,1.0,0.0,113.0,0.0],[0.0,2261.0,0.0,35.0,1.0,228000.0,0.9,136.0,1.0,0.0,115.0,0.0],[0.0,30.0,1.0,60.0,1.0,244000.0,0.9,139.0,1.0,0.0,117.0,0.0],[0.0,115.0,0.0,45.0,1.0,184000.0,0.9,134.0,1.0,1.0,118.0,0.0],[0.0,1846.0,1.0,35.0,0.0,263358.03,1.18,137.0,1.0,1.0,119.0,0.0],[1.0,335.0,0.0,35.0,1.0,235000.0,0.8,136.0,0.0,0.0,120.0,0.0],[1.0,231.0,1.0,25.0,0.0,194000.0,1.7,140.0,1.0,0.0,120.0,0.0],[1.0,58.0,0.0,35.0,0.0,277000.0,1.4,136.0,0.0,0.0,120.0,0.0],[0.0,250.0,0.0,25.0,0.0,262000.0,1.0,136.0,1.0,1.0,120.0,0.0],[1.0,910.0,0.0,50.0,0.0,235000.0,1.3,134.0,1.0,0.0,121.0,0.0],[1.0,129.0,0.0,45.0,1.0,362000.0,1.1,139.0,1.0,1.0,121.0,0.0],[1.0,72.0,0.0,40.0,1.0,242000.0,1.2,134.0,1.0,0.0,121.0,0.0],[1.0,130.0,0.0,35.0,0.0,174000.0,0.8,139.0,1.0,1.0,121.0,0.0],[1.0,582.0,0.0,40.0,0.0,448000.0,0.9,137.0,1.0,1.0,123.0,0.0],[0.0,196.0,0.0,60.0,0.0,220000.0,0.7,133.0,1.0,1.0,134.0,0.0],[0.0,582.0,1.0,40.0,0.0,270000.0,1.0,138.0,0.0,0.0,140.0,0.0],[0.0,835.0,0.0,35.0,1.0,305000.0,0.8,133.0,0.0,0.0,145.0,0.0],[1.0,582.0,1.0,35.0,0.0,263358.03,1.5,136.0,1.0,1.0,145.0,0.0],[0.0,3966.0,0.0,40.0,0.0,325000.0,0.9,140.0,1.0,1.0,146.0,0.0],[1.0,171.0,0.0,60.0,1.0,176000.0,1.1,145.0,1.0,1.0,146.0,0.0],[1.0,115.0,0.0,20.0,0.0,189000.0,0.8,139.0,1.0,0.0,146.0,0.0],[0.0,198.0,1.0,35.0,1.0,281000.0,0.9,137.0,1.0,1.0,146.0,0.0],[1.0,95.0,0.0,60.0,0.0,337000.0,1.0,138.0,1.0,1.0,146.0,0.0],[0.0,1419.0,0.0,40.0,0.0,105000.0,1.0,135.0,1.0,1.0,147.0,0.0],[1.0,69.0,0.0,50.0,0.0,132000.0,1.0,140.0,0.0,0.0,147.0,0.0],[1.0,122.0,1.0,60.0,0.0,267000.0,1.2,145.0,1.0,0.0,147.0,0.0],[0.0,835.0,0.0,40.0,0.0,279000.0,0.7,140.0,1.0,1.0,147.0,0.0],[0.0,478.0,1.0,30.0,0.0,303000.0,0.9,136.0,1.0,0.0,148.0,0.0],[1.0,151.0,1.0,40.0,1.0,201000.0,1.0,136.0,0.0,0.0,172.0,0.0],[0.0,244.0,0.0,45.0,1.0,275000.0,0.9,140.0,0.0,0.0,174.0,0.0],[0.0,582.0,1.0,35.0,0.0,350000.0,2.1,134.0,1.0,0.0,174.0,0.0],[1.0,62.0,0.0,60.0,0.0,309000.0,1.5,135.0,0.0,0.0,174.0,0.0],[1.0,121.0,1.0,40.0,0.0,260000.0,0.7,130.0,1.0,0.0,175.0,0.0],[1.0,231.0,1.0,30.0,0.0,160000.0,1.18,142.0,1.0,1.0,180.0,0.0],[0.0,582.0,1.0,38.0,1.0,263358.03,1.18,137.0,0.0,0.0,185.0,0.0],[0.0,167.0,0.0,30.0,0.0,259000.0,0.8,138.0,0.0,0.0,186.0,0.0],[1.0,582.0,1.0,20.0,1.0,279000.0,1.0,134.0,0.0,0.0,186.0,0.0],[0.0,1211.0,1.0,35.0,0.0,263358.03,1.8,113.0,1.0,1.0,186.0,0.0],[1.0,1767.0,0.0,45.0,0.0,73000.0,0.7,137.0,1.0,0.0,186.0,0.0],[0.0,308.0,1.0,60.0,1.0,377000.0,1.0,136.0,1.0,0.0,186.0,0.0],[0.0,97.0,0.0,60.0,1.0,220000.0,0.9,138.0,1.0,0.0,186.0,0.0],[0.0,59.0,0.0,25.0,1.0,212000.0,3.5,136.0,1.0,1.0,187.0,0.0],[1.0,64.0,0.0,40.0,0.0,277000.0,0.7,137.0,1.0,1.0,187.0,0.0],[1.0,167.0,1.0,45.0,0.0,362000.0,1.0,136.0,0.0,0.0,187.0,0.0],[1.0,101.0,0.0,40.0,0.0,226000.0,0.8,141.0,0.0,0.0,187.0,0.0],[0.0,212.0,0.0,38.0,0.0,186000.0,0.9,136.0,1.0,0.0,187.0,0.0],[1.0,2281.0,1.0,40.0,0.0,283000.0,1.0,141.0,0.0,0.0,187.0,0.0],[0.0,972.0,1.0,35.0,1.0,268000.0,0.8,130.0,0.0,0.0,187.0,0.0],[0.0,212.0,1.0,17.0,1.0,389000.0,1.0,136.0,1.0,1.0,188.0,0.0],[0.0,582.0,0.0,62.0,1.0,147000.0,0.8,140.0,1.0,1.0,192.0,0.0],[0.0,224.0,0.0,50.0,0.0,481000.0,1.4,138.0,1.0,1.0,192.0,0.0],[1.0,135.0,0.0,35.0,1.0,290000.0,0.8,134.0,1.0,0.0,194.0,0.0],[0.0,582.0,0.0,35.0,1.0,203000.0,1.3,134.0,1.0,0.0,195.0,0.0],[0.0,1202.0,0.0,50.0,1.0,358000.0,0.9,141.0,0.0,0.0,196.0,0.0],[1.0,1021.0,1.0,35.0,0.0,271000.0,1.1,134.0,1.0,0.0,197.0,0.0],[0.0,582.0,1.0,35.0,1.0,371000.0,0.7,140.0,0.0,0.0,197.0,0.0],[0.0,118.0,0.0,50.0,0.0,194000.0,1.1,145.0,1.0,1.0,200.0,0.0],[1.0,86.0,0.0,35.0,0.0,365000.0,1.1,139.0,1.0,1.0,201.0,0.0],[0.0,582.0,0.0,25.0,0.0,130000.0,0.8,134.0,1.0,0.0,201.0,0.0],[0.0,582.0,1.0,25.0,0.0,504000.0,1.0,138.0,1.0,0.0,205.0,0.0],[0.0,675.0,1.0,60.0,0.0,265000.0,1.4,125.0,0.0,0.0,205.0,0.0],[1.0,57.0,0.0,25.0,0.0,189000.0,1.3,132.0,1.0,1.0,205.0,0.0],[1.0,2794.0,0.0,35.0,1.0,141000.0,1.0,140.0,1.0,0.0,206.0,0.0],[0.0,56.0,0.0,25.0,0.0,237000.0,5.0,130.0,0.0,0.0,207.0,0.0],[0.0,211.0,0.0,25.0,0.0,274000.0,1.2,134.0,0.0,0.0,207.0,0.0],[0.0,93.0,0.0,35.0,0.0,185000.0,1.1,134.0,1.0,1.0,208.0,0.0],[1.0,129.0,0.0,35.0,0.0,255000.0,0.9,137.0,1.0,0.0,209.0,0.0],[1.0,707.0,0.0,38.0,0.0,330000.0,1.4,137.0,1.0,1.0,209.0,0.0],[1.0,582.0,0.0,45.0,0.0,305000.0,1.1,137.0,1.0,1.0,209.0,0.0],[1.0,109.0,0.0,50.0,1.0,406000.0,1.1,137.0,1.0,0.0,209.0,0.0],[0.0,119.0,0.0,50.0,1.0,248000.0,1.1,148.0,1.0,0.0,209.0,0.0],[0.0,232.0,0.0,30.0,0.0,173000.0,1.2,132.0,1.0,0.0,210.0,0.0],[1.0,720.0,1.0,40.0,0.0,257000.0,1.0,136.0,0.0,0.0,210.0,0.0],[1.0,180.0,0.0,45.0,0.0,263358.03,1.18,137.0,1.0,1.0,211.0,0.0],[0.0,81.0,1.0,35.0,1.0,533000.0,1.3,139.0,0.0,0.0,212.0,0.0],[0.0,582.0,1.0,30.0,0.0,249000.0,1.3,136.0,1.0,1.0,212.0,0.0],[0.0,90.0,0.0,35.0,0.0,255000.0,1.1,136.0,1.0,1.0,212.0,0.0],[1.0,1185.0,0.0,40.0,1.0,220000.0,0.9,141.0,0.0,0.0,213.0,0.0],[0.0,582.0,1.0,38.0,0.0,264000.0,1.8,134.0,1.0,0.0,213.0,0.0],[1.0,80.0,1.0,38.0,0.0,282000.0,1.4,137.0,1.0,0.0,213.0,0.0],[0.0,143.0,0.0,25.0,0.0,246000.0,2.4,135.0,1.0,0.0,214.0,0.0],[0.0,624.0,0.0,35.0,0.0,301000.0,1.0,142.0,1.0,1.0,214.0,0.0],[0.0,207.0,1.0,40.0,0.0,223000.0,1.2,130.0,0.0,0.0,214.0,0.0],[0.0,2522.0,0.0,30.0,1.0,404000.0,0.5,139.0,0.0,0.0,214.0,0.0],[0.0,572.0,1.0,35.0,0.0,231000.0,0.8,143.0,0.0,0.0,215.0,0.0],[0.0,245.0,0.0,45.0,1.0,274000.0,1.0,133.0,1.0,0.0,215.0,0.0],[0.0,88.0,1.0,35.0,1.0,236000.0,1.2,132.0,0.0,0.0,215.0,0.0],[1.0,446.0,0.0,60.0,1.0,263358.03,1.0,139.0,1.0,0.0,215.0,0.0],[1.0,191.0,1.0,30.0,1.0,334000.0,1.0,142.0,1.0,1.0,216.0,0.0],[0.0,326.0,0.0,38.0,0.0,294000.0,1.7,139.0,0.0,0.0,220.0,0.0],[0.0,132.0,1.0,38.0,1.0,253000.0,1.0,139.0,1.0,0.0,230.0,0.0],[1.0,66.0,1.0,25.0,0.0,233000.0,0.8,135.0,1.0,0.0,230.0,0.0],[0.0,56.0,0.0,50.0,0.0,308000.0,0.7,135.0,1.0,1.0,231.0,0.0],[0.0,66.0,0.0,40.0,0.0,203000.0,1.0,138.0,1.0,0.0,233.0,0.0],[1.0,655.0,0.0,40.0,0.0,283000.0,0.7,133.0,0.0,0.0,233.0,0.0],[1.0,157.0,1.0,60.0,0.0,208000.0,1.0,140.0,0.0,0.0,237.0,0.0],[0.0,582.0,1.0,38.0,0.0,147000.0,1.2,141.0,1.0,0.0,237.0,0.0],[1.0,298.0,0.0,35.0,0.0,362000.0,0.9,140.0,1.0,1.0,240.0,0.0],[1.0,135.0,1.0,38.0,0.0,133000.0,1.7,140.0,1.0,0.0,244.0,0.0],[0.0,582.0,1.0,38.0,0.0,302000.0,0.9,140.0,0.0,0.0,244.0,0.0],[0.0,582.0,1.0,35.0,0.0,222000.0,1.0,132.0,1.0,0.0,244.0,0.0],[0.0,582.0,1.0,30.0,1.0,263358.03,1.6,130.0,1.0,1.0,244.0,0.0],[0.0,582.0,1.0,40.0,0.0,221000.0,0.9,134.0,0.0,0.0,244.0,0.0],[0.0,213.0,0.0,38.0,0.0,215000.0,1.2,133.0,0.0,0.0,245.0,0.0],[0.0,64.0,0.0,40.0,0.0,189000.0,0.7,140.0,1.0,0.0,245.0,0.0],[1.0,257.0,1.0,30.0,0.0,150000.0,1.0,137.0,1.0,1.0,245.0,0.0],[0.0,582.0,0.0,38.0,1.0,422000.0,0.8,137.0,0.0,0.0,245.0,0.0],[0.0,618.0,0.0,35.0,0.0,327000.0,1.1,142.0,0.0,0.0,245.0,0.0],[0.0,582.0,1.0,38.0,0.0,25100.0,1.1,140.0,1.0,0.0,246.0,0.0],[1.0,1051.0,1.0,30.0,0.0,232000.0,0.7,136.0,0.0,0.0,246.0,0.0],[0.0,84.0,1.0,38.0,0.0,451000.0,1.3,136.0,0.0,0.0,246.0,0.0],[0.0,2695.0,1.0,40.0,0.0,241000.0,1.0,137.0,1.0,0.0,247.0,0.0],[0.0,582.0,0.0,40.0,0.0,51000.0,2.7,136.0,1.0,1.0,250.0,0.0],[0.0,64.0,0.0,30.0,0.0,215000.0,3.8,128.0,1.0,1.0,250.0,0.0],[0.0,1688.0,0.0,38.0,0.0,263358.03,1.1,138.0,1.0,1.0,250.0,0.0],[1.0,54.0,0.0,40.0,0.0,279000.0,0.8,141.0,1.0,0.0,250.0,0.0],[1.0,170.0,1.0,40.0,0.0,336000.0,1.2,135.0,1.0,0.0,250.0,0.0],[0.0,253.0,0.0,35.0,0.0,279000.0,1.7,140.0,1.0,0.0,250.0,0.0],[0.0,582.0,1.0,55.0,0.0,543000.0,1.0,132.0,0.0,0.0,250.0,0.0],[0.0,892.0,1.0,35.0,0.0,263358.03,1.1,142.0,0.0,0.0,256.0,0.0],[1.0,337.0,0.0,38.0,0.0,390000.0,0.9,144.0,0.0,0.0,256.0,0.0],[0.0,615.0,1.0,55.0,0.0,222000.0,0.8,141.0,0.0,0.0,257.0,0.0],[0.0,320.0,0.0,35.0,0.0,133000.0,1.4,139.0,1.0,0.0,258.0,0.0],[0.0,190.0,1.0,38.0,0.0,382000.0,1.0,140.0,1.0,1.0,258.0,0.0],[1.0,103.0,1.0,35.0,0.0,179000.0,0.9,136.0,1.0,1.0,270.0,0.0],[0.0,61.0,1.0,38.0,1.0,155000.0,1.1,143.0,1.0,1.0,270.0,0.0],[0.0,1820.0,0.0,38.0,0.0,270000.0,1.2,139.0,0.0,0.0,271.0,0.0],[0.0,2060.0,1.0,60.0,0.0,742000.0,0.8,138.0,0.0,0.0,278.0,0.0],[0.0,2413.0,0.0,38.0,0.0,140000.0,1.4,140.0,1.0,1.0,280.0,0.0],[0.0,196.0,0.0,45.0,0.0,395000.0,1.6,136.0,1.0,1.0,285.0,0.0]],\"fillcolor\":\"rgba(255,255,255,0)\",\"hoveron\":\"points\",\"hovertemplate\":\"DEATH_EVENT=%{customdata[11]}<br>AGE=%{x}<br>anaemia=%{customdata[0]}<br>creatine_phosphokinase=%{customdata[1]}<br>diabetes=%{customdata[2]}<br>ejection_fraction=%{customdata[3]}<br>high_blood_pressure=%{customdata[4]}<br>platelets=%{customdata[5]}<br>serum_creatine=%{customdata[6]}<br>serum_sodium=%{customdata[7]}<br>sex=%{customdata[8]}<br>smoking=%{customdata[9]}<br>time=%{customdata[10]}<extra></extra>\",\"jitter\":0,\"legendgroup\":\"0\",\"line\":{\"color\":\"rgba(255,255,255,0)\"},\"marker\":{\"color\":\"#ab63fa\",\"symbol\":\"line-ns-open\"},\"name\":\"0\",\"offsetgroup\":\"0\",\"showlegend\":false,\"x\":[49.0,65.0,53.0,50.0,60.0,72.0,70.0,60.0,55.0,41.0,58.0,65.0,70.0,42.0,75.0,55.0,70.0,67.0,79.0,51.0,55.0,65.0,44.0,57.0,70.0,60.0,42.0,58.0,58.0,63.0,70.0,60.0,63.0,65.0,75.0,80.0,42.0,60.0,55.0,45.0,63.0,45.0,55.0,50.0,60.0,58.0,60.0,85.0,65.0,60.0,66.0,60.0,60.0,43.0,58.0,61.0,53.0,53.0,60.0,46.0,63.0,81.0,75.0,65.0,68.0,62.0,50.0,46.0,50.0,61.0,50.0,52.0,64.0,60.0,62.0,50.0,50.0,65.0,60.0,52.0,50.0,85.0,59.0,66.0,45.0,63.0,53.0,65.0,70.0,51.0,52.0,70.0,50.0,65.0,60.0,69.0,49.0,63.0,55.0,40.0,60.667,40.0,80.0,64.0,50.0,73.0,45.0,65.0,50.0,60.0,63.0,45.0,70.0,60.0,78.0,50.0,40.0,85.0,60.0,49.0,70.0,50.0,78.0,65.0,73.0,70.0,68.0,55.0,65.0,42.0,47.0,58.0,75.0,58.0,55.0,65.0,72.0,70.0,40.0,53.0,53.0,77.0,75.0,70.0,65.0,55.0,70.0,65.0,40.0,73.0,54.0,61.0,64.0,40.0,53.0,50.0,55.0,50.0,70.0,53.0,52.0,65.0,58.0,45.0,53.0,55.0,62.0,68.0,61.0,50.0,56.0,45.0,40.0,44.0,51.0,67.0,42.0,60.0,45.0,70.0,70.0,50.0,55.0,70.0,70.0,42.0,65.0,50.0,55.0,60.0,45.0,65.0,90.0,45.0,60.0,52.0,63.0,62.0,55.0,45.0,45.0,50.0],\"xaxis\":\"x2\",\"yaxis\":\"y2\",\"type\":\"box\"}],                        {\"template\":{\"data\":{\"barpolar\":[{\"marker\":{\"line\":{\"color\":\"rgb(17,17,17)\",\"width\":0.5},\"pattern\":{\"fillmode\":\"overlay\",\"size\":10,\"solidity\":0.2}},\"type\":\"barpolar\"}],\"bar\":[{\"error_x\":{\"color\":\"#f2f5fa\"},\"error_y\":{\"color\":\"#f2f5fa\"},\"marker\":{\"line\":{\"color\":\"rgb(17,17,17)\",\"width\":0.5},\"pattern\":{\"fillmode\":\"overlay\",\"size\":10,\"solidity\":0.2}},\"type\":\"bar\"}],\"carpet\":[{\"aaxis\":{\"endlinecolor\":\"#A2B1C6\",\"gridcolor\":\"#506784\",\"linecolor\":\"#506784\",\"minorgridcolor\":\"#506784\",\"startlinecolor\":\"#A2B1C6\"},\"baxis\":{\"endlinecolor\":\"#A2B1C6\",\"gridcolor\":\"#506784\",\"linecolor\":\"#506784\",\"minorgridcolor\":\"#506784\",\"startlinecolor\":\"#A2B1C6\"},\"type\":\"carpet\"}],\"choropleth\":[{\"colorbar\":{\"outlinewidth\":0,\"ticks\":\"\"},\"type\":\"choropleth\"}],\"contourcarpet\":[{\"colorbar\":{\"outlinewidth\":0,\"ticks\":\"\"},\"type\":\"contourcarpet\"}],\"contour\":[{\"colorbar\":{\"outlinewidth\":0,\"ticks\":\"\"},\"colorscale\":[[0.0,\"#0d0887\"],[0.1111111111111111,\"#46039f\"],[0.2222222222222222,\"#7201a8\"],[0.3333333333333333,\"#9c179e\"],[0.4444444444444444,\"#bd3786\"],[0.5555555555555556,\"#d8576b\"],[0.6666666666666666,\"#ed7953\"],[0.7777777777777778,\"#fb9f3a\"],[0.8888888888888888,\"#fdca26\"],[1.0,\"#f0f921\"]],\"type\":\"contour\"}],\"heatmapgl\":[{\"colorbar\":{\"outlinewidth\":0,\"ticks\":\"\"},\"colorscale\":[[0.0,\"#0d0887\"],[0.1111111111111111,\"#46039f\"],[0.2222222222222222,\"#7201a8\"],[0.3333333333333333,\"#9c179e\"],[0.4444444444444444,\"#bd3786\"],[0.5555555555555556,\"#d8576b\"],[0.6666666666666666,\"#ed7953\"],[0.7777777777777778,\"#fb9f3a\"],[0.8888888888888888,\"#fdca26\"],[1.0,\"#f0f921\"]],\"type\":\"heatmapgl\"}],\"heatmap\":[{\"colorbar\":{\"outlinewidth\":0,\"ticks\":\"\"},\"colorscale\":[[0.0,\"#0d0887\"],[0.1111111111111111,\"#46039f\"],[0.2222222222222222,\"#7201a8\"],[0.3333333333333333,\"#9c179e\"],[0.4444444444444444,\"#bd3786\"],[0.5555555555555556,\"#d8576b\"],[0.6666666666666666,\"#ed7953\"],[0.7777777777777778,\"#fb9f3a\"],[0.8888888888888888,\"#fdca26\"],[1.0,\"#f0f921\"]],\"type\":\"heatmap\"}],\"histogram2dcontour\":[{\"colorbar\":{\"outlinewidth\":0,\"ticks\":\"\"},\"colorscale\":[[0.0,\"#0d0887\"],[0.1111111111111111,\"#46039f\"],[0.2222222222222222,\"#7201a8\"],[0.3333333333333333,\"#9c179e\"],[0.4444444444444444,\"#bd3786\"],[0.5555555555555556,\"#d8576b\"],[0.6666666666666666,\"#ed7953\"],[0.7777777777777778,\"#fb9f3a\"],[0.8888888888888888,\"#fdca26\"],[1.0,\"#f0f921\"]],\"type\":\"histogram2dcontour\"}],\"histogram2d\":[{\"colorbar\":{\"outlinewidth\":0,\"ticks\":\"\"},\"colorscale\":[[0.0,\"#0d0887\"],[0.1111111111111111,\"#46039f\"],[0.2222222222222222,\"#7201a8\"],[0.3333333333333333,\"#9c179e\"],[0.4444444444444444,\"#bd3786\"],[0.5555555555555556,\"#d8576b\"],[0.6666666666666666,\"#ed7953\"],[0.7777777777777778,\"#fb9f3a\"],[0.8888888888888888,\"#fdca26\"],[1.0,\"#f0f921\"]],\"type\":\"histogram2d\"}],\"histogram\":[{\"marker\":{\"pattern\":{\"fillmode\":\"overlay\",\"size\":10,\"solidity\":0.2}},\"type\":\"histogram\"}],\"mesh3d\":[{\"colorbar\":{\"outlinewidth\":0,\"ticks\":\"\"},\"type\":\"mesh3d\"}],\"parcoords\":[{\"line\":{\"colorbar\":{\"outlinewidth\":0,\"ticks\":\"\"}},\"type\":\"parcoords\"}],\"pie\":[{\"automargin\":true,\"type\":\"pie\"}],\"scatter3d\":[{\"line\":{\"colorbar\":{\"outlinewidth\":0,\"ticks\":\"\"}},\"marker\":{\"colorbar\":{\"outlinewidth\":0,\"ticks\":\"\"}},\"type\":\"scatter3d\"}],\"scattercarpet\":[{\"marker\":{\"colorbar\":{\"outlinewidth\":0,\"ticks\":\"\"}},\"type\":\"scattercarpet\"}],\"scattergeo\":[{\"marker\":{\"colorbar\":{\"outlinewidth\":0,\"ticks\":\"\"}},\"type\":\"scattergeo\"}],\"scattergl\":[{\"marker\":{\"line\":{\"color\":\"#283442\"}},\"type\":\"scattergl\"}],\"scattermapbox\":[{\"marker\":{\"colorbar\":{\"outlinewidth\":0,\"ticks\":\"\"}},\"type\":\"scattermapbox\"}],\"scatterpolargl\":[{\"marker\":{\"colorbar\":{\"outlinewidth\":0,\"ticks\":\"\"}},\"type\":\"scatterpolargl\"}],\"scatterpolar\":[{\"marker\":{\"colorbar\":{\"outlinewidth\":0,\"ticks\":\"\"}},\"type\":\"scatterpolar\"}],\"scatter\":[{\"marker\":{\"line\":{\"color\":\"#283442\"}},\"type\":\"scatter\"}],\"scatterternary\":[{\"marker\":{\"colorbar\":{\"outlinewidth\":0,\"ticks\":\"\"}},\"type\":\"scatterternary\"}],\"surface\":[{\"colorbar\":{\"outlinewidth\":0,\"ticks\":\"\"},\"colorscale\":[[0.0,\"#0d0887\"],[0.1111111111111111,\"#46039f\"],[0.2222222222222222,\"#7201a8\"],[0.3333333333333333,\"#9c179e\"],[0.4444444444444444,\"#bd3786\"],[0.5555555555555556,\"#d8576b\"],[0.6666666666666666,\"#ed7953\"],[0.7777777777777778,\"#fb9f3a\"],[0.8888888888888888,\"#fdca26\"],[1.0,\"#f0f921\"]],\"type\":\"surface\"}],\"table\":[{\"cells\":{\"fill\":{\"color\":\"#506784\"},\"line\":{\"color\":\"rgb(17,17,17)\"}},\"header\":{\"fill\":{\"color\":\"#2a3f5f\"},\"line\":{\"color\":\"rgb(17,17,17)\"}},\"type\":\"table\"}]},\"layout\":{\"annotationdefaults\":{\"arrowcolor\":\"#f2f5fa\",\"arrowhead\":0,\"arrowwidth\":1},\"autotypenumbers\":\"strict\",\"coloraxis\":{\"colorbar\":{\"outlinewidth\":0,\"ticks\":\"\"}},\"colorscale\":{\"diverging\":[[0,\"#8e0152\"],[0.1,\"#c51b7d\"],[0.2,\"#de77ae\"],[0.3,\"#f1b6da\"],[0.4,\"#fde0ef\"],[0.5,\"#f7f7f7\"],[0.6,\"#e6f5d0\"],[0.7,\"#b8e186\"],[0.8,\"#7fbc41\"],[0.9,\"#4d9221\"],[1,\"#276419\"]],\"sequential\":[[0.0,\"#0d0887\"],[0.1111111111111111,\"#46039f\"],[0.2222222222222222,\"#7201a8\"],[0.3333333333333333,\"#9c179e\"],[0.4444444444444444,\"#bd3786\"],[0.5555555555555556,\"#d8576b\"],[0.6666666666666666,\"#ed7953\"],[0.7777777777777778,\"#fb9f3a\"],[0.8888888888888888,\"#fdca26\"],[1.0,\"#f0f921\"]],\"sequentialminus\":[[0.0,\"#0d0887\"],[0.1111111111111111,\"#46039f\"],[0.2222222222222222,\"#7201a8\"],[0.3333333333333333,\"#9c179e\"],[0.4444444444444444,\"#bd3786\"],[0.5555555555555556,\"#d8576b\"],[0.6666666666666666,\"#ed7953\"],[0.7777777777777778,\"#fb9f3a\"],[0.8888888888888888,\"#fdca26\"],[1.0,\"#f0f921\"]]},\"colorway\":[\"#636efa\",\"#EF553B\",\"#00cc96\",\"#ab63fa\",\"#FFA15A\",\"#19d3f3\",\"#FF6692\",\"#B6E880\",\"#FF97FF\",\"#FECB52\"],\"font\":{\"color\":\"#f2f5fa\"},\"geo\":{\"bgcolor\":\"rgb(17,17,17)\",\"lakecolor\":\"rgb(17,17,17)\",\"landcolor\":\"rgb(17,17,17)\",\"showlakes\":true,\"showland\":true,\"subunitcolor\":\"#506784\"},\"hoverlabel\":{\"align\":\"left\"},\"hovermode\":\"closest\",\"mapbox\":{\"style\":\"dark\"},\"paper_bgcolor\":\"rgb(17,17,17)\",\"plot_bgcolor\":\"rgb(17,17,17)\",\"polar\":{\"angularaxis\":{\"gridcolor\":\"#506784\",\"linecolor\":\"#506784\",\"ticks\":\"\"},\"bgcolor\":\"rgb(17,17,17)\",\"radialaxis\":{\"gridcolor\":\"#506784\",\"linecolor\":\"#506784\",\"ticks\":\"\"}},\"scene\":{\"xaxis\":{\"backgroundcolor\":\"rgb(17,17,17)\",\"gridcolor\":\"#506784\",\"gridwidth\":2,\"linecolor\":\"#506784\",\"showbackground\":true,\"ticks\":\"\",\"zerolinecolor\":\"#C8D4E3\"},\"yaxis\":{\"backgroundcolor\":\"rgb(17,17,17)\",\"gridcolor\":\"#506784\",\"gridwidth\":2,\"linecolor\":\"#506784\",\"showbackground\":true,\"ticks\":\"\",\"zerolinecolor\":\"#C8D4E3\"},\"zaxis\":{\"backgroundcolor\":\"rgb(17,17,17)\",\"gridcolor\":\"#506784\",\"gridwidth\":2,\"linecolor\":\"#506784\",\"showbackground\":true,\"ticks\":\"\",\"zerolinecolor\":\"#C8D4E3\"}},\"shapedefaults\":{\"line\":{\"color\":\"#f2f5fa\"}},\"sliderdefaults\":{\"bgcolor\":\"#C8D4E3\",\"bordercolor\":\"rgb(17,17,17)\",\"borderwidth\":1,\"tickwidth\":0},\"ternary\":{\"aaxis\":{\"gridcolor\":\"#506784\",\"linecolor\":\"#506784\",\"ticks\":\"\"},\"baxis\":{\"gridcolor\":\"#506784\",\"linecolor\":\"#506784\",\"ticks\":\"\"},\"bgcolor\":\"rgb(17,17,17)\",\"caxis\":{\"gridcolor\":\"#506784\",\"linecolor\":\"#506784\",\"ticks\":\"\"}},\"title\":{\"x\":0.05},\"updatemenudefaults\":{\"bgcolor\":\"#506784\",\"borderwidth\":0},\"xaxis\":{\"automargin\":true,\"gridcolor\":\"#283442\",\"linecolor\":\"#506784\",\"ticks\":\"\",\"title\":{\"standoff\":15},\"zerolinecolor\":\"#283442\",\"zerolinewidth\":2},\"yaxis\":{\"automargin\":true,\"gridcolor\":\"#283442\",\"linecolor\":\"#506784\",\"ticks\":\"\",\"title\":{\"standoff\":15},\"zerolinecolor\":\"#283442\",\"zerolinewidth\":2}}},\"xaxis\":{\"anchor\":\"y\",\"domain\":[0.0,1.0],\"title\":{\"text\":\"AGE\"}},\"yaxis\":{\"anchor\":\"x\",\"domain\":[0.0,0.7326],\"title\":{\"text\":\"count\"}},\"xaxis2\":{\"anchor\":\"y2\",\"domain\":[0.0,1.0],\"matches\":\"x\",\"showticklabels\":false,\"showgrid\":true},\"yaxis2\":{\"anchor\":\"x2\",\"domain\":[0.7426,1.0],\"matches\":\"y2\",\"showticklabels\":false,\"showline\":false,\"ticks\":\"\",\"showgrid\":false},\"legend\":{\"title\":{\"text\":\"DEATH_EVENT\"},\"tracegroupgap\":0},\"title\":{\"text\":\"Histogram for AGE vs DEATH_EVENT\"},\"barmode\":\"relative\"},                        {\"responsive\": true}                    ).then(function(){\n",
              "                            \n",
              "var gd = document.getElementById('c547bb1d-27da-4ea3-964c-ca311bf4e4e3');\n",
              "var x = new MutationObserver(function (mutations, observer) {{\n",
              "        var display = window.getComputedStyle(gd).display;\n",
              "        if (!display || display === 'none') {{\n",
              "            console.log([gd, 'removed!']);\n",
              "            Plotly.purge(gd);\n",
              "            observer.disconnect();\n",
              "        }}\n",
              "}});\n",
              "\n",
              "// Listen for the removal of the full notebook cells\n",
              "var notebookContainer = gd.closest('#notebook-container');\n",
              "if (notebookContainer) {{\n",
              "    x.observe(notebookContainer, {childList: true});\n",
              "}}\n",
              "\n",
              "// Listen for the clearing of the current output cell\n",
              "var outputEl = gd.closest('.output');\n",
              "if (outputEl) {{\n",
              "    x.observe(outputEl, {childList: true});\n",
              "}}\n",
              "\n",
              "                        })                };                            </script>        </div>\n",
              "</body>\n",
              "</html>"
            ]
          },
          "metadata": {}
        }
      ]
    },
    {
      "cell_type": "code",
      "source": [
        "# Now lets categorize the above histogram by SERUM CREATINE vs DEATH_EVENT\n",
        "\n",
        "import plotly.express as px\n",
        "fig = px.histogram(dataset, x=\"serum_creatine\", color=\"DEATH_EVENT\", marginal=\"rug\", hover_data=dataset.columns,\n",
        "                   title =\"Histogram for SERUM CREATINE vs DEATH_EVENT\", \n",
        "                   labels={\"serum_creatine\": \"SERUM CREATINE\"},\n",
        "                   template=\"plotly_dark\",\n",
        "                   color_discrete_map={\"0\": \"RebeccaPurple\", \"1\": \"MediumPurple\"})\n",
        "fig.show()"
      ],
      "metadata": {
        "colab": {
          "base_uri": "https://localhost:8080/",
          "height": 542
        },
        "id": "g4hvrGe-LG0L",
        "outputId": "3a0cf45a-bc67-412b-ebcc-34e7fd1bbfb9"
      },
      "execution_count": 107,
      "outputs": [
        {
          "output_type": "display_data",
          "data": {
            "text/html": [
              "<html>\n",
              "<head><meta charset=\"utf-8\" /></head>\n",
              "<body>\n",
              "    <div>            <script src=\"https://cdnjs.cloudflare.com/ajax/libs/mathjax/2.7.5/MathJax.js?config=TeX-AMS-MML_SVG\"></script><script type=\"text/javascript\">if (window.MathJax) {MathJax.Hub.Config({SVG: {font: \"STIX-Web\"}});}</script>                <script type=\"text/javascript\">window.PlotlyConfig = {MathJaxConfig: 'local'};</script>\n",
              "        <script src=\"https://cdn.plot.ly/plotly-2.8.3.min.js\"></script>                <div id=\"c0903204-c467-4414-99ef-cb3d75774ad6\" class=\"plotly-graph-div\" style=\"height:525px; width:100%;\"></div>            <script type=\"text/javascript\">                                    window.PLOTLYENV=window.PLOTLYENV || {};                                    if (document.getElementById(\"c0903204-c467-4414-99ef-cb3d75774ad6\")) {                    Plotly.newPlot(                        \"c0903204-c467-4414-99ef-cb3d75774ad6\",                        [{\"alignmentgroup\":\"True\",\"bingroup\":\"x\",\"hovertemplate\":\"DEATH_EVENT=1<br>SERUM CREATINE=%{x}<br>count=%{y}<extra></extra>\",\"legendgroup\":\"1\",\"marker\":{\"color\":\"#00cc96\",\"pattern\":{\"shape\":\"\"}},\"name\":\"1\",\"offsetgroup\":\"1\",\"orientation\":\"v\",\"showlegend\":true,\"x\":[1.9,1.1,1.3,1.9,2.7,2.1,1.2,1.1,1.5,9.4,4.0,0.9,1.1,1.1,1.3,0.9,0.8,1.0,1.9,1.6,0.9,1.83,1.9,1.0,1.3,5.8,1.2,1.83,3.0,1.0,1.0,3.5,1.0,1.0,3.0,1.83,1.2,1.2,1.1,1.9,0.9,0.6,4.4,1.0,1.0,1.4,6.8,1.0,2.2,2.0,1.1,1.3,1.0,2.3,1.0,2.9,1.3,1.0,1.2,1.83,1.0,1.2,0.7,2.5,1.0,1.7,1.7,1.2,1.3,1.83,3.7,2.1,1.1,1.7,1.83,2.5,0.9,1.1,1.3,2.4,1.0,1.2,2.5,1.2,1.5,0.6,2.1,1.6,1.8,1.6,1.83,1.7,1.1,1.4,1.83],\"xaxis\":\"x\",\"yaxis\":\"y\",\"type\":\"histogram\"},{\"alignmentgroup\":\"True\",\"boxpoints\":\"all\",\"customdata\":[[75.0,0.0,582.0,0.0,20.0,1.0,265000.0,130.0,1.0,0.0,4.0,1.0],[55.0,0.0,7861.0,0.0,38.0,0.0,263358.03,136.0,1.0,0.0,6.0,1.0],[65.0,0.0,146.0,0.0,20.0,0.0,162000.0,129.0,1.0,1.0,7.0,1.0],[50.0,1.0,111.0,0.0,20.0,0.0,210000.0,137.0,1.0,0.0,7.0,1.0],[65.0,1.0,160.0,1.0,20.0,0.0,327000.0,116.0,0.0,0.0,8.0,1.0],[90.0,1.0,47.0,0.0,40.0,1.0,204000.0,132.0,1.0,1.0,8.0,1.0],[75.0,1.0,246.0,0.0,15.0,0.0,127000.0,137.0,1.0,0.0,10.0,1.0],[60.0,1.0,315.0,1.0,60.0,0.0,454000.0,131.0,1.0,1.0,10.0,1.0],[65.0,0.0,157.0,0.0,65.0,0.0,263358.03,138.0,0.0,0.0,10.0,1.0],[80.0,1.0,123.0,0.0,35.0,1.0,388000.0,133.0,1.0,1.0,10.0,1.0],[75.0,1.0,81.0,0.0,38.0,1.0,368000.0,131.0,1.0,1.0,10.0,1.0],[62.0,0.0,231.0,0.0,25.0,1.0,253000.0,140.0,1.0,1.0,10.0,1.0],[45.0,1.0,981.0,0.0,30.0,0.0,136000.0,137.0,1.0,0.0,11.0,1.0],[50.0,1.0,168.0,0.0,38.0,1.0,276000.0,137.0,1.0,0.0,11.0,1.0],[82.0,1.0,379.0,0.0,50.0,0.0,47000.0,136.0,1.0,0.0,13.0,1.0],[87.0,1.0,149.0,0.0,38.0,0.0,262000.0,140.0,1.0,0.0,14.0,1.0],[45.0,0.0,582.0,0.0,14.0,0.0,166000.0,127.0,1.0,0.0,14.0,1.0],[70.0,1.0,125.0,0.0,25.0,1.0,237000.0,140.0,0.0,0.0,15.0,1.0],[48.0,1.0,582.0,1.0,55.0,0.0,87000.0,121.0,0.0,0.0,15.0,1.0],[65.0,1.0,128.0,1.0,30.0,1.0,297000.0,136.0,0.0,0.0,20.0,1.0],[68.0,1.0,220.0,0.0,35.0,1.0,289000.0,140.0,1.0,1.0,20.0,1.0],[75.0,0.0,582.0,1.0,30.0,1.0,263358.03,134.0,0.0,0.0,23.0,1.0],[80.0,0.0,148.0,1.0,38.0,0.0,149000.0,144.0,1.0,1.0,23.0,1.0],[95.0,1.0,112.0,0.0,40.0,1.0,196000.0,138.0,0.0,0.0,24.0,1.0],[70.0,0.0,122.0,1.0,45.0,1.0,284000.0,136.0,1.0,1.0,26.0,1.0],[58.0,1.0,60.0,0.0,38.0,0.0,153000.0,134.0,1.0,0.0,26.0,1.0],[82.0,0.0,70.0,1.0,30.0,0.0,200000.0,132.0,1.0,1.0,26.0,1.0],[94.0,0.0,582.0,1.0,38.0,1.0,263358.03,134.0,1.0,0.0,27.0,1.0],[85.0,0.0,23.0,0.0,45.0,0.0,360000.0,132.0,1.0,0.0,28.0,1.0],[50.0,1.0,249.0,1.0,35.0,1.0,319000.0,128.0,0.0,0.0,28.0,1.0],[65.0,0.0,94.0,1.0,50.0,1.0,188000.0,140.0,1.0,0.0,29.0,1.0],[69.0,0.0,582.0,1.0,35.0,0.0,228000.0,134.0,1.0,0.0,30.0,1.0],[90.0,1.0,60.0,1.0,50.0,0.0,226000.0,134.0,1.0,0.0,30.0,1.0],[82.0,1.0,855.0,1.0,50.0,1.0,321000.0,145.0,0.0,0.0,30.0,1.0],[60.0,0.0,235.0,1.0,38.0,0.0,329000.0,142.0,0.0,0.0,30.0,1.0],[70.0,0.0,582.0,0.0,20.0,1.0,263358.03,134.0,1.0,1.0,31.0,1.0],[50.0,0.0,124.0,1.0,30.0,1.0,153000.0,136.0,0.0,1.0,32.0,1.0],[70.0,0.0,571.0,1.0,45.0,1.0,185000.0,139.0,1.0,1.0,33.0,1.0],[60.0,1.0,588.0,1.0,60.0,0.0,194000.0,142.0,0.0,0.0,33.0,1.0],[50.0,0.0,582.0,1.0,38.0,0.0,310000.0,135.0,1.0,1.0,35.0,1.0],[51.0,0.0,1380.0,0.0,25.0,1.0,271000.0,130.0,1.0,0.0,38.0,1.0],[60.0,0.0,582.0,1.0,38.0,1.0,451000.0,138.0,1.0,1.0,40.0,1.0],[80.0,1.0,553.0,0.0,20.0,1.0,140000.0,133.0,1.0,0.0,41.0,1.0],[57.0,1.0,129.0,0.0,30.0,0.0,395000.0,140.0,0.0,0.0,42.0,1.0],[68.0,1.0,577.0,0.0,25.0,1.0,166000.0,138.0,1.0,0.0,43.0,1.0],[53.0,1.0,91.0,0.0,20.0,1.0,418000.0,139.0,0.0,0.0,43.0,1.0],[60.0,0.0,3964.0,1.0,62.0,0.0,263358.03,146.0,0.0,0.0,43.0,1.0],[70.0,1.0,69.0,1.0,50.0,1.0,351000.0,134.0,0.0,0.0,44.0,1.0],[60.0,1.0,260.0,1.0,38.0,0.0,255000.0,132.0,0.0,1.0,45.0,1.0],[95.0,1.0,371.0,0.0,30.0,0.0,461000.0,132.0,1.0,0.0,50.0,1.0],[49.0,0.0,789.0,0.0,20.0,1.0,319000.0,136.0,1.0,1.0,55.0,1.0],[72.0,0.0,364.0,1.0,20.0,1.0,254000.0,136.0,1.0,1.0,59.0,1.0],[45.0,0.0,7702.0,1.0,25.0,1.0,390000.0,139.0,1.0,0.0,60.0,1.0],[50.0,0.0,318.0,0.0,40.0,1.0,216000.0,131.0,0.0,0.0,60.0,1.0],[45.0,0.0,582.0,0.0,35.0,0.0,385000.0,145.0,1.0,0.0,61.0,1.0],[60.0,0.0,68.0,0.0,20.0,0.0,119000.0,127.0,1.0,1.0,64.0,1.0],[42.0,1.0,250.0,1.0,15.0,0.0,213000.0,136.0,0.0,0.0,65.0,1.0],[72.0,1.0,110.0,0.0,25.0,0.0,274000.0,140.0,1.0,1.0,65.0,1.0],[70.0,0.0,161.0,0.0,25.0,0.0,244000.0,142.0,0.0,0.0,66.0,1.0],[65.0,0.0,113.0,1.0,25.0,0.0,497000.0,135.0,1.0,0.0,67.0,1.0],[85.0,0.0,5882.0,0.0,35.0,0.0,243000.0,132.0,1.0,1.0,72.0,1.0],[69.0,0.0,582.0,0.0,20.0,0.0,266000.0,134.0,1.0,1.0,73.0,1.0],[60.0,1.0,47.0,0.0,20.0,0.0,204000.0,139.0,1.0,1.0,73.0,1.0],[60.0,1.0,76.0,1.0,25.0,0.0,196000.0,132.0,0.0,0.0,77.0,1.0],[59.0,1.0,280.0,1.0,25.0,1.0,302000.0,141.0,0.0,0.0,78.0,1.0],[60.0,1.0,154.0,0.0,25.0,0.0,210000.0,135.0,1.0,0.0,82.0,1.0],[72.0,1.0,328.0,0.0,30.0,1.0,621000.0,138.0,0.0,1.0,88.0,1.0],[85.0,0.0,129.0,0.0,60.0,0.0,306000.0,132.0,1.0,1.0,90.0,1.0],[70.0,1.0,143.0,0.0,60.0,0.0,351000.0,137.0,0.0,0.0,90.0,1.0],[86.0,0.0,582.0,0.0,38.0,0.0,263358.03,134.0,0.0,0.0,95.0,1.0],[60.0,0.0,582.0,0.0,40.0,0.0,217000.0,134.0,1.0,0.0,96.0,1.0],[46.0,0.0,168.0,1.0,17.0,1.0,271000.0,124.0,0.0,0.0,100.0,1.0],[80.0,0.0,805.0,0.0,38.0,0.0,263358.03,134.0,1.0,0.0,109.0,1.0],[72.0,1.0,943.0,0.0,25.0,1.0,338000.0,139.0,1.0,1.0,111.0,1.0],[75.0,1.0,582.0,0.0,30.0,0.0,225000.0,134.0,1.0,0.0,113.0,1.0],[72.0,0.0,233.0,0.0,45.0,1.0,235000.0,135.0,0.0,0.0,115.0,1.0],[50.0,1.0,2334.0,1.0,35.0,0.0,75000.0,142.0,0.0,0.0,126.0,1.0],[45.0,0.0,2442.0,1.0,30.0,0.0,334000.0,139.0,1.0,0.0,129.0,1.0],[80.0,0.0,776.0,1.0,38.0,1.0,192000.0,135.0,0.0,0.0,130.0,1.0],[59.0,0.0,66.0,1.0,20.0,0.0,70000.0,134.0,1.0,0.0,135.0,1.0],[59.0,1.0,176.0,1.0,25.0,0.0,221000.0,136.0,1.0,1.0,150.0,1.0],[65.0,0.0,395.0,1.0,25.0,0.0,265000.0,136.0,1.0,1.0,154.0,1.0],[75.0,0.0,99.0,0.0,38.0,1.0,224000.0,134.0,1.0,0.0,162.0,1.0],[58.0,1.0,145.0,0.0,25.0,0.0,219000.0,137.0,1.0,1.0,170.0,1.0],[60.667,1.0,104.0,1.0,30.0,0.0,389000.0,136.0,1.0,0.0,171.0,1.0],[50.0,0.0,582.0,0.0,50.0,0.0,153000.0,134.0,0.0,0.0,172.0,1.0],[60.0,0.0,1896.0,1.0,25.0,0.0,365000.0,144.0,0.0,0.0,172.0,1.0],[45.0,0.0,582.0,0.0,20.0,1.0,126000.0,135.0,1.0,0.0,180.0,1.0],[77.0,1.0,418.0,0.0,45.0,0.0,223000.0,145.0,1.0,0.0,180.0,1.0],[48.0,1.0,131.0,1.0,30.0,1.0,244000.0,130.0,0.0,0.0,193.0,1.0],[73.0,0.0,582.0,0.0,20.0,0.0,263358.03,134.0,1.0,0.0,198.0,1.0],[60.0,0.0,166.0,0.0,30.0,0.0,62000.0,127.0,0.0,0.0,207.0,1.0],[55.0,0.0,2017.0,0.0,25.0,0.0,314000.0,138.0,1.0,0.0,214.0,1.0],[65.0,1.0,258.0,1.0,25.0,0.0,198000.0,129.0,1.0,0.0,235.0,1.0],[55.0,0.0,1199.0,0.0,20.0,0.0,263358.03,134.0,1.0,1.0,241.0,1.0]],\"fillcolor\":\"rgba(255,255,255,0)\",\"hoveron\":\"points\",\"hovertemplate\":\"DEATH_EVENT=%{customdata[11]}<br>SERUM CREATINE=%{x}<br>age=%{customdata[0]}<br>anaemia=%{customdata[1]}<br>creatine_phosphokinase=%{customdata[2]}<br>diabetes=%{customdata[3]}<br>ejection_fraction=%{customdata[4]}<br>high_blood_pressure=%{customdata[5]}<br>platelets=%{customdata[6]}<br>serum_sodium=%{customdata[7]}<br>sex=%{customdata[8]}<br>smoking=%{customdata[9]}<br>time=%{customdata[10]}<extra></extra>\",\"jitter\":0,\"legendgroup\":\"1\",\"line\":{\"color\":\"rgba(255,255,255,0)\"},\"marker\":{\"color\":\"#00cc96\",\"symbol\":\"line-ns-open\"},\"name\":\"1\",\"offsetgroup\":\"1\",\"showlegend\":false,\"x\":[1.9,1.1,1.3,1.9,2.7,2.1,1.2,1.1,1.5,9.4,4.0,0.9,1.1,1.1,1.3,0.9,0.8,1.0,1.9,1.6,0.9,1.83,1.9,1.0,1.3,5.8,1.2,1.83,3.0,1.0,1.0,3.5,1.0,1.0,3.0,1.83,1.2,1.2,1.1,1.9,0.9,0.6,4.4,1.0,1.0,1.4,6.8,1.0,2.2,2.0,1.1,1.3,1.0,2.3,1.0,2.9,1.3,1.0,1.2,1.83,1.0,1.2,0.7,2.5,1.0,1.7,1.7,1.2,1.3,1.83,3.7,2.1,1.1,1.7,1.83,2.5,0.9,1.1,1.3,2.4,1.0,1.2,2.5,1.2,1.5,0.6,2.1,1.6,1.8,1.6,1.83,1.7,1.1,1.4,1.83],\"xaxis\":\"x2\",\"yaxis\":\"y2\",\"type\":\"box\"},{\"alignmentgroup\":\"True\",\"bingroup\":\"x\",\"hovertemplate\":\"DEATH_EVENT=0<br>SERUM CREATINE=%{x}<br>count=%{y}<extra></extra>\",\"legendgroup\":\"0\",\"marker\":{\"color\":\"#ab63fa\",\"pattern\":{\"shape\":\"\"}},\"name\":\"0\",\"offsetgroup\":\"0\",\"orientation\":\"v\",\"showlegend\":true,\"x\":[1.0,1.3,0.8,1.2,2.3,1.0,2.7,0.6,1.1,0.8,0.9,1.3,0.8,1.2,0.6,0.9,1.7,1.18,1.8,0.7,1.1,0.8,0.7,1.1,0.8,1.0,1.18,0.7,1.0,1.3,1.1,1.2,1.1,1.1,1.18,1.1,1.0,2.3,1.3,0.9,1.1,1.3,1.2,1.6,1.2,1.0,0.7,3.2,0.9,1.5,1.0,0.75,0.9,1.3,0.8,0.7,3.4,0.7,6.1,1.18,1.3,1.18,1.18,0.9,2.1,1.0,0.8,0.9,0.9,0.9,0.7,0.7,1.0,0.9,0.9,0.9,1.18,0.8,1.7,1.4,1.0,1.3,1.1,1.2,0.8,0.9,0.7,1.0,0.8,1.5,0.9,1.1,0.8,0.9,1.0,1.0,1.0,1.2,0.7,0.9,1.0,0.9,2.1,1.5,0.7,1.18,1.18,0.8,1.0,1.8,0.7,1.0,0.9,3.5,0.7,1.0,0.8,0.9,1.0,0.8,1.0,0.8,1.4,0.8,1.3,0.9,1.1,0.7,1.1,1.1,0.8,1.0,1.4,1.3,1.0,5.0,1.2,1.1,0.9,1.4,1.1,1.1,1.1,1.2,1.0,1.18,1.3,1.3,1.1,0.9,1.8,1.4,2.4,1.0,1.2,0.5,0.8,1.0,1.2,1.0,1.0,1.7,1.0,0.8,0.7,1.0,0.7,1.0,1.2,0.9,1.7,0.9,1.0,1.6,0.9,1.2,0.7,1.0,0.8,1.1,1.1,0.7,1.3,1.0,2.7,3.8,1.1,0.8,1.2,1.7,1.0,1.1,0.9,0.8,1.4,1.0,0.9,1.1,1.2,0.8,1.4,1.6],\"xaxis\":\"x\",\"yaxis\":\"y\",\"type\":\"histogram\"},{\"alignmentgroup\":\"True\",\"boxpoints\":\"all\",\"customdata\":[[49.0,1.0,80.0,0.0,30.0,1.0,427000.0,138.0,0.0,0.0,12.0,0.0],[65.0,1.0,52.0,0.0,25.0,1.0,276000.0,137.0,0.0,0.0,16.0,0.0],[53.0,0.0,63.0,1.0,60.0,0.0,368000.0,135.0,1.0,0.0,22.0,0.0],[50.0,1.0,159.0,1.0,30.0,0.0,302000.0,138.0,0.0,0.0,29.0,0.0],[60.0,0.0,2656.0,1.0,30.0,0.0,305000.0,137.0,1.0,0.0,30.0,0.0],[72.0,0.0,127.0,1.0,50.0,1.0,218000.0,134.0,1.0,0.0,33.0,0.0],[70.0,1.0,75.0,0.0,35.0,0.0,223000.0,138.0,1.0,1.0,54.0,0.0],[60.0,1.0,607.0,0.0,40.0,0.0,216000.0,138.0,1.0,1.0,54.0,0.0],[55.0,0.0,109.0,0.0,35.0,0.0,254000.0,139.0,1.0,1.0,60.0,0.0],[41.0,0.0,148.0,0.0,40.0,0.0,374000.0,140.0,1.0,1.0,68.0,0.0],[58.0,0.0,582.0,1.0,35.0,0.0,122000.0,139.0,1.0,1.0,71.0,0.0],[65.0,0.0,224.0,1.0,50.0,0.0,149000.0,137.0,1.0,1.0,72.0,0.0],[70.0,0.0,92.0,0.0,60.0,1.0,317000.0,140.0,0.0,1.0,74.0,0.0],[42.0,0.0,102.0,1.0,40.0,0.0,237000.0,140.0,1.0,0.0,74.0,0.0],[75.0,1.0,203.0,1.0,38.0,1.0,283000.0,131.0,1.0,1.0,74.0,0.0],[55.0,0.0,336.0,0.0,45.0,1.0,324000.0,140.0,0.0,0.0,74.0,0.0],[70.0,0.0,69.0,0.0,40.0,0.0,293000.0,136.0,0.0,0.0,75.0,0.0],[67.0,0.0,582.0,0.0,50.0,0.0,263358.03,137.0,1.0,1.0,76.0,0.0],[79.0,1.0,55.0,0.0,50.0,1.0,172000.0,133.0,1.0,0.0,78.0,0.0],[51.0,0.0,78.0,0.0,50.0,0.0,406000.0,140.0,1.0,0.0,79.0,0.0],[55.0,0.0,47.0,0.0,35.0,1.0,173000.0,137.0,1.0,0.0,79.0,0.0],[65.0,1.0,68.0,1.0,60.0,1.0,304000.0,140.0,1.0,0.0,79.0,0.0],[44.0,0.0,84.0,1.0,40.0,1.0,235000.0,139.0,1.0,0.0,79.0,0.0],[57.0,1.0,115.0,0.0,25.0,1.0,181000.0,144.0,1.0,0.0,79.0,0.0],[70.0,0.0,66.0,1.0,45.0,0.0,249000.0,136.0,1.0,1.0,80.0,0.0],[60.0,0.0,897.0,1.0,45.0,0.0,297000.0,133.0,1.0,0.0,80.0,0.0],[42.0,0.0,582.0,0.0,60.0,0.0,263358.03,137.0,0.0,0.0,82.0,0.0],[58.0,0.0,144.0,1.0,38.0,1.0,327000.0,142.0,0.0,0.0,83.0,0.0],[58.0,1.0,133.0,0.0,60.0,1.0,219000.0,141.0,1.0,0.0,83.0,0.0],[63.0,1.0,514.0,1.0,25.0,1.0,254000.0,134.0,1.0,0.0,83.0,0.0],[70.0,1.0,59.0,0.0,60.0,0.0,255000.0,136.0,0.0,0.0,85.0,0.0],[60.0,1.0,156.0,1.0,25.0,1.0,318000.0,137.0,0.0,0.0,85.0,0.0],[63.0,1.0,61.0,1.0,40.0,0.0,221000.0,140.0,0.0,0.0,86.0,0.0],[65.0,1.0,305.0,0.0,25.0,0.0,298000.0,141.0,1.0,0.0,87.0,0.0],[75.0,0.0,582.0,0.0,45.0,1.0,263358.03,137.0,1.0,0.0,87.0,0.0],[80.0,0.0,898.0,0.0,25.0,0.0,149000.0,144.0,1.0,1.0,87.0,0.0],[42.0,0.0,5209.0,0.0,30.0,0.0,226000.0,140.0,1.0,1.0,87.0,0.0],[60.0,0.0,53.0,0.0,50.0,1.0,286000.0,143.0,0.0,0.0,87.0,0.0],[55.0,0.0,748.0,0.0,45.0,0.0,263000.0,137.0,1.0,0.0,88.0,0.0],[45.0,1.0,1876.0,1.0,35.0,0.0,226000.0,138.0,1.0,0.0,88.0,0.0],[63.0,0.0,936.0,0.0,38.0,0.0,304000.0,133.0,1.0,1.0,88.0,0.0],[45.0,0.0,292.0,1.0,35.0,0.0,850000.0,142.0,1.0,1.0,88.0,0.0],[55.0,0.0,60.0,0.0,35.0,0.0,228000.0,135.0,1.0,1.0,90.0,0.0],[50.0,0.0,369.0,1.0,25.0,0.0,252000.0,136.0,1.0,0.0,90.0,0.0],[60.0,1.0,754.0,1.0,40.0,1.0,328000.0,126.0,1.0,0.0,91.0,0.0],[58.0,1.0,400.0,0.0,40.0,0.0,164000.0,139.0,0.0,0.0,91.0,0.0],[60.0,1.0,96.0,1.0,60.0,1.0,271000.0,136.0,0.0,0.0,94.0,0.0],[85.0,1.0,102.0,0.0,60.0,0.0,507000.0,138.0,0.0,0.0,94.0,0.0],[65.0,1.0,113.0,1.0,60.0,1.0,203000.0,140.0,0.0,0.0,94.0,0.0],[60.0,1.0,737.0,0.0,60.0,1.0,210000.0,135.0,1.0,1.0,95.0,0.0],[66.0,1.0,68.0,1.0,38.0,1.0,162000.0,136.0,0.0,0.0,95.0,0.0],[60.0,0.0,96.0,1.0,38.0,0.0,228000.0,140.0,0.0,0.0,95.0,0.0],[60.0,1.0,582.0,0.0,30.0,1.0,127000.0,145.0,0.0,0.0,95.0,0.0],[43.0,1.0,358.0,0.0,50.0,0.0,237000.0,135.0,0.0,0.0,97.0,0.0],[58.0,1.0,200.0,1.0,60.0,0.0,300000.0,137.0,0.0,0.0,104.0,0.0],[61.0,0.0,248.0,0.0,30.0,1.0,267000.0,136.0,1.0,1.0,104.0,0.0],[53.0,1.0,270.0,1.0,35.0,0.0,227000.0,145.0,1.0,0.0,105.0,0.0],[53.0,1.0,1808.0,0.0,60.0,1.0,249000.0,138.0,1.0,1.0,106.0,0.0],[60.0,1.0,1082.0,1.0,45.0,0.0,250000.0,131.0,1.0,0.0,107.0,0.0],[46.0,0.0,719.0,0.0,40.0,1.0,263358.03,137.0,0.0,0.0,107.0,0.0],[63.0,0.0,193.0,0.0,60.0,1.0,295000.0,145.0,1.0,1.0,107.0,0.0],[81.0,0.0,4540.0,0.0,35.0,0.0,231000.0,137.0,1.0,1.0,107.0,0.0],[75.0,0.0,582.0,0.0,40.0,0.0,263358.03,137.0,1.0,0.0,107.0,0.0],[65.0,1.0,59.0,1.0,60.0,0.0,172000.0,137.0,0.0,0.0,107.0,0.0],[68.0,1.0,646.0,0.0,25.0,0.0,305000.0,130.0,1.0,0.0,108.0,0.0],[62.0,0.0,281.0,1.0,35.0,0.0,221000.0,136.0,0.0,0.0,108.0,0.0],[50.0,0.0,1548.0,0.0,30.0,1.0,211000.0,138.0,1.0,0.0,108.0,0.0],[46.0,1.0,291.0,0.0,35.0,0.0,348000.0,140.0,0.0,0.0,109.0,0.0],[50.0,0.0,482.0,1.0,30.0,0.0,329000.0,132.0,0.0,0.0,109.0,0.0],[61.0,1.0,84.0,0.0,40.0,1.0,229000.0,141.0,0.0,0.0,110.0,0.0],[50.0,0.0,185.0,0.0,30.0,0.0,266000.0,141.0,1.0,1.0,112.0,0.0],[52.0,0.0,132.0,0.0,30.0,0.0,218000.0,136.0,1.0,1.0,112.0,0.0],[64.0,0.0,1610.0,0.0,60.0,0.0,242000.0,137.0,1.0,0.0,113.0,0.0],[60.0,0.0,2261.0,0.0,35.0,1.0,228000.0,136.0,1.0,0.0,115.0,0.0],[62.0,0.0,30.0,1.0,60.0,1.0,244000.0,139.0,1.0,0.0,117.0,0.0],[50.0,0.0,115.0,0.0,45.0,1.0,184000.0,134.0,1.0,1.0,118.0,0.0],[50.0,0.0,1846.0,1.0,35.0,0.0,263358.03,137.0,1.0,1.0,119.0,0.0],[65.0,1.0,335.0,0.0,35.0,1.0,235000.0,136.0,0.0,0.0,120.0,0.0],[60.0,1.0,231.0,1.0,25.0,0.0,194000.0,140.0,1.0,0.0,120.0,0.0],[52.0,1.0,58.0,0.0,35.0,0.0,277000.0,136.0,0.0,0.0,120.0,0.0],[50.0,0.0,250.0,0.0,25.0,0.0,262000.0,136.0,1.0,1.0,120.0,0.0],[85.0,1.0,910.0,0.0,50.0,0.0,235000.0,134.0,1.0,0.0,121.0,0.0],[59.0,1.0,129.0,0.0,45.0,1.0,362000.0,139.0,1.0,1.0,121.0,0.0],[66.0,1.0,72.0,0.0,40.0,1.0,242000.0,134.0,1.0,0.0,121.0,0.0],[45.0,1.0,130.0,0.0,35.0,0.0,174000.0,139.0,1.0,1.0,121.0,0.0],[63.0,1.0,582.0,0.0,40.0,0.0,448000.0,137.0,1.0,1.0,123.0,0.0],[53.0,0.0,196.0,0.0,60.0,0.0,220000.0,133.0,1.0,1.0,134.0,0.0],[65.0,0.0,582.0,1.0,40.0,0.0,270000.0,138.0,0.0,0.0,140.0,0.0],[70.0,0.0,835.0,0.0,35.0,1.0,305000.0,133.0,0.0,0.0,145.0,0.0],[51.0,1.0,582.0,1.0,35.0,0.0,263358.03,136.0,1.0,1.0,145.0,0.0],[52.0,0.0,3966.0,0.0,40.0,0.0,325000.0,140.0,1.0,1.0,146.0,0.0],[70.0,1.0,171.0,0.0,60.0,1.0,176000.0,145.0,1.0,1.0,146.0,0.0],[50.0,1.0,115.0,0.0,20.0,0.0,189000.0,139.0,1.0,0.0,146.0,0.0],[65.0,0.0,198.0,1.0,35.0,1.0,281000.0,137.0,1.0,1.0,146.0,0.0],[60.0,1.0,95.0,0.0,60.0,0.0,337000.0,138.0,1.0,1.0,146.0,0.0],[69.0,0.0,1419.0,0.0,40.0,0.0,105000.0,135.0,1.0,1.0,147.0,0.0],[49.0,1.0,69.0,0.0,50.0,0.0,132000.0,140.0,0.0,0.0,147.0,0.0],[63.0,1.0,122.0,1.0,60.0,0.0,267000.0,145.0,1.0,0.0,147.0,0.0],[55.0,0.0,835.0,0.0,40.0,0.0,279000.0,140.0,1.0,1.0,147.0,0.0],[40.0,0.0,478.0,1.0,30.0,0.0,303000.0,136.0,1.0,0.0,148.0,0.0],[60.667,1.0,151.0,1.0,40.0,1.0,201000.0,136.0,0.0,0.0,172.0,0.0],[40.0,0.0,244.0,0.0,45.0,1.0,275000.0,140.0,0.0,0.0,174.0,0.0],[80.0,0.0,582.0,1.0,35.0,0.0,350000.0,134.0,1.0,0.0,174.0,0.0],[64.0,1.0,62.0,0.0,60.0,0.0,309000.0,135.0,0.0,0.0,174.0,0.0],[50.0,1.0,121.0,1.0,40.0,0.0,260000.0,130.0,1.0,0.0,175.0,0.0],[73.0,1.0,231.0,1.0,30.0,0.0,160000.0,142.0,1.0,1.0,180.0,0.0],[45.0,0.0,582.0,1.0,38.0,1.0,263358.03,137.0,0.0,0.0,185.0,0.0],[65.0,0.0,167.0,0.0,30.0,0.0,259000.0,138.0,0.0,0.0,186.0,0.0],[50.0,1.0,582.0,1.0,20.0,1.0,279000.0,134.0,0.0,0.0,186.0,0.0],[60.0,0.0,1211.0,1.0,35.0,0.0,263358.03,113.0,1.0,1.0,186.0,0.0],[63.0,1.0,1767.0,0.0,45.0,0.0,73000.0,137.0,1.0,0.0,186.0,0.0],[45.0,0.0,308.0,1.0,60.0,1.0,377000.0,136.0,1.0,0.0,186.0,0.0],[70.0,0.0,97.0,0.0,60.0,1.0,220000.0,138.0,1.0,0.0,186.0,0.0],[60.0,0.0,59.0,0.0,25.0,1.0,212000.0,136.0,1.0,1.0,187.0,0.0],[78.0,1.0,64.0,0.0,40.0,0.0,277000.0,137.0,1.0,1.0,187.0,0.0],[50.0,1.0,167.0,1.0,45.0,0.0,362000.0,136.0,0.0,0.0,187.0,0.0],[40.0,1.0,101.0,0.0,40.0,0.0,226000.0,141.0,0.0,0.0,187.0,0.0],[85.0,0.0,212.0,0.0,38.0,0.0,186000.0,136.0,1.0,0.0,187.0,0.0],[60.0,1.0,2281.0,1.0,40.0,0.0,283000.0,141.0,0.0,0.0,187.0,0.0],[49.0,0.0,972.0,1.0,35.0,1.0,268000.0,130.0,0.0,0.0,187.0,0.0],[70.0,0.0,212.0,1.0,17.0,1.0,389000.0,136.0,1.0,1.0,188.0,0.0],[50.0,0.0,582.0,0.0,62.0,1.0,147000.0,140.0,1.0,1.0,192.0,0.0],[78.0,0.0,224.0,0.0,50.0,0.0,481000.0,138.0,1.0,1.0,192.0,0.0],[65.0,1.0,135.0,0.0,35.0,1.0,290000.0,134.0,1.0,0.0,194.0,0.0],[73.0,0.0,582.0,0.0,35.0,1.0,203000.0,134.0,1.0,0.0,195.0,0.0],[70.0,0.0,1202.0,0.0,50.0,1.0,358000.0,141.0,0.0,0.0,196.0,0.0],[68.0,1.0,1021.0,1.0,35.0,0.0,271000.0,134.0,1.0,0.0,197.0,0.0],[55.0,0.0,582.0,1.0,35.0,1.0,371000.0,140.0,0.0,0.0,197.0,0.0],[65.0,0.0,118.0,0.0,50.0,0.0,194000.0,145.0,1.0,1.0,200.0,0.0],[42.0,1.0,86.0,0.0,35.0,0.0,365000.0,139.0,1.0,1.0,201.0,0.0],[47.0,0.0,582.0,0.0,25.0,0.0,130000.0,134.0,1.0,0.0,201.0,0.0],[58.0,0.0,582.0,1.0,25.0,0.0,504000.0,138.0,1.0,0.0,205.0,0.0],[75.0,0.0,675.0,1.0,60.0,0.0,265000.0,125.0,0.0,0.0,205.0,0.0],[58.0,1.0,57.0,0.0,25.0,0.0,189000.0,132.0,1.0,1.0,205.0,0.0],[55.0,1.0,2794.0,0.0,35.0,1.0,141000.0,140.0,1.0,0.0,206.0,0.0],[65.0,0.0,56.0,0.0,25.0,0.0,237000.0,130.0,0.0,0.0,207.0,0.0],[72.0,0.0,211.0,0.0,25.0,0.0,274000.0,134.0,0.0,0.0,207.0,0.0],[70.0,0.0,93.0,0.0,35.0,0.0,185000.0,134.0,1.0,1.0,208.0,0.0],[40.0,1.0,129.0,0.0,35.0,0.0,255000.0,137.0,1.0,0.0,209.0,0.0],[53.0,1.0,707.0,0.0,38.0,0.0,330000.0,137.0,1.0,1.0,209.0,0.0],[53.0,1.0,582.0,0.0,45.0,0.0,305000.0,137.0,1.0,1.0,209.0,0.0],[77.0,1.0,109.0,0.0,50.0,1.0,406000.0,137.0,1.0,0.0,209.0,0.0],[75.0,0.0,119.0,0.0,50.0,1.0,248000.0,148.0,1.0,0.0,209.0,0.0],[70.0,0.0,232.0,0.0,30.0,0.0,173000.0,132.0,1.0,0.0,210.0,0.0],[65.0,1.0,720.0,1.0,40.0,0.0,257000.0,136.0,0.0,0.0,210.0,0.0],[55.0,1.0,180.0,0.0,45.0,0.0,263358.03,137.0,1.0,1.0,211.0,0.0],[70.0,0.0,81.0,1.0,35.0,1.0,533000.0,139.0,0.0,0.0,212.0,0.0],[65.0,0.0,582.0,1.0,30.0,0.0,249000.0,136.0,1.0,1.0,212.0,0.0],[40.0,0.0,90.0,0.0,35.0,0.0,255000.0,136.0,1.0,1.0,212.0,0.0],[73.0,1.0,1185.0,0.0,40.0,1.0,220000.0,141.0,0.0,0.0,213.0,0.0],[54.0,0.0,582.0,1.0,38.0,0.0,264000.0,134.0,1.0,0.0,213.0,0.0],[61.0,1.0,80.0,1.0,38.0,0.0,282000.0,137.0,1.0,0.0,213.0,0.0],[64.0,0.0,143.0,0.0,25.0,0.0,246000.0,135.0,1.0,0.0,214.0,0.0],[40.0,0.0,624.0,0.0,35.0,0.0,301000.0,142.0,1.0,1.0,214.0,0.0],[53.0,0.0,207.0,1.0,40.0,0.0,223000.0,130.0,0.0,0.0,214.0,0.0],[50.0,0.0,2522.0,0.0,30.0,1.0,404000.0,139.0,0.0,0.0,214.0,0.0],[55.0,0.0,572.0,1.0,35.0,0.0,231000.0,143.0,0.0,0.0,215.0,0.0],[50.0,0.0,245.0,0.0,45.0,1.0,274000.0,133.0,1.0,0.0,215.0,0.0],[70.0,0.0,88.0,1.0,35.0,1.0,236000.0,132.0,0.0,0.0,215.0,0.0],[53.0,1.0,446.0,0.0,60.0,1.0,263358.03,139.0,1.0,0.0,215.0,0.0],[52.0,1.0,191.0,1.0,30.0,1.0,334000.0,142.0,1.0,1.0,216.0,0.0],[65.0,0.0,326.0,0.0,38.0,0.0,294000.0,139.0,0.0,0.0,220.0,0.0],[58.0,0.0,132.0,1.0,38.0,1.0,253000.0,139.0,1.0,0.0,230.0,0.0],[45.0,1.0,66.0,1.0,25.0,0.0,233000.0,135.0,1.0,0.0,230.0,0.0],[53.0,0.0,56.0,0.0,50.0,0.0,308000.0,135.0,1.0,1.0,231.0,0.0],[55.0,0.0,66.0,0.0,40.0,0.0,203000.0,138.0,1.0,0.0,233.0,0.0],[62.0,1.0,655.0,0.0,40.0,0.0,283000.0,133.0,0.0,0.0,233.0,0.0],[68.0,1.0,157.0,1.0,60.0,0.0,208000.0,140.0,0.0,0.0,237.0,0.0],[61.0,0.0,582.0,1.0,38.0,0.0,147000.0,141.0,1.0,0.0,237.0,0.0],[50.0,1.0,298.0,0.0,35.0,0.0,362000.0,140.0,1.0,1.0,240.0,0.0],[56.0,1.0,135.0,1.0,38.0,0.0,133000.0,140.0,1.0,0.0,244.0,0.0],[45.0,0.0,582.0,1.0,38.0,0.0,302000.0,140.0,0.0,0.0,244.0,0.0],[40.0,0.0,582.0,1.0,35.0,0.0,222000.0,132.0,1.0,0.0,244.0,0.0],[44.0,0.0,582.0,1.0,30.0,1.0,263358.03,130.0,1.0,1.0,244.0,0.0],[51.0,0.0,582.0,1.0,40.0,0.0,221000.0,134.0,0.0,0.0,244.0,0.0],[67.0,0.0,213.0,0.0,38.0,0.0,215000.0,133.0,0.0,0.0,245.0,0.0],[42.0,0.0,64.0,0.0,40.0,0.0,189000.0,140.0,1.0,0.0,245.0,0.0],[60.0,1.0,257.0,1.0,30.0,0.0,150000.0,137.0,1.0,1.0,245.0,0.0],[45.0,0.0,582.0,0.0,38.0,1.0,422000.0,137.0,0.0,0.0,245.0,0.0],[70.0,0.0,618.0,0.0,35.0,0.0,327000.0,142.0,0.0,0.0,245.0,0.0],[70.0,0.0,582.0,1.0,38.0,0.0,25100.0,140.0,1.0,0.0,246.0,0.0],[50.0,1.0,1051.0,1.0,30.0,0.0,232000.0,136.0,0.0,0.0,246.0,0.0],[55.0,0.0,84.0,1.0,38.0,0.0,451000.0,136.0,0.0,0.0,246.0,0.0],[70.0,0.0,2695.0,1.0,40.0,0.0,241000.0,137.0,1.0,0.0,247.0,0.0],[70.0,0.0,582.0,0.0,40.0,0.0,51000.0,136.0,1.0,1.0,250.0,0.0],[42.0,0.0,64.0,0.0,30.0,0.0,215000.0,128.0,1.0,1.0,250.0,0.0],[65.0,0.0,1688.0,0.0,38.0,0.0,263358.03,138.0,1.0,1.0,250.0,0.0],[50.0,1.0,54.0,0.0,40.0,0.0,279000.0,141.0,1.0,0.0,250.0,0.0],[55.0,1.0,170.0,1.0,40.0,0.0,336000.0,135.0,1.0,0.0,250.0,0.0],[60.0,0.0,253.0,0.0,35.0,0.0,279000.0,140.0,1.0,0.0,250.0,0.0],[45.0,0.0,582.0,1.0,55.0,0.0,543000.0,132.0,0.0,0.0,250.0,0.0],[65.0,0.0,892.0,1.0,35.0,0.0,263358.03,142.0,0.0,0.0,256.0,0.0],[90.0,1.0,337.0,0.0,38.0,0.0,390000.0,144.0,0.0,0.0,256.0,0.0],[45.0,0.0,615.0,1.0,55.0,0.0,222000.0,141.0,0.0,0.0,257.0,0.0],[60.0,0.0,320.0,0.0,35.0,0.0,133000.0,139.0,1.0,0.0,258.0,0.0],[52.0,0.0,190.0,1.0,38.0,0.0,382000.0,140.0,1.0,1.0,258.0,0.0],[63.0,1.0,103.0,1.0,35.0,0.0,179000.0,136.0,1.0,1.0,270.0,0.0],[62.0,0.0,61.0,1.0,38.0,1.0,155000.0,143.0,1.0,1.0,270.0,0.0],[55.0,0.0,1820.0,0.0,38.0,0.0,270000.0,139.0,0.0,0.0,271.0,0.0],[45.0,0.0,2060.0,1.0,60.0,0.0,742000.0,138.0,0.0,0.0,278.0,0.0],[45.0,0.0,2413.0,0.0,38.0,0.0,140000.0,140.0,1.0,1.0,280.0,0.0],[50.0,0.0,196.0,0.0,45.0,0.0,395000.0,136.0,1.0,1.0,285.0,0.0]],\"fillcolor\":\"rgba(255,255,255,0)\",\"hoveron\":\"points\",\"hovertemplate\":\"DEATH_EVENT=%{customdata[11]}<br>SERUM CREATINE=%{x}<br>age=%{customdata[0]}<br>anaemia=%{customdata[1]}<br>creatine_phosphokinase=%{customdata[2]}<br>diabetes=%{customdata[3]}<br>ejection_fraction=%{customdata[4]}<br>high_blood_pressure=%{customdata[5]}<br>platelets=%{customdata[6]}<br>serum_sodium=%{customdata[7]}<br>sex=%{customdata[8]}<br>smoking=%{customdata[9]}<br>time=%{customdata[10]}<extra></extra>\",\"jitter\":0,\"legendgroup\":\"0\",\"line\":{\"color\":\"rgba(255,255,255,0)\"},\"marker\":{\"color\":\"#ab63fa\",\"symbol\":\"line-ns-open\"},\"name\":\"0\",\"offsetgroup\":\"0\",\"showlegend\":false,\"x\":[1.0,1.3,0.8,1.2,2.3,1.0,2.7,0.6,1.1,0.8,0.9,1.3,0.8,1.2,0.6,0.9,1.7,1.18,1.8,0.7,1.1,0.8,0.7,1.1,0.8,1.0,1.18,0.7,1.0,1.3,1.1,1.2,1.1,1.1,1.18,1.1,1.0,2.3,1.3,0.9,1.1,1.3,1.2,1.6,1.2,1.0,0.7,3.2,0.9,1.5,1.0,0.75,0.9,1.3,0.8,0.7,3.4,0.7,6.1,1.18,1.3,1.18,1.18,0.9,2.1,1.0,0.8,0.9,0.9,0.9,0.7,0.7,1.0,0.9,0.9,0.9,1.18,0.8,1.7,1.4,1.0,1.3,1.1,1.2,0.8,0.9,0.7,1.0,0.8,1.5,0.9,1.1,0.8,0.9,1.0,1.0,1.0,1.2,0.7,0.9,1.0,0.9,2.1,1.5,0.7,1.18,1.18,0.8,1.0,1.8,0.7,1.0,0.9,3.5,0.7,1.0,0.8,0.9,1.0,0.8,1.0,0.8,1.4,0.8,1.3,0.9,1.1,0.7,1.1,1.1,0.8,1.0,1.4,1.3,1.0,5.0,1.2,1.1,0.9,1.4,1.1,1.1,1.1,1.2,1.0,1.18,1.3,1.3,1.1,0.9,1.8,1.4,2.4,1.0,1.2,0.5,0.8,1.0,1.2,1.0,1.0,1.7,1.0,0.8,0.7,1.0,0.7,1.0,1.2,0.9,1.7,0.9,1.0,1.6,0.9,1.2,0.7,1.0,0.8,1.1,1.1,0.7,1.3,1.0,2.7,3.8,1.1,0.8,1.2,1.7,1.0,1.1,0.9,0.8,1.4,1.0,0.9,1.1,1.2,0.8,1.4,1.6],\"xaxis\":\"x2\",\"yaxis\":\"y2\",\"type\":\"box\"}],                        {\"template\":{\"data\":{\"barpolar\":[{\"marker\":{\"line\":{\"color\":\"rgb(17,17,17)\",\"width\":0.5},\"pattern\":{\"fillmode\":\"overlay\",\"size\":10,\"solidity\":0.2}},\"type\":\"barpolar\"}],\"bar\":[{\"error_x\":{\"color\":\"#f2f5fa\"},\"error_y\":{\"color\":\"#f2f5fa\"},\"marker\":{\"line\":{\"color\":\"rgb(17,17,17)\",\"width\":0.5},\"pattern\":{\"fillmode\":\"overlay\",\"size\":10,\"solidity\":0.2}},\"type\":\"bar\"}],\"carpet\":[{\"aaxis\":{\"endlinecolor\":\"#A2B1C6\",\"gridcolor\":\"#506784\",\"linecolor\":\"#506784\",\"minorgridcolor\":\"#506784\",\"startlinecolor\":\"#A2B1C6\"},\"baxis\":{\"endlinecolor\":\"#A2B1C6\",\"gridcolor\":\"#506784\",\"linecolor\":\"#506784\",\"minorgridcolor\":\"#506784\",\"startlinecolor\":\"#A2B1C6\"},\"type\":\"carpet\"}],\"choropleth\":[{\"colorbar\":{\"outlinewidth\":0,\"ticks\":\"\"},\"type\":\"choropleth\"}],\"contourcarpet\":[{\"colorbar\":{\"outlinewidth\":0,\"ticks\":\"\"},\"type\":\"contourcarpet\"}],\"contour\":[{\"colorbar\":{\"outlinewidth\":0,\"ticks\":\"\"},\"colorscale\":[[0.0,\"#0d0887\"],[0.1111111111111111,\"#46039f\"],[0.2222222222222222,\"#7201a8\"],[0.3333333333333333,\"#9c179e\"],[0.4444444444444444,\"#bd3786\"],[0.5555555555555556,\"#d8576b\"],[0.6666666666666666,\"#ed7953\"],[0.7777777777777778,\"#fb9f3a\"],[0.8888888888888888,\"#fdca26\"],[1.0,\"#f0f921\"]],\"type\":\"contour\"}],\"heatmapgl\":[{\"colorbar\":{\"outlinewidth\":0,\"ticks\":\"\"},\"colorscale\":[[0.0,\"#0d0887\"],[0.1111111111111111,\"#46039f\"],[0.2222222222222222,\"#7201a8\"],[0.3333333333333333,\"#9c179e\"],[0.4444444444444444,\"#bd3786\"],[0.5555555555555556,\"#d8576b\"],[0.6666666666666666,\"#ed7953\"],[0.7777777777777778,\"#fb9f3a\"],[0.8888888888888888,\"#fdca26\"],[1.0,\"#f0f921\"]],\"type\":\"heatmapgl\"}],\"heatmap\":[{\"colorbar\":{\"outlinewidth\":0,\"ticks\":\"\"},\"colorscale\":[[0.0,\"#0d0887\"],[0.1111111111111111,\"#46039f\"],[0.2222222222222222,\"#7201a8\"],[0.3333333333333333,\"#9c179e\"],[0.4444444444444444,\"#bd3786\"],[0.5555555555555556,\"#d8576b\"],[0.6666666666666666,\"#ed7953\"],[0.7777777777777778,\"#fb9f3a\"],[0.8888888888888888,\"#fdca26\"],[1.0,\"#f0f921\"]],\"type\":\"heatmap\"}],\"histogram2dcontour\":[{\"colorbar\":{\"outlinewidth\":0,\"ticks\":\"\"},\"colorscale\":[[0.0,\"#0d0887\"],[0.1111111111111111,\"#46039f\"],[0.2222222222222222,\"#7201a8\"],[0.3333333333333333,\"#9c179e\"],[0.4444444444444444,\"#bd3786\"],[0.5555555555555556,\"#d8576b\"],[0.6666666666666666,\"#ed7953\"],[0.7777777777777778,\"#fb9f3a\"],[0.8888888888888888,\"#fdca26\"],[1.0,\"#f0f921\"]],\"type\":\"histogram2dcontour\"}],\"histogram2d\":[{\"colorbar\":{\"outlinewidth\":0,\"ticks\":\"\"},\"colorscale\":[[0.0,\"#0d0887\"],[0.1111111111111111,\"#46039f\"],[0.2222222222222222,\"#7201a8\"],[0.3333333333333333,\"#9c179e\"],[0.4444444444444444,\"#bd3786\"],[0.5555555555555556,\"#d8576b\"],[0.6666666666666666,\"#ed7953\"],[0.7777777777777778,\"#fb9f3a\"],[0.8888888888888888,\"#fdca26\"],[1.0,\"#f0f921\"]],\"type\":\"histogram2d\"}],\"histogram\":[{\"marker\":{\"pattern\":{\"fillmode\":\"overlay\",\"size\":10,\"solidity\":0.2}},\"type\":\"histogram\"}],\"mesh3d\":[{\"colorbar\":{\"outlinewidth\":0,\"ticks\":\"\"},\"type\":\"mesh3d\"}],\"parcoords\":[{\"line\":{\"colorbar\":{\"outlinewidth\":0,\"ticks\":\"\"}},\"type\":\"parcoords\"}],\"pie\":[{\"automargin\":true,\"type\":\"pie\"}],\"scatter3d\":[{\"line\":{\"colorbar\":{\"outlinewidth\":0,\"ticks\":\"\"}},\"marker\":{\"colorbar\":{\"outlinewidth\":0,\"ticks\":\"\"}},\"type\":\"scatter3d\"}],\"scattercarpet\":[{\"marker\":{\"colorbar\":{\"outlinewidth\":0,\"ticks\":\"\"}},\"type\":\"scattercarpet\"}],\"scattergeo\":[{\"marker\":{\"colorbar\":{\"outlinewidth\":0,\"ticks\":\"\"}},\"type\":\"scattergeo\"}],\"scattergl\":[{\"marker\":{\"line\":{\"color\":\"#283442\"}},\"type\":\"scattergl\"}],\"scattermapbox\":[{\"marker\":{\"colorbar\":{\"outlinewidth\":0,\"ticks\":\"\"}},\"type\":\"scattermapbox\"}],\"scatterpolargl\":[{\"marker\":{\"colorbar\":{\"outlinewidth\":0,\"ticks\":\"\"}},\"type\":\"scatterpolargl\"}],\"scatterpolar\":[{\"marker\":{\"colorbar\":{\"outlinewidth\":0,\"ticks\":\"\"}},\"type\":\"scatterpolar\"}],\"scatter\":[{\"marker\":{\"line\":{\"color\":\"#283442\"}},\"type\":\"scatter\"}],\"scatterternary\":[{\"marker\":{\"colorbar\":{\"outlinewidth\":0,\"ticks\":\"\"}},\"type\":\"scatterternary\"}],\"surface\":[{\"colorbar\":{\"outlinewidth\":0,\"ticks\":\"\"},\"colorscale\":[[0.0,\"#0d0887\"],[0.1111111111111111,\"#46039f\"],[0.2222222222222222,\"#7201a8\"],[0.3333333333333333,\"#9c179e\"],[0.4444444444444444,\"#bd3786\"],[0.5555555555555556,\"#d8576b\"],[0.6666666666666666,\"#ed7953\"],[0.7777777777777778,\"#fb9f3a\"],[0.8888888888888888,\"#fdca26\"],[1.0,\"#f0f921\"]],\"type\":\"surface\"}],\"table\":[{\"cells\":{\"fill\":{\"color\":\"#506784\"},\"line\":{\"color\":\"rgb(17,17,17)\"}},\"header\":{\"fill\":{\"color\":\"#2a3f5f\"},\"line\":{\"color\":\"rgb(17,17,17)\"}},\"type\":\"table\"}]},\"layout\":{\"annotationdefaults\":{\"arrowcolor\":\"#f2f5fa\",\"arrowhead\":0,\"arrowwidth\":1},\"autotypenumbers\":\"strict\",\"coloraxis\":{\"colorbar\":{\"outlinewidth\":0,\"ticks\":\"\"}},\"colorscale\":{\"diverging\":[[0,\"#8e0152\"],[0.1,\"#c51b7d\"],[0.2,\"#de77ae\"],[0.3,\"#f1b6da\"],[0.4,\"#fde0ef\"],[0.5,\"#f7f7f7\"],[0.6,\"#e6f5d0\"],[0.7,\"#b8e186\"],[0.8,\"#7fbc41\"],[0.9,\"#4d9221\"],[1,\"#276419\"]],\"sequential\":[[0.0,\"#0d0887\"],[0.1111111111111111,\"#46039f\"],[0.2222222222222222,\"#7201a8\"],[0.3333333333333333,\"#9c179e\"],[0.4444444444444444,\"#bd3786\"],[0.5555555555555556,\"#d8576b\"],[0.6666666666666666,\"#ed7953\"],[0.7777777777777778,\"#fb9f3a\"],[0.8888888888888888,\"#fdca26\"],[1.0,\"#f0f921\"]],\"sequentialminus\":[[0.0,\"#0d0887\"],[0.1111111111111111,\"#46039f\"],[0.2222222222222222,\"#7201a8\"],[0.3333333333333333,\"#9c179e\"],[0.4444444444444444,\"#bd3786\"],[0.5555555555555556,\"#d8576b\"],[0.6666666666666666,\"#ed7953\"],[0.7777777777777778,\"#fb9f3a\"],[0.8888888888888888,\"#fdca26\"],[1.0,\"#f0f921\"]]},\"colorway\":[\"#636efa\",\"#EF553B\",\"#00cc96\",\"#ab63fa\",\"#FFA15A\",\"#19d3f3\",\"#FF6692\",\"#B6E880\",\"#FF97FF\",\"#FECB52\"],\"font\":{\"color\":\"#f2f5fa\"},\"geo\":{\"bgcolor\":\"rgb(17,17,17)\",\"lakecolor\":\"rgb(17,17,17)\",\"landcolor\":\"rgb(17,17,17)\",\"showlakes\":true,\"showland\":true,\"subunitcolor\":\"#506784\"},\"hoverlabel\":{\"align\":\"left\"},\"hovermode\":\"closest\",\"mapbox\":{\"style\":\"dark\"},\"paper_bgcolor\":\"rgb(17,17,17)\",\"plot_bgcolor\":\"rgb(17,17,17)\",\"polar\":{\"angularaxis\":{\"gridcolor\":\"#506784\",\"linecolor\":\"#506784\",\"ticks\":\"\"},\"bgcolor\":\"rgb(17,17,17)\",\"radialaxis\":{\"gridcolor\":\"#506784\",\"linecolor\":\"#506784\",\"ticks\":\"\"}},\"scene\":{\"xaxis\":{\"backgroundcolor\":\"rgb(17,17,17)\",\"gridcolor\":\"#506784\",\"gridwidth\":2,\"linecolor\":\"#506784\",\"showbackground\":true,\"ticks\":\"\",\"zerolinecolor\":\"#C8D4E3\"},\"yaxis\":{\"backgroundcolor\":\"rgb(17,17,17)\",\"gridcolor\":\"#506784\",\"gridwidth\":2,\"linecolor\":\"#506784\",\"showbackground\":true,\"ticks\":\"\",\"zerolinecolor\":\"#C8D4E3\"},\"zaxis\":{\"backgroundcolor\":\"rgb(17,17,17)\",\"gridcolor\":\"#506784\",\"gridwidth\":2,\"linecolor\":\"#506784\",\"showbackground\":true,\"ticks\":\"\",\"zerolinecolor\":\"#C8D4E3\"}},\"shapedefaults\":{\"line\":{\"color\":\"#f2f5fa\"}},\"sliderdefaults\":{\"bgcolor\":\"#C8D4E3\",\"bordercolor\":\"rgb(17,17,17)\",\"borderwidth\":1,\"tickwidth\":0},\"ternary\":{\"aaxis\":{\"gridcolor\":\"#506784\",\"linecolor\":\"#506784\",\"ticks\":\"\"},\"baxis\":{\"gridcolor\":\"#506784\",\"linecolor\":\"#506784\",\"ticks\":\"\"},\"bgcolor\":\"rgb(17,17,17)\",\"caxis\":{\"gridcolor\":\"#506784\",\"linecolor\":\"#506784\",\"ticks\":\"\"}},\"title\":{\"x\":0.05},\"updatemenudefaults\":{\"bgcolor\":\"#506784\",\"borderwidth\":0},\"xaxis\":{\"automargin\":true,\"gridcolor\":\"#283442\",\"linecolor\":\"#506784\",\"ticks\":\"\",\"title\":{\"standoff\":15},\"zerolinecolor\":\"#283442\",\"zerolinewidth\":2},\"yaxis\":{\"automargin\":true,\"gridcolor\":\"#283442\",\"linecolor\":\"#506784\",\"ticks\":\"\",\"title\":{\"standoff\":15},\"zerolinecolor\":\"#283442\",\"zerolinewidth\":2}}},\"xaxis\":{\"anchor\":\"y\",\"domain\":[0.0,1.0],\"title\":{\"text\":\"SERUM CREATINE\"}},\"yaxis\":{\"anchor\":\"x\",\"domain\":[0.0,0.7326],\"title\":{\"text\":\"count\"}},\"xaxis2\":{\"anchor\":\"y2\",\"domain\":[0.0,1.0],\"matches\":\"x\",\"showticklabels\":false,\"showgrid\":true},\"yaxis2\":{\"anchor\":\"x2\",\"domain\":[0.7426,1.0],\"matches\":\"y2\",\"showticklabels\":false,\"showline\":false,\"ticks\":\"\",\"showgrid\":false},\"legend\":{\"title\":{\"text\":\"DEATH_EVENT\"},\"tracegroupgap\":0},\"title\":{\"text\":\"Histogram for SERUM CREATINE vs DEATH_EVENT\"},\"barmode\":\"relative\"},                        {\"responsive\": true}                    ).then(function(){\n",
              "                            \n",
              "var gd = document.getElementById('c0903204-c467-4414-99ef-cb3d75774ad6');\n",
              "var x = new MutationObserver(function (mutations, observer) {{\n",
              "        var display = window.getComputedStyle(gd).display;\n",
              "        if (!display || display === 'none') {{\n",
              "            console.log([gd, 'removed!']);\n",
              "            Plotly.purge(gd);\n",
              "            observer.disconnect();\n",
              "        }}\n",
              "}});\n",
              "\n",
              "// Listen for the removal of the full notebook cells\n",
              "var notebookContainer = gd.closest('#notebook-container');\n",
              "if (notebookContainer) {{\n",
              "    x.observe(notebookContainer, {childList: true});\n",
              "}}\n",
              "\n",
              "// Listen for the clearing of the current output cell\n",
              "var outputEl = gd.closest('.output');\n",
              "if (outputEl) {{\n",
              "    x.observe(outputEl, {childList: true});\n",
              "}}\n",
              "\n",
              "                        })                };                            </script>        </div>\n",
              "</body>\n",
              "</html>"
            ]
          },
          "metadata": {}
        }
      ]
    },
    {
      "cell_type": "markdown",
      "source": [
        "### EJECTION FRACTION\n",
        "\n",
        "\n",
        "*   Ejection fraction (EF) is a measurement, expressed as a percentage, of how much blood the left ventricle pumps out with each contraction. An ejection fraction of 60 percent means that 60 percent of the total amount of blood in the left ventricle is pushed out with each heartbeat\n",
        "*   An ejection fraction measurement under 40 percent may be evidence of heart failure or cardiomyopathy.\n",
        "\n"
      ],
      "metadata": {
        "id": "4p9AMjTWQ5Vs"
      }
    },
    {
      "cell_type": "code",
      "source": [
        "# Now lets categorize the above histogram by EJECTION FEACTION vs DEATH_EVENT\n",
        "\n",
        "import plotly.express as px\n",
        "fig = px.histogram(dataset, x=\"ejection_fraction\", color=\"DEATH_EVENT\", marginal=\"rug\", hover_data=dataset.columns,\n",
        "                   title =\"Distribution of EJECTION FRACTION vs DEATH_EVENT\", \n",
        "                   labels={\"ejection_fraction\": \"EJECTION FRACTION\"},\n",
        "                   template=\"plotly_dark\",\n",
        "                   color_discrete_map={\"0\": \"RebeccaPurple\", \"1\": \"MediumPurple\"})\n",
        "fig.show()"
      ],
      "metadata": {
        "colab": {
          "base_uri": "https://localhost:8080/",
          "height": 542
        },
        "id": "851K43KOO7xJ",
        "outputId": "4dabaccf-0a4e-4381-b20f-6cb5a5277ea7"
      },
      "execution_count": 108,
      "outputs": [
        {
          "output_type": "display_data",
          "data": {
            "text/html": [
              "<html>\n",
              "<head><meta charset=\"utf-8\" /></head>\n",
              "<body>\n",
              "    <div>            <script src=\"https://cdnjs.cloudflare.com/ajax/libs/mathjax/2.7.5/MathJax.js?config=TeX-AMS-MML_SVG\"></script><script type=\"text/javascript\">if (window.MathJax) {MathJax.Hub.Config({SVG: {font: \"STIX-Web\"}});}</script>                <script type=\"text/javascript\">window.PlotlyConfig = {MathJaxConfig: 'local'};</script>\n",
              "        <script src=\"https://cdn.plot.ly/plotly-2.8.3.min.js\"></script>                <div id=\"1a746a77-1fb2-434e-b824-213156cfcbd3\" class=\"plotly-graph-div\" style=\"height:525px; width:100%;\"></div>            <script type=\"text/javascript\">                                    window.PLOTLYENV=window.PLOTLYENV || {};                                    if (document.getElementById(\"1a746a77-1fb2-434e-b824-213156cfcbd3\")) {                    Plotly.newPlot(                        \"1a746a77-1fb2-434e-b824-213156cfcbd3\",                        [{\"alignmentgroup\":\"True\",\"bingroup\":\"x\",\"hovertemplate\":\"DEATH_EVENT=1<br>EJECTION FRACTION=%{x}<br>count=%{y}<extra></extra>\",\"legendgroup\":\"1\",\"marker\":{\"color\":\"#00cc96\",\"pattern\":{\"shape\":\"\"}},\"name\":\"1\",\"offsetgroup\":\"1\",\"orientation\":\"v\",\"showlegend\":true,\"x\":[20,38,20,20,20,40,15,60,65,35,38,25,30,38,50,38,14,25,55,30,35,30,38,40,45,38,30,38,45,35,50,35,50,50,38,20,30,45,60,38,25,38,20,30,25,20,62,50,38,30,20,20,25,40,35,20,15,25,25,25,35,20,20,25,25,25,30,60,60,38,40,17,38,25,30,45,35,30,38,20,25,25,38,25,30,50,25,20,45,30,20,30,25,25,20],\"xaxis\":\"x\",\"yaxis\":\"y\",\"type\":\"histogram\"},{\"alignmentgroup\":\"True\",\"boxpoints\":\"all\",\"customdata\":[[75.0,0.0,582.0,0.0,1.0,265000.0,1.9,130.0,1.0,0.0,4.0,1.0],[55.0,0.0,7861.0,0.0,0.0,263358.03,1.1,136.0,1.0,0.0,6.0,1.0],[65.0,0.0,146.0,0.0,0.0,162000.0,1.3,129.0,1.0,1.0,7.0,1.0],[50.0,1.0,111.0,0.0,0.0,210000.0,1.9,137.0,1.0,0.0,7.0,1.0],[65.0,1.0,160.0,1.0,0.0,327000.0,2.7,116.0,0.0,0.0,8.0,1.0],[90.0,1.0,47.0,0.0,1.0,204000.0,2.1,132.0,1.0,1.0,8.0,1.0],[75.0,1.0,246.0,0.0,0.0,127000.0,1.2,137.0,1.0,0.0,10.0,1.0],[60.0,1.0,315.0,1.0,0.0,454000.0,1.1,131.0,1.0,1.0,10.0,1.0],[65.0,0.0,157.0,0.0,0.0,263358.03,1.5,138.0,0.0,0.0,10.0,1.0],[80.0,1.0,123.0,0.0,1.0,388000.0,9.4,133.0,1.0,1.0,10.0,1.0],[75.0,1.0,81.0,0.0,1.0,368000.0,4.0,131.0,1.0,1.0,10.0,1.0],[62.0,0.0,231.0,0.0,1.0,253000.0,0.9,140.0,1.0,1.0,10.0,1.0],[45.0,1.0,981.0,0.0,0.0,136000.0,1.1,137.0,1.0,0.0,11.0,1.0],[50.0,1.0,168.0,0.0,1.0,276000.0,1.1,137.0,1.0,0.0,11.0,1.0],[82.0,1.0,379.0,0.0,0.0,47000.0,1.3,136.0,1.0,0.0,13.0,1.0],[87.0,1.0,149.0,0.0,0.0,262000.0,0.9,140.0,1.0,0.0,14.0,1.0],[45.0,0.0,582.0,0.0,0.0,166000.0,0.8,127.0,1.0,0.0,14.0,1.0],[70.0,1.0,125.0,0.0,1.0,237000.0,1.0,140.0,0.0,0.0,15.0,1.0],[48.0,1.0,582.0,1.0,0.0,87000.0,1.9,121.0,0.0,0.0,15.0,1.0],[65.0,1.0,128.0,1.0,1.0,297000.0,1.6,136.0,0.0,0.0,20.0,1.0],[68.0,1.0,220.0,0.0,1.0,289000.0,0.9,140.0,1.0,1.0,20.0,1.0],[75.0,0.0,582.0,1.0,1.0,263358.03,1.83,134.0,0.0,0.0,23.0,1.0],[80.0,0.0,148.0,1.0,0.0,149000.0,1.9,144.0,1.0,1.0,23.0,1.0],[95.0,1.0,112.0,0.0,1.0,196000.0,1.0,138.0,0.0,0.0,24.0,1.0],[70.0,0.0,122.0,1.0,1.0,284000.0,1.3,136.0,1.0,1.0,26.0,1.0],[58.0,1.0,60.0,0.0,0.0,153000.0,5.8,134.0,1.0,0.0,26.0,1.0],[82.0,0.0,70.0,1.0,0.0,200000.0,1.2,132.0,1.0,1.0,26.0,1.0],[94.0,0.0,582.0,1.0,1.0,263358.03,1.83,134.0,1.0,0.0,27.0,1.0],[85.0,0.0,23.0,0.0,0.0,360000.0,3.0,132.0,1.0,0.0,28.0,1.0],[50.0,1.0,249.0,1.0,1.0,319000.0,1.0,128.0,0.0,0.0,28.0,1.0],[65.0,0.0,94.0,1.0,1.0,188000.0,1.0,140.0,1.0,0.0,29.0,1.0],[69.0,0.0,582.0,1.0,0.0,228000.0,3.5,134.0,1.0,0.0,30.0,1.0],[90.0,1.0,60.0,1.0,0.0,226000.0,1.0,134.0,1.0,0.0,30.0,1.0],[82.0,1.0,855.0,1.0,1.0,321000.0,1.0,145.0,0.0,0.0,30.0,1.0],[60.0,0.0,235.0,1.0,0.0,329000.0,3.0,142.0,0.0,0.0,30.0,1.0],[70.0,0.0,582.0,0.0,1.0,263358.03,1.83,134.0,1.0,1.0,31.0,1.0],[50.0,0.0,124.0,1.0,1.0,153000.0,1.2,136.0,0.0,1.0,32.0,1.0],[70.0,0.0,571.0,1.0,1.0,185000.0,1.2,139.0,1.0,1.0,33.0,1.0],[60.0,1.0,588.0,1.0,0.0,194000.0,1.1,142.0,0.0,0.0,33.0,1.0],[50.0,0.0,582.0,1.0,0.0,310000.0,1.9,135.0,1.0,1.0,35.0,1.0],[51.0,0.0,1380.0,0.0,1.0,271000.0,0.9,130.0,1.0,0.0,38.0,1.0],[60.0,0.0,582.0,1.0,1.0,451000.0,0.6,138.0,1.0,1.0,40.0,1.0],[80.0,1.0,553.0,0.0,1.0,140000.0,4.4,133.0,1.0,0.0,41.0,1.0],[57.0,1.0,129.0,0.0,0.0,395000.0,1.0,140.0,0.0,0.0,42.0,1.0],[68.0,1.0,577.0,0.0,1.0,166000.0,1.0,138.0,1.0,0.0,43.0,1.0],[53.0,1.0,91.0,0.0,1.0,418000.0,1.4,139.0,0.0,0.0,43.0,1.0],[60.0,0.0,3964.0,1.0,0.0,263358.03,6.8,146.0,0.0,0.0,43.0,1.0],[70.0,1.0,69.0,1.0,1.0,351000.0,1.0,134.0,0.0,0.0,44.0,1.0],[60.0,1.0,260.0,1.0,0.0,255000.0,2.2,132.0,0.0,1.0,45.0,1.0],[95.0,1.0,371.0,0.0,0.0,461000.0,2.0,132.0,1.0,0.0,50.0,1.0],[49.0,0.0,789.0,0.0,1.0,319000.0,1.1,136.0,1.0,1.0,55.0,1.0],[72.0,0.0,364.0,1.0,1.0,254000.0,1.3,136.0,1.0,1.0,59.0,1.0],[45.0,0.0,7702.0,1.0,1.0,390000.0,1.0,139.0,1.0,0.0,60.0,1.0],[50.0,0.0,318.0,0.0,1.0,216000.0,2.3,131.0,0.0,0.0,60.0,1.0],[45.0,0.0,582.0,0.0,0.0,385000.0,1.0,145.0,1.0,0.0,61.0,1.0],[60.0,0.0,68.0,0.0,0.0,119000.0,2.9,127.0,1.0,1.0,64.0,1.0],[42.0,1.0,250.0,1.0,0.0,213000.0,1.3,136.0,0.0,0.0,65.0,1.0],[72.0,1.0,110.0,0.0,0.0,274000.0,1.0,140.0,1.0,1.0,65.0,1.0],[70.0,0.0,161.0,0.0,0.0,244000.0,1.2,142.0,0.0,0.0,66.0,1.0],[65.0,0.0,113.0,1.0,0.0,497000.0,1.83,135.0,1.0,0.0,67.0,1.0],[85.0,0.0,5882.0,0.0,0.0,243000.0,1.0,132.0,1.0,1.0,72.0,1.0],[69.0,0.0,582.0,0.0,0.0,266000.0,1.2,134.0,1.0,1.0,73.0,1.0],[60.0,1.0,47.0,0.0,0.0,204000.0,0.7,139.0,1.0,1.0,73.0,1.0],[60.0,1.0,76.0,1.0,0.0,196000.0,2.5,132.0,0.0,0.0,77.0,1.0],[59.0,1.0,280.0,1.0,1.0,302000.0,1.0,141.0,0.0,0.0,78.0,1.0],[60.0,1.0,154.0,0.0,0.0,210000.0,1.7,135.0,1.0,0.0,82.0,1.0],[72.0,1.0,328.0,0.0,1.0,621000.0,1.7,138.0,0.0,1.0,88.0,1.0],[85.0,0.0,129.0,0.0,0.0,306000.0,1.2,132.0,1.0,1.0,90.0,1.0],[70.0,1.0,143.0,0.0,0.0,351000.0,1.3,137.0,0.0,0.0,90.0,1.0],[86.0,0.0,582.0,0.0,0.0,263358.03,1.83,134.0,0.0,0.0,95.0,1.0],[60.0,0.0,582.0,0.0,0.0,217000.0,3.7,134.0,1.0,0.0,96.0,1.0],[46.0,0.0,168.0,1.0,1.0,271000.0,2.1,124.0,0.0,0.0,100.0,1.0],[80.0,0.0,805.0,0.0,0.0,263358.03,1.1,134.0,1.0,0.0,109.0,1.0],[72.0,1.0,943.0,0.0,1.0,338000.0,1.7,139.0,1.0,1.0,111.0,1.0],[75.0,1.0,582.0,0.0,0.0,225000.0,1.83,134.0,1.0,0.0,113.0,1.0],[72.0,0.0,233.0,0.0,1.0,235000.0,2.5,135.0,0.0,0.0,115.0,1.0],[50.0,1.0,2334.0,1.0,0.0,75000.0,0.9,142.0,0.0,0.0,126.0,1.0],[45.0,0.0,2442.0,1.0,0.0,334000.0,1.1,139.0,1.0,0.0,129.0,1.0],[80.0,0.0,776.0,1.0,1.0,192000.0,1.3,135.0,0.0,0.0,130.0,1.0],[59.0,0.0,66.0,1.0,0.0,70000.0,2.4,134.0,1.0,0.0,135.0,1.0],[59.0,1.0,176.0,1.0,0.0,221000.0,1.0,136.0,1.0,1.0,150.0,1.0],[65.0,0.0,395.0,1.0,0.0,265000.0,1.2,136.0,1.0,1.0,154.0,1.0],[75.0,0.0,99.0,0.0,1.0,224000.0,2.5,134.0,1.0,0.0,162.0,1.0],[58.0,1.0,145.0,0.0,0.0,219000.0,1.2,137.0,1.0,1.0,170.0,1.0],[60.667,1.0,104.0,1.0,0.0,389000.0,1.5,136.0,1.0,0.0,171.0,1.0],[50.0,0.0,582.0,0.0,0.0,153000.0,0.6,134.0,0.0,0.0,172.0,1.0],[60.0,0.0,1896.0,1.0,0.0,365000.0,2.1,144.0,0.0,0.0,172.0,1.0],[45.0,0.0,582.0,0.0,1.0,126000.0,1.6,135.0,1.0,0.0,180.0,1.0],[77.0,1.0,418.0,0.0,0.0,223000.0,1.8,145.0,1.0,0.0,180.0,1.0],[48.0,1.0,131.0,1.0,1.0,244000.0,1.6,130.0,0.0,0.0,193.0,1.0],[73.0,0.0,582.0,0.0,0.0,263358.03,1.83,134.0,1.0,0.0,198.0,1.0],[60.0,0.0,166.0,0.0,0.0,62000.0,1.7,127.0,0.0,0.0,207.0,1.0],[55.0,0.0,2017.0,0.0,0.0,314000.0,1.1,138.0,1.0,0.0,214.0,1.0],[65.0,1.0,258.0,1.0,0.0,198000.0,1.4,129.0,1.0,0.0,235.0,1.0],[55.0,0.0,1199.0,0.0,0.0,263358.03,1.83,134.0,1.0,1.0,241.0,1.0]],\"fillcolor\":\"rgba(255,255,255,0)\",\"hoveron\":\"points\",\"hovertemplate\":\"DEATH_EVENT=%{customdata[11]}<br>EJECTION FRACTION=%{x}<br>age=%{customdata[0]}<br>anaemia=%{customdata[1]}<br>creatine_phosphokinase=%{customdata[2]}<br>diabetes=%{customdata[3]}<br>high_blood_pressure=%{customdata[4]}<br>platelets=%{customdata[5]}<br>serum_creatine=%{customdata[6]}<br>serum_sodium=%{customdata[7]}<br>sex=%{customdata[8]}<br>smoking=%{customdata[9]}<br>time=%{customdata[10]}<extra></extra>\",\"jitter\":0,\"legendgroup\":\"1\",\"line\":{\"color\":\"rgba(255,255,255,0)\"},\"marker\":{\"color\":\"#00cc96\",\"symbol\":\"line-ns-open\"},\"name\":\"1\",\"offsetgroup\":\"1\",\"showlegend\":false,\"x\":[20,38,20,20,20,40,15,60,65,35,38,25,30,38,50,38,14,25,55,30,35,30,38,40,45,38,30,38,45,35,50,35,50,50,38,20,30,45,60,38,25,38,20,30,25,20,62,50,38,30,20,20,25,40,35,20,15,25,25,25,35,20,20,25,25,25,30,60,60,38,40,17,38,25,30,45,35,30,38,20,25,25,38,25,30,50,25,20,45,30,20,30,25,25,20],\"xaxis\":\"x2\",\"yaxis\":\"y2\",\"type\":\"box\"},{\"alignmentgroup\":\"True\",\"bingroup\":\"x\",\"hovertemplate\":\"DEATH_EVENT=0<br>EJECTION FRACTION=%{x}<br>count=%{y}<extra></extra>\",\"legendgroup\":\"0\",\"marker\":{\"color\":\"#ab63fa\",\"pattern\":{\"shape\":\"\"}},\"name\":\"0\",\"offsetgroup\":\"0\",\"orientation\":\"v\",\"showlegend\":true,\"x\":[30,25,60,30,30,50,35,40,35,40,35,50,60,40,38,45,40,50,50,50,35,60,40,25,45,45,60,38,60,25,60,25,40,25,45,25,30,50,45,35,38,35,35,25,40,40,60,60,60,60,38,38,30,50,60,30,35,60,45,40,60,35,40,60,25,35,30,35,30,40,30,30,60,35,60,45,35,35,25,35,25,50,45,40,35,40,60,40,35,35,40,60,20,35,60,40,50,60,40,30,40,45,35,60,40,30,38,30,20,35,45,60,60,25,40,45,40,38,40,35,17,62,50,35,35,50,35,35,50,35,25,25,60,25,35,25,25,35,35,38,45,50,50,30,40,45,35,30,35,40,38,38,25,35,40,30,35,45,35,60,30,38,38,25,50,40,40,60,38,35,38,38,35,30,40,38,40,30,38,35,38,30,38,40,40,30,38,40,40,35,55,35,38,55,35,38,35,38,38,60,38,45],\"xaxis\":\"x\",\"yaxis\":\"y\",\"type\":\"histogram\"},{\"alignmentgroup\":\"True\",\"boxpoints\":\"all\",\"customdata\":[[49.0,1.0,80.0,0.0,1.0,427000.0,1.0,138.0,0.0,0.0,12.0,0.0],[65.0,1.0,52.0,0.0,1.0,276000.0,1.3,137.0,0.0,0.0,16.0,0.0],[53.0,0.0,63.0,1.0,0.0,368000.0,0.8,135.0,1.0,0.0,22.0,0.0],[50.0,1.0,159.0,1.0,0.0,302000.0,1.2,138.0,0.0,0.0,29.0,0.0],[60.0,0.0,2656.0,1.0,0.0,305000.0,2.3,137.0,1.0,0.0,30.0,0.0],[72.0,0.0,127.0,1.0,1.0,218000.0,1.0,134.0,1.0,0.0,33.0,0.0],[70.0,1.0,75.0,0.0,0.0,223000.0,2.7,138.0,1.0,1.0,54.0,0.0],[60.0,1.0,607.0,0.0,0.0,216000.0,0.6,138.0,1.0,1.0,54.0,0.0],[55.0,0.0,109.0,0.0,0.0,254000.0,1.1,139.0,1.0,1.0,60.0,0.0],[41.0,0.0,148.0,0.0,0.0,374000.0,0.8,140.0,1.0,1.0,68.0,0.0],[58.0,0.0,582.0,1.0,0.0,122000.0,0.9,139.0,1.0,1.0,71.0,0.0],[65.0,0.0,224.0,1.0,0.0,149000.0,1.3,137.0,1.0,1.0,72.0,0.0],[70.0,0.0,92.0,0.0,1.0,317000.0,0.8,140.0,0.0,1.0,74.0,0.0],[42.0,0.0,102.0,1.0,0.0,237000.0,1.2,140.0,1.0,0.0,74.0,0.0],[75.0,1.0,203.0,1.0,1.0,283000.0,0.6,131.0,1.0,1.0,74.0,0.0],[55.0,0.0,336.0,0.0,1.0,324000.0,0.9,140.0,0.0,0.0,74.0,0.0],[70.0,0.0,69.0,0.0,0.0,293000.0,1.7,136.0,0.0,0.0,75.0,0.0],[67.0,0.0,582.0,0.0,0.0,263358.03,1.18,137.0,1.0,1.0,76.0,0.0],[79.0,1.0,55.0,0.0,1.0,172000.0,1.8,133.0,1.0,0.0,78.0,0.0],[51.0,0.0,78.0,0.0,0.0,406000.0,0.7,140.0,1.0,0.0,79.0,0.0],[55.0,0.0,47.0,0.0,1.0,173000.0,1.1,137.0,1.0,0.0,79.0,0.0],[65.0,1.0,68.0,1.0,1.0,304000.0,0.8,140.0,1.0,0.0,79.0,0.0],[44.0,0.0,84.0,1.0,1.0,235000.0,0.7,139.0,1.0,0.0,79.0,0.0],[57.0,1.0,115.0,0.0,1.0,181000.0,1.1,144.0,1.0,0.0,79.0,0.0],[70.0,0.0,66.0,1.0,0.0,249000.0,0.8,136.0,1.0,1.0,80.0,0.0],[60.0,0.0,897.0,1.0,0.0,297000.0,1.0,133.0,1.0,0.0,80.0,0.0],[42.0,0.0,582.0,0.0,0.0,263358.03,1.18,137.0,0.0,0.0,82.0,0.0],[58.0,0.0,144.0,1.0,1.0,327000.0,0.7,142.0,0.0,0.0,83.0,0.0],[58.0,1.0,133.0,0.0,1.0,219000.0,1.0,141.0,1.0,0.0,83.0,0.0],[63.0,1.0,514.0,1.0,1.0,254000.0,1.3,134.0,1.0,0.0,83.0,0.0],[70.0,1.0,59.0,0.0,0.0,255000.0,1.1,136.0,0.0,0.0,85.0,0.0],[60.0,1.0,156.0,1.0,1.0,318000.0,1.2,137.0,0.0,0.0,85.0,0.0],[63.0,1.0,61.0,1.0,0.0,221000.0,1.1,140.0,0.0,0.0,86.0,0.0],[65.0,1.0,305.0,0.0,0.0,298000.0,1.1,141.0,1.0,0.0,87.0,0.0],[75.0,0.0,582.0,0.0,1.0,263358.03,1.18,137.0,1.0,0.0,87.0,0.0],[80.0,0.0,898.0,0.0,0.0,149000.0,1.1,144.0,1.0,1.0,87.0,0.0],[42.0,0.0,5209.0,0.0,0.0,226000.0,1.0,140.0,1.0,1.0,87.0,0.0],[60.0,0.0,53.0,0.0,1.0,286000.0,2.3,143.0,0.0,0.0,87.0,0.0],[55.0,0.0,748.0,0.0,0.0,263000.0,1.3,137.0,1.0,0.0,88.0,0.0],[45.0,1.0,1876.0,1.0,0.0,226000.0,0.9,138.0,1.0,0.0,88.0,0.0],[63.0,0.0,936.0,0.0,0.0,304000.0,1.1,133.0,1.0,1.0,88.0,0.0],[45.0,0.0,292.0,1.0,0.0,850000.0,1.3,142.0,1.0,1.0,88.0,0.0],[55.0,0.0,60.0,0.0,0.0,228000.0,1.2,135.0,1.0,1.0,90.0,0.0],[50.0,0.0,369.0,1.0,0.0,252000.0,1.6,136.0,1.0,0.0,90.0,0.0],[60.0,1.0,754.0,1.0,1.0,328000.0,1.2,126.0,1.0,0.0,91.0,0.0],[58.0,1.0,400.0,0.0,0.0,164000.0,1.0,139.0,0.0,0.0,91.0,0.0],[60.0,1.0,96.0,1.0,1.0,271000.0,0.7,136.0,0.0,0.0,94.0,0.0],[85.0,1.0,102.0,0.0,0.0,507000.0,3.2,138.0,0.0,0.0,94.0,0.0],[65.0,1.0,113.0,1.0,1.0,203000.0,0.9,140.0,0.0,0.0,94.0,0.0],[60.0,1.0,737.0,0.0,1.0,210000.0,1.5,135.0,1.0,1.0,95.0,0.0],[66.0,1.0,68.0,1.0,1.0,162000.0,1.0,136.0,0.0,0.0,95.0,0.0],[60.0,0.0,96.0,1.0,0.0,228000.0,0.75,140.0,0.0,0.0,95.0,0.0],[60.0,1.0,582.0,0.0,1.0,127000.0,0.9,145.0,0.0,0.0,95.0,0.0],[43.0,1.0,358.0,0.0,0.0,237000.0,1.3,135.0,0.0,0.0,97.0,0.0],[58.0,1.0,200.0,1.0,0.0,300000.0,0.8,137.0,0.0,0.0,104.0,0.0],[61.0,0.0,248.0,0.0,1.0,267000.0,0.7,136.0,1.0,1.0,104.0,0.0],[53.0,1.0,270.0,1.0,0.0,227000.0,3.4,145.0,1.0,0.0,105.0,0.0],[53.0,1.0,1808.0,0.0,1.0,249000.0,0.7,138.0,1.0,1.0,106.0,0.0],[60.0,1.0,1082.0,1.0,0.0,250000.0,6.1,131.0,1.0,0.0,107.0,0.0],[46.0,0.0,719.0,0.0,1.0,263358.03,1.18,137.0,0.0,0.0,107.0,0.0],[63.0,0.0,193.0,0.0,1.0,295000.0,1.3,145.0,1.0,1.0,107.0,0.0],[81.0,0.0,4540.0,0.0,0.0,231000.0,1.18,137.0,1.0,1.0,107.0,0.0],[75.0,0.0,582.0,0.0,0.0,263358.03,1.18,137.0,1.0,0.0,107.0,0.0],[65.0,1.0,59.0,1.0,0.0,172000.0,0.9,137.0,0.0,0.0,107.0,0.0],[68.0,1.0,646.0,0.0,0.0,305000.0,2.1,130.0,1.0,0.0,108.0,0.0],[62.0,0.0,281.0,1.0,0.0,221000.0,1.0,136.0,0.0,0.0,108.0,0.0],[50.0,0.0,1548.0,0.0,1.0,211000.0,0.8,138.0,1.0,0.0,108.0,0.0],[46.0,1.0,291.0,0.0,0.0,348000.0,0.9,140.0,0.0,0.0,109.0,0.0],[50.0,0.0,482.0,1.0,0.0,329000.0,0.9,132.0,0.0,0.0,109.0,0.0],[61.0,1.0,84.0,0.0,1.0,229000.0,0.9,141.0,0.0,0.0,110.0,0.0],[50.0,0.0,185.0,0.0,0.0,266000.0,0.7,141.0,1.0,1.0,112.0,0.0],[52.0,0.0,132.0,0.0,0.0,218000.0,0.7,136.0,1.0,1.0,112.0,0.0],[64.0,0.0,1610.0,0.0,0.0,242000.0,1.0,137.0,1.0,0.0,113.0,0.0],[60.0,0.0,2261.0,0.0,1.0,228000.0,0.9,136.0,1.0,0.0,115.0,0.0],[62.0,0.0,30.0,1.0,1.0,244000.0,0.9,139.0,1.0,0.0,117.0,0.0],[50.0,0.0,115.0,0.0,1.0,184000.0,0.9,134.0,1.0,1.0,118.0,0.0],[50.0,0.0,1846.0,1.0,0.0,263358.03,1.18,137.0,1.0,1.0,119.0,0.0],[65.0,1.0,335.0,0.0,1.0,235000.0,0.8,136.0,0.0,0.0,120.0,0.0],[60.0,1.0,231.0,1.0,0.0,194000.0,1.7,140.0,1.0,0.0,120.0,0.0],[52.0,1.0,58.0,0.0,0.0,277000.0,1.4,136.0,0.0,0.0,120.0,0.0],[50.0,0.0,250.0,0.0,0.0,262000.0,1.0,136.0,1.0,1.0,120.0,0.0],[85.0,1.0,910.0,0.0,0.0,235000.0,1.3,134.0,1.0,0.0,121.0,0.0],[59.0,1.0,129.0,0.0,1.0,362000.0,1.1,139.0,1.0,1.0,121.0,0.0],[66.0,1.0,72.0,0.0,1.0,242000.0,1.2,134.0,1.0,0.0,121.0,0.0],[45.0,1.0,130.0,0.0,0.0,174000.0,0.8,139.0,1.0,1.0,121.0,0.0],[63.0,1.0,582.0,0.0,0.0,448000.0,0.9,137.0,1.0,1.0,123.0,0.0],[53.0,0.0,196.0,0.0,0.0,220000.0,0.7,133.0,1.0,1.0,134.0,0.0],[65.0,0.0,582.0,1.0,0.0,270000.0,1.0,138.0,0.0,0.0,140.0,0.0],[70.0,0.0,835.0,0.0,1.0,305000.0,0.8,133.0,0.0,0.0,145.0,0.0],[51.0,1.0,582.0,1.0,0.0,263358.03,1.5,136.0,1.0,1.0,145.0,0.0],[52.0,0.0,3966.0,0.0,0.0,325000.0,0.9,140.0,1.0,1.0,146.0,0.0],[70.0,1.0,171.0,0.0,1.0,176000.0,1.1,145.0,1.0,1.0,146.0,0.0],[50.0,1.0,115.0,0.0,0.0,189000.0,0.8,139.0,1.0,0.0,146.0,0.0],[65.0,0.0,198.0,1.0,1.0,281000.0,0.9,137.0,1.0,1.0,146.0,0.0],[60.0,1.0,95.0,0.0,0.0,337000.0,1.0,138.0,1.0,1.0,146.0,0.0],[69.0,0.0,1419.0,0.0,0.0,105000.0,1.0,135.0,1.0,1.0,147.0,0.0],[49.0,1.0,69.0,0.0,0.0,132000.0,1.0,140.0,0.0,0.0,147.0,0.0],[63.0,1.0,122.0,1.0,0.0,267000.0,1.2,145.0,1.0,0.0,147.0,0.0],[55.0,0.0,835.0,0.0,0.0,279000.0,0.7,140.0,1.0,1.0,147.0,0.0],[40.0,0.0,478.0,1.0,0.0,303000.0,0.9,136.0,1.0,0.0,148.0,0.0],[60.667,1.0,151.0,1.0,1.0,201000.0,1.0,136.0,0.0,0.0,172.0,0.0],[40.0,0.0,244.0,0.0,1.0,275000.0,0.9,140.0,0.0,0.0,174.0,0.0],[80.0,0.0,582.0,1.0,0.0,350000.0,2.1,134.0,1.0,0.0,174.0,0.0],[64.0,1.0,62.0,0.0,0.0,309000.0,1.5,135.0,0.0,0.0,174.0,0.0],[50.0,1.0,121.0,1.0,0.0,260000.0,0.7,130.0,1.0,0.0,175.0,0.0],[73.0,1.0,231.0,1.0,0.0,160000.0,1.18,142.0,1.0,1.0,180.0,0.0],[45.0,0.0,582.0,1.0,1.0,263358.03,1.18,137.0,0.0,0.0,185.0,0.0],[65.0,0.0,167.0,0.0,0.0,259000.0,0.8,138.0,0.0,0.0,186.0,0.0],[50.0,1.0,582.0,1.0,1.0,279000.0,1.0,134.0,0.0,0.0,186.0,0.0],[60.0,0.0,1211.0,1.0,0.0,263358.03,1.8,113.0,1.0,1.0,186.0,0.0],[63.0,1.0,1767.0,0.0,0.0,73000.0,0.7,137.0,1.0,0.0,186.0,0.0],[45.0,0.0,308.0,1.0,1.0,377000.0,1.0,136.0,1.0,0.0,186.0,0.0],[70.0,0.0,97.0,0.0,1.0,220000.0,0.9,138.0,1.0,0.0,186.0,0.0],[60.0,0.0,59.0,0.0,1.0,212000.0,3.5,136.0,1.0,1.0,187.0,0.0],[78.0,1.0,64.0,0.0,0.0,277000.0,0.7,137.0,1.0,1.0,187.0,0.0],[50.0,1.0,167.0,1.0,0.0,362000.0,1.0,136.0,0.0,0.0,187.0,0.0],[40.0,1.0,101.0,0.0,0.0,226000.0,0.8,141.0,0.0,0.0,187.0,0.0],[85.0,0.0,212.0,0.0,0.0,186000.0,0.9,136.0,1.0,0.0,187.0,0.0],[60.0,1.0,2281.0,1.0,0.0,283000.0,1.0,141.0,0.0,0.0,187.0,0.0],[49.0,0.0,972.0,1.0,1.0,268000.0,0.8,130.0,0.0,0.0,187.0,0.0],[70.0,0.0,212.0,1.0,1.0,389000.0,1.0,136.0,1.0,1.0,188.0,0.0],[50.0,0.0,582.0,0.0,1.0,147000.0,0.8,140.0,1.0,1.0,192.0,0.0],[78.0,0.0,224.0,0.0,0.0,481000.0,1.4,138.0,1.0,1.0,192.0,0.0],[65.0,1.0,135.0,0.0,1.0,290000.0,0.8,134.0,1.0,0.0,194.0,0.0],[73.0,0.0,582.0,0.0,1.0,203000.0,1.3,134.0,1.0,0.0,195.0,0.0],[70.0,0.0,1202.0,0.0,1.0,358000.0,0.9,141.0,0.0,0.0,196.0,0.0],[68.0,1.0,1021.0,1.0,0.0,271000.0,1.1,134.0,1.0,0.0,197.0,0.0],[55.0,0.0,582.0,1.0,1.0,371000.0,0.7,140.0,0.0,0.0,197.0,0.0],[65.0,0.0,118.0,0.0,0.0,194000.0,1.1,145.0,1.0,1.0,200.0,0.0],[42.0,1.0,86.0,0.0,0.0,365000.0,1.1,139.0,1.0,1.0,201.0,0.0],[47.0,0.0,582.0,0.0,0.0,130000.0,0.8,134.0,1.0,0.0,201.0,0.0],[58.0,0.0,582.0,1.0,0.0,504000.0,1.0,138.0,1.0,0.0,205.0,0.0],[75.0,0.0,675.0,1.0,0.0,265000.0,1.4,125.0,0.0,0.0,205.0,0.0],[58.0,1.0,57.0,0.0,0.0,189000.0,1.3,132.0,1.0,1.0,205.0,0.0],[55.0,1.0,2794.0,0.0,1.0,141000.0,1.0,140.0,1.0,0.0,206.0,0.0],[65.0,0.0,56.0,0.0,0.0,237000.0,5.0,130.0,0.0,0.0,207.0,0.0],[72.0,0.0,211.0,0.0,0.0,274000.0,1.2,134.0,0.0,0.0,207.0,0.0],[70.0,0.0,93.0,0.0,0.0,185000.0,1.1,134.0,1.0,1.0,208.0,0.0],[40.0,1.0,129.0,0.0,0.0,255000.0,0.9,137.0,1.0,0.0,209.0,0.0],[53.0,1.0,707.0,0.0,0.0,330000.0,1.4,137.0,1.0,1.0,209.0,0.0],[53.0,1.0,582.0,0.0,0.0,305000.0,1.1,137.0,1.0,1.0,209.0,0.0],[77.0,1.0,109.0,0.0,1.0,406000.0,1.1,137.0,1.0,0.0,209.0,0.0],[75.0,0.0,119.0,0.0,1.0,248000.0,1.1,148.0,1.0,0.0,209.0,0.0],[70.0,0.0,232.0,0.0,0.0,173000.0,1.2,132.0,1.0,0.0,210.0,0.0],[65.0,1.0,720.0,1.0,0.0,257000.0,1.0,136.0,0.0,0.0,210.0,0.0],[55.0,1.0,180.0,0.0,0.0,263358.03,1.18,137.0,1.0,1.0,211.0,0.0],[70.0,0.0,81.0,1.0,1.0,533000.0,1.3,139.0,0.0,0.0,212.0,0.0],[65.0,0.0,582.0,1.0,0.0,249000.0,1.3,136.0,1.0,1.0,212.0,0.0],[40.0,0.0,90.0,0.0,0.0,255000.0,1.1,136.0,1.0,1.0,212.0,0.0],[73.0,1.0,1185.0,0.0,1.0,220000.0,0.9,141.0,0.0,0.0,213.0,0.0],[54.0,0.0,582.0,1.0,0.0,264000.0,1.8,134.0,1.0,0.0,213.0,0.0],[61.0,1.0,80.0,1.0,0.0,282000.0,1.4,137.0,1.0,0.0,213.0,0.0],[64.0,0.0,143.0,0.0,0.0,246000.0,2.4,135.0,1.0,0.0,214.0,0.0],[40.0,0.0,624.0,0.0,0.0,301000.0,1.0,142.0,1.0,1.0,214.0,0.0],[53.0,0.0,207.0,1.0,0.0,223000.0,1.2,130.0,0.0,0.0,214.0,0.0],[50.0,0.0,2522.0,0.0,1.0,404000.0,0.5,139.0,0.0,0.0,214.0,0.0],[55.0,0.0,572.0,1.0,0.0,231000.0,0.8,143.0,0.0,0.0,215.0,0.0],[50.0,0.0,245.0,0.0,1.0,274000.0,1.0,133.0,1.0,0.0,215.0,0.0],[70.0,0.0,88.0,1.0,1.0,236000.0,1.2,132.0,0.0,0.0,215.0,0.0],[53.0,1.0,446.0,0.0,1.0,263358.03,1.0,139.0,1.0,0.0,215.0,0.0],[52.0,1.0,191.0,1.0,1.0,334000.0,1.0,142.0,1.0,1.0,216.0,0.0],[65.0,0.0,326.0,0.0,0.0,294000.0,1.7,139.0,0.0,0.0,220.0,0.0],[58.0,0.0,132.0,1.0,1.0,253000.0,1.0,139.0,1.0,0.0,230.0,0.0],[45.0,1.0,66.0,1.0,0.0,233000.0,0.8,135.0,1.0,0.0,230.0,0.0],[53.0,0.0,56.0,0.0,0.0,308000.0,0.7,135.0,1.0,1.0,231.0,0.0],[55.0,0.0,66.0,0.0,0.0,203000.0,1.0,138.0,1.0,0.0,233.0,0.0],[62.0,1.0,655.0,0.0,0.0,283000.0,0.7,133.0,0.0,0.0,233.0,0.0],[68.0,1.0,157.0,1.0,0.0,208000.0,1.0,140.0,0.0,0.0,237.0,0.0],[61.0,0.0,582.0,1.0,0.0,147000.0,1.2,141.0,1.0,0.0,237.0,0.0],[50.0,1.0,298.0,0.0,0.0,362000.0,0.9,140.0,1.0,1.0,240.0,0.0],[56.0,1.0,135.0,1.0,0.0,133000.0,1.7,140.0,1.0,0.0,244.0,0.0],[45.0,0.0,582.0,1.0,0.0,302000.0,0.9,140.0,0.0,0.0,244.0,0.0],[40.0,0.0,582.0,1.0,0.0,222000.0,1.0,132.0,1.0,0.0,244.0,0.0],[44.0,0.0,582.0,1.0,1.0,263358.03,1.6,130.0,1.0,1.0,244.0,0.0],[51.0,0.0,582.0,1.0,0.0,221000.0,0.9,134.0,0.0,0.0,244.0,0.0],[67.0,0.0,213.0,0.0,0.0,215000.0,1.2,133.0,0.0,0.0,245.0,0.0],[42.0,0.0,64.0,0.0,0.0,189000.0,0.7,140.0,1.0,0.0,245.0,0.0],[60.0,1.0,257.0,1.0,0.0,150000.0,1.0,137.0,1.0,1.0,245.0,0.0],[45.0,0.0,582.0,0.0,1.0,422000.0,0.8,137.0,0.0,0.0,245.0,0.0],[70.0,0.0,618.0,0.0,0.0,327000.0,1.1,142.0,0.0,0.0,245.0,0.0],[70.0,0.0,582.0,1.0,0.0,25100.0,1.1,140.0,1.0,0.0,246.0,0.0],[50.0,1.0,1051.0,1.0,0.0,232000.0,0.7,136.0,0.0,0.0,246.0,0.0],[55.0,0.0,84.0,1.0,0.0,451000.0,1.3,136.0,0.0,0.0,246.0,0.0],[70.0,0.0,2695.0,1.0,0.0,241000.0,1.0,137.0,1.0,0.0,247.0,0.0],[70.0,0.0,582.0,0.0,0.0,51000.0,2.7,136.0,1.0,1.0,250.0,0.0],[42.0,0.0,64.0,0.0,0.0,215000.0,3.8,128.0,1.0,1.0,250.0,0.0],[65.0,0.0,1688.0,0.0,0.0,263358.03,1.1,138.0,1.0,1.0,250.0,0.0],[50.0,1.0,54.0,0.0,0.0,279000.0,0.8,141.0,1.0,0.0,250.0,0.0],[55.0,1.0,170.0,1.0,0.0,336000.0,1.2,135.0,1.0,0.0,250.0,0.0],[60.0,0.0,253.0,0.0,0.0,279000.0,1.7,140.0,1.0,0.0,250.0,0.0],[45.0,0.0,582.0,1.0,0.0,543000.0,1.0,132.0,0.0,0.0,250.0,0.0],[65.0,0.0,892.0,1.0,0.0,263358.03,1.1,142.0,0.0,0.0,256.0,0.0],[90.0,1.0,337.0,0.0,0.0,390000.0,0.9,144.0,0.0,0.0,256.0,0.0],[45.0,0.0,615.0,1.0,0.0,222000.0,0.8,141.0,0.0,0.0,257.0,0.0],[60.0,0.0,320.0,0.0,0.0,133000.0,1.4,139.0,1.0,0.0,258.0,0.0],[52.0,0.0,190.0,1.0,0.0,382000.0,1.0,140.0,1.0,1.0,258.0,0.0],[63.0,1.0,103.0,1.0,0.0,179000.0,0.9,136.0,1.0,1.0,270.0,0.0],[62.0,0.0,61.0,1.0,1.0,155000.0,1.1,143.0,1.0,1.0,270.0,0.0],[55.0,0.0,1820.0,0.0,0.0,270000.0,1.2,139.0,0.0,0.0,271.0,0.0],[45.0,0.0,2060.0,1.0,0.0,742000.0,0.8,138.0,0.0,0.0,278.0,0.0],[45.0,0.0,2413.0,0.0,0.0,140000.0,1.4,140.0,1.0,1.0,280.0,0.0],[50.0,0.0,196.0,0.0,0.0,395000.0,1.6,136.0,1.0,1.0,285.0,0.0]],\"fillcolor\":\"rgba(255,255,255,0)\",\"hoveron\":\"points\",\"hovertemplate\":\"DEATH_EVENT=%{customdata[11]}<br>EJECTION FRACTION=%{x}<br>age=%{customdata[0]}<br>anaemia=%{customdata[1]}<br>creatine_phosphokinase=%{customdata[2]}<br>diabetes=%{customdata[3]}<br>high_blood_pressure=%{customdata[4]}<br>platelets=%{customdata[5]}<br>serum_creatine=%{customdata[6]}<br>serum_sodium=%{customdata[7]}<br>sex=%{customdata[8]}<br>smoking=%{customdata[9]}<br>time=%{customdata[10]}<extra></extra>\",\"jitter\":0,\"legendgroup\":\"0\",\"line\":{\"color\":\"rgba(255,255,255,0)\"},\"marker\":{\"color\":\"#ab63fa\",\"symbol\":\"line-ns-open\"},\"name\":\"0\",\"offsetgroup\":\"0\",\"showlegend\":false,\"x\":[30,25,60,30,30,50,35,40,35,40,35,50,60,40,38,45,40,50,50,50,35,60,40,25,45,45,60,38,60,25,60,25,40,25,45,25,30,50,45,35,38,35,35,25,40,40,60,60,60,60,38,38,30,50,60,30,35,60,45,40,60,35,40,60,25,35,30,35,30,40,30,30,60,35,60,45,35,35,25,35,25,50,45,40,35,40,60,40,35,35,40,60,20,35,60,40,50,60,40,30,40,45,35,60,40,30,38,30,20,35,45,60,60,25,40,45,40,38,40,35,17,62,50,35,35,50,35,35,50,35,25,25,60,25,35,25,25,35,35,38,45,50,50,30,40,45,35,30,35,40,38,38,25,35,40,30,35,45,35,60,30,38,38,25,50,40,40,60,38,35,38,38,35,30,40,38,40,30,38,35,38,30,38,40,40,30,38,40,40,35,55,35,38,55,35,38,35,38,38,60,38,45],\"xaxis\":\"x2\",\"yaxis\":\"y2\",\"type\":\"box\"}],                        {\"template\":{\"data\":{\"barpolar\":[{\"marker\":{\"line\":{\"color\":\"rgb(17,17,17)\",\"width\":0.5},\"pattern\":{\"fillmode\":\"overlay\",\"size\":10,\"solidity\":0.2}},\"type\":\"barpolar\"}],\"bar\":[{\"error_x\":{\"color\":\"#f2f5fa\"},\"error_y\":{\"color\":\"#f2f5fa\"},\"marker\":{\"line\":{\"color\":\"rgb(17,17,17)\",\"width\":0.5},\"pattern\":{\"fillmode\":\"overlay\",\"size\":10,\"solidity\":0.2}},\"type\":\"bar\"}],\"carpet\":[{\"aaxis\":{\"endlinecolor\":\"#A2B1C6\",\"gridcolor\":\"#506784\",\"linecolor\":\"#506784\",\"minorgridcolor\":\"#506784\",\"startlinecolor\":\"#A2B1C6\"},\"baxis\":{\"endlinecolor\":\"#A2B1C6\",\"gridcolor\":\"#506784\",\"linecolor\":\"#506784\",\"minorgridcolor\":\"#506784\",\"startlinecolor\":\"#A2B1C6\"},\"type\":\"carpet\"}],\"choropleth\":[{\"colorbar\":{\"outlinewidth\":0,\"ticks\":\"\"},\"type\":\"choropleth\"}],\"contourcarpet\":[{\"colorbar\":{\"outlinewidth\":0,\"ticks\":\"\"},\"type\":\"contourcarpet\"}],\"contour\":[{\"colorbar\":{\"outlinewidth\":0,\"ticks\":\"\"},\"colorscale\":[[0.0,\"#0d0887\"],[0.1111111111111111,\"#46039f\"],[0.2222222222222222,\"#7201a8\"],[0.3333333333333333,\"#9c179e\"],[0.4444444444444444,\"#bd3786\"],[0.5555555555555556,\"#d8576b\"],[0.6666666666666666,\"#ed7953\"],[0.7777777777777778,\"#fb9f3a\"],[0.8888888888888888,\"#fdca26\"],[1.0,\"#f0f921\"]],\"type\":\"contour\"}],\"heatmapgl\":[{\"colorbar\":{\"outlinewidth\":0,\"ticks\":\"\"},\"colorscale\":[[0.0,\"#0d0887\"],[0.1111111111111111,\"#46039f\"],[0.2222222222222222,\"#7201a8\"],[0.3333333333333333,\"#9c179e\"],[0.4444444444444444,\"#bd3786\"],[0.5555555555555556,\"#d8576b\"],[0.6666666666666666,\"#ed7953\"],[0.7777777777777778,\"#fb9f3a\"],[0.8888888888888888,\"#fdca26\"],[1.0,\"#f0f921\"]],\"type\":\"heatmapgl\"}],\"heatmap\":[{\"colorbar\":{\"outlinewidth\":0,\"ticks\":\"\"},\"colorscale\":[[0.0,\"#0d0887\"],[0.1111111111111111,\"#46039f\"],[0.2222222222222222,\"#7201a8\"],[0.3333333333333333,\"#9c179e\"],[0.4444444444444444,\"#bd3786\"],[0.5555555555555556,\"#d8576b\"],[0.6666666666666666,\"#ed7953\"],[0.7777777777777778,\"#fb9f3a\"],[0.8888888888888888,\"#fdca26\"],[1.0,\"#f0f921\"]],\"type\":\"heatmap\"}],\"histogram2dcontour\":[{\"colorbar\":{\"outlinewidth\":0,\"ticks\":\"\"},\"colorscale\":[[0.0,\"#0d0887\"],[0.1111111111111111,\"#46039f\"],[0.2222222222222222,\"#7201a8\"],[0.3333333333333333,\"#9c179e\"],[0.4444444444444444,\"#bd3786\"],[0.5555555555555556,\"#d8576b\"],[0.6666666666666666,\"#ed7953\"],[0.7777777777777778,\"#fb9f3a\"],[0.8888888888888888,\"#fdca26\"],[1.0,\"#f0f921\"]],\"type\":\"histogram2dcontour\"}],\"histogram2d\":[{\"colorbar\":{\"outlinewidth\":0,\"ticks\":\"\"},\"colorscale\":[[0.0,\"#0d0887\"],[0.1111111111111111,\"#46039f\"],[0.2222222222222222,\"#7201a8\"],[0.3333333333333333,\"#9c179e\"],[0.4444444444444444,\"#bd3786\"],[0.5555555555555556,\"#d8576b\"],[0.6666666666666666,\"#ed7953\"],[0.7777777777777778,\"#fb9f3a\"],[0.8888888888888888,\"#fdca26\"],[1.0,\"#f0f921\"]],\"type\":\"histogram2d\"}],\"histogram\":[{\"marker\":{\"pattern\":{\"fillmode\":\"overlay\",\"size\":10,\"solidity\":0.2}},\"type\":\"histogram\"}],\"mesh3d\":[{\"colorbar\":{\"outlinewidth\":0,\"ticks\":\"\"},\"type\":\"mesh3d\"}],\"parcoords\":[{\"line\":{\"colorbar\":{\"outlinewidth\":0,\"ticks\":\"\"}},\"type\":\"parcoords\"}],\"pie\":[{\"automargin\":true,\"type\":\"pie\"}],\"scatter3d\":[{\"line\":{\"colorbar\":{\"outlinewidth\":0,\"ticks\":\"\"}},\"marker\":{\"colorbar\":{\"outlinewidth\":0,\"ticks\":\"\"}},\"type\":\"scatter3d\"}],\"scattercarpet\":[{\"marker\":{\"colorbar\":{\"outlinewidth\":0,\"ticks\":\"\"}},\"type\":\"scattercarpet\"}],\"scattergeo\":[{\"marker\":{\"colorbar\":{\"outlinewidth\":0,\"ticks\":\"\"}},\"type\":\"scattergeo\"}],\"scattergl\":[{\"marker\":{\"line\":{\"color\":\"#283442\"}},\"type\":\"scattergl\"}],\"scattermapbox\":[{\"marker\":{\"colorbar\":{\"outlinewidth\":0,\"ticks\":\"\"}},\"type\":\"scattermapbox\"}],\"scatterpolargl\":[{\"marker\":{\"colorbar\":{\"outlinewidth\":0,\"ticks\":\"\"}},\"type\":\"scatterpolargl\"}],\"scatterpolar\":[{\"marker\":{\"colorbar\":{\"outlinewidth\":0,\"ticks\":\"\"}},\"type\":\"scatterpolar\"}],\"scatter\":[{\"marker\":{\"line\":{\"color\":\"#283442\"}},\"type\":\"scatter\"}],\"scatterternary\":[{\"marker\":{\"colorbar\":{\"outlinewidth\":0,\"ticks\":\"\"}},\"type\":\"scatterternary\"}],\"surface\":[{\"colorbar\":{\"outlinewidth\":0,\"ticks\":\"\"},\"colorscale\":[[0.0,\"#0d0887\"],[0.1111111111111111,\"#46039f\"],[0.2222222222222222,\"#7201a8\"],[0.3333333333333333,\"#9c179e\"],[0.4444444444444444,\"#bd3786\"],[0.5555555555555556,\"#d8576b\"],[0.6666666666666666,\"#ed7953\"],[0.7777777777777778,\"#fb9f3a\"],[0.8888888888888888,\"#fdca26\"],[1.0,\"#f0f921\"]],\"type\":\"surface\"}],\"table\":[{\"cells\":{\"fill\":{\"color\":\"#506784\"},\"line\":{\"color\":\"rgb(17,17,17)\"}},\"header\":{\"fill\":{\"color\":\"#2a3f5f\"},\"line\":{\"color\":\"rgb(17,17,17)\"}},\"type\":\"table\"}]},\"layout\":{\"annotationdefaults\":{\"arrowcolor\":\"#f2f5fa\",\"arrowhead\":0,\"arrowwidth\":1},\"autotypenumbers\":\"strict\",\"coloraxis\":{\"colorbar\":{\"outlinewidth\":0,\"ticks\":\"\"}},\"colorscale\":{\"diverging\":[[0,\"#8e0152\"],[0.1,\"#c51b7d\"],[0.2,\"#de77ae\"],[0.3,\"#f1b6da\"],[0.4,\"#fde0ef\"],[0.5,\"#f7f7f7\"],[0.6,\"#e6f5d0\"],[0.7,\"#b8e186\"],[0.8,\"#7fbc41\"],[0.9,\"#4d9221\"],[1,\"#276419\"]],\"sequential\":[[0.0,\"#0d0887\"],[0.1111111111111111,\"#46039f\"],[0.2222222222222222,\"#7201a8\"],[0.3333333333333333,\"#9c179e\"],[0.4444444444444444,\"#bd3786\"],[0.5555555555555556,\"#d8576b\"],[0.6666666666666666,\"#ed7953\"],[0.7777777777777778,\"#fb9f3a\"],[0.8888888888888888,\"#fdca26\"],[1.0,\"#f0f921\"]],\"sequentialminus\":[[0.0,\"#0d0887\"],[0.1111111111111111,\"#46039f\"],[0.2222222222222222,\"#7201a8\"],[0.3333333333333333,\"#9c179e\"],[0.4444444444444444,\"#bd3786\"],[0.5555555555555556,\"#d8576b\"],[0.6666666666666666,\"#ed7953\"],[0.7777777777777778,\"#fb9f3a\"],[0.8888888888888888,\"#fdca26\"],[1.0,\"#f0f921\"]]},\"colorway\":[\"#636efa\",\"#EF553B\",\"#00cc96\",\"#ab63fa\",\"#FFA15A\",\"#19d3f3\",\"#FF6692\",\"#B6E880\",\"#FF97FF\",\"#FECB52\"],\"font\":{\"color\":\"#f2f5fa\"},\"geo\":{\"bgcolor\":\"rgb(17,17,17)\",\"lakecolor\":\"rgb(17,17,17)\",\"landcolor\":\"rgb(17,17,17)\",\"showlakes\":true,\"showland\":true,\"subunitcolor\":\"#506784\"},\"hoverlabel\":{\"align\":\"left\"},\"hovermode\":\"closest\",\"mapbox\":{\"style\":\"dark\"},\"paper_bgcolor\":\"rgb(17,17,17)\",\"plot_bgcolor\":\"rgb(17,17,17)\",\"polar\":{\"angularaxis\":{\"gridcolor\":\"#506784\",\"linecolor\":\"#506784\",\"ticks\":\"\"},\"bgcolor\":\"rgb(17,17,17)\",\"radialaxis\":{\"gridcolor\":\"#506784\",\"linecolor\":\"#506784\",\"ticks\":\"\"}},\"scene\":{\"xaxis\":{\"backgroundcolor\":\"rgb(17,17,17)\",\"gridcolor\":\"#506784\",\"gridwidth\":2,\"linecolor\":\"#506784\",\"showbackground\":true,\"ticks\":\"\",\"zerolinecolor\":\"#C8D4E3\"},\"yaxis\":{\"backgroundcolor\":\"rgb(17,17,17)\",\"gridcolor\":\"#506784\",\"gridwidth\":2,\"linecolor\":\"#506784\",\"showbackground\":true,\"ticks\":\"\",\"zerolinecolor\":\"#C8D4E3\"},\"zaxis\":{\"backgroundcolor\":\"rgb(17,17,17)\",\"gridcolor\":\"#506784\",\"gridwidth\":2,\"linecolor\":\"#506784\",\"showbackground\":true,\"ticks\":\"\",\"zerolinecolor\":\"#C8D4E3\"}},\"shapedefaults\":{\"line\":{\"color\":\"#f2f5fa\"}},\"sliderdefaults\":{\"bgcolor\":\"#C8D4E3\",\"bordercolor\":\"rgb(17,17,17)\",\"borderwidth\":1,\"tickwidth\":0},\"ternary\":{\"aaxis\":{\"gridcolor\":\"#506784\",\"linecolor\":\"#506784\",\"ticks\":\"\"},\"baxis\":{\"gridcolor\":\"#506784\",\"linecolor\":\"#506784\",\"ticks\":\"\"},\"bgcolor\":\"rgb(17,17,17)\",\"caxis\":{\"gridcolor\":\"#506784\",\"linecolor\":\"#506784\",\"ticks\":\"\"}},\"title\":{\"x\":0.05},\"updatemenudefaults\":{\"bgcolor\":\"#506784\",\"borderwidth\":0},\"xaxis\":{\"automargin\":true,\"gridcolor\":\"#283442\",\"linecolor\":\"#506784\",\"ticks\":\"\",\"title\":{\"standoff\":15},\"zerolinecolor\":\"#283442\",\"zerolinewidth\":2},\"yaxis\":{\"automargin\":true,\"gridcolor\":\"#283442\",\"linecolor\":\"#506784\",\"ticks\":\"\",\"title\":{\"standoff\":15},\"zerolinecolor\":\"#283442\",\"zerolinewidth\":2}}},\"xaxis\":{\"anchor\":\"y\",\"domain\":[0.0,1.0],\"title\":{\"text\":\"EJECTION FRACTION\"}},\"yaxis\":{\"anchor\":\"x\",\"domain\":[0.0,0.7326],\"title\":{\"text\":\"count\"}},\"xaxis2\":{\"anchor\":\"y2\",\"domain\":[0.0,1.0],\"matches\":\"x\",\"showticklabels\":false,\"showgrid\":true},\"yaxis2\":{\"anchor\":\"x2\",\"domain\":[0.7426,1.0],\"matches\":\"y2\",\"showticklabels\":false,\"showline\":false,\"ticks\":\"\",\"showgrid\":false},\"legend\":{\"title\":{\"text\":\"DEATH_EVENT\"},\"tracegroupgap\":0},\"title\":{\"text\":\"Distribution of EJECTION FRACTION vs DEATH_EVENT\"},\"barmode\":\"relative\"},                        {\"responsive\": true}                    ).then(function(){\n",
              "                            \n",
              "var gd = document.getElementById('1a746a77-1fb2-434e-b824-213156cfcbd3');\n",
              "var x = new MutationObserver(function (mutations, observer) {{\n",
              "        var display = window.getComputedStyle(gd).display;\n",
              "        if (!display || display === 'none') {{\n",
              "            console.log([gd, 'removed!']);\n",
              "            Plotly.purge(gd);\n",
              "            observer.disconnect();\n",
              "        }}\n",
              "}});\n",
              "\n",
              "// Listen for the removal of the full notebook cells\n",
              "var notebookContainer = gd.closest('#notebook-container');\n",
              "if (notebookContainer) {{\n",
              "    x.observe(notebookContainer, {childList: true});\n",
              "}}\n",
              "\n",
              "// Listen for the clearing of the current output cell\n",
              "var outputEl = gd.closest('.output');\n",
              "if (outputEl) {{\n",
              "    x.observe(outputEl, {childList: true});\n",
              "}}\n",
              "\n",
              "                        })                };                            </script>        </div>\n",
              "</body>\n",
              "</html>"
            ]
          },
          "metadata": {}
        }
      ]
    },
    {
      "cell_type": "markdown",
      "source": [
        "### PLATELETS COUNT\n",
        "\n",
        "\n",
        "*   Platelets are specialized disk-shaped cells in the blood stream that are involved in the formation of blood clots that play an important role in heart attacks, strokes, and peripheral vascular disease.\n",
        "*   Too many platelets can lead to certain conditions, including stroke, heart attack or a clot in the blood vessels of heart.\n",
        "\n"
      ],
      "metadata": {
        "id": "QMHgVASwSSZI"
      }
    },
    {
      "cell_type": "code",
      "source": [
        "# Now lets categorize the above histogram by  PLATELETS vs DEATH_EVENT\n",
        "\n",
        "import plotly.express as px\n",
        "fig = px.histogram(dataset, x=\"platelets\", color=\"DEATH_EVENT\", marginal=\"rug\", hover_data=dataset.columns,\n",
        "                   title =\"Distribution of PLATELETS vs DEATH_EVENT\", \n",
        "                   labels={\"platelets\": \"PLATELETS\"},\n",
        "                   template=\"plotly_dark\",\n",
        "                   color_discrete_map={\"0\": \"RebeccaPurple\", \"1\": \"MediumPurple\"})\n",
        "fig.show()"
      ],
      "metadata": {
        "colab": {
          "base_uri": "https://localhost:8080/",
          "height": 542
        },
        "id": "w3KqWUbHQhtn",
        "outputId": "99e3e309-1a8c-4197-ae73-a105f61ebc2f"
      },
      "execution_count": 109,
      "outputs": [
        {
          "output_type": "display_data",
          "data": {
            "text/html": [
              "<html>\n",
              "<head><meta charset=\"utf-8\" /></head>\n",
              "<body>\n",
              "    <div>            <script src=\"https://cdnjs.cloudflare.com/ajax/libs/mathjax/2.7.5/MathJax.js?config=TeX-AMS-MML_SVG\"></script><script type=\"text/javascript\">if (window.MathJax) {MathJax.Hub.Config({SVG: {font: \"STIX-Web\"}});}</script>                <script type=\"text/javascript\">window.PlotlyConfig = {MathJaxConfig: 'local'};</script>\n",
              "        <script src=\"https://cdn.plot.ly/plotly-2.8.3.min.js\"></script>                <div id=\"c3e05157-f87d-4542-8801-a63105ded5cb\" class=\"plotly-graph-div\" style=\"height:525px; width:100%;\"></div>            <script type=\"text/javascript\">                                    window.PLOTLYENV=window.PLOTLYENV || {};                                    if (document.getElementById(\"c3e05157-f87d-4542-8801-a63105ded5cb\")) {                    Plotly.newPlot(                        \"c3e05157-f87d-4542-8801-a63105ded5cb\",                        [{\"alignmentgroup\":\"True\",\"bingroup\":\"x\",\"hovertemplate\":\"DEATH_EVENT=1<br>PLATELETS=%{x}<br>count=%{y}<extra></extra>\",\"legendgroup\":\"1\",\"marker\":{\"color\":\"#00cc96\",\"pattern\":{\"shape\":\"\"}},\"name\":\"1\",\"offsetgroup\":\"1\",\"orientation\":\"v\",\"showlegend\":true,\"x\":[265000.0,263358.03,162000.0,210000.0,327000.0,204000.0,127000.0,454000.0,263358.03,388000.0,368000.0,253000.0,136000.0,276000.0,47000.0,262000.0,166000.0,237000.0,87000.0,297000.0,289000.0,263358.03,149000.0,196000.0,284000.0,153000.0,200000.0,263358.03,360000.0,319000.0,188000.0,228000.0,226000.0,321000.0,329000.0,263358.03,153000.0,185000.0,194000.0,310000.0,271000.0,451000.0,140000.0,395000.0,166000.0,418000.0,263358.03,351000.0,255000.0,461000.0,319000.0,254000.0,390000.0,216000.0,385000.0,119000.0,213000.0,274000.0,244000.0,497000.0,243000.0,266000.0,204000.0,196000.0,302000.0,210000.0,621000.0,306000.0,351000.0,263358.03,217000.0,271000.0,263358.03,338000.0,225000.0,235000.0,75000.0,334000.0,192000.0,70000.0,221000.0,265000.0,224000.0,219000.0,389000.0,153000.0,365000.0,126000.0,223000.0,244000.0,263358.03,62000.0,314000.0,198000.0,263358.03],\"xaxis\":\"x\",\"yaxis\":\"y\",\"type\":\"histogram\"},{\"alignmentgroup\":\"True\",\"boxpoints\":\"all\",\"customdata\":[[75.0,0.0,582.0,0.0,20.0,1.0,1.9,130.0,1.0,0.0,4.0,1.0],[55.0,0.0,7861.0,0.0,38.0,0.0,1.1,136.0,1.0,0.0,6.0,1.0],[65.0,0.0,146.0,0.0,20.0,0.0,1.3,129.0,1.0,1.0,7.0,1.0],[50.0,1.0,111.0,0.0,20.0,0.0,1.9,137.0,1.0,0.0,7.0,1.0],[65.0,1.0,160.0,1.0,20.0,0.0,2.7,116.0,0.0,0.0,8.0,1.0],[90.0,1.0,47.0,0.0,40.0,1.0,2.1,132.0,1.0,1.0,8.0,1.0],[75.0,1.0,246.0,0.0,15.0,0.0,1.2,137.0,1.0,0.0,10.0,1.0],[60.0,1.0,315.0,1.0,60.0,0.0,1.1,131.0,1.0,1.0,10.0,1.0],[65.0,0.0,157.0,0.0,65.0,0.0,1.5,138.0,0.0,0.0,10.0,1.0],[80.0,1.0,123.0,0.0,35.0,1.0,9.4,133.0,1.0,1.0,10.0,1.0],[75.0,1.0,81.0,0.0,38.0,1.0,4.0,131.0,1.0,1.0,10.0,1.0],[62.0,0.0,231.0,0.0,25.0,1.0,0.9,140.0,1.0,1.0,10.0,1.0],[45.0,1.0,981.0,0.0,30.0,0.0,1.1,137.0,1.0,0.0,11.0,1.0],[50.0,1.0,168.0,0.0,38.0,1.0,1.1,137.0,1.0,0.0,11.0,1.0],[82.0,1.0,379.0,0.0,50.0,0.0,1.3,136.0,1.0,0.0,13.0,1.0],[87.0,1.0,149.0,0.0,38.0,0.0,0.9,140.0,1.0,0.0,14.0,1.0],[45.0,0.0,582.0,0.0,14.0,0.0,0.8,127.0,1.0,0.0,14.0,1.0],[70.0,1.0,125.0,0.0,25.0,1.0,1.0,140.0,0.0,0.0,15.0,1.0],[48.0,1.0,582.0,1.0,55.0,0.0,1.9,121.0,0.0,0.0,15.0,1.0],[65.0,1.0,128.0,1.0,30.0,1.0,1.6,136.0,0.0,0.0,20.0,1.0],[68.0,1.0,220.0,0.0,35.0,1.0,0.9,140.0,1.0,1.0,20.0,1.0],[75.0,0.0,582.0,1.0,30.0,1.0,1.83,134.0,0.0,0.0,23.0,1.0],[80.0,0.0,148.0,1.0,38.0,0.0,1.9,144.0,1.0,1.0,23.0,1.0],[95.0,1.0,112.0,0.0,40.0,1.0,1.0,138.0,0.0,0.0,24.0,1.0],[70.0,0.0,122.0,1.0,45.0,1.0,1.3,136.0,1.0,1.0,26.0,1.0],[58.0,1.0,60.0,0.0,38.0,0.0,5.8,134.0,1.0,0.0,26.0,1.0],[82.0,0.0,70.0,1.0,30.0,0.0,1.2,132.0,1.0,1.0,26.0,1.0],[94.0,0.0,582.0,1.0,38.0,1.0,1.83,134.0,1.0,0.0,27.0,1.0],[85.0,0.0,23.0,0.0,45.0,0.0,3.0,132.0,1.0,0.0,28.0,1.0],[50.0,1.0,249.0,1.0,35.0,1.0,1.0,128.0,0.0,0.0,28.0,1.0],[65.0,0.0,94.0,1.0,50.0,1.0,1.0,140.0,1.0,0.0,29.0,1.0],[69.0,0.0,582.0,1.0,35.0,0.0,3.5,134.0,1.0,0.0,30.0,1.0],[90.0,1.0,60.0,1.0,50.0,0.0,1.0,134.0,1.0,0.0,30.0,1.0],[82.0,1.0,855.0,1.0,50.0,1.0,1.0,145.0,0.0,0.0,30.0,1.0],[60.0,0.0,235.0,1.0,38.0,0.0,3.0,142.0,0.0,0.0,30.0,1.0],[70.0,0.0,582.0,0.0,20.0,1.0,1.83,134.0,1.0,1.0,31.0,1.0],[50.0,0.0,124.0,1.0,30.0,1.0,1.2,136.0,0.0,1.0,32.0,1.0],[70.0,0.0,571.0,1.0,45.0,1.0,1.2,139.0,1.0,1.0,33.0,1.0],[60.0,1.0,588.0,1.0,60.0,0.0,1.1,142.0,0.0,0.0,33.0,1.0],[50.0,0.0,582.0,1.0,38.0,0.0,1.9,135.0,1.0,1.0,35.0,1.0],[51.0,0.0,1380.0,0.0,25.0,1.0,0.9,130.0,1.0,0.0,38.0,1.0],[60.0,0.0,582.0,1.0,38.0,1.0,0.6,138.0,1.0,1.0,40.0,1.0],[80.0,1.0,553.0,0.0,20.0,1.0,4.4,133.0,1.0,0.0,41.0,1.0],[57.0,1.0,129.0,0.0,30.0,0.0,1.0,140.0,0.0,0.0,42.0,1.0],[68.0,1.0,577.0,0.0,25.0,1.0,1.0,138.0,1.0,0.0,43.0,1.0],[53.0,1.0,91.0,0.0,20.0,1.0,1.4,139.0,0.0,0.0,43.0,1.0],[60.0,0.0,3964.0,1.0,62.0,0.0,6.8,146.0,0.0,0.0,43.0,1.0],[70.0,1.0,69.0,1.0,50.0,1.0,1.0,134.0,0.0,0.0,44.0,1.0],[60.0,1.0,260.0,1.0,38.0,0.0,2.2,132.0,0.0,1.0,45.0,1.0],[95.0,1.0,371.0,0.0,30.0,0.0,2.0,132.0,1.0,0.0,50.0,1.0],[49.0,0.0,789.0,0.0,20.0,1.0,1.1,136.0,1.0,1.0,55.0,1.0],[72.0,0.0,364.0,1.0,20.0,1.0,1.3,136.0,1.0,1.0,59.0,1.0],[45.0,0.0,7702.0,1.0,25.0,1.0,1.0,139.0,1.0,0.0,60.0,1.0],[50.0,0.0,318.0,0.0,40.0,1.0,2.3,131.0,0.0,0.0,60.0,1.0],[45.0,0.0,582.0,0.0,35.0,0.0,1.0,145.0,1.0,0.0,61.0,1.0],[60.0,0.0,68.0,0.0,20.0,0.0,2.9,127.0,1.0,1.0,64.0,1.0],[42.0,1.0,250.0,1.0,15.0,0.0,1.3,136.0,0.0,0.0,65.0,1.0],[72.0,1.0,110.0,0.0,25.0,0.0,1.0,140.0,1.0,1.0,65.0,1.0],[70.0,0.0,161.0,0.0,25.0,0.0,1.2,142.0,0.0,0.0,66.0,1.0],[65.0,0.0,113.0,1.0,25.0,0.0,1.83,135.0,1.0,0.0,67.0,1.0],[85.0,0.0,5882.0,0.0,35.0,0.0,1.0,132.0,1.0,1.0,72.0,1.0],[69.0,0.0,582.0,0.0,20.0,0.0,1.2,134.0,1.0,1.0,73.0,1.0],[60.0,1.0,47.0,0.0,20.0,0.0,0.7,139.0,1.0,1.0,73.0,1.0],[60.0,1.0,76.0,1.0,25.0,0.0,2.5,132.0,0.0,0.0,77.0,1.0],[59.0,1.0,280.0,1.0,25.0,1.0,1.0,141.0,0.0,0.0,78.0,1.0],[60.0,1.0,154.0,0.0,25.0,0.0,1.7,135.0,1.0,0.0,82.0,1.0],[72.0,1.0,328.0,0.0,30.0,1.0,1.7,138.0,0.0,1.0,88.0,1.0],[85.0,0.0,129.0,0.0,60.0,0.0,1.2,132.0,1.0,1.0,90.0,1.0],[70.0,1.0,143.0,0.0,60.0,0.0,1.3,137.0,0.0,0.0,90.0,1.0],[86.0,0.0,582.0,0.0,38.0,0.0,1.83,134.0,0.0,0.0,95.0,1.0],[60.0,0.0,582.0,0.0,40.0,0.0,3.7,134.0,1.0,0.0,96.0,1.0],[46.0,0.0,168.0,1.0,17.0,1.0,2.1,124.0,0.0,0.0,100.0,1.0],[80.0,0.0,805.0,0.0,38.0,0.0,1.1,134.0,1.0,0.0,109.0,1.0],[72.0,1.0,943.0,0.0,25.0,1.0,1.7,139.0,1.0,1.0,111.0,1.0],[75.0,1.0,582.0,0.0,30.0,0.0,1.83,134.0,1.0,0.0,113.0,1.0],[72.0,0.0,233.0,0.0,45.0,1.0,2.5,135.0,0.0,0.0,115.0,1.0],[50.0,1.0,2334.0,1.0,35.0,0.0,0.9,142.0,0.0,0.0,126.0,1.0],[45.0,0.0,2442.0,1.0,30.0,0.0,1.1,139.0,1.0,0.0,129.0,1.0],[80.0,0.0,776.0,1.0,38.0,1.0,1.3,135.0,0.0,0.0,130.0,1.0],[59.0,0.0,66.0,1.0,20.0,0.0,2.4,134.0,1.0,0.0,135.0,1.0],[59.0,1.0,176.0,1.0,25.0,0.0,1.0,136.0,1.0,1.0,150.0,1.0],[65.0,0.0,395.0,1.0,25.0,0.0,1.2,136.0,1.0,1.0,154.0,1.0],[75.0,0.0,99.0,0.0,38.0,1.0,2.5,134.0,1.0,0.0,162.0,1.0],[58.0,1.0,145.0,0.0,25.0,0.0,1.2,137.0,1.0,1.0,170.0,1.0],[60.667,1.0,104.0,1.0,30.0,0.0,1.5,136.0,1.0,0.0,171.0,1.0],[50.0,0.0,582.0,0.0,50.0,0.0,0.6,134.0,0.0,0.0,172.0,1.0],[60.0,0.0,1896.0,1.0,25.0,0.0,2.1,144.0,0.0,0.0,172.0,1.0],[45.0,0.0,582.0,0.0,20.0,1.0,1.6,135.0,1.0,0.0,180.0,1.0],[77.0,1.0,418.0,0.0,45.0,0.0,1.8,145.0,1.0,0.0,180.0,1.0],[48.0,1.0,131.0,1.0,30.0,1.0,1.6,130.0,0.0,0.0,193.0,1.0],[73.0,0.0,582.0,0.0,20.0,0.0,1.83,134.0,1.0,0.0,198.0,1.0],[60.0,0.0,166.0,0.0,30.0,0.0,1.7,127.0,0.0,0.0,207.0,1.0],[55.0,0.0,2017.0,0.0,25.0,0.0,1.1,138.0,1.0,0.0,214.0,1.0],[65.0,1.0,258.0,1.0,25.0,0.0,1.4,129.0,1.0,0.0,235.0,1.0],[55.0,0.0,1199.0,0.0,20.0,0.0,1.83,134.0,1.0,1.0,241.0,1.0]],\"fillcolor\":\"rgba(255,255,255,0)\",\"hoveron\":\"points\",\"hovertemplate\":\"DEATH_EVENT=%{customdata[11]}<br>PLATELETS=%{x}<br>age=%{customdata[0]}<br>anaemia=%{customdata[1]}<br>creatine_phosphokinase=%{customdata[2]}<br>diabetes=%{customdata[3]}<br>ejection_fraction=%{customdata[4]}<br>high_blood_pressure=%{customdata[5]}<br>serum_creatine=%{customdata[6]}<br>serum_sodium=%{customdata[7]}<br>sex=%{customdata[8]}<br>smoking=%{customdata[9]}<br>time=%{customdata[10]}<extra></extra>\",\"jitter\":0,\"legendgroup\":\"1\",\"line\":{\"color\":\"rgba(255,255,255,0)\"},\"marker\":{\"color\":\"#00cc96\",\"symbol\":\"line-ns-open\"},\"name\":\"1\",\"offsetgroup\":\"1\",\"showlegend\":false,\"x\":[265000.0,263358.03,162000.0,210000.0,327000.0,204000.0,127000.0,454000.0,263358.03,388000.0,368000.0,253000.0,136000.0,276000.0,47000.0,262000.0,166000.0,237000.0,87000.0,297000.0,289000.0,263358.03,149000.0,196000.0,284000.0,153000.0,200000.0,263358.03,360000.0,319000.0,188000.0,228000.0,226000.0,321000.0,329000.0,263358.03,153000.0,185000.0,194000.0,310000.0,271000.0,451000.0,140000.0,395000.0,166000.0,418000.0,263358.03,351000.0,255000.0,461000.0,319000.0,254000.0,390000.0,216000.0,385000.0,119000.0,213000.0,274000.0,244000.0,497000.0,243000.0,266000.0,204000.0,196000.0,302000.0,210000.0,621000.0,306000.0,351000.0,263358.03,217000.0,271000.0,263358.03,338000.0,225000.0,235000.0,75000.0,334000.0,192000.0,70000.0,221000.0,265000.0,224000.0,219000.0,389000.0,153000.0,365000.0,126000.0,223000.0,244000.0,263358.03,62000.0,314000.0,198000.0,263358.03],\"xaxis\":\"x2\",\"yaxis\":\"y2\",\"type\":\"box\"},{\"alignmentgroup\":\"True\",\"bingroup\":\"x\",\"hovertemplate\":\"DEATH_EVENT=0<br>PLATELETS=%{x}<br>count=%{y}<extra></extra>\",\"legendgroup\":\"0\",\"marker\":{\"color\":\"#ab63fa\",\"pattern\":{\"shape\":\"\"}},\"name\":\"0\",\"offsetgroup\":\"0\",\"orientation\":\"v\",\"showlegend\":true,\"x\":[427000.0,276000.0,368000.0,302000.0,305000.0,218000.0,223000.0,216000.0,254000.0,374000.0,122000.0,149000.0,317000.0,237000.0,283000.0,324000.0,293000.0,263358.03,172000.0,406000.0,173000.0,304000.0,235000.0,181000.0,249000.0,297000.0,263358.03,327000.0,219000.0,254000.0,255000.0,318000.0,221000.0,298000.0,263358.03,149000.0,226000.0,286000.0,263000.0,226000.0,304000.0,850000.0,228000.0,252000.0,328000.0,164000.0,271000.0,507000.0,203000.0,210000.0,162000.0,228000.0,127000.0,237000.0,300000.0,267000.0,227000.0,249000.0,250000.0,263358.03,295000.0,231000.0,263358.03,172000.0,305000.0,221000.0,211000.0,348000.0,329000.0,229000.0,266000.0,218000.0,242000.0,228000.0,244000.0,184000.0,263358.03,235000.0,194000.0,277000.0,262000.0,235000.0,362000.0,242000.0,174000.0,448000.0,220000.0,270000.0,305000.0,263358.03,325000.0,176000.0,189000.0,281000.0,337000.0,105000.0,132000.0,267000.0,279000.0,303000.0,201000.0,275000.0,350000.0,309000.0,260000.0,160000.0,263358.03,259000.0,279000.0,263358.03,73000.0,377000.0,220000.0,212000.0,277000.0,362000.0,226000.0,186000.0,283000.0,268000.0,389000.0,147000.0,481000.0,290000.0,203000.0,358000.0,271000.0,371000.0,194000.0,365000.0,130000.0,504000.0,265000.0,189000.0,141000.0,237000.0,274000.0,185000.0,255000.0,330000.0,305000.0,406000.0,248000.0,173000.0,257000.0,263358.03,533000.0,249000.0,255000.0,220000.0,264000.0,282000.0,246000.0,301000.0,223000.0,404000.0,231000.0,274000.0,236000.0,263358.03,334000.0,294000.0,253000.0,233000.0,308000.0,203000.0,283000.0,208000.0,147000.0,362000.0,133000.0,302000.0,222000.0,263358.03,221000.0,215000.0,189000.0,150000.0,422000.0,327000.0,25100.0,232000.0,451000.0,241000.0,51000.0,215000.0,263358.03,279000.0,336000.0,279000.0,543000.0,263358.03,390000.0,222000.0,133000.0,382000.0,179000.0,155000.0,270000.0,742000.0,140000.0,395000.0],\"xaxis\":\"x\",\"yaxis\":\"y\",\"type\":\"histogram\"},{\"alignmentgroup\":\"True\",\"boxpoints\":\"all\",\"customdata\":[[49.0,1.0,80.0,0.0,30.0,1.0,1.0,138.0,0.0,0.0,12.0,0.0],[65.0,1.0,52.0,0.0,25.0,1.0,1.3,137.0,0.0,0.0,16.0,0.0],[53.0,0.0,63.0,1.0,60.0,0.0,0.8,135.0,1.0,0.0,22.0,0.0],[50.0,1.0,159.0,1.0,30.0,0.0,1.2,138.0,0.0,0.0,29.0,0.0],[60.0,0.0,2656.0,1.0,30.0,0.0,2.3,137.0,1.0,0.0,30.0,0.0],[72.0,0.0,127.0,1.0,50.0,1.0,1.0,134.0,1.0,0.0,33.0,0.0],[70.0,1.0,75.0,0.0,35.0,0.0,2.7,138.0,1.0,1.0,54.0,0.0],[60.0,1.0,607.0,0.0,40.0,0.0,0.6,138.0,1.0,1.0,54.0,0.0],[55.0,0.0,109.0,0.0,35.0,0.0,1.1,139.0,1.0,1.0,60.0,0.0],[41.0,0.0,148.0,0.0,40.0,0.0,0.8,140.0,1.0,1.0,68.0,0.0],[58.0,0.0,582.0,1.0,35.0,0.0,0.9,139.0,1.0,1.0,71.0,0.0],[65.0,0.0,224.0,1.0,50.0,0.0,1.3,137.0,1.0,1.0,72.0,0.0],[70.0,0.0,92.0,0.0,60.0,1.0,0.8,140.0,0.0,1.0,74.0,0.0],[42.0,0.0,102.0,1.0,40.0,0.0,1.2,140.0,1.0,0.0,74.0,0.0],[75.0,1.0,203.0,1.0,38.0,1.0,0.6,131.0,1.0,1.0,74.0,0.0],[55.0,0.0,336.0,0.0,45.0,1.0,0.9,140.0,0.0,0.0,74.0,0.0],[70.0,0.0,69.0,0.0,40.0,0.0,1.7,136.0,0.0,0.0,75.0,0.0],[67.0,0.0,582.0,0.0,50.0,0.0,1.18,137.0,1.0,1.0,76.0,0.0],[79.0,1.0,55.0,0.0,50.0,1.0,1.8,133.0,1.0,0.0,78.0,0.0],[51.0,0.0,78.0,0.0,50.0,0.0,0.7,140.0,1.0,0.0,79.0,0.0],[55.0,0.0,47.0,0.0,35.0,1.0,1.1,137.0,1.0,0.0,79.0,0.0],[65.0,1.0,68.0,1.0,60.0,1.0,0.8,140.0,1.0,0.0,79.0,0.0],[44.0,0.0,84.0,1.0,40.0,1.0,0.7,139.0,1.0,0.0,79.0,0.0],[57.0,1.0,115.0,0.0,25.0,1.0,1.1,144.0,1.0,0.0,79.0,0.0],[70.0,0.0,66.0,1.0,45.0,0.0,0.8,136.0,1.0,1.0,80.0,0.0],[60.0,0.0,897.0,1.0,45.0,0.0,1.0,133.0,1.0,0.0,80.0,0.0],[42.0,0.0,582.0,0.0,60.0,0.0,1.18,137.0,0.0,0.0,82.0,0.0],[58.0,0.0,144.0,1.0,38.0,1.0,0.7,142.0,0.0,0.0,83.0,0.0],[58.0,1.0,133.0,0.0,60.0,1.0,1.0,141.0,1.0,0.0,83.0,0.0],[63.0,1.0,514.0,1.0,25.0,1.0,1.3,134.0,1.0,0.0,83.0,0.0],[70.0,1.0,59.0,0.0,60.0,0.0,1.1,136.0,0.0,0.0,85.0,0.0],[60.0,1.0,156.0,1.0,25.0,1.0,1.2,137.0,0.0,0.0,85.0,0.0],[63.0,1.0,61.0,1.0,40.0,0.0,1.1,140.0,0.0,0.0,86.0,0.0],[65.0,1.0,305.0,0.0,25.0,0.0,1.1,141.0,1.0,0.0,87.0,0.0],[75.0,0.0,582.0,0.0,45.0,1.0,1.18,137.0,1.0,0.0,87.0,0.0],[80.0,0.0,898.0,0.0,25.0,0.0,1.1,144.0,1.0,1.0,87.0,0.0],[42.0,0.0,5209.0,0.0,30.0,0.0,1.0,140.0,1.0,1.0,87.0,0.0],[60.0,0.0,53.0,0.0,50.0,1.0,2.3,143.0,0.0,0.0,87.0,0.0],[55.0,0.0,748.0,0.0,45.0,0.0,1.3,137.0,1.0,0.0,88.0,0.0],[45.0,1.0,1876.0,1.0,35.0,0.0,0.9,138.0,1.0,0.0,88.0,0.0],[63.0,0.0,936.0,0.0,38.0,0.0,1.1,133.0,1.0,1.0,88.0,0.0],[45.0,0.0,292.0,1.0,35.0,0.0,1.3,142.0,1.0,1.0,88.0,0.0],[55.0,0.0,60.0,0.0,35.0,0.0,1.2,135.0,1.0,1.0,90.0,0.0],[50.0,0.0,369.0,1.0,25.0,0.0,1.6,136.0,1.0,0.0,90.0,0.0],[60.0,1.0,754.0,1.0,40.0,1.0,1.2,126.0,1.0,0.0,91.0,0.0],[58.0,1.0,400.0,0.0,40.0,0.0,1.0,139.0,0.0,0.0,91.0,0.0],[60.0,1.0,96.0,1.0,60.0,1.0,0.7,136.0,0.0,0.0,94.0,0.0],[85.0,1.0,102.0,0.0,60.0,0.0,3.2,138.0,0.0,0.0,94.0,0.0],[65.0,1.0,113.0,1.0,60.0,1.0,0.9,140.0,0.0,0.0,94.0,0.0],[60.0,1.0,737.0,0.0,60.0,1.0,1.5,135.0,1.0,1.0,95.0,0.0],[66.0,1.0,68.0,1.0,38.0,1.0,1.0,136.0,0.0,0.0,95.0,0.0],[60.0,0.0,96.0,1.0,38.0,0.0,0.75,140.0,0.0,0.0,95.0,0.0],[60.0,1.0,582.0,0.0,30.0,1.0,0.9,145.0,0.0,0.0,95.0,0.0],[43.0,1.0,358.0,0.0,50.0,0.0,1.3,135.0,0.0,0.0,97.0,0.0],[58.0,1.0,200.0,1.0,60.0,0.0,0.8,137.0,0.0,0.0,104.0,0.0],[61.0,0.0,248.0,0.0,30.0,1.0,0.7,136.0,1.0,1.0,104.0,0.0],[53.0,1.0,270.0,1.0,35.0,0.0,3.4,145.0,1.0,0.0,105.0,0.0],[53.0,1.0,1808.0,0.0,60.0,1.0,0.7,138.0,1.0,1.0,106.0,0.0],[60.0,1.0,1082.0,1.0,45.0,0.0,6.1,131.0,1.0,0.0,107.0,0.0],[46.0,0.0,719.0,0.0,40.0,1.0,1.18,137.0,0.0,0.0,107.0,0.0],[63.0,0.0,193.0,0.0,60.0,1.0,1.3,145.0,1.0,1.0,107.0,0.0],[81.0,0.0,4540.0,0.0,35.0,0.0,1.18,137.0,1.0,1.0,107.0,0.0],[75.0,0.0,582.0,0.0,40.0,0.0,1.18,137.0,1.0,0.0,107.0,0.0],[65.0,1.0,59.0,1.0,60.0,0.0,0.9,137.0,0.0,0.0,107.0,0.0],[68.0,1.0,646.0,0.0,25.0,0.0,2.1,130.0,1.0,0.0,108.0,0.0],[62.0,0.0,281.0,1.0,35.0,0.0,1.0,136.0,0.0,0.0,108.0,0.0],[50.0,0.0,1548.0,0.0,30.0,1.0,0.8,138.0,1.0,0.0,108.0,0.0],[46.0,1.0,291.0,0.0,35.0,0.0,0.9,140.0,0.0,0.0,109.0,0.0],[50.0,0.0,482.0,1.0,30.0,0.0,0.9,132.0,0.0,0.0,109.0,0.0],[61.0,1.0,84.0,0.0,40.0,1.0,0.9,141.0,0.0,0.0,110.0,0.0],[50.0,0.0,185.0,0.0,30.0,0.0,0.7,141.0,1.0,1.0,112.0,0.0],[52.0,0.0,132.0,0.0,30.0,0.0,0.7,136.0,1.0,1.0,112.0,0.0],[64.0,0.0,1610.0,0.0,60.0,0.0,1.0,137.0,1.0,0.0,113.0,0.0],[60.0,0.0,2261.0,0.0,35.0,1.0,0.9,136.0,1.0,0.0,115.0,0.0],[62.0,0.0,30.0,1.0,60.0,1.0,0.9,139.0,1.0,0.0,117.0,0.0],[50.0,0.0,115.0,0.0,45.0,1.0,0.9,134.0,1.0,1.0,118.0,0.0],[50.0,0.0,1846.0,1.0,35.0,0.0,1.18,137.0,1.0,1.0,119.0,0.0],[65.0,1.0,335.0,0.0,35.0,1.0,0.8,136.0,0.0,0.0,120.0,0.0],[60.0,1.0,231.0,1.0,25.0,0.0,1.7,140.0,1.0,0.0,120.0,0.0],[52.0,1.0,58.0,0.0,35.0,0.0,1.4,136.0,0.0,0.0,120.0,0.0],[50.0,0.0,250.0,0.0,25.0,0.0,1.0,136.0,1.0,1.0,120.0,0.0],[85.0,1.0,910.0,0.0,50.0,0.0,1.3,134.0,1.0,0.0,121.0,0.0],[59.0,1.0,129.0,0.0,45.0,1.0,1.1,139.0,1.0,1.0,121.0,0.0],[66.0,1.0,72.0,0.0,40.0,1.0,1.2,134.0,1.0,0.0,121.0,0.0],[45.0,1.0,130.0,0.0,35.0,0.0,0.8,139.0,1.0,1.0,121.0,0.0],[63.0,1.0,582.0,0.0,40.0,0.0,0.9,137.0,1.0,1.0,123.0,0.0],[53.0,0.0,196.0,0.0,60.0,0.0,0.7,133.0,1.0,1.0,134.0,0.0],[65.0,0.0,582.0,1.0,40.0,0.0,1.0,138.0,0.0,0.0,140.0,0.0],[70.0,0.0,835.0,0.0,35.0,1.0,0.8,133.0,0.0,0.0,145.0,0.0],[51.0,1.0,582.0,1.0,35.0,0.0,1.5,136.0,1.0,1.0,145.0,0.0],[52.0,0.0,3966.0,0.0,40.0,0.0,0.9,140.0,1.0,1.0,146.0,0.0],[70.0,1.0,171.0,0.0,60.0,1.0,1.1,145.0,1.0,1.0,146.0,0.0],[50.0,1.0,115.0,0.0,20.0,0.0,0.8,139.0,1.0,0.0,146.0,0.0],[65.0,0.0,198.0,1.0,35.0,1.0,0.9,137.0,1.0,1.0,146.0,0.0],[60.0,1.0,95.0,0.0,60.0,0.0,1.0,138.0,1.0,1.0,146.0,0.0],[69.0,0.0,1419.0,0.0,40.0,0.0,1.0,135.0,1.0,1.0,147.0,0.0],[49.0,1.0,69.0,0.0,50.0,0.0,1.0,140.0,0.0,0.0,147.0,0.0],[63.0,1.0,122.0,1.0,60.0,0.0,1.2,145.0,1.0,0.0,147.0,0.0],[55.0,0.0,835.0,0.0,40.0,0.0,0.7,140.0,1.0,1.0,147.0,0.0],[40.0,0.0,478.0,1.0,30.0,0.0,0.9,136.0,1.0,0.0,148.0,0.0],[60.667,1.0,151.0,1.0,40.0,1.0,1.0,136.0,0.0,0.0,172.0,0.0],[40.0,0.0,244.0,0.0,45.0,1.0,0.9,140.0,0.0,0.0,174.0,0.0],[80.0,0.0,582.0,1.0,35.0,0.0,2.1,134.0,1.0,0.0,174.0,0.0],[64.0,1.0,62.0,0.0,60.0,0.0,1.5,135.0,0.0,0.0,174.0,0.0],[50.0,1.0,121.0,1.0,40.0,0.0,0.7,130.0,1.0,0.0,175.0,0.0],[73.0,1.0,231.0,1.0,30.0,0.0,1.18,142.0,1.0,1.0,180.0,0.0],[45.0,0.0,582.0,1.0,38.0,1.0,1.18,137.0,0.0,0.0,185.0,0.0],[65.0,0.0,167.0,0.0,30.0,0.0,0.8,138.0,0.0,0.0,186.0,0.0],[50.0,1.0,582.0,1.0,20.0,1.0,1.0,134.0,0.0,0.0,186.0,0.0],[60.0,0.0,1211.0,1.0,35.0,0.0,1.8,113.0,1.0,1.0,186.0,0.0],[63.0,1.0,1767.0,0.0,45.0,0.0,0.7,137.0,1.0,0.0,186.0,0.0],[45.0,0.0,308.0,1.0,60.0,1.0,1.0,136.0,1.0,0.0,186.0,0.0],[70.0,0.0,97.0,0.0,60.0,1.0,0.9,138.0,1.0,0.0,186.0,0.0],[60.0,0.0,59.0,0.0,25.0,1.0,3.5,136.0,1.0,1.0,187.0,0.0],[78.0,1.0,64.0,0.0,40.0,0.0,0.7,137.0,1.0,1.0,187.0,0.0],[50.0,1.0,167.0,1.0,45.0,0.0,1.0,136.0,0.0,0.0,187.0,0.0],[40.0,1.0,101.0,0.0,40.0,0.0,0.8,141.0,0.0,0.0,187.0,0.0],[85.0,0.0,212.0,0.0,38.0,0.0,0.9,136.0,1.0,0.0,187.0,0.0],[60.0,1.0,2281.0,1.0,40.0,0.0,1.0,141.0,0.0,0.0,187.0,0.0],[49.0,0.0,972.0,1.0,35.0,1.0,0.8,130.0,0.0,0.0,187.0,0.0],[70.0,0.0,212.0,1.0,17.0,1.0,1.0,136.0,1.0,1.0,188.0,0.0],[50.0,0.0,582.0,0.0,62.0,1.0,0.8,140.0,1.0,1.0,192.0,0.0],[78.0,0.0,224.0,0.0,50.0,0.0,1.4,138.0,1.0,1.0,192.0,0.0],[65.0,1.0,135.0,0.0,35.0,1.0,0.8,134.0,1.0,0.0,194.0,0.0],[73.0,0.0,582.0,0.0,35.0,1.0,1.3,134.0,1.0,0.0,195.0,0.0],[70.0,0.0,1202.0,0.0,50.0,1.0,0.9,141.0,0.0,0.0,196.0,0.0],[68.0,1.0,1021.0,1.0,35.0,0.0,1.1,134.0,1.0,0.0,197.0,0.0],[55.0,0.0,582.0,1.0,35.0,1.0,0.7,140.0,0.0,0.0,197.0,0.0],[65.0,0.0,118.0,0.0,50.0,0.0,1.1,145.0,1.0,1.0,200.0,0.0],[42.0,1.0,86.0,0.0,35.0,0.0,1.1,139.0,1.0,1.0,201.0,0.0],[47.0,0.0,582.0,0.0,25.0,0.0,0.8,134.0,1.0,0.0,201.0,0.0],[58.0,0.0,582.0,1.0,25.0,0.0,1.0,138.0,1.0,0.0,205.0,0.0],[75.0,0.0,675.0,1.0,60.0,0.0,1.4,125.0,0.0,0.0,205.0,0.0],[58.0,1.0,57.0,0.0,25.0,0.0,1.3,132.0,1.0,1.0,205.0,0.0],[55.0,1.0,2794.0,0.0,35.0,1.0,1.0,140.0,1.0,0.0,206.0,0.0],[65.0,0.0,56.0,0.0,25.0,0.0,5.0,130.0,0.0,0.0,207.0,0.0],[72.0,0.0,211.0,0.0,25.0,0.0,1.2,134.0,0.0,0.0,207.0,0.0],[70.0,0.0,93.0,0.0,35.0,0.0,1.1,134.0,1.0,1.0,208.0,0.0],[40.0,1.0,129.0,0.0,35.0,0.0,0.9,137.0,1.0,0.0,209.0,0.0],[53.0,1.0,707.0,0.0,38.0,0.0,1.4,137.0,1.0,1.0,209.0,0.0],[53.0,1.0,582.0,0.0,45.0,0.0,1.1,137.0,1.0,1.0,209.0,0.0],[77.0,1.0,109.0,0.0,50.0,1.0,1.1,137.0,1.0,0.0,209.0,0.0],[75.0,0.0,119.0,0.0,50.0,1.0,1.1,148.0,1.0,0.0,209.0,0.0],[70.0,0.0,232.0,0.0,30.0,0.0,1.2,132.0,1.0,0.0,210.0,0.0],[65.0,1.0,720.0,1.0,40.0,0.0,1.0,136.0,0.0,0.0,210.0,0.0],[55.0,1.0,180.0,0.0,45.0,0.0,1.18,137.0,1.0,1.0,211.0,0.0],[70.0,0.0,81.0,1.0,35.0,1.0,1.3,139.0,0.0,0.0,212.0,0.0],[65.0,0.0,582.0,1.0,30.0,0.0,1.3,136.0,1.0,1.0,212.0,0.0],[40.0,0.0,90.0,0.0,35.0,0.0,1.1,136.0,1.0,1.0,212.0,0.0],[73.0,1.0,1185.0,0.0,40.0,1.0,0.9,141.0,0.0,0.0,213.0,0.0],[54.0,0.0,582.0,1.0,38.0,0.0,1.8,134.0,1.0,0.0,213.0,0.0],[61.0,1.0,80.0,1.0,38.0,0.0,1.4,137.0,1.0,0.0,213.0,0.0],[64.0,0.0,143.0,0.0,25.0,0.0,2.4,135.0,1.0,0.0,214.0,0.0],[40.0,0.0,624.0,0.0,35.0,0.0,1.0,142.0,1.0,1.0,214.0,0.0],[53.0,0.0,207.0,1.0,40.0,0.0,1.2,130.0,0.0,0.0,214.0,0.0],[50.0,0.0,2522.0,0.0,30.0,1.0,0.5,139.0,0.0,0.0,214.0,0.0],[55.0,0.0,572.0,1.0,35.0,0.0,0.8,143.0,0.0,0.0,215.0,0.0],[50.0,0.0,245.0,0.0,45.0,1.0,1.0,133.0,1.0,0.0,215.0,0.0],[70.0,0.0,88.0,1.0,35.0,1.0,1.2,132.0,0.0,0.0,215.0,0.0],[53.0,1.0,446.0,0.0,60.0,1.0,1.0,139.0,1.0,0.0,215.0,0.0],[52.0,1.0,191.0,1.0,30.0,1.0,1.0,142.0,1.0,1.0,216.0,0.0],[65.0,0.0,326.0,0.0,38.0,0.0,1.7,139.0,0.0,0.0,220.0,0.0],[58.0,0.0,132.0,1.0,38.0,1.0,1.0,139.0,1.0,0.0,230.0,0.0],[45.0,1.0,66.0,1.0,25.0,0.0,0.8,135.0,1.0,0.0,230.0,0.0],[53.0,0.0,56.0,0.0,50.0,0.0,0.7,135.0,1.0,1.0,231.0,0.0],[55.0,0.0,66.0,0.0,40.0,0.0,1.0,138.0,1.0,0.0,233.0,0.0],[62.0,1.0,655.0,0.0,40.0,0.0,0.7,133.0,0.0,0.0,233.0,0.0],[68.0,1.0,157.0,1.0,60.0,0.0,1.0,140.0,0.0,0.0,237.0,0.0],[61.0,0.0,582.0,1.0,38.0,0.0,1.2,141.0,1.0,0.0,237.0,0.0],[50.0,1.0,298.0,0.0,35.0,0.0,0.9,140.0,1.0,1.0,240.0,0.0],[56.0,1.0,135.0,1.0,38.0,0.0,1.7,140.0,1.0,0.0,244.0,0.0],[45.0,0.0,582.0,1.0,38.0,0.0,0.9,140.0,0.0,0.0,244.0,0.0],[40.0,0.0,582.0,1.0,35.0,0.0,1.0,132.0,1.0,0.0,244.0,0.0],[44.0,0.0,582.0,1.0,30.0,1.0,1.6,130.0,1.0,1.0,244.0,0.0],[51.0,0.0,582.0,1.0,40.0,0.0,0.9,134.0,0.0,0.0,244.0,0.0],[67.0,0.0,213.0,0.0,38.0,0.0,1.2,133.0,0.0,0.0,245.0,0.0],[42.0,0.0,64.0,0.0,40.0,0.0,0.7,140.0,1.0,0.0,245.0,0.0],[60.0,1.0,257.0,1.0,30.0,0.0,1.0,137.0,1.0,1.0,245.0,0.0],[45.0,0.0,582.0,0.0,38.0,1.0,0.8,137.0,0.0,0.0,245.0,0.0],[70.0,0.0,618.0,0.0,35.0,0.0,1.1,142.0,0.0,0.0,245.0,0.0],[70.0,0.0,582.0,1.0,38.0,0.0,1.1,140.0,1.0,0.0,246.0,0.0],[50.0,1.0,1051.0,1.0,30.0,0.0,0.7,136.0,0.0,0.0,246.0,0.0],[55.0,0.0,84.0,1.0,38.0,0.0,1.3,136.0,0.0,0.0,246.0,0.0],[70.0,0.0,2695.0,1.0,40.0,0.0,1.0,137.0,1.0,0.0,247.0,0.0],[70.0,0.0,582.0,0.0,40.0,0.0,2.7,136.0,1.0,1.0,250.0,0.0],[42.0,0.0,64.0,0.0,30.0,0.0,3.8,128.0,1.0,1.0,250.0,0.0],[65.0,0.0,1688.0,0.0,38.0,0.0,1.1,138.0,1.0,1.0,250.0,0.0],[50.0,1.0,54.0,0.0,40.0,0.0,0.8,141.0,1.0,0.0,250.0,0.0],[55.0,1.0,170.0,1.0,40.0,0.0,1.2,135.0,1.0,0.0,250.0,0.0],[60.0,0.0,253.0,0.0,35.0,0.0,1.7,140.0,1.0,0.0,250.0,0.0],[45.0,0.0,582.0,1.0,55.0,0.0,1.0,132.0,0.0,0.0,250.0,0.0],[65.0,0.0,892.0,1.0,35.0,0.0,1.1,142.0,0.0,0.0,256.0,0.0],[90.0,1.0,337.0,0.0,38.0,0.0,0.9,144.0,0.0,0.0,256.0,0.0],[45.0,0.0,615.0,1.0,55.0,0.0,0.8,141.0,0.0,0.0,257.0,0.0],[60.0,0.0,320.0,0.0,35.0,0.0,1.4,139.0,1.0,0.0,258.0,0.0],[52.0,0.0,190.0,1.0,38.0,0.0,1.0,140.0,1.0,1.0,258.0,0.0],[63.0,1.0,103.0,1.0,35.0,0.0,0.9,136.0,1.0,1.0,270.0,0.0],[62.0,0.0,61.0,1.0,38.0,1.0,1.1,143.0,1.0,1.0,270.0,0.0],[55.0,0.0,1820.0,0.0,38.0,0.0,1.2,139.0,0.0,0.0,271.0,0.0],[45.0,0.0,2060.0,1.0,60.0,0.0,0.8,138.0,0.0,0.0,278.0,0.0],[45.0,0.0,2413.0,0.0,38.0,0.0,1.4,140.0,1.0,1.0,280.0,0.0],[50.0,0.0,196.0,0.0,45.0,0.0,1.6,136.0,1.0,1.0,285.0,0.0]],\"fillcolor\":\"rgba(255,255,255,0)\",\"hoveron\":\"points\",\"hovertemplate\":\"DEATH_EVENT=%{customdata[11]}<br>PLATELETS=%{x}<br>age=%{customdata[0]}<br>anaemia=%{customdata[1]}<br>creatine_phosphokinase=%{customdata[2]}<br>diabetes=%{customdata[3]}<br>ejection_fraction=%{customdata[4]}<br>high_blood_pressure=%{customdata[5]}<br>serum_creatine=%{customdata[6]}<br>serum_sodium=%{customdata[7]}<br>sex=%{customdata[8]}<br>smoking=%{customdata[9]}<br>time=%{customdata[10]}<extra></extra>\",\"jitter\":0,\"legendgroup\":\"0\",\"line\":{\"color\":\"rgba(255,255,255,0)\"},\"marker\":{\"color\":\"#ab63fa\",\"symbol\":\"line-ns-open\"},\"name\":\"0\",\"offsetgroup\":\"0\",\"showlegend\":false,\"x\":[427000.0,276000.0,368000.0,302000.0,305000.0,218000.0,223000.0,216000.0,254000.0,374000.0,122000.0,149000.0,317000.0,237000.0,283000.0,324000.0,293000.0,263358.03,172000.0,406000.0,173000.0,304000.0,235000.0,181000.0,249000.0,297000.0,263358.03,327000.0,219000.0,254000.0,255000.0,318000.0,221000.0,298000.0,263358.03,149000.0,226000.0,286000.0,263000.0,226000.0,304000.0,850000.0,228000.0,252000.0,328000.0,164000.0,271000.0,507000.0,203000.0,210000.0,162000.0,228000.0,127000.0,237000.0,300000.0,267000.0,227000.0,249000.0,250000.0,263358.03,295000.0,231000.0,263358.03,172000.0,305000.0,221000.0,211000.0,348000.0,329000.0,229000.0,266000.0,218000.0,242000.0,228000.0,244000.0,184000.0,263358.03,235000.0,194000.0,277000.0,262000.0,235000.0,362000.0,242000.0,174000.0,448000.0,220000.0,270000.0,305000.0,263358.03,325000.0,176000.0,189000.0,281000.0,337000.0,105000.0,132000.0,267000.0,279000.0,303000.0,201000.0,275000.0,350000.0,309000.0,260000.0,160000.0,263358.03,259000.0,279000.0,263358.03,73000.0,377000.0,220000.0,212000.0,277000.0,362000.0,226000.0,186000.0,283000.0,268000.0,389000.0,147000.0,481000.0,290000.0,203000.0,358000.0,271000.0,371000.0,194000.0,365000.0,130000.0,504000.0,265000.0,189000.0,141000.0,237000.0,274000.0,185000.0,255000.0,330000.0,305000.0,406000.0,248000.0,173000.0,257000.0,263358.03,533000.0,249000.0,255000.0,220000.0,264000.0,282000.0,246000.0,301000.0,223000.0,404000.0,231000.0,274000.0,236000.0,263358.03,334000.0,294000.0,253000.0,233000.0,308000.0,203000.0,283000.0,208000.0,147000.0,362000.0,133000.0,302000.0,222000.0,263358.03,221000.0,215000.0,189000.0,150000.0,422000.0,327000.0,25100.0,232000.0,451000.0,241000.0,51000.0,215000.0,263358.03,279000.0,336000.0,279000.0,543000.0,263358.03,390000.0,222000.0,133000.0,382000.0,179000.0,155000.0,270000.0,742000.0,140000.0,395000.0],\"xaxis\":\"x2\",\"yaxis\":\"y2\",\"type\":\"box\"}],                        {\"template\":{\"data\":{\"barpolar\":[{\"marker\":{\"line\":{\"color\":\"rgb(17,17,17)\",\"width\":0.5},\"pattern\":{\"fillmode\":\"overlay\",\"size\":10,\"solidity\":0.2}},\"type\":\"barpolar\"}],\"bar\":[{\"error_x\":{\"color\":\"#f2f5fa\"},\"error_y\":{\"color\":\"#f2f5fa\"},\"marker\":{\"line\":{\"color\":\"rgb(17,17,17)\",\"width\":0.5},\"pattern\":{\"fillmode\":\"overlay\",\"size\":10,\"solidity\":0.2}},\"type\":\"bar\"}],\"carpet\":[{\"aaxis\":{\"endlinecolor\":\"#A2B1C6\",\"gridcolor\":\"#506784\",\"linecolor\":\"#506784\",\"minorgridcolor\":\"#506784\",\"startlinecolor\":\"#A2B1C6\"},\"baxis\":{\"endlinecolor\":\"#A2B1C6\",\"gridcolor\":\"#506784\",\"linecolor\":\"#506784\",\"minorgridcolor\":\"#506784\",\"startlinecolor\":\"#A2B1C6\"},\"type\":\"carpet\"}],\"choropleth\":[{\"colorbar\":{\"outlinewidth\":0,\"ticks\":\"\"},\"type\":\"choropleth\"}],\"contourcarpet\":[{\"colorbar\":{\"outlinewidth\":0,\"ticks\":\"\"},\"type\":\"contourcarpet\"}],\"contour\":[{\"colorbar\":{\"outlinewidth\":0,\"ticks\":\"\"},\"colorscale\":[[0.0,\"#0d0887\"],[0.1111111111111111,\"#46039f\"],[0.2222222222222222,\"#7201a8\"],[0.3333333333333333,\"#9c179e\"],[0.4444444444444444,\"#bd3786\"],[0.5555555555555556,\"#d8576b\"],[0.6666666666666666,\"#ed7953\"],[0.7777777777777778,\"#fb9f3a\"],[0.8888888888888888,\"#fdca26\"],[1.0,\"#f0f921\"]],\"type\":\"contour\"}],\"heatmapgl\":[{\"colorbar\":{\"outlinewidth\":0,\"ticks\":\"\"},\"colorscale\":[[0.0,\"#0d0887\"],[0.1111111111111111,\"#46039f\"],[0.2222222222222222,\"#7201a8\"],[0.3333333333333333,\"#9c179e\"],[0.4444444444444444,\"#bd3786\"],[0.5555555555555556,\"#d8576b\"],[0.6666666666666666,\"#ed7953\"],[0.7777777777777778,\"#fb9f3a\"],[0.8888888888888888,\"#fdca26\"],[1.0,\"#f0f921\"]],\"type\":\"heatmapgl\"}],\"heatmap\":[{\"colorbar\":{\"outlinewidth\":0,\"ticks\":\"\"},\"colorscale\":[[0.0,\"#0d0887\"],[0.1111111111111111,\"#46039f\"],[0.2222222222222222,\"#7201a8\"],[0.3333333333333333,\"#9c179e\"],[0.4444444444444444,\"#bd3786\"],[0.5555555555555556,\"#d8576b\"],[0.6666666666666666,\"#ed7953\"],[0.7777777777777778,\"#fb9f3a\"],[0.8888888888888888,\"#fdca26\"],[1.0,\"#f0f921\"]],\"type\":\"heatmap\"}],\"histogram2dcontour\":[{\"colorbar\":{\"outlinewidth\":0,\"ticks\":\"\"},\"colorscale\":[[0.0,\"#0d0887\"],[0.1111111111111111,\"#46039f\"],[0.2222222222222222,\"#7201a8\"],[0.3333333333333333,\"#9c179e\"],[0.4444444444444444,\"#bd3786\"],[0.5555555555555556,\"#d8576b\"],[0.6666666666666666,\"#ed7953\"],[0.7777777777777778,\"#fb9f3a\"],[0.8888888888888888,\"#fdca26\"],[1.0,\"#f0f921\"]],\"type\":\"histogram2dcontour\"}],\"histogram2d\":[{\"colorbar\":{\"outlinewidth\":0,\"ticks\":\"\"},\"colorscale\":[[0.0,\"#0d0887\"],[0.1111111111111111,\"#46039f\"],[0.2222222222222222,\"#7201a8\"],[0.3333333333333333,\"#9c179e\"],[0.4444444444444444,\"#bd3786\"],[0.5555555555555556,\"#d8576b\"],[0.6666666666666666,\"#ed7953\"],[0.7777777777777778,\"#fb9f3a\"],[0.8888888888888888,\"#fdca26\"],[1.0,\"#f0f921\"]],\"type\":\"histogram2d\"}],\"histogram\":[{\"marker\":{\"pattern\":{\"fillmode\":\"overlay\",\"size\":10,\"solidity\":0.2}},\"type\":\"histogram\"}],\"mesh3d\":[{\"colorbar\":{\"outlinewidth\":0,\"ticks\":\"\"},\"type\":\"mesh3d\"}],\"parcoords\":[{\"line\":{\"colorbar\":{\"outlinewidth\":0,\"ticks\":\"\"}},\"type\":\"parcoords\"}],\"pie\":[{\"automargin\":true,\"type\":\"pie\"}],\"scatter3d\":[{\"line\":{\"colorbar\":{\"outlinewidth\":0,\"ticks\":\"\"}},\"marker\":{\"colorbar\":{\"outlinewidth\":0,\"ticks\":\"\"}},\"type\":\"scatter3d\"}],\"scattercarpet\":[{\"marker\":{\"colorbar\":{\"outlinewidth\":0,\"ticks\":\"\"}},\"type\":\"scattercarpet\"}],\"scattergeo\":[{\"marker\":{\"colorbar\":{\"outlinewidth\":0,\"ticks\":\"\"}},\"type\":\"scattergeo\"}],\"scattergl\":[{\"marker\":{\"line\":{\"color\":\"#283442\"}},\"type\":\"scattergl\"}],\"scattermapbox\":[{\"marker\":{\"colorbar\":{\"outlinewidth\":0,\"ticks\":\"\"}},\"type\":\"scattermapbox\"}],\"scatterpolargl\":[{\"marker\":{\"colorbar\":{\"outlinewidth\":0,\"ticks\":\"\"}},\"type\":\"scatterpolargl\"}],\"scatterpolar\":[{\"marker\":{\"colorbar\":{\"outlinewidth\":0,\"ticks\":\"\"}},\"type\":\"scatterpolar\"}],\"scatter\":[{\"marker\":{\"line\":{\"color\":\"#283442\"}},\"type\":\"scatter\"}],\"scatterternary\":[{\"marker\":{\"colorbar\":{\"outlinewidth\":0,\"ticks\":\"\"}},\"type\":\"scatterternary\"}],\"surface\":[{\"colorbar\":{\"outlinewidth\":0,\"ticks\":\"\"},\"colorscale\":[[0.0,\"#0d0887\"],[0.1111111111111111,\"#46039f\"],[0.2222222222222222,\"#7201a8\"],[0.3333333333333333,\"#9c179e\"],[0.4444444444444444,\"#bd3786\"],[0.5555555555555556,\"#d8576b\"],[0.6666666666666666,\"#ed7953\"],[0.7777777777777778,\"#fb9f3a\"],[0.8888888888888888,\"#fdca26\"],[1.0,\"#f0f921\"]],\"type\":\"surface\"}],\"table\":[{\"cells\":{\"fill\":{\"color\":\"#506784\"},\"line\":{\"color\":\"rgb(17,17,17)\"}},\"header\":{\"fill\":{\"color\":\"#2a3f5f\"},\"line\":{\"color\":\"rgb(17,17,17)\"}},\"type\":\"table\"}]},\"layout\":{\"annotationdefaults\":{\"arrowcolor\":\"#f2f5fa\",\"arrowhead\":0,\"arrowwidth\":1},\"autotypenumbers\":\"strict\",\"coloraxis\":{\"colorbar\":{\"outlinewidth\":0,\"ticks\":\"\"}},\"colorscale\":{\"diverging\":[[0,\"#8e0152\"],[0.1,\"#c51b7d\"],[0.2,\"#de77ae\"],[0.3,\"#f1b6da\"],[0.4,\"#fde0ef\"],[0.5,\"#f7f7f7\"],[0.6,\"#e6f5d0\"],[0.7,\"#b8e186\"],[0.8,\"#7fbc41\"],[0.9,\"#4d9221\"],[1,\"#276419\"]],\"sequential\":[[0.0,\"#0d0887\"],[0.1111111111111111,\"#46039f\"],[0.2222222222222222,\"#7201a8\"],[0.3333333333333333,\"#9c179e\"],[0.4444444444444444,\"#bd3786\"],[0.5555555555555556,\"#d8576b\"],[0.6666666666666666,\"#ed7953\"],[0.7777777777777778,\"#fb9f3a\"],[0.8888888888888888,\"#fdca26\"],[1.0,\"#f0f921\"]],\"sequentialminus\":[[0.0,\"#0d0887\"],[0.1111111111111111,\"#46039f\"],[0.2222222222222222,\"#7201a8\"],[0.3333333333333333,\"#9c179e\"],[0.4444444444444444,\"#bd3786\"],[0.5555555555555556,\"#d8576b\"],[0.6666666666666666,\"#ed7953\"],[0.7777777777777778,\"#fb9f3a\"],[0.8888888888888888,\"#fdca26\"],[1.0,\"#f0f921\"]]},\"colorway\":[\"#636efa\",\"#EF553B\",\"#00cc96\",\"#ab63fa\",\"#FFA15A\",\"#19d3f3\",\"#FF6692\",\"#B6E880\",\"#FF97FF\",\"#FECB52\"],\"font\":{\"color\":\"#f2f5fa\"},\"geo\":{\"bgcolor\":\"rgb(17,17,17)\",\"lakecolor\":\"rgb(17,17,17)\",\"landcolor\":\"rgb(17,17,17)\",\"showlakes\":true,\"showland\":true,\"subunitcolor\":\"#506784\"},\"hoverlabel\":{\"align\":\"left\"},\"hovermode\":\"closest\",\"mapbox\":{\"style\":\"dark\"},\"paper_bgcolor\":\"rgb(17,17,17)\",\"plot_bgcolor\":\"rgb(17,17,17)\",\"polar\":{\"angularaxis\":{\"gridcolor\":\"#506784\",\"linecolor\":\"#506784\",\"ticks\":\"\"},\"bgcolor\":\"rgb(17,17,17)\",\"radialaxis\":{\"gridcolor\":\"#506784\",\"linecolor\":\"#506784\",\"ticks\":\"\"}},\"scene\":{\"xaxis\":{\"backgroundcolor\":\"rgb(17,17,17)\",\"gridcolor\":\"#506784\",\"gridwidth\":2,\"linecolor\":\"#506784\",\"showbackground\":true,\"ticks\":\"\",\"zerolinecolor\":\"#C8D4E3\"},\"yaxis\":{\"backgroundcolor\":\"rgb(17,17,17)\",\"gridcolor\":\"#506784\",\"gridwidth\":2,\"linecolor\":\"#506784\",\"showbackground\":true,\"ticks\":\"\",\"zerolinecolor\":\"#C8D4E3\"},\"zaxis\":{\"backgroundcolor\":\"rgb(17,17,17)\",\"gridcolor\":\"#506784\",\"gridwidth\":2,\"linecolor\":\"#506784\",\"showbackground\":true,\"ticks\":\"\",\"zerolinecolor\":\"#C8D4E3\"}},\"shapedefaults\":{\"line\":{\"color\":\"#f2f5fa\"}},\"sliderdefaults\":{\"bgcolor\":\"#C8D4E3\",\"bordercolor\":\"rgb(17,17,17)\",\"borderwidth\":1,\"tickwidth\":0},\"ternary\":{\"aaxis\":{\"gridcolor\":\"#506784\",\"linecolor\":\"#506784\",\"ticks\":\"\"},\"baxis\":{\"gridcolor\":\"#506784\",\"linecolor\":\"#506784\",\"ticks\":\"\"},\"bgcolor\":\"rgb(17,17,17)\",\"caxis\":{\"gridcolor\":\"#506784\",\"linecolor\":\"#506784\",\"ticks\":\"\"}},\"title\":{\"x\":0.05},\"updatemenudefaults\":{\"bgcolor\":\"#506784\",\"borderwidth\":0},\"xaxis\":{\"automargin\":true,\"gridcolor\":\"#283442\",\"linecolor\":\"#506784\",\"ticks\":\"\",\"title\":{\"standoff\":15},\"zerolinecolor\":\"#283442\",\"zerolinewidth\":2},\"yaxis\":{\"automargin\":true,\"gridcolor\":\"#283442\",\"linecolor\":\"#506784\",\"ticks\":\"\",\"title\":{\"standoff\":15},\"zerolinecolor\":\"#283442\",\"zerolinewidth\":2}}},\"xaxis\":{\"anchor\":\"y\",\"domain\":[0.0,1.0],\"title\":{\"text\":\"PLATELETS\"}},\"yaxis\":{\"anchor\":\"x\",\"domain\":[0.0,0.7326],\"title\":{\"text\":\"count\"}},\"xaxis2\":{\"anchor\":\"y2\",\"domain\":[0.0,1.0],\"matches\":\"x\",\"showticklabels\":false,\"showgrid\":true},\"yaxis2\":{\"anchor\":\"x2\",\"domain\":[0.7426,1.0],\"matches\":\"y2\",\"showticklabels\":false,\"showline\":false,\"ticks\":\"\",\"showgrid\":false},\"legend\":{\"title\":{\"text\":\"DEATH_EVENT\"},\"tracegroupgap\":0},\"title\":{\"text\":\"Distribution of PLATELETS vs DEATH_EVENT\"},\"barmode\":\"relative\"},                        {\"responsive\": true}                    ).then(function(){\n",
              "                            \n",
              "var gd = document.getElementById('c3e05157-f87d-4542-8801-a63105ded5cb');\n",
              "var x = new MutationObserver(function (mutations, observer) {{\n",
              "        var display = window.getComputedStyle(gd).display;\n",
              "        if (!display || display === 'none') {{\n",
              "            console.log([gd, 'removed!']);\n",
              "            Plotly.purge(gd);\n",
              "            observer.disconnect();\n",
              "        }}\n",
              "}});\n",
              "\n",
              "// Listen for the removal of the full notebook cells\n",
              "var notebookContainer = gd.closest('#notebook-container');\n",
              "if (notebookContainer) {{\n",
              "    x.observe(notebookContainer, {childList: true});\n",
              "}}\n",
              "\n",
              "// Listen for the clearing of the current output cell\n",
              "var outputEl = gd.closest('.output');\n",
              "if (outputEl) {{\n",
              "    x.observe(outputEl, {childList: true});\n",
              "}}\n",
              "\n",
              "                        })                };                            </script>        </div>\n",
              "</body>\n",
              "</html>"
            ]
          },
          "metadata": {}
        }
      ]
    },
    {
      "cell_type": "markdown",
      "source": [
        "### SERUM SODIUM\n",
        "\n",
        "\n",
        "\n",
        "*   Hyponatremia or low serum sodium level is typically defined as a serum sodium concentration of <135 mEq/L and is one of the most common biochemical disorders featured in heart failure patients, with a prevalence close to 25% [2–4]. \n",
        "*   HF affects cardiac output by either decreasing heart rate or reducing the stroke volume.|\n",
        "\n"
      ],
      "metadata": {
        "id": "JVKHsb57UKWI"
      }
    },
    {
      "cell_type": "code",
      "source": [
        "# Now lets categorize the above histogram by SERUM SODIUM vs DEATH_EVENT\n",
        "\n",
        "import plotly.express as px\n",
        "fig = px.histogram(dataset, x=\"serum_sodium\", color=\"DEATH_EVENT\", marginal=\"rug\",hover_data=dataset.columns,\n",
        "                   title =\"Distribution of SERUM SODIUM vs DEATH_EVENT\", \n",
        "                   labels={\"serum_sodium\": \"SERUM SODIUM\"},\n",
        "                   template=\"plotly_dark\",\n",
        "                   color_discrete_map={\"0\": \"RebeccaPurple\", \"1\": \"MediumPurple\"})\n",
        "fig.show()"
      ],
      "metadata": {
        "colab": {
          "base_uri": "https://localhost:8080/",
          "height": 542
        },
        "id": "lJLXCcg8SgCy",
        "outputId": "e5b345fd-8d25-4c5f-f803-5a77f6f2e221"
      },
      "execution_count": 110,
      "outputs": [
        {
          "output_type": "display_data",
          "data": {
            "text/html": [
              "<html>\n",
              "<head><meta charset=\"utf-8\" /></head>\n",
              "<body>\n",
              "    <div>            <script src=\"https://cdnjs.cloudflare.com/ajax/libs/mathjax/2.7.5/MathJax.js?config=TeX-AMS-MML_SVG\"></script><script type=\"text/javascript\">if (window.MathJax) {MathJax.Hub.Config({SVG: {font: \"STIX-Web\"}});}</script>                <script type=\"text/javascript\">window.PlotlyConfig = {MathJaxConfig: 'local'};</script>\n",
              "        <script src=\"https://cdn.plot.ly/plotly-2.8.3.min.js\"></script>                <div id=\"164a4f1e-31fd-4d36-b52b-735dd807412c\" class=\"plotly-graph-div\" style=\"height:525px; width:100%;\"></div>            <script type=\"text/javascript\">                                    window.PLOTLYENV=window.PLOTLYENV || {};                                    if (document.getElementById(\"164a4f1e-31fd-4d36-b52b-735dd807412c\")) {                    Plotly.newPlot(                        \"164a4f1e-31fd-4d36-b52b-735dd807412c\",                        [{\"alignmentgroup\":\"True\",\"bingroup\":\"x\",\"hovertemplate\":\"DEATH_EVENT=1<br>SERUM SODIUM=%{x}<br>count=%{y}<extra></extra>\",\"legendgroup\":\"1\",\"marker\":{\"color\":\"#00cc96\",\"pattern\":{\"shape\":\"\"}},\"name\":\"1\",\"offsetgroup\":\"1\",\"orientation\":\"v\",\"showlegend\":true,\"x\":[130,136,129,137,116,132,137,131,138,133,131,140,137,137,136,140,127,140,121,136,140,134,144,138,136,134,132,134,132,128,140,134,134,145,142,134,136,139,142,135,130,138,133,140,138,139,146,134,132,132,136,136,139,131,145,127,136,140,142,135,132,134,139,132,141,135,138,132,137,134,134,124,134,139,134,135,142,139,135,134,136,136,134,137,136,134,144,135,145,130,134,127,138,129,134],\"xaxis\":\"x\",\"yaxis\":\"y\",\"type\":\"histogram\"},{\"alignmentgroup\":\"True\",\"boxpoints\":\"all\",\"customdata\":[[75.0,0.0,582.0,0.0,20.0,1.0,265000.0,1.9,1.0,0.0,4.0,1.0],[55.0,0.0,7861.0,0.0,38.0,0.0,263358.03,1.1,1.0,0.0,6.0,1.0],[65.0,0.0,146.0,0.0,20.0,0.0,162000.0,1.3,1.0,1.0,7.0,1.0],[50.0,1.0,111.0,0.0,20.0,0.0,210000.0,1.9,1.0,0.0,7.0,1.0],[65.0,1.0,160.0,1.0,20.0,0.0,327000.0,2.7,0.0,0.0,8.0,1.0],[90.0,1.0,47.0,0.0,40.0,1.0,204000.0,2.1,1.0,1.0,8.0,1.0],[75.0,1.0,246.0,0.0,15.0,0.0,127000.0,1.2,1.0,0.0,10.0,1.0],[60.0,1.0,315.0,1.0,60.0,0.0,454000.0,1.1,1.0,1.0,10.0,1.0],[65.0,0.0,157.0,0.0,65.0,0.0,263358.03,1.5,0.0,0.0,10.0,1.0],[80.0,1.0,123.0,0.0,35.0,1.0,388000.0,9.4,1.0,1.0,10.0,1.0],[75.0,1.0,81.0,0.0,38.0,1.0,368000.0,4.0,1.0,1.0,10.0,1.0],[62.0,0.0,231.0,0.0,25.0,1.0,253000.0,0.9,1.0,1.0,10.0,1.0],[45.0,1.0,981.0,0.0,30.0,0.0,136000.0,1.1,1.0,0.0,11.0,1.0],[50.0,1.0,168.0,0.0,38.0,1.0,276000.0,1.1,1.0,0.0,11.0,1.0],[82.0,1.0,379.0,0.0,50.0,0.0,47000.0,1.3,1.0,0.0,13.0,1.0],[87.0,1.0,149.0,0.0,38.0,0.0,262000.0,0.9,1.0,0.0,14.0,1.0],[45.0,0.0,582.0,0.0,14.0,0.0,166000.0,0.8,1.0,0.0,14.0,1.0],[70.0,1.0,125.0,0.0,25.0,1.0,237000.0,1.0,0.0,0.0,15.0,1.0],[48.0,1.0,582.0,1.0,55.0,0.0,87000.0,1.9,0.0,0.0,15.0,1.0],[65.0,1.0,128.0,1.0,30.0,1.0,297000.0,1.6,0.0,0.0,20.0,1.0],[68.0,1.0,220.0,0.0,35.0,1.0,289000.0,0.9,1.0,1.0,20.0,1.0],[75.0,0.0,582.0,1.0,30.0,1.0,263358.03,1.83,0.0,0.0,23.0,1.0],[80.0,0.0,148.0,1.0,38.0,0.0,149000.0,1.9,1.0,1.0,23.0,1.0],[95.0,1.0,112.0,0.0,40.0,1.0,196000.0,1.0,0.0,0.0,24.0,1.0],[70.0,0.0,122.0,1.0,45.0,1.0,284000.0,1.3,1.0,1.0,26.0,1.0],[58.0,1.0,60.0,0.0,38.0,0.0,153000.0,5.8,1.0,0.0,26.0,1.0],[82.0,0.0,70.0,1.0,30.0,0.0,200000.0,1.2,1.0,1.0,26.0,1.0],[94.0,0.0,582.0,1.0,38.0,1.0,263358.03,1.83,1.0,0.0,27.0,1.0],[85.0,0.0,23.0,0.0,45.0,0.0,360000.0,3.0,1.0,0.0,28.0,1.0],[50.0,1.0,249.0,1.0,35.0,1.0,319000.0,1.0,0.0,0.0,28.0,1.0],[65.0,0.0,94.0,1.0,50.0,1.0,188000.0,1.0,1.0,0.0,29.0,1.0],[69.0,0.0,582.0,1.0,35.0,0.0,228000.0,3.5,1.0,0.0,30.0,1.0],[90.0,1.0,60.0,1.0,50.0,0.0,226000.0,1.0,1.0,0.0,30.0,1.0],[82.0,1.0,855.0,1.0,50.0,1.0,321000.0,1.0,0.0,0.0,30.0,1.0],[60.0,0.0,235.0,1.0,38.0,0.0,329000.0,3.0,0.0,0.0,30.0,1.0],[70.0,0.0,582.0,0.0,20.0,1.0,263358.03,1.83,1.0,1.0,31.0,1.0],[50.0,0.0,124.0,1.0,30.0,1.0,153000.0,1.2,0.0,1.0,32.0,1.0],[70.0,0.0,571.0,1.0,45.0,1.0,185000.0,1.2,1.0,1.0,33.0,1.0],[60.0,1.0,588.0,1.0,60.0,0.0,194000.0,1.1,0.0,0.0,33.0,1.0],[50.0,0.0,582.0,1.0,38.0,0.0,310000.0,1.9,1.0,1.0,35.0,1.0],[51.0,0.0,1380.0,0.0,25.0,1.0,271000.0,0.9,1.0,0.0,38.0,1.0],[60.0,0.0,582.0,1.0,38.0,1.0,451000.0,0.6,1.0,1.0,40.0,1.0],[80.0,1.0,553.0,0.0,20.0,1.0,140000.0,4.4,1.0,0.0,41.0,1.0],[57.0,1.0,129.0,0.0,30.0,0.0,395000.0,1.0,0.0,0.0,42.0,1.0],[68.0,1.0,577.0,0.0,25.0,1.0,166000.0,1.0,1.0,0.0,43.0,1.0],[53.0,1.0,91.0,0.0,20.0,1.0,418000.0,1.4,0.0,0.0,43.0,1.0],[60.0,0.0,3964.0,1.0,62.0,0.0,263358.03,6.8,0.0,0.0,43.0,1.0],[70.0,1.0,69.0,1.0,50.0,1.0,351000.0,1.0,0.0,0.0,44.0,1.0],[60.0,1.0,260.0,1.0,38.0,0.0,255000.0,2.2,0.0,1.0,45.0,1.0],[95.0,1.0,371.0,0.0,30.0,0.0,461000.0,2.0,1.0,0.0,50.0,1.0],[49.0,0.0,789.0,0.0,20.0,1.0,319000.0,1.1,1.0,1.0,55.0,1.0],[72.0,0.0,364.0,1.0,20.0,1.0,254000.0,1.3,1.0,1.0,59.0,1.0],[45.0,0.0,7702.0,1.0,25.0,1.0,390000.0,1.0,1.0,0.0,60.0,1.0],[50.0,0.0,318.0,0.0,40.0,1.0,216000.0,2.3,0.0,0.0,60.0,1.0],[45.0,0.0,582.0,0.0,35.0,0.0,385000.0,1.0,1.0,0.0,61.0,1.0],[60.0,0.0,68.0,0.0,20.0,0.0,119000.0,2.9,1.0,1.0,64.0,1.0],[42.0,1.0,250.0,1.0,15.0,0.0,213000.0,1.3,0.0,0.0,65.0,1.0],[72.0,1.0,110.0,0.0,25.0,0.0,274000.0,1.0,1.0,1.0,65.0,1.0],[70.0,0.0,161.0,0.0,25.0,0.0,244000.0,1.2,0.0,0.0,66.0,1.0],[65.0,0.0,113.0,1.0,25.0,0.0,497000.0,1.83,1.0,0.0,67.0,1.0],[85.0,0.0,5882.0,0.0,35.0,0.0,243000.0,1.0,1.0,1.0,72.0,1.0],[69.0,0.0,582.0,0.0,20.0,0.0,266000.0,1.2,1.0,1.0,73.0,1.0],[60.0,1.0,47.0,0.0,20.0,0.0,204000.0,0.7,1.0,1.0,73.0,1.0],[60.0,1.0,76.0,1.0,25.0,0.0,196000.0,2.5,0.0,0.0,77.0,1.0],[59.0,1.0,280.0,1.0,25.0,1.0,302000.0,1.0,0.0,0.0,78.0,1.0],[60.0,1.0,154.0,0.0,25.0,0.0,210000.0,1.7,1.0,0.0,82.0,1.0],[72.0,1.0,328.0,0.0,30.0,1.0,621000.0,1.7,0.0,1.0,88.0,1.0],[85.0,0.0,129.0,0.0,60.0,0.0,306000.0,1.2,1.0,1.0,90.0,1.0],[70.0,1.0,143.0,0.0,60.0,0.0,351000.0,1.3,0.0,0.0,90.0,1.0],[86.0,0.0,582.0,0.0,38.0,0.0,263358.03,1.83,0.0,0.0,95.0,1.0],[60.0,0.0,582.0,0.0,40.0,0.0,217000.0,3.7,1.0,0.0,96.0,1.0],[46.0,0.0,168.0,1.0,17.0,1.0,271000.0,2.1,0.0,0.0,100.0,1.0],[80.0,0.0,805.0,0.0,38.0,0.0,263358.03,1.1,1.0,0.0,109.0,1.0],[72.0,1.0,943.0,0.0,25.0,1.0,338000.0,1.7,1.0,1.0,111.0,1.0],[75.0,1.0,582.0,0.0,30.0,0.0,225000.0,1.83,1.0,0.0,113.0,1.0],[72.0,0.0,233.0,0.0,45.0,1.0,235000.0,2.5,0.0,0.0,115.0,1.0],[50.0,1.0,2334.0,1.0,35.0,0.0,75000.0,0.9,0.0,0.0,126.0,1.0],[45.0,0.0,2442.0,1.0,30.0,0.0,334000.0,1.1,1.0,0.0,129.0,1.0],[80.0,0.0,776.0,1.0,38.0,1.0,192000.0,1.3,0.0,0.0,130.0,1.0],[59.0,0.0,66.0,1.0,20.0,0.0,70000.0,2.4,1.0,0.0,135.0,1.0],[59.0,1.0,176.0,1.0,25.0,0.0,221000.0,1.0,1.0,1.0,150.0,1.0],[65.0,0.0,395.0,1.0,25.0,0.0,265000.0,1.2,1.0,1.0,154.0,1.0],[75.0,0.0,99.0,0.0,38.0,1.0,224000.0,2.5,1.0,0.0,162.0,1.0],[58.0,1.0,145.0,0.0,25.0,0.0,219000.0,1.2,1.0,1.0,170.0,1.0],[60.667,1.0,104.0,1.0,30.0,0.0,389000.0,1.5,1.0,0.0,171.0,1.0],[50.0,0.0,582.0,0.0,50.0,0.0,153000.0,0.6,0.0,0.0,172.0,1.0],[60.0,0.0,1896.0,1.0,25.0,0.0,365000.0,2.1,0.0,0.0,172.0,1.0],[45.0,0.0,582.0,0.0,20.0,1.0,126000.0,1.6,1.0,0.0,180.0,1.0],[77.0,1.0,418.0,0.0,45.0,0.0,223000.0,1.8,1.0,0.0,180.0,1.0],[48.0,1.0,131.0,1.0,30.0,1.0,244000.0,1.6,0.0,0.0,193.0,1.0],[73.0,0.0,582.0,0.0,20.0,0.0,263358.03,1.83,1.0,0.0,198.0,1.0],[60.0,0.0,166.0,0.0,30.0,0.0,62000.0,1.7,0.0,0.0,207.0,1.0],[55.0,0.0,2017.0,0.0,25.0,0.0,314000.0,1.1,1.0,0.0,214.0,1.0],[65.0,1.0,258.0,1.0,25.0,0.0,198000.0,1.4,1.0,0.0,235.0,1.0],[55.0,0.0,1199.0,0.0,20.0,0.0,263358.03,1.83,1.0,1.0,241.0,1.0]],\"fillcolor\":\"rgba(255,255,255,0)\",\"hoveron\":\"points\",\"hovertemplate\":\"DEATH_EVENT=%{customdata[11]}<br>SERUM SODIUM=%{x}<br>age=%{customdata[0]}<br>anaemia=%{customdata[1]}<br>creatine_phosphokinase=%{customdata[2]}<br>diabetes=%{customdata[3]}<br>ejection_fraction=%{customdata[4]}<br>high_blood_pressure=%{customdata[5]}<br>platelets=%{customdata[6]}<br>serum_creatine=%{customdata[7]}<br>sex=%{customdata[8]}<br>smoking=%{customdata[9]}<br>time=%{customdata[10]}<extra></extra>\",\"jitter\":0,\"legendgroup\":\"1\",\"line\":{\"color\":\"rgba(255,255,255,0)\"},\"marker\":{\"color\":\"#00cc96\",\"symbol\":\"line-ns-open\"},\"name\":\"1\",\"offsetgroup\":\"1\",\"showlegend\":false,\"x\":[130,136,129,137,116,132,137,131,138,133,131,140,137,137,136,140,127,140,121,136,140,134,144,138,136,134,132,134,132,128,140,134,134,145,142,134,136,139,142,135,130,138,133,140,138,139,146,134,132,132,136,136,139,131,145,127,136,140,142,135,132,134,139,132,141,135,138,132,137,134,134,124,134,139,134,135,142,139,135,134,136,136,134,137,136,134,144,135,145,130,134,127,138,129,134],\"xaxis\":\"x2\",\"yaxis\":\"y2\",\"type\":\"box\"},{\"alignmentgroup\":\"True\",\"bingroup\":\"x\",\"hovertemplate\":\"DEATH_EVENT=0<br>SERUM SODIUM=%{x}<br>count=%{y}<extra></extra>\",\"legendgroup\":\"0\",\"marker\":{\"color\":\"#ab63fa\",\"pattern\":{\"shape\":\"\"}},\"name\":\"0\",\"offsetgroup\":\"0\",\"orientation\":\"v\",\"showlegend\":true,\"x\":[138,137,135,138,137,134,138,138,139,140,139,137,140,140,131,140,136,137,133,140,137,140,139,144,136,133,137,142,141,134,136,137,140,141,137,144,140,143,137,138,133,142,135,136,126,139,136,138,140,135,136,140,145,135,137,136,145,138,131,137,145,137,137,137,130,136,138,140,132,141,141,136,137,136,139,134,137,136,140,136,136,134,139,134,139,137,133,138,133,136,140,145,139,137,138,135,140,145,140,136,136,140,134,135,130,142,137,138,134,113,137,136,138,136,137,136,141,136,141,130,136,140,138,134,134,141,134,140,145,139,134,138,125,132,140,130,134,134,137,137,137,137,148,132,136,137,139,136,136,141,134,137,135,142,130,139,143,133,132,139,142,139,139,135,135,138,133,140,141,140,140,140,132,130,134,133,140,137,137,142,140,136,136,137,136,128,138,141,135,140,132,142,144,141,139,140,136,143,139,138,140,136],\"xaxis\":\"x\",\"yaxis\":\"y\",\"type\":\"histogram\"},{\"alignmentgroup\":\"True\",\"boxpoints\":\"all\",\"customdata\":[[49.0,1.0,80.0,0.0,30.0,1.0,427000.0,1.0,0.0,0.0,12.0,0.0],[65.0,1.0,52.0,0.0,25.0,1.0,276000.0,1.3,0.0,0.0,16.0,0.0],[53.0,0.0,63.0,1.0,60.0,0.0,368000.0,0.8,1.0,0.0,22.0,0.0],[50.0,1.0,159.0,1.0,30.0,0.0,302000.0,1.2,0.0,0.0,29.0,0.0],[60.0,0.0,2656.0,1.0,30.0,0.0,305000.0,2.3,1.0,0.0,30.0,0.0],[72.0,0.0,127.0,1.0,50.0,1.0,218000.0,1.0,1.0,0.0,33.0,0.0],[70.0,1.0,75.0,0.0,35.0,0.0,223000.0,2.7,1.0,1.0,54.0,0.0],[60.0,1.0,607.0,0.0,40.0,0.0,216000.0,0.6,1.0,1.0,54.0,0.0],[55.0,0.0,109.0,0.0,35.0,0.0,254000.0,1.1,1.0,1.0,60.0,0.0],[41.0,0.0,148.0,0.0,40.0,0.0,374000.0,0.8,1.0,1.0,68.0,0.0],[58.0,0.0,582.0,1.0,35.0,0.0,122000.0,0.9,1.0,1.0,71.0,0.0],[65.0,0.0,224.0,1.0,50.0,0.0,149000.0,1.3,1.0,1.0,72.0,0.0],[70.0,0.0,92.0,0.0,60.0,1.0,317000.0,0.8,0.0,1.0,74.0,0.0],[42.0,0.0,102.0,1.0,40.0,0.0,237000.0,1.2,1.0,0.0,74.0,0.0],[75.0,1.0,203.0,1.0,38.0,1.0,283000.0,0.6,1.0,1.0,74.0,0.0],[55.0,0.0,336.0,0.0,45.0,1.0,324000.0,0.9,0.0,0.0,74.0,0.0],[70.0,0.0,69.0,0.0,40.0,0.0,293000.0,1.7,0.0,0.0,75.0,0.0],[67.0,0.0,582.0,0.0,50.0,0.0,263358.03,1.18,1.0,1.0,76.0,0.0],[79.0,1.0,55.0,0.0,50.0,1.0,172000.0,1.8,1.0,0.0,78.0,0.0],[51.0,0.0,78.0,0.0,50.0,0.0,406000.0,0.7,1.0,0.0,79.0,0.0],[55.0,0.0,47.0,0.0,35.0,1.0,173000.0,1.1,1.0,0.0,79.0,0.0],[65.0,1.0,68.0,1.0,60.0,1.0,304000.0,0.8,1.0,0.0,79.0,0.0],[44.0,0.0,84.0,1.0,40.0,1.0,235000.0,0.7,1.0,0.0,79.0,0.0],[57.0,1.0,115.0,0.0,25.0,1.0,181000.0,1.1,1.0,0.0,79.0,0.0],[70.0,0.0,66.0,1.0,45.0,0.0,249000.0,0.8,1.0,1.0,80.0,0.0],[60.0,0.0,897.0,1.0,45.0,0.0,297000.0,1.0,1.0,0.0,80.0,0.0],[42.0,0.0,582.0,0.0,60.0,0.0,263358.03,1.18,0.0,0.0,82.0,0.0],[58.0,0.0,144.0,1.0,38.0,1.0,327000.0,0.7,0.0,0.0,83.0,0.0],[58.0,1.0,133.0,0.0,60.0,1.0,219000.0,1.0,1.0,0.0,83.0,0.0],[63.0,1.0,514.0,1.0,25.0,1.0,254000.0,1.3,1.0,0.0,83.0,0.0],[70.0,1.0,59.0,0.0,60.0,0.0,255000.0,1.1,0.0,0.0,85.0,0.0],[60.0,1.0,156.0,1.0,25.0,1.0,318000.0,1.2,0.0,0.0,85.0,0.0],[63.0,1.0,61.0,1.0,40.0,0.0,221000.0,1.1,0.0,0.0,86.0,0.0],[65.0,1.0,305.0,0.0,25.0,0.0,298000.0,1.1,1.0,0.0,87.0,0.0],[75.0,0.0,582.0,0.0,45.0,1.0,263358.03,1.18,1.0,0.0,87.0,0.0],[80.0,0.0,898.0,0.0,25.0,0.0,149000.0,1.1,1.0,1.0,87.0,0.0],[42.0,0.0,5209.0,0.0,30.0,0.0,226000.0,1.0,1.0,1.0,87.0,0.0],[60.0,0.0,53.0,0.0,50.0,1.0,286000.0,2.3,0.0,0.0,87.0,0.0],[55.0,0.0,748.0,0.0,45.0,0.0,263000.0,1.3,1.0,0.0,88.0,0.0],[45.0,1.0,1876.0,1.0,35.0,0.0,226000.0,0.9,1.0,0.0,88.0,0.0],[63.0,0.0,936.0,0.0,38.0,0.0,304000.0,1.1,1.0,1.0,88.0,0.0],[45.0,0.0,292.0,1.0,35.0,0.0,850000.0,1.3,1.0,1.0,88.0,0.0],[55.0,0.0,60.0,0.0,35.0,0.0,228000.0,1.2,1.0,1.0,90.0,0.0],[50.0,0.0,369.0,1.0,25.0,0.0,252000.0,1.6,1.0,0.0,90.0,0.0],[60.0,1.0,754.0,1.0,40.0,1.0,328000.0,1.2,1.0,0.0,91.0,0.0],[58.0,1.0,400.0,0.0,40.0,0.0,164000.0,1.0,0.0,0.0,91.0,0.0],[60.0,1.0,96.0,1.0,60.0,1.0,271000.0,0.7,0.0,0.0,94.0,0.0],[85.0,1.0,102.0,0.0,60.0,0.0,507000.0,3.2,0.0,0.0,94.0,0.0],[65.0,1.0,113.0,1.0,60.0,1.0,203000.0,0.9,0.0,0.0,94.0,0.0],[60.0,1.0,737.0,0.0,60.0,1.0,210000.0,1.5,1.0,1.0,95.0,0.0],[66.0,1.0,68.0,1.0,38.0,1.0,162000.0,1.0,0.0,0.0,95.0,0.0],[60.0,0.0,96.0,1.0,38.0,0.0,228000.0,0.75,0.0,0.0,95.0,0.0],[60.0,1.0,582.0,0.0,30.0,1.0,127000.0,0.9,0.0,0.0,95.0,0.0],[43.0,1.0,358.0,0.0,50.0,0.0,237000.0,1.3,0.0,0.0,97.0,0.0],[58.0,1.0,200.0,1.0,60.0,0.0,300000.0,0.8,0.0,0.0,104.0,0.0],[61.0,0.0,248.0,0.0,30.0,1.0,267000.0,0.7,1.0,1.0,104.0,0.0],[53.0,1.0,270.0,1.0,35.0,0.0,227000.0,3.4,1.0,0.0,105.0,0.0],[53.0,1.0,1808.0,0.0,60.0,1.0,249000.0,0.7,1.0,1.0,106.0,0.0],[60.0,1.0,1082.0,1.0,45.0,0.0,250000.0,6.1,1.0,0.0,107.0,0.0],[46.0,0.0,719.0,0.0,40.0,1.0,263358.03,1.18,0.0,0.0,107.0,0.0],[63.0,0.0,193.0,0.0,60.0,1.0,295000.0,1.3,1.0,1.0,107.0,0.0],[81.0,0.0,4540.0,0.0,35.0,0.0,231000.0,1.18,1.0,1.0,107.0,0.0],[75.0,0.0,582.0,0.0,40.0,0.0,263358.03,1.18,1.0,0.0,107.0,0.0],[65.0,1.0,59.0,1.0,60.0,0.0,172000.0,0.9,0.0,0.0,107.0,0.0],[68.0,1.0,646.0,0.0,25.0,0.0,305000.0,2.1,1.0,0.0,108.0,0.0],[62.0,0.0,281.0,1.0,35.0,0.0,221000.0,1.0,0.0,0.0,108.0,0.0],[50.0,0.0,1548.0,0.0,30.0,1.0,211000.0,0.8,1.0,0.0,108.0,0.0],[46.0,1.0,291.0,0.0,35.0,0.0,348000.0,0.9,0.0,0.0,109.0,0.0],[50.0,0.0,482.0,1.0,30.0,0.0,329000.0,0.9,0.0,0.0,109.0,0.0],[61.0,1.0,84.0,0.0,40.0,1.0,229000.0,0.9,0.0,0.0,110.0,0.0],[50.0,0.0,185.0,0.0,30.0,0.0,266000.0,0.7,1.0,1.0,112.0,0.0],[52.0,0.0,132.0,0.0,30.0,0.0,218000.0,0.7,1.0,1.0,112.0,0.0],[64.0,0.0,1610.0,0.0,60.0,0.0,242000.0,1.0,1.0,0.0,113.0,0.0],[60.0,0.0,2261.0,0.0,35.0,1.0,228000.0,0.9,1.0,0.0,115.0,0.0],[62.0,0.0,30.0,1.0,60.0,1.0,244000.0,0.9,1.0,0.0,117.0,0.0],[50.0,0.0,115.0,0.0,45.0,1.0,184000.0,0.9,1.0,1.0,118.0,0.0],[50.0,0.0,1846.0,1.0,35.0,0.0,263358.03,1.18,1.0,1.0,119.0,0.0],[65.0,1.0,335.0,0.0,35.0,1.0,235000.0,0.8,0.0,0.0,120.0,0.0],[60.0,1.0,231.0,1.0,25.0,0.0,194000.0,1.7,1.0,0.0,120.0,0.0],[52.0,1.0,58.0,0.0,35.0,0.0,277000.0,1.4,0.0,0.0,120.0,0.0],[50.0,0.0,250.0,0.0,25.0,0.0,262000.0,1.0,1.0,1.0,120.0,0.0],[85.0,1.0,910.0,0.0,50.0,0.0,235000.0,1.3,1.0,0.0,121.0,0.0],[59.0,1.0,129.0,0.0,45.0,1.0,362000.0,1.1,1.0,1.0,121.0,0.0],[66.0,1.0,72.0,0.0,40.0,1.0,242000.0,1.2,1.0,0.0,121.0,0.0],[45.0,1.0,130.0,0.0,35.0,0.0,174000.0,0.8,1.0,1.0,121.0,0.0],[63.0,1.0,582.0,0.0,40.0,0.0,448000.0,0.9,1.0,1.0,123.0,0.0],[53.0,0.0,196.0,0.0,60.0,0.0,220000.0,0.7,1.0,1.0,134.0,0.0],[65.0,0.0,582.0,1.0,40.0,0.0,270000.0,1.0,0.0,0.0,140.0,0.0],[70.0,0.0,835.0,0.0,35.0,1.0,305000.0,0.8,0.0,0.0,145.0,0.0],[51.0,1.0,582.0,1.0,35.0,0.0,263358.03,1.5,1.0,1.0,145.0,0.0],[52.0,0.0,3966.0,0.0,40.0,0.0,325000.0,0.9,1.0,1.0,146.0,0.0],[70.0,1.0,171.0,0.0,60.0,1.0,176000.0,1.1,1.0,1.0,146.0,0.0],[50.0,1.0,115.0,0.0,20.0,0.0,189000.0,0.8,1.0,0.0,146.0,0.0],[65.0,0.0,198.0,1.0,35.0,1.0,281000.0,0.9,1.0,1.0,146.0,0.0],[60.0,1.0,95.0,0.0,60.0,0.0,337000.0,1.0,1.0,1.0,146.0,0.0],[69.0,0.0,1419.0,0.0,40.0,0.0,105000.0,1.0,1.0,1.0,147.0,0.0],[49.0,1.0,69.0,0.0,50.0,0.0,132000.0,1.0,0.0,0.0,147.0,0.0],[63.0,1.0,122.0,1.0,60.0,0.0,267000.0,1.2,1.0,0.0,147.0,0.0],[55.0,0.0,835.0,0.0,40.0,0.0,279000.0,0.7,1.0,1.0,147.0,0.0],[40.0,0.0,478.0,1.0,30.0,0.0,303000.0,0.9,1.0,0.0,148.0,0.0],[60.667,1.0,151.0,1.0,40.0,1.0,201000.0,1.0,0.0,0.0,172.0,0.0],[40.0,0.0,244.0,0.0,45.0,1.0,275000.0,0.9,0.0,0.0,174.0,0.0],[80.0,0.0,582.0,1.0,35.0,0.0,350000.0,2.1,1.0,0.0,174.0,0.0],[64.0,1.0,62.0,0.0,60.0,0.0,309000.0,1.5,0.0,0.0,174.0,0.0],[50.0,1.0,121.0,1.0,40.0,0.0,260000.0,0.7,1.0,0.0,175.0,0.0],[73.0,1.0,231.0,1.0,30.0,0.0,160000.0,1.18,1.0,1.0,180.0,0.0],[45.0,0.0,582.0,1.0,38.0,1.0,263358.03,1.18,0.0,0.0,185.0,0.0],[65.0,0.0,167.0,0.0,30.0,0.0,259000.0,0.8,0.0,0.0,186.0,0.0],[50.0,1.0,582.0,1.0,20.0,1.0,279000.0,1.0,0.0,0.0,186.0,0.0],[60.0,0.0,1211.0,1.0,35.0,0.0,263358.03,1.8,1.0,1.0,186.0,0.0],[63.0,1.0,1767.0,0.0,45.0,0.0,73000.0,0.7,1.0,0.0,186.0,0.0],[45.0,0.0,308.0,1.0,60.0,1.0,377000.0,1.0,1.0,0.0,186.0,0.0],[70.0,0.0,97.0,0.0,60.0,1.0,220000.0,0.9,1.0,0.0,186.0,0.0],[60.0,0.0,59.0,0.0,25.0,1.0,212000.0,3.5,1.0,1.0,187.0,0.0],[78.0,1.0,64.0,0.0,40.0,0.0,277000.0,0.7,1.0,1.0,187.0,0.0],[50.0,1.0,167.0,1.0,45.0,0.0,362000.0,1.0,0.0,0.0,187.0,0.0],[40.0,1.0,101.0,0.0,40.0,0.0,226000.0,0.8,0.0,0.0,187.0,0.0],[85.0,0.0,212.0,0.0,38.0,0.0,186000.0,0.9,1.0,0.0,187.0,0.0],[60.0,1.0,2281.0,1.0,40.0,0.0,283000.0,1.0,0.0,0.0,187.0,0.0],[49.0,0.0,972.0,1.0,35.0,1.0,268000.0,0.8,0.0,0.0,187.0,0.0],[70.0,0.0,212.0,1.0,17.0,1.0,389000.0,1.0,1.0,1.0,188.0,0.0],[50.0,0.0,582.0,0.0,62.0,1.0,147000.0,0.8,1.0,1.0,192.0,0.0],[78.0,0.0,224.0,0.0,50.0,0.0,481000.0,1.4,1.0,1.0,192.0,0.0],[65.0,1.0,135.0,0.0,35.0,1.0,290000.0,0.8,1.0,0.0,194.0,0.0],[73.0,0.0,582.0,0.0,35.0,1.0,203000.0,1.3,1.0,0.0,195.0,0.0],[70.0,0.0,1202.0,0.0,50.0,1.0,358000.0,0.9,0.0,0.0,196.0,0.0],[68.0,1.0,1021.0,1.0,35.0,0.0,271000.0,1.1,1.0,0.0,197.0,0.0],[55.0,0.0,582.0,1.0,35.0,1.0,371000.0,0.7,0.0,0.0,197.0,0.0],[65.0,0.0,118.0,0.0,50.0,0.0,194000.0,1.1,1.0,1.0,200.0,0.0],[42.0,1.0,86.0,0.0,35.0,0.0,365000.0,1.1,1.0,1.0,201.0,0.0],[47.0,0.0,582.0,0.0,25.0,0.0,130000.0,0.8,1.0,0.0,201.0,0.0],[58.0,0.0,582.0,1.0,25.0,0.0,504000.0,1.0,1.0,0.0,205.0,0.0],[75.0,0.0,675.0,1.0,60.0,0.0,265000.0,1.4,0.0,0.0,205.0,0.0],[58.0,1.0,57.0,0.0,25.0,0.0,189000.0,1.3,1.0,1.0,205.0,0.0],[55.0,1.0,2794.0,0.0,35.0,1.0,141000.0,1.0,1.0,0.0,206.0,0.0],[65.0,0.0,56.0,0.0,25.0,0.0,237000.0,5.0,0.0,0.0,207.0,0.0],[72.0,0.0,211.0,0.0,25.0,0.0,274000.0,1.2,0.0,0.0,207.0,0.0],[70.0,0.0,93.0,0.0,35.0,0.0,185000.0,1.1,1.0,1.0,208.0,0.0],[40.0,1.0,129.0,0.0,35.0,0.0,255000.0,0.9,1.0,0.0,209.0,0.0],[53.0,1.0,707.0,0.0,38.0,0.0,330000.0,1.4,1.0,1.0,209.0,0.0],[53.0,1.0,582.0,0.0,45.0,0.0,305000.0,1.1,1.0,1.0,209.0,0.0],[77.0,1.0,109.0,0.0,50.0,1.0,406000.0,1.1,1.0,0.0,209.0,0.0],[75.0,0.0,119.0,0.0,50.0,1.0,248000.0,1.1,1.0,0.0,209.0,0.0],[70.0,0.0,232.0,0.0,30.0,0.0,173000.0,1.2,1.0,0.0,210.0,0.0],[65.0,1.0,720.0,1.0,40.0,0.0,257000.0,1.0,0.0,0.0,210.0,0.0],[55.0,1.0,180.0,0.0,45.0,0.0,263358.03,1.18,1.0,1.0,211.0,0.0],[70.0,0.0,81.0,1.0,35.0,1.0,533000.0,1.3,0.0,0.0,212.0,0.0],[65.0,0.0,582.0,1.0,30.0,0.0,249000.0,1.3,1.0,1.0,212.0,0.0],[40.0,0.0,90.0,0.0,35.0,0.0,255000.0,1.1,1.0,1.0,212.0,0.0],[73.0,1.0,1185.0,0.0,40.0,1.0,220000.0,0.9,0.0,0.0,213.0,0.0],[54.0,0.0,582.0,1.0,38.0,0.0,264000.0,1.8,1.0,0.0,213.0,0.0],[61.0,1.0,80.0,1.0,38.0,0.0,282000.0,1.4,1.0,0.0,213.0,0.0],[64.0,0.0,143.0,0.0,25.0,0.0,246000.0,2.4,1.0,0.0,214.0,0.0],[40.0,0.0,624.0,0.0,35.0,0.0,301000.0,1.0,1.0,1.0,214.0,0.0],[53.0,0.0,207.0,1.0,40.0,0.0,223000.0,1.2,0.0,0.0,214.0,0.0],[50.0,0.0,2522.0,0.0,30.0,1.0,404000.0,0.5,0.0,0.0,214.0,0.0],[55.0,0.0,572.0,1.0,35.0,0.0,231000.0,0.8,0.0,0.0,215.0,0.0],[50.0,0.0,245.0,0.0,45.0,1.0,274000.0,1.0,1.0,0.0,215.0,0.0],[70.0,0.0,88.0,1.0,35.0,1.0,236000.0,1.2,0.0,0.0,215.0,0.0],[53.0,1.0,446.0,0.0,60.0,1.0,263358.03,1.0,1.0,0.0,215.0,0.0],[52.0,1.0,191.0,1.0,30.0,1.0,334000.0,1.0,1.0,1.0,216.0,0.0],[65.0,0.0,326.0,0.0,38.0,0.0,294000.0,1.7,0.0,0.0,220.0,0.0],[58.0,0.0,132.0,1.0,38.0,1.0,253000.0,1.0,1.0,0.0,230.0,0.0],[45.0,1.0,66.0,1.0,25.0,0.0,233000.0,0.8,1.0,0.0,230.0,0.0],[53.0,0.0,56.0,0.0,50.0,0.0,308000.0,0.7,1.0,1.0,231.0,0.0],[55.0,0.0,66.0,0.0,40.0,0.0,203000.0,1.0,1.0,0.0,233.0,0.0],[62.0,1.0,655.0,0.0,40.0,0.0,283000.0,0.7,0.0,0.0,233.0,0.0],[68.0,1.0,157.0,1.0,60.0,0.0,208000.0,1.0,0.0,0.0,237.0,0.0],[61.0,0.0,582.0,1.0,38.0,0.0,147000.0,1.2,1.0,0.0,237.0,0.0],[50.0,1.0,298.0,0.0,35.0,0.0,362000.0,0.9,1.0,1.0,240.0,0.0],[56.0,1.0,135.0,1.0,38.0,0.0,133000.0,1.7,1.0,0.0,244.0,0.0],[45.0,0.0,582.0,1.0,38.0,0.0,302000.0,0.9,0.0,0.0,244.0,0.0],[40.0,0.0,582.0,1.0,35.0,0.0,222000.0,1.0,1.0,0.0,244.0,0.0],[44.0,0.0,582.0,1.0,30.0,1.0,263358.03,1.6,1.0,1.0,244.0,0.0],[51.0,0.0,582.0,1.0,40.0,0.0,221000.0,0.9,0.0,0.0,244.0,0.0],[67.0,0.0,213.0,0.0,38.0,0.0,215000.0,1.2,0.0,0.0,245.0,0.0],[42.0,0.0,64.0,0.0,40.0,0.0,189000.0,0.7,1.0,0.0,245.0,0.0],[60.0,1.0,257.0,1.0,30.0,0.0,150000.0,1.0,1.0,1.0,245.0,0.0],[45.0,0.0,582.0,0.0,38.0,1.0,422000.0,0.8,0.0,0.0,245.0,0.0],[70.0,0.0,618.0,0.0,35.0,0.0,327000.0,1.1,0.0,0.0,245.0,0.0],[70.0,0.0,582.0,1.0,38.0,0.0,25100.0,1.1,1.0,0.0,246.0,0.0],[50.0,1.0,1051.0,1.0,30.0,0.0,232000.0,0.7,0.0,0.0,246.0,0.0],[55.0,0.0,84.0,1.0,38.0,0.0,451000.0,1.3,0.0,0.0,246.0,0.0],[70.0,0.0,2695.0,1.0,40.0,0.0,241000.0,1.0,1.0,0.0,247.0,0.0],[70.0,0.0,582.0,0.0,40.0,0.0,51000.0,2.7,1.0,1.0,250.0,0.0],[42.0,0.0,64.0,0.0,30.0,0.0,215000.0,3.8,1.0,1.0,250.0,0.0],[65.0,0.0,1688.0,0.0,38.0,0.0,263358.03,1.1,1.0,1.0,250.0,0.0],[50.0,1.0,54.0,0.0,40.0,0.0,279000.0,0.8,1.0,0.0,250.0,0.0],[55.0,1.0,170.0,1.0,40.0,0.0,336000.0,1.2,1.0,0.0,250.0,0.0],[60.0,0.0,253.0,0.0,35.0,0.0,279000.0,1.7,1.0,0.0,250.0,0.0],[45.0,0.0,582.0,1.0,55.0,0.0,543000.0,1.0,0.0,0.0,250.0,0.0],[65.0,0.0,892.0,1.0,35.0,0.0,263358.03,1.1,0.0,0.0,256.0,0.0],[90.0,1.0,337.0,0.0,38.0,0.0,390000.0,0.9,0.0,0.0,256.0,0.0],[45.0,0.0,615.0,1.0,55.0,0.0,222000.0,0.8,0.0,0.0,257.0,0.0],[60.0,0.0,320.0,0.0,35.0,0.0,133000.0,1.4,1.0,0.0,258.0,0.0],[52.0,0.0,190.0,1.0,38.0,0.0,382000.0,1.0,1.0,1.0,258.0,0.0],[63.0,1.0,103.0,1.0,35.0,0.0,179000.0,0.9,1.0,1.0,270.0,0.0],[62.0,0.0,61.0,1.0,38.0,1.0,155000.0,1.1,1.0,1.0,270.0,0.0],[55.0,0.0,1820.0,0.0,38.0,0.0,270000.0,1.2,0.0,0.0,271.0,0.0],[45.0,0.0,2060.0,1.0,60.0,0.0,742000.0,0.8,0.0,0.0,278.0,0.0],[45.0,0.0,2413.0,0.0,38.0,0.0,140000.0,1.4,1.0,1.0,280.0,0.0],[50.0,0.0,196.0,0.0,45.0,0.0,395000.0,1.6,1.0,1.0,285.0,0.0]],\"fillcolor\":\"rgba(255,255,255,0)\",\"hoveron\":\"points\",\"hovertemplate\":\"DEATH_EVENT=%{customdata[11]}<br>SERUM SODIUM=%{x}<br>age=%{customdata[0]}<br>anaemia=%{customdata[1]}<br>creatine_phosphokinase=%{customdata[2]}<br>diabetes=%{customdata[3]}<br>ejection_fraction=%{customdata[4]}<br>high_blood_pressure=%{customdata[5]}<br>platelets=%{customdata[6]}<br>serum_creatine=%{customdata[7]}<br>sex=%{customdata[8]}<br>smoking=%{customdata[9]}<br>time=%{customdata[10]}<extra></extra>\",\"jitter\":0,\"legendgroup\":\"0\",\"line\":{\"color\":\"rgba(255,255,255,0)\"},\"marker\":{\"color\":\"#ab63fa\",\"symbol\":\"line-ns-open\"},\"name\":\"0\",\"offsetgroup\":\"0\",\"showlegend\":false,\"x\":[138,137,135,138,137,134,138,138,139,140,139,137,140,140,131,140,136,137,133,140,137,140,139,144,136,133,137,142,141,134,136,137,140,141,137,144,140,143,137,138,133,142,135,136,126,139,136,138,140,135,136,140,145,135,137,136,145,138,131,137,145,137,137,137,130,136,138,140,132,141,141,136,137,136,139,134,137,136,140,136,136,134,139,134,139,137,133,138,133,136,140,145,139,137,138,135,140,145,140,136,136,140,134,135,130,142,137,138,134,113,137,136,138,136,137,136,141,136,141,130,136,140,138,134,134,141,134,140,145,139,134,138,125,132,140,130,134,134,137,137,137,137,148,132,136,137,139,136,136,141,134,137,135,142,130,139,143,133,132,139,142,139,139,135,135,138,133,140,141,140,140,140,132,130,134,133,140,137,137,142,140,136,136,137,136,128,138,141,135,140,132,142,144,141,139,140,136,143,139,138,140,136],\"xaxis\":\"x2\",\"yaxis\":\"y2\",\"type\":\"box\"}],                        {\"template\":{\"data\":{\"barpolar\":[{\"marker\":{\"line\":{\"color\":\"rgb(17,17,17)\",\"width\":0.5},\"pattern\":{\"fillmode\":\"overlay\",\"size\":10,\"solidity\":0.2}},\"type\":\"barpolar\"}],\"bar\":[{\"error_x\":{\"color\":\"#f2f5fa\"},\"error_y\":{\"color\":\"#f2f5fa\"},\"marker\":{\"line\":{\"color\":\"rgb(17,17,17)\",\"width\":0.5},\"pattern\":{\"fillmode\":\"overlay\",\"size\":10,\"solidity\":0.2}},\"type\":\"bar\"}],\"carpet\":[{\"aaxis\":{\"endlinecolor\":\"#A2B1C6\",\"gridcolor\":\"#506784\",\"linecolor\":\"#506784\",\"minorgridcolor\":\"#506784\",\"startlinecolor\":\"#A2B1C6\"},\"baxis\":{\"endlinecolor\":\"#A2B1C6\",\"gridcolor\":\"#506784\",\"linecolor\":\"#506784\",\"minorgridcolor\":\"#506784\",\"startlinecolor\":\"#A2B1C6\"},\"type\":\"carpet\"}],\"choropleth\":[{\"colorbar\":{\"outlinewidth\":0,\"ticks\":\"\"},\"type\":\"choropleth\"}],\"contourcarpet\":[{\"colorbar\":{\"outlinewidth\":0,\"ticks\":\"\"},\"type\":\"contourcarpet\"}],\"contour\":[{\"colorbar\":{\"outlinewidth\":0,\"ticks\":\"\"},\"colorscale\":[[0.0,\"#0d0887\"],[0.1111111111111111,\"#46039f\"],[0.2222222222222222,\"#7201a8\"],[0.3333333333333333,\"#9c179e\"],[0.4444444444444444,\"#bd3786\"],[0.5555555555555556,\"#d8576b\"],[0.6666666666666666,\"#ed7953\"],[0.7777777777777778,\"#fb9f3a\"],[0.8888888888888888,\"#fdca26\"],[1.0,\"#f0f921\"]],\"type\":\"contour\"}],\"heatmapgl\":[{\"colorbar\":{\"outlinewidth\":0,\"ticks\":\"\"},\"colorscale\":[[0.0,\"#0d0887\"],[0.1111111111111111,\"#46039f\"],[0.2222222222222222,\"#7201a8\"],[0.3333333333333333,\"#9c179e\"],[0.4444444444444444,\"#bd3786\"],[0.5555555555555556,\"#d8576b\"],[0.6666666666666666,\"#ed7953\"],[0.7777777777777778,\"#fb9f3a\"],[0.8888888888888888,\"#fdca26\"],[1.0,\"#f0f921\"]],\"type\":\"heatmapgl\"}],\"heatmap\":[{\"colorbar\":{\"outlinewidth\":0,\"ticks\":\"\"},\"colorscale\":[[0.0,\"#0d0887\"],[0.1111111111111111,\"#46039f\"],[0.2222222222222222,\"#7201a8\"],[0.3333333333333333,\"#9c179e\"],[0.4444444444444444,\"#bd3786\"],[0.5555555555555556,\"#d8576b\"],[0.6666666666666666,\"#ed7953\"],[0.7777777777777778,\"#fb9f3a\"],[0.8888888888888888,\"#fdca26\"],[1.0,\"#f0f921\"]],\"type\":\"heatmap\"}],\"histogram2dcontour\":[{\"colorbar\":{\"outlinewidth\":0,\"ticks\":\"\"},\"colorscale\":[[0.0,\"#0d0887\"],[0.1111111111111111,\"#46039f\"],[0.2222222222222222,\"#7201a8\"],[0.3333333333333333,\"#9c179e\"],[0.4444444444444444,\"#bd3786\"],[0.5555555555555556,\"#d8576b\"],[0.6666666666666666,\"#ed7953\"],[0.7777777777777778,\"#fb9f3a\"],[0.8888888888888888,\"#fdca26\"],[1.0,\"#f0f921\"]],\"type\":\"histogram2dcontour\"}],\"histogram2d\":[{\"colorbar\":{\"outlinewidth\":0,\"ticks\":\"\"},\"colorscale\":[[0.0,\"#0d0887\"],[0.1111111111111111,\"#46039f\"],[0.2222222222222222,\"#7201a8\"],[0.3333333333333333,\"#9c179e\"],[0.4444444444444444,\"#bd3786\"],[0.5555555555555556,\"#d8576b\"],[0.6666666666666666,\"#ed7953\"],[0.7777777777777778,\"#fb9f3a\"],[0.8888888888888888,\"#fdca26\"],[1.0,\"#f0f921\"]],\"type\":\"histogram2d\"}],\"histogram\":[{\"marker\":{\"pattern\":{\"fillmode\":\"overlay\",\"size\":10,\"solidity\":0.2}},\"type\":\"histogram\"}],\"mesh3d\":[{\"colorbar\":{\"outlinewidth\":0,\"ticks\":\"\"},\"type\":\"mesh3d\"}],\"parcoords\":[{\"line\":{\"colorbar\":{\"outlinewidth\":0,\"ticks\":\"\"}},\"type\":\"parcoords\"}],\"pie\":[{\"automargin\":true,\"type\":\"pie\"}],\"scatter3d\":[{\"line\":{\"colorbar\":{\"outlinewidth\":0,\"ticks\":\"\"}},\"marker\":{\"colorbar\":{\"outlinewidth\":0,\"ticks\":\"\"}},\"type\":\"scatter3d\"}],\"scattercarpet\":[{\"marker\":{\"colorbar\":{\"outlinewidth\":0,\"ticks\":\"\"}},\"type\":\"scattercarpet\"}],\"scattergeo\":[{\"marker\":{\"colorbar\":{\"outlinewidth\":0,\"ticks\":\"\"}},\"type\":\"scattergeo\"}],\"scattergl\":[{\"marker\":{\"line\":{\"color\":\"#283442\"}},\"type\":\"scattergl\"}],\"scattermapbox\":[{\"marker\":{\"colorbar\":{\"outlinewidth\":0,\"ticks\":\"\"}},\"type\":\"scattermapbox\"}],\"scatterpolargl\":[{\"marker\":{\"colorbar\":{\"outlinewidth\":0,\"ticks\":\"\"}},\"type\":\"scatterpolargl\"}],\"scatterpolar\":[{\"marker\":{\"colorbar\":{\"outlinewidth\":0,\"ticks\":\"\"}},\"type\":\"scatterpolar\"}],\"scatter\":[{\"marker\":{\"line\":{\"color\":\"#283442\"}},\"type\":\"scatter\"}],\"scatterternary\":[{\"marker\":{\"colorbar\":{\"outlinewidth\":0,\"ticks\":\"\"}},\"type\":\"scatterternary\"}],\"surface\":[{\"colorbar\":{\"outlinewidth\":0,\"ticks\":\"\"},\"colorscale\":[[0.0,\"#0d0887\"],[0.1111111111111111,\"#46039f\"],[0.2222222222222222,\"#7201a8\"],[0.3333333333333333,\"#9c179e\"],[0.4444444444444444,\"#bd3786\"],[0.5555555555555556,\"#d8576b\"],[0.6666666666666666,\"#ed7953\"],[0.7777777777777778,\"#fb9f3a\"],[0.8888888888888888,\"#fdca26\"],[1.0,\"#f0f921\"]],\"type\":\"surface\"}],\"table\":[{\"cells\":{\"fill\":{\"color\":\"#506784\"},\"line\":{\"color\":\"rgb(17,17,17)\"}},\"header\":{\"fill\":{\"color\":\"#2a3f5f\"},\"line\":{\"color\":\"rgb(17,17,17)\"}},\"type\":\"table\"}]},\"layout\":{\"annotationdefaults\":{\"arrowcolor\":\"#f2f5fa\",\"arrowhead\":0,\"arrowwidth\":1},\"autotypenumbers\":\"strict\",\"coloraxis\":{\"colorbar\":{\"outlinewidth\":0,\"ticks\":\"\"}},\"colorscale\":{\"diverging\":[[0,\"#8e0152\"],[0.1,\"#c51b7d\"],[0.2,\"#de77ae\"],[0.3,\"#f1b6da\"],[0.4,\"#fde0ef\"],[0.5,\"#f7f7f7\"],[0.6,\"#e6f5d0\"],[0.7,\"#b8e186\"],[0.8,\"#7fbc41\"],[0.9,\"#4d9221\"],[1,\"#276419\"]],\"sequential\":[[0.0,\"#0d0887\"],[0.1111111111111111,\"#46039f\"],[0.2222222222222222,\"#7201a8\"],[0.3333333333333333,\"#9c179e\"],[0.4444444444444444,\"#bd3786\"],[0.5555555555555556,\"#d8576b\"],[0.6666666666666666,\"#ed7953\"],[0.7777777777777778,\"#fb9f3a\"],[0.8888888888888888,\"#fdca26\"],[1.0,\"#f0f921\"]],\"sequentialminus\":[[0.0,\"#0d0887\"],[0.1111111111111111,\"#46039f\"],[0.2222222222222222,\"#7201a8\"],[0.3333333333333333,\"#9c179e\"],[0.4444444444444444,\"#bd3786\"],[0.5555555555555556,\"#d8576b\"],[0.6666666666666666,\"#ed7953\"],[0.7777777777777778,\"#fb9f3a\"],[0.8888888888888888,\"#fdca26\"],[1.0,\"#f0f921\"]]},\"colorway\":[\"#636efa\",\"#EF553B\",\"#00cc96\",\"#ab63fa\",\"#FFA15A\",\"#19d3f3\",\"#FF6692\",\"#B6E880\",\"#FF97FF\",\"#FECB52\"],\"font\":{\"color\":\"#f2f5fa\"},\"geo\":{\"bgcolor\":\"rgb(17,17,17)\",\"lakecolor\":\"rgb(17,17,17)\",\"landcolor\":\"rgb(17,17,17)\",\"showlakes\":true,\"showland\":true,\"subunitcolor\":\"#506784\"},\"hoverlabel\":{\"align\":\"left\"},\"hovermode\":\"closest\",\"mapbox\":{\"style\":\"dark\"},\"paper_bgcolor\":\"rgb(17,17,17)\",\"plot_bgcolor\":\"rgb(17,17,17)\",\"polar\":{\"angularaxis\":{\"gridcolor\":\"#506784\",\"linecolor\":\"#506784\",\"ticks\":\"\"},\"bgcolor\":\"rgb(17,17,17)\",\"radialaxis\":{\"gridcolor\":\"#506784\",\"linecolor\":\"#506784\",\"ticks\":\"\"}},\"scene\":{\"xaxis\":{\"backgroundcolor\":\"rgb(17,17,17)\",\"gridcolor\":\"#506784\",\"gridwidth\":2,\"linecolor\":\"#506784\",\"showbackground\":true,\"ticks\":\"\",\"zerolinecolor\":\"#C8D4E3\"},\"yaxis\":{\"backgroundcolor\":\"rgb(17,17,17)\",\"gridcolor\":\"#506784\",\"gridwidth\":2,\"linecolor\":\"#506784\",\"showbackground\":true,\"ticks\":\"\",\"zerolinecolor\":\"#C8D4E3\"},\"zaxis\":{\"backgroundcolor\":\"rgb(17,17,17)\",\"gridcolor\":\"#506784\",\"gridwidth\":2,\"linecolor\":\"#506784\",\"showbackground\":true,\"ticks\":\"\",\"zerolinecolor\":\"#C8D4E3\"}},\"shapedefaults\":{\"line\":{\"color\":\"#f2f5fa\"}},\"sliderdefaults\":{\"bgcolor\":\"#C8D4E3\",\"bordercolor\":\"rgb(17,17,17)\",\"borderwidth\":1,\"tickwidth\":0},\"ternary\":{\"aaxis\":{\"gridcolor\":\"#506784\",\"linecolor\":\"#506784\",\"ticks\":\"\"},\"baxis\":{\"gridcolor\":\"#506784\",\"linecolor\":\"#506784\",\"ticks\":\"\"},\"bgcolor\":\"rgb(17,17,17)\",\"caxis\":{\"gridcolor\":\"#506784\",\"linecolor\":\"#506784\",\"ticks\":\"\"}},\"title\":{\"x\":0.05},\"updatemenudefaults\":{\"bgcolor\":\"#506784\",\"borderwidth\":0},\"xaxis\":{\"automargin\":true,\"gridcolor\":\"#283442\",\"linecolor\":\"#506784\",\"ticks\":\"\",\"title\":{\"standoff\":15},\"zerolinecolor\":\"#283442\",\"zerolinewidth\":2},\"yaxis\":{\"automargin\":true,\"gridcolor\":\"#283442\",\"linecolor\":\"#506784\",\"ticks\":\"\",\"title\":{\"standoff\":15},\"zerolinecolor\":\"#283442\",\"zerolinewidth\":2}}},\"xaxis\":{\"anchor\":\"y\",\"domain\":[0.0,1.0],\"title\":{\"text\":\"SERUM SODIUM\"}},\"yaxis\":{\"anchor\":\"x\",\"domain\":[0.0,0.7326],\"title\":{\"text\":\"count\"}},\"xaxis2\":{\"anchor\":\"y2\",\"domain\":[0.0,1.0],\"matches\":\"x\",\"showticklabels\":false,\"showgrid\":true},\"yaxis2\":{\"anchor\":\"x2\",\"domain\":[0.7426,1.0],\"matches\":\"y2\",\"showticklabels\":false,\"showline\":false,\"ticks\":\"\",\"showgrid\":false},\"legend\":{\"title\":{\"text\":\"DEATH_EVENT\"},\"tracegroupgap\":0},\"title\":{\"text\":\"Distribution of SERUM SODIUM vs DEATH_EVENT\"},\"barmode\":\"relative\"},                        {\"responsive\": true}                    ).then(function(){\n",
              "                            \n",
              "var gd = document.getElementById('164a4f1e-31fd-4d36-b52b-735dd807412c');\n",
              "var x = new MutationObserver(function (mutations, observer) {{\n",
              "        var display = window.getComputedStyle(gd).display;\n",
              "        if (!display || display === 'none') {{\n",
              "            console.log([gd, 'removed!']);\n",
              "            Plotly.purge(gd);\n",
              "            observer.disconnect();\n",
              "        }}\n",
              "}});\n",
              "\n",
              "// Listen for the removal of the full notebook cells\n",
              "var notebookContainer = gd.closest('#notebook-container');\n",
              "if (notebookContainer) {{\n",
              "    x.observe(notebookContainer, {childList: true});\n",
              "}}\n",
              "\n",
              "// Listen for the clearing of the current output cell\n",
              "var outputEl = gd.closest('.output');\n",
              "if (outputEl) {{\n",
              "    x.observe(outputEl, {childList: true});\n",
              "}}\n",
              "\n",
              "                        })                };                            </script>        </div>\n",
              "</body>\n",
              "</html>"
            ]
          },
          "metadata": {}
        }
      ]
    },
    {
      "cell_type": "markdown",
      "source": [
        "\n",
        "\n",
        "---\n",
        "\n",
        "\n",
        "\n",
        "---\n",
        "\n",
        "\n",
        "#  ***PIE CHARTS***\n",
        "\n",
        "\n",
        "\n",
        "\n"
      ],
      "metadata": {
        "id": "BGcY8WyuYeKJ"
      }
    },
    {
      "cell_type": "markdown",
      "source": [
        "### DIABETES DISTRIBUTION & DEATH_EVENT COMPARSION"
      ],
      "metadata": {
        "id": "o2xCDDlIZomm"
      }
    },
    {
      "cell_type": "code",
      "source": [
        "import plotly.graph_objects as go\n",
        "from plotly.subplots import make_subplots\n",
        "\n",
        "d1 = dataset[(dataset[\"DEATH_EVENT\"]==0) & (dataset[\"diabetes\"]==0)]\n",
        "d2 = dataset[(dataset[\"DEATH_EVENT\"]==0) & (dataset[\"diabetes\"]==1)]\n",
        "d3 = dataset[(dataset[\"DEATH_EVENT\"]==1) & (dataset[\"diabetes\"]==0)]\n",
        "d4 = dataset[(dataset[\"DEATH_EVENT\"]==1) & (dataset[\"diabetes\"]==1)]\n",
        "\n",
        "label1 = [\"No Diabetes\",\"Diabetes\"]\n",
        "label2 = ['No Diabetes - Survived','Diabetes - Survived', \"No Diabetes -  Died\", \"Diabetes  - Died\"]\n",
        "values1 = [(len(d1)+len(d3)), (len(d2)+len(d4))]\n",
        "values2 = [len(d1),len(d2),len(d3),len(d4)]\n",
        "\n",
        "# Create subplots: use 'domain' type for Pie subplot\n",
        "fig = make_subplots(rows=1, cols=2, specs=[[{'type':'domain'}, {'type':'domain'}]])\n",
        "fig.add_trace(go.Pie(labels=label1, values=values1, name=\"DIABETES\"),\n",
        "              1, 1)\n",
        "fig.add_trace(go.Pie(labels=label2, values=values2, name=\"DIABETES VS DEATH_EVENT\"),\n",
        "              1, 2)\n",
        "\n",
        "# Use `hole` to create a donut-like pie chart\n",
        "fig.update_traces(hole=.4, hoverinfo=\"label\")\n",
        "\n",
        "fig.update_layout(\n",
        "    title_text=\"DIABETES DISTRIBUTION IN THE DATASET \\\n",
        "                  DIABETES VS DEATH_EVENT\",\n",
        "    # Add annotations in the center of the donut pies.\n",
        "    annotations=[dict(text='DIABETES', x=0.20, y=0.5, font_size=10, showarrow=False),\n",
        "                 dict(text='DIABETES VS DEATH_EVENT', x=0.84, y=0.5, font_size=8, showarrow=False)],\n",
        "    autosize=False,width=1200, height=500, paper_bgcolor=\"white\")\n",
        "fig.show()"
      ],
      "metadata": {
        "colab": {
          "base_uri": "https://localhost:8080/",
          "height": 517
        },
        "id": "f7DJSpvkY0zb",
        "outputId": "6e4de092-c16c-447d-9e47-e581ef6ab663"
      },
      "execution_count": 111,
      "outputs": [
        {
          "output_type": "display_data",
          "data": {
            "text/html": [
              "<html>\n",
              "<head><meta charset=\"utf-8\" /></head>\n",
              "<body>\n",
              "    <div>            <script src=\"https://cdnjs.cloudflare.com/ajax/libs/mathjax/2.7.5/MathJax.js?config=TeX-AMS-MML_SVG\"></script><script type=\"text/javascript\">if (window.MathJax) {MathJax.Hub.Config({SVG: {font: \"STIX-Web\"}});}</script>                <script type=\"text/javascript\">window.PlotlyConfig = {MathJaxConfig: 'local'};</script>\n",
              "        <script src=\"https://cdn.plot.ly/plotly-2.8.3.min.js\"></script>                <div id=\"dca135e4-fed9-4ea3-a60f-c4bf5e50bf3e\" class=\"plotly-graph-div\" style=\"height:500px; width:1200px;\"></div>            <script type=\"text/javascript\">                                    window.PLOTLYENV=window.PLOTLYENV || {};                                    if (document.getElementById(\"dca135e4-fed9-4ea3-a60f-c4bf5e50bf3e\")) {                    Plotly.newPlot(                        \"dca135e4-fed9-4ea3-a60f-c4bf5e50bf3e\",                        [{\"labels\":[\"No Diabetes\",\"Diabetes\"],\"name\":\"DIABETES\",\"values\":[172,125],\"type\":\"pie\",\"domain\":{\"x\":[0.0,0.45],\"y\":[0.0,1.0]},\"hole\":0.4,\"hoverinfo\":\"label\"},{\"labels\":[\"No Diabetes - Survived\",\"Diabetes - Survived\",\"No Diabetes -  Died\",\"Diabetes  - Died\"],\"name\":\"DIABETES VS DEATH_EVENT\",\"values\":[117,85,55,40],\"type\":\"pie\",\"domain\":{\"x\":[0.55,1.0],\"y\":[0.0,1.0]},\"hole\":0.4,\"hoverinfo\":\"label\"}],                        {\"template\":{\"data\":{\"bar\":[{\"error_x\":{\"color\":\"#2a3f5f\"},\"error_y\":{\"color\":\"#2a3f5f\"},\"marker\":{\"line\":{\"color\":\"#E5ECF6\",\"width\":0.5},\"pattern\":{\"fillmode\":\"overlay\",\"size\":10,\"solidity\":0.2}},\"type\":\"bar\"}],\"barpolar\":[{\"marker\":{\"line\":{\"color\":\"#E5ECF6\",\"width\":0.5},\"pattern\":{\"fillmode\":\"overlay\",\"size\":10,\"solidity\":0.2}},\"type\":\"barpolar\"}],\"carpet\":[{\"aaxis\":{\"endlinecolor\":\"#2a3f5f\",\"gridcolor\":\"white\",\"linecolor\":\"white\",\"minorgridcolor\":\"white\",\"startlinecolor\":\"#2a3f5f\"},\"baxis\":{\"endlinecolor\":\"#2a3f5f\",\"gridcolor\":\"white\",\"linecolor\":\"white\",\"minorgridcolor\":\"white\",\"startlinecolor\":\"#2a3f5f\"},\"type\":\"carpet\"}],\"choropleth\":[{\"colorbar\":{\"outlinewidth\":0,\"ticks\":\"\"},\"type\":\"choropleth\"}],\"contour\":[{\"colorbar\":{\"outlinewidth\":0,\"ticks\":\"\"},\"colorscale\":[[0.0,\"#0d0887\"],[0.1111111111111111,\"#46039f\"],[0.2222222222222222,\"#7201a8\"],[0.3333333333333333,\"#9c179e\"],[0.4444444444444444,\"#bd3786\"],[0.5555555555555556,\"#d8576b\"],[0.6666666666666666,\"#ed7953\"],[0.7777777777777778,\"#fb9f3a\"],[0.8888888888888888,\"#fdca26\"],[1.0,\"#f0f921\"]],\"type\":\"contour\"}],\"contourcarpet\":[{\"colorbar\":{\"outlinewidth\":0,\"ticks\":\"\"},\"type\":\"contourcarpet\"}],\"heatmap\":[{\"colorbar\":{\"outlinewidth\":0,\"ticks\":\"\"},\"colorscale\":[[0.0,\"#0d0887\"],[0.1111111111111111,\"#46039f\"],[0.2222222222222222,\"#7201a8\"],[0.3333333333333333,\"#9c179e\"],[0.4444444444444444,\"#bd3786\"],[0.5555555555555556,\"#d8576b\"],[0.6666666666666666,\"#ed7953\"],[0.7777777777777778,\"#fb9f3a\"],[0.8888888888888888,\"#fdca26\"],[1.0,\"#f0f921\"]],\"type\":\"heatmap\"}],\"heatmapgl\":[{\"colorbar\":{\"outlinewidth\":0,\"ticks\":\"\"},\"colorscale\":[[0.0,\"#0d0887\"],[0.1111111111111111,\"#46039f\"],[0.2222222222222222,\"#7201a8\"],[0.3333333333333333,\"#9c179e\"],[0.4444444444444444,\"#bd3786\"],[0.5555555555555556,\"#d8576b\"],[0.6666666666666666,\"#ed7953\"],[0.7777777777777778,\"#fb9f3a\"],[0.8888888888888888,\"#fdca26\"],[1.0,\"#f0f921\"]],\"type\":\"heatmapgl\"}],\"histogram\":[{\"marker\":{\"pattern\":{\"fillmode\":\"overlay\",\"size\":10,\"solidity\":0.2}},\"type\":\"histogram\"}],\"histogram2d\":[{\"colorbar\":{\"outlinewidth\":0,\"ticks\":\"\"},\"colorscale\":[[0.0,\"#0d0887\"],[0.1111111111111111,\"#46039f\"],[0.2222222222222222,\"#7201a8\"],[0.3333333333333333,\"#9c179e\"],[0.4444444444444444,\"#bd3786\"],[0.5555555555555556,\"#d8576b\"],[0.6666666666666666,\"#ed7953\"],[0.7777777777777778,\"#fb9f3a\"],[0.8888888888888888,\"#fdca26\"],[1.0,\"#f0f921\"]],\"type\":\"histogram2d\"}],\"histogram2dcontour\":[{\"colorbar\":{\"outlinewidth\":0,\"ticks\":\"\"},\"colorscale\":[[0.0,\"#0d0887\"],[0.1111111111111111,\"#46039f\"],[0.2222222222222222,\"#7201a8\"],[0.3333333333333333,\"#9c179e\"],[0.4444444444444444,\"#bd3786\"],[0.5555555555555556,\"#d8576b\"],[0.6666666666666666,\"#ed7953\"],[0.7777777777777778,\"#fb9f3a\"],[0.8888888888888888,\"#fdca26\"],[1.0,\"#f0f921\"]],\"type\":\"histogram2dcontour\"}],\"mesh3d\":[{\"colorbar\":{\"outlinewidth\":0,\"ticks\":\"\"},\"type\":\"mesh3d\"}],\"parcoords\":[{\"line\":{\"colorbar\":{\"outlinewidth\":0,\"ticks\":\"\"}},\"type\":\"parcoords\"}],\"pie\":[{\"automargin\":true,\"type\":\"pie\"}],\"scatter\":[{\"marker\":{\"colorbar\":{\"outlinewidth\":0,\"ticks\":\"\"}},\"type\":\"scatter\"}],\"scatter3d\":[{\"line\":{\"colorbar\":{\"outlinewidth\":0,\"ticks\":\"\"}},\"marker\":{\"colorbar\":{\"outlinewidth\":0,\"ticks\":\"\"}},\"type\":\"scatter3d\"}],\"scattercarpet\":[{\"marker\":{\"colorbar\":{\"outlinewidth\":0,\"ticks\":\"\"}},\"type\":\"scattercarpet\"}],\"scattergeo\":[{\"marker\":{\"colorbar\":{\"outlinewidth\":0,\"ticks\":\"\"}},\"type\":\"scattergeo\"}],\"scattergl\":[{\"marker\":{\"colorbar\":{\"outlinewidth\":0,\"ticks\":\"\"}},\"type\":\"scattergl\"}],\"scattermapbox\":[{\"marker\":{\"colorbar\":{\"outlinewidth\":0,\"ticks\":\"\"}},\"type\":\"scattermapbox\"}],\"scatterpolar\":[{\"marker\":{\"colorbar\":{\"outlinewidth\":0,\"ticks\":\"\"}},\"type\":\"scatterpolar\"}],\"scatterpolargl\":[{\"marker\":{\"colorbar\":{\"outlinewidth\":0,\"ticks\":\"\"}},\"type\":\"scatterpolargl\"}],\"scatterternary\":[{\"marker\":{\"colorbar\":{\"outlinewidth\":0,\"ticks\":\"\"}},\"type\":\"scatterternary\"}],\"surface\":[{\"colorbar\":{\"outlinewidth\":0,\"ticks\":\"\"},\"colorscale\":[[0.0,\"#0d0887\"],[0.1111111111111111,\"#46039f\"],[0.2222222222222222,\"#7201a8\"],[0.3333333333333333,\"#9c179e\"],[0.4444444444444444,\"#bd3786\"],[0.5555555555555556,\"#d8576b\"],[0.6666666666666666,\"#ed7953\"],[0.7777777777777778,\"#fb9f3a\"],[0.8888888888888888,\"#fdca26\"],[1.0,\"#f0f921\"]],\"type\":\"surface\"}],\"table\":[{\"cells\":{\"fill\":{\"color\":\"#EBF0F8\"},\"line\":{\"color\":\"white\"}},\"header\":{\"fill\":{\"color\":\"#C8D4E3\"},\"line\":{\"color\":\"white\"}},\"type\":\"table\"}]},\"layout\":{\"annotationdefaults\":{\"arrowcolor\":\"#2a3f5f\",\"arrowhead\":0,\"arrowwidth\":1},\"autotypenumbers\":\"strict\",\"coloraxis\":{\"colorbar\":{\"outlinewidth\":0,\"ticks\":\"\"}},\"colorscale\":{\"diverging\":[[0,\"#8e0152\"],[0.1,\"#c51b7d\"],[0.2,\"#de77ae\"],[0.3,\"#f1b6da\"],[0.4,\"#fde0ef\"],[0.5,\"#f7f7f7\"],[0.6,\"#e6f5d0\"],[0.7,\"#b8e186\"],[0.8,\"#7fbc41\"],[0.9,\"#4d9221\"],[1,\"#276419\"]],\"sequential\":[[0.0,\"#0d0887\"],[0.1111111111111111,\"#46039f\"],[0.2222222222222222,\"#7201a8\"],[0.3333333333333333,\"#9c179e\"],[0.4444444444444444,\"#bd3786\"],[0.5555555555555556,\"#d8576b\"],[0.6666666666666666,\"#ed7953\"],[0.7777777777777778,\"#fb9f3a\"],[0.8888888888888888,\"#fdca26\"],[1.0,\"#f0f921\"]],\"sequentialminus\":[[0.0,\"#0d0887\"],[0.1111111111111111,\"#46039f\"],[0.2222222222222222,\"#7201a8\"],[0.3333333333333333,\"#9c179e\"],[0.4444444444444444,\"#bd3786\"],[0.5555555555555556,\"#d8576b\"],[0.6666666666666666,\"#ed7953\"],[0.7777777777777778,\"#fb9f3a\"],[0.8888888888888888,\"#fdca26\"],[1.0,\"#f0f921\"]]},\"colorway\":[\"#636efa\",\"#EF553B\",\"#00cc96\",\"#ab63fa\",\"#FFA15A\",\"#19d3f3\",\"#FF6692\",\"#B6E880\",\"#FF97FF\",\"#FECB52\"],\"font\":{\"color\":\"#2a3f5f\"},\"geo\":{\"bgcolor\":\"white\",\"lakecolor\":\"white\",\"landcolor\":\"#E5ECF6\",\"showlakes\":true,\"showland\":true,\"subunitcolor\":\"white\"},\"hoverlabel\":{\"align\":\"left\"},\"hovermode\":\"closest\",\"mapbox\":{\"style\":\"light\"},\"paper_bgcolor\":\"white\",\"plot_bgcolor\":\"#E5ECF6\",\"polar\":{\"angularaxis\":{\"gridcolor\":\"white\",\"linecolor\":\"white\",\"ticks\":\"\"},\"bgcolor\":\"#E5ECF6\",\"radialaxis\":{\"gridcolor\":\"white\",\"linecolor\":\"white\",\"ticks\":\"\"}},\"scene\":{\"xaxis\":{\"backgroundcolor\":\"#E5ECF6\",\"gridcolor\":\"white\",\"gridwidth\":2,\"linecolor\":\"white\",\"showbackground\":true,\"ticks\":\"\",\"zerolinecolor\":\"white\"},\"yaxis\":{\"backgroundcolor\":\"#E5ECF6\",\"gridcolor\":\"white\",\"gridwidth\":2,\"linecolor\":\"white\",\"showbackground\":true,\"ticks\":\"\",\"zerolinecolor\":\"white\"},\"zaxis\":{\"backgroundcolor\":\"#E5ECF6\",\"gridcolor\":\"white\",\"gridwidth\":2,\"linecolor\":\"white\",\"showbackground\":true,\"ticks\":\"\",\"zerolinecolor\":\"white\"}},\"shapedefaults\":{\"line\":{\"color\":\"#2a3f5f\"}},\"ternary\":{\"aaxis\":{\"gridcolor\":\"white\",\"linecolor\":\"white\",\"ticks\":\"\"},\"baxis\":{\"gridcolor\":\"white\",\"linecolor\":\"white\",\"ticks\":\"\"},\"bgcolor\":\"#E5ECF6\",\"caxis\":{\"gridcolor\":\"white\",\"linecolor\":\"white\",\"ticks\":\"\"}},\"title\":{\"x\":0.05},\"xaxis\":{\"automargin\":true,\"gridcolor\":\"white\",\"linecolor\":\"white\",\"ticks\":\"\",\"title\":{\"standoff\":15},\"zerolinecolor\":\"white\",\"zerolinewidth\":2},\"yaxis\":{\"automargin\":true,\"gridcolor\":\"white\",\"linecolor\":\"white\",\"ticks\":\"\",\"title\":{\"standoff\":15},\"zerolinecolor\":\"white\",\"zerolinewidth\":2}}},\"title\":{\"text\":\"DIABETES DISTRIBUTION IN THE DATASET                   DIABETES VS DEATH_EVENT\"},\"annotations\":[{\"showarrow\":false,\"text\":\"DIABETES\",\"x\":0.2,\"y\":0.5,\"font\":{\"size\":10}},{\"showarrow\":false,\"text\":\"DIABETES VS DEATH_EVENT\",\"x\":0.84,\"y\":0.5,\"font\":{\"size\":8}}],\"autosize\":false,\"width\":1200,\"height\":500,\"paper_bgcolor\":\"white\"},                        {\"responsive\": true}                    ).then(function(){\n",
              "                            \n",
              "var gd = document.getElementById('dca135e4-fed9-4ea3-a60f-c4bf5e50bf3e');\n",
              "var x = new MutationObserver(function (mutations, observer) {{\n",
              "        var display = window.getComputedStyle(gd).display;\n",
              "        if (!display || display === 'none') {{\n",
              "            console.log([gd, 'removed!']);\n",
              "            Plotly.purge(gd);\n",
              "            observer.disconnect();\n",
              "        }}\n",
              "}});\n",
              "\n",
              "// Listen for the removal of the full notebook cells\n",
              "var notebookContainer = gd.closest('#notebook-container');\n",
              "if (notebookContainer) {{\n",
              "    x.observe(notebookContainer, {childList: true});\n",
              "}}\n",
              "\n",
              "// Listen for the clearing of the current output cell\n",
              "var outputEl = gd.closest('.output');\n",
              "if (outputEl) {{\n",
              "    x.observe(outputEl, {childList: true});\n",
              "}}\n",
              "\n",
              "                        })                };                            </script>        </div>\n",
              "</body>\n",
              "</html>"
            ]
          },
          "metadata": {}
        }
      ]
    },
    {
      "cell_type": "markdown",
      "source": [
        "### HIGH BP DISTRIBUTION & DEATH_EVENT COMPARSION"
      ],
      "metadata": {
        "id": "rin7IV9KZ5VN"
      }
    },
    {
      "cell_type": "code",
      "source": [
        "import plotly.graph_objects as go\n",
        "from plotly.subplots import make_subplots\n",
        "\n",
        "d1 = dataset[(dataset[\"DEATH_EVENT\"]==0) & (dataset[\"high_blood_pressure\"]==0)]\n",
        "d2 = dataset[(dataset[\"DEATH_EVENT\"]==1) & (dataset[\"high_blood_pressure\"]==0)]\n",
        "d3 = dataset[(dataset[\"DEATH_EVENT\"]==0) & (dataset[\"high_blood_pressure\"]==1)]\n",
        "d4 = dataset[(dataset[\"DEATH_EVENT\"]==1) & (dataset[\"high_blood_pressure\"]==1)]\n",
        "\n",
        "label1 = [\"No High BP\",\"High BP\"]\n",
        "label2 = ['No High BP - Survived','No High BP - Died', \"High BP -  Survived\", \"High BP  - Died\"]\n",
        "values1 = [(len(d1)+len(d2)), (len(d3)+len(d4))]\n",
        "values2 = [len(d1),len(d2),len(d3),len(d4)]\n",
        "\n",
        "# Create subplots: use 'domain' type for Pie subplot\n",
        "fig = make_subplots(rows=1, cols=2, specs=[[{'type':'domain'}, {'type':'domain'}]])\n",
        "fig.add_trace(go.Pie(labels=label1, values=values1, name=\"HIGH BP\"),\n",
        "              1, 1)\n",
        "fig.add_trace(go.Pie(labels=label2, values=values2, name=\"HIGH BP VS DEATH_EVENT\"),\n",
        "              1, 2)\n",
        "\n",
        "# Use `hole` to create a donut-like pie chart\n",
        "fig.update_traces(hole=.4, hoverinfo=\"label\")\n",
        "\n",
        "fig.update_layout(\n",
        "    title_text=\"HIGH BP DISTRIBUTION IN THE DATASET \\\n",
        "                  HIGH BP VS DEATH_EVENT\",\n",
        "    # Add annotations in the center of the donut pies.\n",
        "    annotations=[dict(text='HIGH BP', x=0.20, y=0.5, font_size=10, showarrow=False),\n",
        "                 dict(text='HIGH BP VS DEATH_EVENT', x=0.84, y=0.5, font_size=8, showarrow=False)],\n",
        "    autosize=False,width=1200, height=500, paper_bgcolor=\"white\")\n",
        "fig.show()"
      ],
      "metadata": {
        "colab": {
          "base_uri": "https://localhost:8080/",
          "height": 517
        },
        "id": "TqURhqlFaDvj",
        "outputId": "6c9ffd03-e01d-4cdc-ac09-42a3b876c44c"
      },
      "execution_count": 112,
      "outputs": [
        {
          "output_type": "display_data",
          "data": {
            "text/html": [
              "<html>\n",
              "<head><meta charset=\"utf-8\" /></head>\n",
              "<body>\n",
              "    <div>            <script src=\"https://cdnjs.cloudflare.com/ajax/libs/mathjax/2.7.5/MathJax.js?config=TeX-AMS-MML_SVG\"></script><script type=\"text/javascript\">if (window.MathJax) {MathJax.Hub.Config({SVG: {font: \"STIX-Web\"}});}</script>                <script type=\"text/javascript\">window.PlotlyConfig = {MathJaxConfig: 'local'};</script>\n",
              "        <script src=\"https://cdn.plot.ly/plotly-2.8.3.min.js\"></script>                <div id=\"cb306fac-eab3-453a-b6a3-a7d864f78fa6\" class=\"plotly-graph-div\" style=\"height:500px; width:1200px;\"></div>            <script type=\"text/javascript\">                                    window.PLOTLYENV=window.PLOTLYENV || {};                                    if (document.getElementById(\"cb306fac-eab3-453a-b6a3-a7d864f78fa6\")) {                    Plotly.newPlot(                        \"cb306fac-eab3-453a-b6a3-a7d864f78fa6\",                        [{\"labels\":[\"No High BP\",\"High BP\"],\"name\":\"HIGH BP\",\"values\":[193,104],\"type\":\"pie\",\"domain\":{\"x\":[0.0,0.45],\"y\":[0.0,1.0]},\"hole\":0.4,\"hoverinfo\":\"label\"},{\"labels\":[\"No High BP - Survived\",\"No High BP - Died\",\"High BP -  Survived\",\"High BP  - Died\"],\"name\":\"HIGH BP VS DEATH_EVENT\",\"values\":[136,57,66,38],\"type\":\"pie\",\"domain\":{\"x\":[0.55,1.0],\"y\":[0.0,1.0]},\"hole\":0.4,\"hoverinfo\":\"label\"}],                        {\"template\":{\"data\":{\"bar\":[{\"error_x\":{\"color\":\"#2a3f5f\"},\"error_y\":{\"color\":\"#2a3f5f\"},\"marker\":{\"line\":{\"color\":\"#E5ECF6\",\"width\":0.5},\"pattern\":{\"fillmode\":\"overlay\",\"size\":10,\"solidity\":0.2}},\"type\":\"bar\"}],\"barpolar\":[{\"marker\":{\"line\":{\"color\":\"#E5ECF6\",\"width\":0.5},\"pattern\":{\"fillmode\":\"overlay\",\"size\":10,\"solidity\":0.2}},\"type\":\"barpolar\"}],\"carpet\":[{\"aaxis\":{\"endlinecolor\":\"#2a3f5f\",\"gridcolor\":\"white\",\"linecolor\":\"white\",\"minorgridcolor\":\"white\",\"startlinecolor\":\"#2a3f5f\"},\"baxis\":{\"endlinecolor\":\"#2a3f5f\",\"gridcolor\":\"white\",\"linecolor\":\"white\",\"minorgridcolor\":\"white\",\"startlinecolor\":\"#2a3f5f\"},\"type\":\"carpet\"}],\"choropleth\":[{\"colorbar\":{\"outlinewidth\":0,\"ticks\":\"\"},\"type\":\"choropleth\"}],\"contour\":[{\"colorbar\":{\"outlinewidth\":0,\"ticks\":\"\"},\"colorscale\":[[0.0,\"#0d0887\"],[0.1111111111111111,\"#46039f\"],[0.2222222222222222,\"#7201a8\"],[0.3333333333333333,\"#9c179e\"],[0.4444444444444444,\"#bd3786\"],[0.5555555555555556,\"#d8576b\"],[0.6666666666666666,\"#ed7953\"],[0.7777777777777778,\"#fb9f3a\"],[0.8888888888888888,\"#fdca26\"],[1.0,\"#f0f921\"]],\"type\":\"contour\"}],\"contourcarpet\":[{\"colorbar\":{\"outlinewidth\":0,\"ticks\":\"\"},\"type\":\"contourcarpet\"}],\"heatmap\":[{\"colorbar\":{\"outlinewidth\":0,\"ticks\":\"\"},\"colorscale\":[[0.0,\"#0d0887\"],[0.1111111111111111,\"#46039f\"],[0.2222222222222222,\"#7201a8\"],[0.3333333333333333,\"#9c179e\"],[0.4444444444444444,\"#bd3786\"],[0.5555555555555556,\"#d8576b\"],[0.6666666666666666,\"#ed7953\"],[0.7777777777777778,\"#fb9f3a\"],[0.8888888888888888,\"#fdca26\"],[1.0,\"#f0f921\"]],\"type\":\"heatmap\"}],\"heatmapgl\":[{\"colorbar\":{\"outlinewidth\":0,\"ticks\":\"\"},\"colorscale\":[[0.0,\"#0d0887\"],[0.1111111111111111,\"#46039f\"],[0.2222222222222222,\"#7201a8\"],[0.3333333333333333,\"#9c179e\"],[0.4444444444444444,\"#bd3786\"],[0.5555555555555556,\"#d8576b\"],[0.6666666666666666,\"#ed7953\"],[0.7777777777777778,\"#fb9f3a\"],[0.8888888888888888,\"#fdca26\"],[1.0,\"#f0f921\"]],\"type\":\"heatmapgl\"}],\"histogram\":[{\"marker\":{\"pattern\":{\"fillmode\":\"overlay\",\"size\":10,\"solidity\":0.2}},\"type\":\"histogram\"}],\"histogram2d\":[{\"colorbar\":{\"outlinewidth\":0,\"ticks\":\"\"},\"colorscale\":[[0.0,\"#0d0887\"],[0.1111111111111111,\"#46039f\"],[0.2222222222222222,\"#7201a8\"],[0.3333333333333333,\"#9c179e\"],[0.4444444444444444,\"#bd3786\"],[0.5555555555555556,\"#d8576b\"],[0.6666666666666666,\"#ed7953\"],[0.7777777777777778,\"#fb9f3a\"],[0.8888888888888888,\"#fdca26\"],[1.0,\"#f0f921\"]],\"type\":\"histogram2d\"}],\"histogram2dcontour\":[{\"colorbar\":{\"outlinewidth\":0,\"ticks\":\"\"},\"colorscale\":[[0.0,\"#0d0887\"],[0.1111111111111111,\"#46039f\"],[0.2222222222222222,\"#7201a8\"],[0.3333333333333333,\"#9c179e\"],[0.4444444444444444,\"#bd3786\"],[0.5555555555555556,\"#d8576b\"],[0.6666666666666666,\"#ed7953\"],[0.7777777777777778,\"#fb9f3a\"],[0.8888888888888888,\"#fdca26\"],[1.0,\"#f0f921\"]],\"type\":\"histogram2dcontour\"}],\"mesh3d\":[{\"colorbar\":{\"outlinewidth\":0,\"ticks\":\"\"},\"type\":\"mesh3d\"}],\"parcoords\":[{\"line\":{\"colorbar\":{\"outlinewidth\":0,\"ticks\":\"\"}},\"type\":\"parcoords\"}],\"pie\":[{\"automargin\":true,\"type\":\"pie\"}],\"scatter\":[{\"marker\":{\"colorbar\":{\"outlinewidth\":0,\"ticks\":\"\"}},\"type\":\"scatter\"}],\"scatter3d\":[{\"line\":{\"colorbar\":{\"outlinewidth\":0,\"ticks\":\"\"}},\"marker\":{\"colorbar\":{\"outlinewidth\":0,\"ticks\":\"\"}},\"type\":\"scatter3d\"}],\"scattercarpet\":[{\"marker\":{\"colorbar\":{\"outlinewidth\":0,\"ticks\":\"\"}},\"type\":\"scattercarpet\"}],\"scattergeo\":[{\"marker\":{\"colorbar\":{\"outlinewidth\":0,\"ticks\":\"\"}},\"type\":\"scattergeo\"}],\"scattergl\":[{\"marker\":{\"colorbar\":{\"outlinewidth\":0,\"ticks\":\"\"}},\"type\":\"scattergl\"}],\"scattermapbox\":[{\"marker\":{\"colorbar\":{\"outlinewidth\":0,\"ticks\":\"\"}},\"type\":\"scattermapbox\"}],\"scatterpolar\":[{\"marker\":{\"colorbar\":{\"outlinewidth\":0,\"ticks\":\"\"}},\"type\":\"scatterpolar\"}],\"scatterpolargl\":[{\"marker\":{\"colorbar\":{\"outlinewidth\":0,\"ticks\":\"\"}},\"type\":\"scatterpolargl\"}],\"scatterternary\":[{\"marker\":{\"colorbar\":{\"outlinewidth\":0,\"ticks\":\"\"}},\"type\":\"scatterternary\"}],\"surface\":[{\"colorbar\":{\"outlinewidth\":0,\"ticks\":\"\"},\"colorscale\":[[0.0,\"#0d0887\"],[0.1111111111111111,\"#46039f\"],[0.2222222222222222,\"#7201a8\"],[0.3333333333333333,\"#9c179e\"],[0.4444444444444444,\"#bd3786\"],[0.5555555555555556,\"#d8576b\"],[0.6666666666666666,\"#ed7953\"],[0.7777777777777778,\"#fb9f3a\"],[0.8888888888888888,\"#fdca26\"],[1.0,\"#f0f921\"]],\"type\":\"surface\"}],\"table\":[{\"cells\":{\"fill\":{\"color\":\"#EBF0F8\"},\"line\":{\"color\":\"white\"}},\"header\":{\"fill\":{\"color\":\"#C8D4E3\"},\"line\":{\"color\":\"white\"}},\"type\":\"table\"}]},\"layout\":{\"annotationdefaults\":{\"arrowcolor\":\"#2a3f5f\",\"arrowhead\":0,\"arrowwidth\":1},\"autotypenumbers\":\"strict\",\"coloraxis\":{\"colorbar\":{\"outlinewidth\":0,\"ticks\":\"\"}},\"colorscale\":{\"diverging\":[[0,\"#8e0152\"],[0.1,\"#c51b7d\"],[0.2,\"#de77ae\"],[0.3,\"#f1b6da\"],[0.4,\"#fde0ef\"],[0.5,\"#f7f7f7\"],[0.6,\"#e6f5d0\"],[0.7,\"#b8e186\"],[0.8,\"#7fbc41\"],[0.9,\"#4d9221\"],[1,\"#276419\"]],\"sequential\":[[0.0,\"#0d0887\"],[0.1111111111111111,\"#46039f\"],[0.2222222222222222,\"#7201a8\"],[0.3333333333333333,\"#9c179e\"],[0.4444444444444444,\"#bd3786\"],[0.5555555555555556,\"#d8576b\"],[0.6666666666666666,\"#ed7953\"],[0.7777777777777778,\"#fb9f3a\"],[0.8888888888888888,\"#fdca26\"],[1.0,\"#f0f921\"]],\"sequentialminus\":[[0.0,\"#0d0887\"],[0.1111111111111111,\"#46039f\"],[0.2222222222222222,\"#7201a8\"],[0.3333333333333333,\"#9c179e\"],[0.4444444444444444,\"#bd3786\"],[0.5555555555555556,\"#d8576b\"],[0.6666666666666666,\"#ed7953\"],[0.7777777777777778,\"#fb9f3a\"],[0.8888888888888888,\"#fdca26\"],[1.0,\"#f0f921\"]]},\"colorway\":[\"#636efa\",\"#EF553B\",\"#00cc96\",\"#ab63fa\",\"#FFA15A\",\"#19d3f3\",\"#FF6692\",\"#B6E880\",\"#FF97FF\",\"#FECB52\"],\"font\":{\"color\":\"#2a3f5f\"},\"geo\":{\"bgcolor\":\"white\",\"lakecolor\":\"white\",\"landcolor\":\"#E5ECF6\",\"showlakes\":true,\"showland\":true,\"subunitcolor\":\"white\"},\"hoverlabel\":{\"align\":\"left\"},\"hovermode\":\"closest\",\"mapbox\":{\"style\":\"light\"},\"paper_bgcolor\":\"white\",\"plot_bgcolor\":\"#E5ECF6\",\"polar\":{\"angularaxis\":{\"gridcolor\":\"white\",\"linecolor\":\"white\",\"ticks\":\"\"},\"bgcolor\":\"#E5ECF6\",\"radialaxis\":{\"gridcolor\":\"white\",\"linecolor\":\"white\",\"ticks\":\"\"}},\"scene\":{\"xaxis\":{\"backgroundcolor\":\"#E5ECF6\",\"gridcolor\":\"white\",\"gridwidth\":2,\"linecolor\":\"white\",\"showbackground\":true,\"ticks\":\"\",\"zerolinecolor\":\"white\"},\"yaxis\":{\"backgroundcolor\":\"#E5ECF6\",\"gridcolor\":\"white\",\"gridwidth\":2,\"linecolor\":\"white\",\"showbackground\":true,\"ticks\":\"\",\"zerolinecolor\":\"white\"},\"zaxis\":{\"backgroundcolor\":\"#E5ECF6\",\"gridcolor\":\"white\",\"gridwidth\":2,\"linecolor\":\"white\",\"showbackground\":true,\"ticks\":\"\",\"zerolinecolor\":\"white\"}},\"shapedefaults\":{\"line\":{\"color\":\"#2a3f5f\"}},\"ternary\":{\"aaxis\":{\"gridcolor\":\"white\",\"linecolor\":\"white\",\"ticks\":\"\"},\"baxis\":{\"gridcolor\":\"white\",\"linecolor\":\"white\",\"ticks\":\"\"},\"bgcolor\":\"#E5ECF6\",\"caxis\":{\"gridcolor\":\"white\",\"linecolor\":\"white\",\"ticks\":\"\"}},\"title\":{\"x\":0.05},\"xaxis\":{\"automargin\":true,\"gridcolor\":\"white\",\"linecolor\":\"white\",\"ticks\":\"\",\"title\":{\"standoff\":15},\"zerolinecolor\":\"white\",\"zerolinewidth\":2},\"yaxis\":{\"automargin\":true,\"gridcolor\":\"white\",\"linecolor\":\"white\",\"ticks\":\"\",\"title\":{\"standoff\":15},\"zerolinecolor\":\"white\",\"zerolinewidth\":2}}},\"title\":{\"text\":\"HIGH BP DISTRIBUTION IN THE DATASET                   HIGH BP VS DEATH_EVENT\"},\"annotations\":[{\"showarrow\":false,\"text\":\"HIGH BP\",\"x\":0.2,\"y\":0.5,\"font\":{\"size\":10}},{\"showarrow\":false,\"text\":\"HIGH BP VS DEATH_EVENT\",\"x\":0.84,\"y\":0.5,\"font\":{\"size\":8}}],\"autosize\":false,\"width\":1200,\"height\":500,\"paper_bgcolor\":\"white\"},                        {\"responsive\": true}                    ).then(function(){\n",
              "                            \n",
              "var gd = document.getElementById('cb306fac-eab3-453a-b6a3-a7d864f78fa6');\n",
              "var x = new MutationObserver(function (mutations, observer) {{\n",
              "        var display = window.getComputedStyle(gd).display;\n",
              "        if (!display || display === 'none') {{\n",
              "            console.log([gd, 'removed!']);\n",
              "            Plotly.purge(gd);\n",
              "            observer.disconnect();\n",
              "        }}\n",
              "}});\n",
              "\n",
              "// Listen for the removal of the full notebook cells\n",
              "var notebookContainer = gd.closest('#notebook-container');\n",
              "if (notebookContainer) {{\n",
              "    x.observe(notebookContainer, {childList: true});\n",
              "}}\n",
              "\n",
              "// Listen for the clearing of the current output cell\n",
              "var outputEl = gd.closest('.output');\n",
              "if (outputEl) {{\n",
              "    x.observe(outputEl, {childList: true});\n",
              "}}\n",
              "\n",
              "                        })                };                            </script>        </div>\n",
              "</body>\n",
              "</html>"
            ]
          },
          "metadata": {}
        }
      ]
    },
    {
      "cell_type": "markdown",
      "source": [
        "### SMOKING DISTRIBUTION & DEATH_EVENT COMPARSION"
      ],
      "metadata": {
        "id": "LM2_BtfHbFJN"
      }
    },
    {
      "cell_type": "code",
      "source": [
        "import plotly.graph_objects as go\n",
        "from plotly.subplots import make_subplots\n",
        "\n",
        "d1 = dataset[(dataset[\"DEATH_EVENT\"]==0) & (dataset[\"smoking\"]==0)]\n",
        "d2 = dataset[(dataset[\"DEATH_EVENT\"]==1) & (dataset[\"smoking\"]==0)]\n",
        "d3 = dataset[(dataset[\"DEATH_EVENT\"]==0) & (dataset[\"smoking\"]==1)]\n",
        "d4 = dataset[(dataset[\"DEATH_EVENT\"]==1) & (dataset[\"smoking\"]==1)]\n",
        "\n",
        "label1 = [\"No Smoking\",\"Smoking\"]\n",
        "label2 = ['No Smoking - Survived','No Smoking - Died', \"Smoking - Survived\", \"Smoking - Died\"]\n",
        "values1 = [(len(d1)+len(d2)), (len(d3)+len(d4))]\n",
        "values2 = [len(d1),len(d2),len(d3),len(d4)]\n",
        "\n",
        "# Create subplots: use 'domain' type for Pie subplot\n",
        "fig = make_subplots(rows=1, cols=2, specs=[[{'type':'domain'}, {'type':'domain'}]])\n",
        "fig.add_trace(go.Pie(labels=label1, values=values1, name=\"SMOKING\"),\n",
        "              1, 1)\n",
        "fig.add_trace(go.Pie(labels=label2, values=values2, name=\"SMOKING VS DEATH_EVENT\"),\n",
        "              1, 2)\n",
        "\n",
        "# Use `hole` to create a donut-like pie chart\n",
        "fig.update_traces(hole=.4, hoverinfo=\"label\")\n",
        "\n",
        "fig.update_layout(\n",
        "    title_text=\"SMOKING DISTRIBUTION IN THE DATASET \\\n",
        "                  SMOKING VS DEATH_EVENT\",\n",
        "    # Add annotations in the center of the donut pies.\n",
        "    annotations=[dict(text='SMOKING', x=0.20, y=0.5, font_size=10, showarrow=False),\n",
        "                 dict(text='SMOKING VS DEATH_EVENT', x=0.84, y=0.5, font_size=8, showarrow=False)],\n",
        "    autosize=False,width=1200, height=500, paper_bgcolor=\"white\")\n",
        "fig.show()"
      ],
      "metadata": {
        "colab": {
          "base_uri": "https://localhost:8080/",
          "height": 517
        },
        "id": "A-vlZsQCbJ3-",
        "outputId": "4114f936-b948-4deb-e4de-cf790d108e78"
      },
      "execution_count": 113,
      "outputs": [
        {
          "output_type": "display_data",
          "data": {
            "text/html": [
              "<html>\n",
              "<head><meta charset=\"utf-8\" /></head>\n",
              "<body>\n",
              "    <div>            <script src=\"https://cdnjs.cloudflare.com/ajax/libs/mathjax/2.7.5/MathJax.js?config=TeX-AMS-MML_SVG\"></script><script type=\"text/javascript\">if (window.MathJax) {MathJax.Hub.Config({SVG: {font: \"STIX-Web\"}});}</script>                <script type=\"text/javascript\">window.PlotlyConfig = {MathJaxConfig: 'local'};</script>\n",
              "        <script src=\"https://cdn.plot.ly/plotly-2.8.3.min.js\"></script>                <div id=\"8de90ce3-89b4-4ef8-aae8-cf688aef0f2c\" class=\"plotly-graph-div\" style=\"height:500px; width:1200px;\"></div>            <script type=\"text/javascript\">                                    window.PLOTLYENV=window.PLOTLYENV || {};                                    if (document.getElementById(\"8de90ce3-89b4-4ef8-aae8-cf688aef0f2c\")) {                    Plotly.newPlot(                        \"8de90ce3-89b4-4ef8-aae8-cf688aef0f2c\",                        [{\"labels\":[\"No Smoking\",\"Smoking\"],\"name\":\"SMOKING\",\"values\":[201,96],\"type\":\"pie\",\"domain\":{\"x\":[0.0,0.45],\"y\":[0.0,1.0]},\"hole\":0.4,\"hoverinfo\":\"label\"},{\"labels\":[\"No Smoking - Survived\",\"No Smoking - Died\",\"Smoking - Survived\",\"Smoking - Died\"],\"name\":\"SMOKING VS DEATH_EVENT\",\"values\":[136,65,66,30],\"type\":\"pie\",\"domain\":{\"x\":[0.55,1.0],\"y\":[0.0,1.0]},\"hole\":0.4,\"hoverinfo\":\"label\"}],                        {\"template\":{\"data\":{\"bar\":[{\"error_x\":{\"color\":\"#2a3f5f\"},\"error_y\":{\"color\":\"#2a3f5f\"},\"marker\":{\"line\":{\"color\":\"#E5ECF6\",\"width\":0.5},\"pattern\":{\"fillmode\":\"overlay\",\"size\":10,\"solidity\":0.2}},\"type\":\"bar\"}],\"barpolar\":[{\"marker\":{\"line\":{\"color\":\"#E5ECF6\",\"width\":0.5},\"pattern\":{\"fillmode\":\"overlay\",\"size\":10,\"solidity\":0.2}},\"type\":\"barpolar\"}],\"carpet\":[{\"aaxis\":{\"endlinecolor\":\"#2a3f5f\",\"gridcolor\":\"white\",\"linecolor\":\"white\",\"minorgridcolor\":\"white\",\"startlinecolor\":\"#2a3f5f\"},\"baxis\":{\"endlinecolor\":\"#2a3f5f\",\"gridcolor\":\"white\",\"linecolor\":\"white\",\"minorgridcolor\":\"white\",\"startlinecolor\":\"#2a3f5f\"},\"type\":\"carpet\"}],\"choropleth\":[{\"colorbar\":{\"outlinewidth\":0,\"ticks\":\"\"},\"type\":\"choropleth\"}],\"contour\":[{\"colorbar\":{\"outlinewidth\":0,\"ticks\":\"\"},\"colorscale\":[[0.0,\"#0d0887\"],[0.1111111111111111,\"#46039f\"],[0.2222222222222222,\"#7201a8\"],[0.3333333333333333,\"#9c179e\"],[0.4444444444444444,\"#bd3786\"],[0.5555555555555556,\"#d8576b\"],[0.6666666666666666,\"#ed7953\"],[0.7777777777777778,\"#fb9f3a\"],[0.8888888888888888,\"#fdca26\"],[1.0,\"#f0f921\"]],\"type\":\"contour\"}],\"contourcarpet\":[{\"colorbar\":{\"outlinewidth\":0,\"ticks\":\"\"},\"type\":\"contourcarpet\"}],\"heatmap\":[{\"colorbar\":{\"outlinewidth\":0,\"ticks\":\"\"},\"colorscale\":[[0.0,\"#0d0887\"],[0.1111111111111111,\"#46039f\"],[0.2222222222222222,\"#7201a8\"],[0.3333333333333333,\"#9c179e\"],[0.4444444444444444,\"#bd3786\"],[0.5555555555555556,\"#d8576b\"],[0.6666666666666666,\"#ed7953\"],[0.7777777777777778,\"#fb9f3a\"],[0.8888888888888888,\"#fdca26\"],[1.0,\"#f0f921\"]],\"type\":\"heatmap\"}],\"heatmapgl\":[{\"colorbar\":{\"outlinewidth\":0,\"ticks\":\"\"},\"colorscale\":[[0.0,\"#0d0887\"],[0.1111111111111111,\"#46039f\"],[0.2222222222222222,\"#7201a8\"],[0.3333333333333333,\"#9c179e\"],[0.4444444444444444,\"#bd3786\"],[0.5555555555555556,\"#d8576b\"],[0.6666666666666666,\"#ed7953\"],[0.7777777777777778,\"#fb9f3a\"],[0.8888888888888888,\"#fdca26\"],[1.0,\"#f0f921\"]],\"type\":\"heatmapgl\"}],\"histogram\":[{\"marker\":{\"pattern\":{\"fillmode\":\"overlay\",\"size\":10,\"solidity\":0.2}},\"type\":\"histogram\"}],\"histogram2d\":[{\"colorbar\":{\"outlinewidth\":0,\"ticks\":\"\"},\"colorscale\":[[0.0,\"#0d0887\"],[0.1111111111111111,\"#46039f\"],[0.2222222222222222,\"#7201a8\"],[0.3333333333333333,\"#9c179e\"],[0.4444444444444444,\"#bd3786\"],[0.5555555555555556,\"#d8576b\"],[0.6666666666666666,\"#ed7953\"],[0.7777777777777778,\"#fb9f3a\"],[0.8888888888888888,\"#fdca26\"],[1.0,\"#f0f921\"]],\"type\":\"histogram2d\"}],\"histogram2dcontour\":[{\"colorbar\":{\"outlinewidth\":0,\"ticks\":\"\"},\"colorscale\":[[0.0,\"#0d0887\"],[0.1111111111111111,\"#46039f\"],[0.2222222222222222,\"#7201a8\"],[0.3333333333333333,\"#9c179e\"],[0.4444444444444444,\"#bd3786\"],[0.5555555555555556,\"#d8576b\"],[0.6666666666666666,\"#ed7953\"],[0.7777777777777778,\"#fb9f3a\"],[0.8888888888888888,\"#fdca26\"],[1.0,\"#f0f921\"]],\"type\":\"histogram2dcontour\"}],\"mesh3d\":[{\"colorbar\":{\"outlinewidth\":0,\"ticks\":\"\"},\"type\":\"mesh3d\"}],\"parcoords\":[{\"line\":{\"colorbar\":{\"outlinewidth\":0,\"ticks\":\"\"}},\"type\":\"parcoords\"}],\"pie\":[{\"automargin\":true,\"type\":\"pie\"}],\"scatter\":[{\"marker\":{\"colorbar\":{\"outlinewidth\":0,\"ticks\":\"\"}},\"type\":\"scatter\"}],\"scatter3d\":[{\"line\":{\"colorbar\":{\"outlinewidth\":0,\"ticks\":\"\"}},\"marker\":{\"colorbar\":{\"outlinewidth\":0,\"ticks\":\"\"}},\"type\":\"scatter3d\"}],\"scattercarpet\":[{\"marker\":{\"colorbar\":{\"outlinewidth\":0,\"ticks\":\"\"}},\"type\":\"scattercarpet\"}],\"scattergeo\":[{\"marker\":{\"colorbar\":{\"outlinewidth\":0,\"ticks\":\"\"}},\"type\":\"scattergeo\"}],\"scattergl\":[{\"marker\":{\"colorbar\":{\"outlinewidth\":0,\"ticks\":\"\"}},\"type\":\"scattergl\"}],\"scattermapbox\":[{\"marker\":{\"colorbar\":{\"outlinewidth\":0,\"ticks\":\"\"}},\"type\":\"scattermapbox\"}],\"scatterpolar\":[{\"marker\":{\"colorbar\":{\"outlinewidth\":0,\"ticks\":\"\"}},\"type\":\"scatterpolar\"}],\"scatterpolargl\":[{\"marker\":{\"colorbar\":{\"outlinewidth\":0,\"ticks\":\"\"}},\"type\":\"scatterpolargl\"}],\"scatterternary\":[{\"marker\":{\"colorbar\":{\"outlinewidth\":0,\"ticks\":\"\"}},\"type\":\"scatterternary\"}],\"surface\":[{\"colorbar\":{\"outlinewidth\":0,\"ticks\":\"\"},\"colorscale\":[[0.0,\"#0d0887\"],[0.1111111111111111,\"#46039f\"],[0.2222222222222222,\"#7201a8\"],[0.3333333333333333,\"#9c179e\"],[0.4444444444444444,\"#bd3786\"],[0.5555555555555556,\"#d8576b\"],[0.6666666666666666,\"#ed7953\"],[0.7777777777777778,\"#fb9f3a\"],[0.8888888888888888,\"#fdca26\"],[1.0,\"#f0f921\"]],\"type\":\"surface\"}],\"table\":[{\"cells\":{\"fill\":{\"color\":\"#EBF0F8\"},\"line\":{\"color\":\"white\"}},\"header\":{\"fill\":{\"color\":\"#C8D4E3\"},\"line\":{\"color\":\"white\"}},\"type\":\"table\"}]},\"layout\":{\"annotationdefaults\":{\"arrowcolor\":\"#2a3f5f\",\"arrowhead\":0,\"arrowwidth\":1},\"autotypenumbers\":\"strict\",\"coloraxis\":{\"colorbar\":{\"outlinewidth\":0,\"ticks\":\"\"}},\"colorscale\":{\"diverging\":[[0,\"#8e0152\"],[0.1,\"#c51b7d\"],[0.2,\"#de77ae\"],[0.3,\"#f1b6da\"],[0.4,\"#fde0ef\"],[0.5,\"#f7f7f7\"],[0.6,\"#e6f5d0\"],[0.7,\"#b8e186\"],[0.8,\"#7fbc41\"],[0.9,\"#4d9221\"],[1,\"#276419\"]],\"sequential\":[[0.0,\"#0d0887\"],[0.1111111111111111,\"#46039f\"],[0.2222222222222222,\"#7201a8\"],[0.3333333333333333,\"#9c179e\"],[0.4444444444444444,\"#bd3786\"],[0.5555555555555556,\"#d8576b\"],[0.6666666666666666,\"#ed7953\"],[0.7777777777777778,\"#fb9f3a\"],[0.8888888888888888,\"#fdca26\"],[1.0,\"#f0f921\"]],\"sequentialminus\":[[0.0,\"#0d0887\"],[0.1111111111111111,\"#46039f\"],[0.2222222222222222,\"#7201a8\"],[0.3333333333333333,\"#9c179e\"],[0.4444444444444444,\"#bd3786\"],[0.5555555555555556,\"#d8576b\"],[0.6666666666666666,\"#ed7953\"],[0.7777777777777778,\"#fb9f3a\"],[0.8888888888888888,\"#fdca26\"],[1.0,\"#f0f921\"]]},\"colorway\":[\"#636efa\",\"#EF553B\",\"#00cc96\",\"#ab63fa\",\"#FFA15A\",\"#19d3f3\",\"#FF6692\",\"#B6E880\",\"#FF97FF\",\"#FECB52\"],\"font\":{\"color\":\"#2a3f5f\"},\"geo\":{\"bgcolor\":\"white\",\"lakecolor\":\"white\",\"landcolor\":\"#E5ECF6\",\"showlakes\":true,\"showland\":true,\"subunitcolor\":\"white\"},\"hoverlabel\":{\"align\":\"left\"},\"hovermode\":\"closest\",\"mapbox\":{\"style\":\"light\"},\"paper_bgcolor\":\"white\",\"plot_bgcolor\":\"#E5ECF6\",\"polar\":{\"angularaxis\":{\"gridcolor\":\"white\",\"linecolor\":\"white\",\"ticks\":\"\"},\"bgcolor\":\"#E5ECF6\",\"radialaxis\":{\"gridcolor\":\"white\",\"linecolor\":\"white\",\"ticks\":\"\"}},\"scene\":{\"xaxis\":{\"backgroundcolor\":\"#E5ECF6\",\"gridcolor\":\"white\",\"gridwidth\":2,\"linecolor\":\"white\",\"showbackground\":true,\"ticks\":\"\",\"zerolinecolor\":\"white\"},\"yaxis\":{\"backgroundcolor\":\"#E5ECF6\",\"gridcolor\":\"white\",\"gridwidth\":2,\"linecolor\":\"white\",\"showbackground\":true,\"ticks\":\"\",\"zerolinecolor\":\"white\"},\"zaxis\":{\"backgroundcolor\":\"#E5ECF6\",\"gridcolor\":\"white\",\"gridwidth\":2,\"linecolor\":\"white\",\"showbackground\":true,\"ticks\":\"\",\"zerolinecolor\":\"white\"}},\"shapedefaults\":{\"line\":{\"color\":\"#2a3f5f\"}},\"ternary\":{\"aaxis\":{\"gridcolor\":\"white\",\"linecolor\":\"white\",\"ticks\":\"\"},\"baxis\":{\"gridcolor\":\"white\",\"linecolor\":\"white\",\"ticks\":\"\"},\"bgcolor\":\"#E5ECF6\",\"caxis\":{\"gridcolor\":\"white\",\"linecolor\":\"white\",\"ticks\":\"\"}},\"title\":{\"x\":0.05},\"xaxis\":{\"automargin\":true,\"gridcolor\":\"white\",\"linecolor\":\"white\",\"ticks\":\"\",\"title\":{\"standoff\":15},\"zerolinecolor\":\"white\",\"zerolinewidth\":2},\"yaxis\":{\"automargin\":true,\"gridcolor\":\"white\",\"linecolor\":\"white\",\"ticks\":\"\",\"title\":{\"standoff\":15},\"zerolinecolor\":\"white\",\"zerolinewidth\":2}}},\"title\":{\"text\":\"SMOKING DISTRIBUTION IN THE DATASET                   SMOKING VS DEATH_EVENT\"},\"annotations\":[{\"showarrow\":false,\"text\":\"SMOKING\",\"x\":0.2,\"y\":0.5,\"font\":{\"size\":10}},{\"showarrow\":false,\"text\":\"SMOKING VS DEATH_EVENT\",\"x\":0.84,\"y\":0.5,\"font\":{\"size\":8}}],\"autosize\":false,\"width\":1200,\"height\":500,\"paper_bgcolor\":\"white\"},                        {\"responsive\": true}                    ).then(function(){\n",
              "                            \n",
              "var gd = document.getElementById('8de90ce3-89b4-4ef8-aae8-cf688aef0f2c');\n",
              "var x = new MutationObserver(function (mutations, observer) {{\n",
              "        var display = window.getComputedStyle(gd).display;\n",
              "        if (!display || display === 'none') {{\n",
              "            console.log([gd, 'removed!']);\n",
              "            Plotly.purge(gd);\n",
              "            observer.disconnect();\n",
              "        }}\n",
              "}});\n",
              "\n",
              "// Listen for the removal of the full notebook cells\n",
              "var notebookContainer = gd.closest('#notebook-container');\n",
              "if (notebookContainer) {{\n",
              "    x.observe(notebookContainer, {childList: true});\n",
              "}}\n",
              "\n",
              "// Listen for the clearing of the current output cell\n",
              "var outputEl = gd.closest('.output');\n",
              "if (outputEl) {{\n",
              "    x.observe(outputEl, {childList: true});\n",
              "}}\n",
              "\n",
              "                        })                };                            </script>        </div>\n",
              "</body>\n",
              "</html>"
            ]
          },
          "metadata": {}
        }
      ]
    },
    {
      "cell_type": "code",
      "source": [
        "x = dataset.iloc[:, [4,7,11]].values\n",
        "y = dataset.iloc[:,-1].values"
      ],
      "metadata": {
        "id": "HOdMCguSbWLq"
      },
      "execution_count": 114,
      "outputs": []
    },
    {
      "cell_type": "markdown",
      "source": [
        "### In the dataset time signifies follow-up period which indicates a person's health over a period of time after a clinical study is made. "
      ],
      "metadata": {
        "id": "PjuFNrAe7rQ8"
      }
    },
    {
      "cell_type": "code",
      "source": [
        "print(x)"
      ],
      "metadata": {
        "colab": {
          "base_uri": "https://localhost:8080/"
        },
        "id": "MJOuRjBVc-1i",
        "outputId": "c38f01dd-56e5-4d36-814e-5f86411884ae"
      },
      "execution_count": 115,
      "outputs": [
        {
          "output_type": "stream",
          "name": "stdout",
          "text": [
            "[[ 20.     1.9    4.  ]\n",
            " [ 38.     1.1    6.  ]\n",
            " [ 20.     1.3    7.  ]\n",
            " [ 20.     1.9    7.  ]\n",
            " [ 20.     2.7    8.  ]\n",
            " [ 40.     2.1    8.  ]\n",
            " [ 15.     1.2   10.  ]\n",
            " [ 60.     1.1   10.  ]\n",
            " [ 65.     1.5   10.  ]\n",
            " [ 35.     9.4   10.  ]\n",
            " [ 38.     4.    10.  ]\n",
            " [ 25.     0.9   10.  ]\n",
            " [ 30.     1.1   11.  ]\n",
            " [ 38.     1.1   11.  ]\n",
            " [ 30.     1.    12.  ]\n",
            " [ 50.     1.3   13.  ]\n",
            " [ 38.     0.9   14.  ]\n",
            " [ 14.     0.8   14.  ]\n",
            " [ 25.     1.    15.  ]\n",
            " [ 55.     1.9   15.  ]\n",
            " [ 25.     1.3   16.  ]\n",
            " [ 30.     1.6   20.  ]\n",
            " [ 35.     0.9   20.  ]\n",
            " [ 60.     0.8   22.  ]\n",
            " [ 30.     1.83  23.  ]\n",
            " [ 38.     1.9   23.  ]\n",
            " [ 40.     1.    24.  ]\n",
            " [ 45.     1.3   26.  ]\n",
            " [ 38.     5.8   26.  ]\n",
            " [ 30.     1.2   26.  ]\n",
            " [ 38.     1.83  27.  ]\n",
            " [ 45.     3.    28.  ]\n",
            " [ 35.     1.    28.  ]\n",
            " [ 30.     1.2   29.  ]\n",
            " [ 50.     1.    29.  ]\n",
            " [ 35.     3.5   30.  ]\n",
            " [ 50.     1.    30.  ]\n",
            " [ 50.     1.    30.  ]\n",
            " [ 30.     2.3   30.  ]\n",
            " [ 38.     3.    30.  ]\n",
            " [ 20.     1.83  31.  ]\n",
            " [ 30.     1.2   32.  ]\n",
            " [ 45.     1.2   33.  ]\n",
            " [ 50.     1.    33.  ]\n",
            " [ 60.     1.1   33.  ]\n",
            " [ 38.     1.9   35.  ]\n",
            " [ 25.     0.9   38.  ]\n",
            " [ 38.     0.6   40.  ]\n",
            " [ 20.     4.4   41.  ]\n",
            " [ 30.     1.    42.  ]\n",
            " [ 25.     1.    43.  ]\n",
            " [ 20.     1.4   43.  ]\n",
            " [ 62.     6.8   43.  ]\n",
            " [ 50.     1.    44.  ]\n",
            " [ 38.     2.2   45.  ]\n",
            " [ 30.     2.    50.  ]\n",
            " [ 35.     2.7   54.  ]\n",
            " [ 40.     0.6   54.  ]\n",
            " [ 20.     1.1   55.  ]\n",
            " [ 20.     1.3   59.  ]\n",
            " [ 25.     1.    60.  ]\n",
            " [ 40.     2.3   60.  ]\n",
            " [ 35.     1.1   60.  ]\n",
            " [ 35.     1.    61.  ]\n",
            " [ 20.     2.9   64.  ]\n",
            " [ 15.     1.3   65.  ]\n",
            " [ 25.     1.    65.  ]\n",
            " [ 25.     1.2   66.  ]\n",
            " [ 25.     1.83  67.  ]\n",
            " [ 40.     0.8   68.  ]\n",
            " [ 35.     0.9   71.  ]\n",
            " [ 35.     1.    72.  ]\n",
            " [ 50.     1.3   72.  ]\n",
            " [ 20.     1.2   73.  ]\n",
            " [ 20.     0.7   73.  ]\n",
            " [ 60.     0.8   74.  ]\n",
            " [ 40.     1.2   74.  ]\n",
            " [ 38.     0.6   74.  ]\n",
            " [ 45.     0.9   74.  ]\n",
            " [ 40.     1.7   75.  ]\n",
            " [ 50.     1.18  76.  ]\n",
            " [ 25.     2.5   77.  ]\n",
            " [ 50.     1.8   78.  ]\n",
            " [ 25.     1.    78.  ]\n",
            " [ 50.     0.7   79.  ]\n",
            " [ 35.     1.1   79.  ]\n",
            " [ 60.     0.8   79.  ]\n",
            " [ 40.     0.7   79.  ]\n",
            " [ 25.     1.1   79.  ]\n",
            " [ 45.     0.8   80.  ]\n",
            " [ 45.     1.    80.  ]\n",
            " [ 60.     1.18  82.  ]\n",
            " [ 25.     1.7   82.  ]\n",
            " [ 38.     0.7   83.  ]\n",
            " [ 60.     1.    83.  ]\n",
            " [ 25.     1.3   83.  ]\n",
            " [ 60.     1.1   85.  ]\n",
            " [ 25.     1.2   85.  ]\n",
            " [ 40.     1.1   86.  ]\n",
            " [ 25.     1.1   87.  ]\n",
            " [ 45.     1.18  87.  ]\n",
            " [ 25.     1.1   87.  ]\n",
            " [ 30.     1.    87.  ]\n",
            " [ 50.     2.3   87.  ]\n",
            " [ 30.     1.7   88.  ]\n",
            " [ 45.     1.3   88.  ]\n",
            " [ 35.     0.9   88.  ]\n",
            " [ 38.     1.1   88.  ]\n",
            " [ 35.     1.3   88.  ]\n",
            " [ 60.     1.2   90.  ]\n",
            " [ 35.     1.2   90.  ]\n",
            " [ 25.     1.6   90.  ]\n",
            " [ 60.     1.3   90.  ]\n",
            " [ 40.     1.2   91.  ]\n",
            " [ 40.     1.    91.  ]\n",
            " [ 60.     0.7   94.  ]\n",
            " [ 60.     3.2   94.  ]\n",
            " [ 60.     0.9   94.  ]\n",
            " [ 38.     1.83  95.  ]\n",
            " [ 60.     1.5   95.  ]\n",
            " [ 38.     1.    95.  ]\n",
            " [ 38.     0.75  95.  ]\n",
            " [ 30.     0.9   95.  ]\n",
            " [ 40.     3.7   96.  ]\n",
            " [ 50.     1.3   97.  ]\n",
            " [ 17.     2.1  100.  ]\n",
            " [ 60.     0.8  104.  ]\n",
            " [ 30.     0.7  104.  ]\n",
            " [ 35.     3.4  105.  ]\n",
            " [ 60.     0.7  106.  ]\n",
            " [ 45.     6.1  107.  ]\n",
            " [ 40.     1.18 107.  ]\n",
            " [ 60.     1.3  107.  ]\n",
            " [ 35.     1.18 107.  ]\n",
            " [ 40.     1.18 107.  ]\n",
            " [ 60.     0.9  107.  ]\n",
            " [ 25.     2.1  108.  ]\n",
            " [ 35.     1.   108.  ]\n",
            " [ 30.     0.8  108.  ]\n",
            " [ 38.     1.1  109.  ]\n",
            " [ 35.     0.9  109.  ]\n",
            " [ 30.     0.9  109.  ]\n",
            " [ 40.     0.9  110.  ]\n",
            " [ 25.     1.7  111.  ]\n",
            " [ 30.     0.7  112.  ]\n",
            " [ 30.     0.7  112.  ]\n",
            " [ 60.     1.   113.  ]\n",
            " [ 30.     1.83 113.  ]\n",
            " [ 35.     0.9  115.  ]\n",
            " [ 45.     2.5  115.  ]\n",
            " [ 60.     0.9  117.  ]\n",
            " [ 45.     0.9  118.  ]\n",
            " [ 35.     1.18 119.  ]\n",
            " [ 35.     0.8  120.  ]\n",
            " [ 25.     1.7  120.  ]\n",
            " [ 35.     1.4  120.  ]\n",
            " [ 25.     1.   120.  ]\n",
            " [ 50.     1.3  121.  ]\n",
            " [ 45.     1.1  121.  ]\n",
            " [ 40.     1.2  121.  ]\n",
            " [ 35.     0.8  121.  ]\n",
            " [ 40.     0.9  123.  ]\n",
            " [ 35.     0.9  126.  ]\n",
            " [ 30.     1.1  129.  ]\n",
            " [ 38.     1.3  130.  ]\n",
            " [ 60.     0.7  134.  ]\n",
            " [ 20.     2.4  135.  ]\n",
            " [ 40.     1.   140.  ]\n",
            " [ 35.     0.8  145.  ]\n",
            " [ 35.     1.5  145.  ]\n",
            " [ 40.     0.9  146.  ]\n",
            " [ 60.     1.1  146.  ]\n",
            " [ 20.     0.8  146.  ]\n",
            " [ 35.     0.9  146.  ]\n",
            " [ 60.     1.   146.  ]\n",
            " [ 40.     1.   147.  ]\n",
            " [ 50.     1.   147.  ]\n",
            " [ 60.     1.2  147.  ]\n",
            " [ 40.     0.7  147.  ]\n",
            " [ 30.     0.9  148.  ]\n",
            " [ 25.     1.   150.  ]\n",
            " [ 25.     1.2  154.  ]\n",
            " [ 38.     2.5  162.  ]\n",
            " [ 25.     1.2  170.  ]\n",
            " [ 30.     1.5  171.  ]\n",
            " [ 50.     0.6  172.  ]\n",
            " [ 25.     2.1  172.  ]\n",
            " [ 40.     1.   172.  ]\n",
            " [ 45.     0.9  174.  ]\n",
            " [ 35.     2.1  174.  ]\n",
            " [ 60.     1.5  174.  ]\n",
            " [ 40.     0.7  175.  ]\n",
            " [ 30.     1.18 180.  ]\n",
            " [ 20.     1.6  180.  ]\n",
            " [ 45.     1.8  180.  ]\n",
            " [ 38.     1.18 185.  ]\n",
            " [ 30.     0.8  186.  ]\n",
            " [ 20.     1.   186.  ]\n",
            " [ 35.     1.8  186.  ]\n",
            " [ 45.     0.7  186.  ]\n",
            " [ 60.     1.   186.  ]\n",
            " [ 60.     0.9  186.  ]\n",
            " [ 25.     3.5  187.  ]\n",
            " [ 40.     0.7  187.  ]\n",
            " [ 45.     1.   187.  ]\n",
            " [ 40.     0.8  187.  ]\n",
            " [ 38.     0.9  187.  ]\n",
            " [ 40.     1.   187.  ]\n",
            " [ 35.     0.8  187.  ]\n",
            " [ 17.     1.   188.  ]\n",
            " [ 62.     0.8  192.  ]\n",
            " [ 50.     1.4  192.  ]\n",
            " [ 30.     1.6  193.  ]\n",
            " [ 35.     0.8  194.  ]\n",
            " [ 35.     1.3  195.  ]\n",
            " [ 50.     0.9  196.  ]\n",
            " [ 35.     1.1  197.  ]\n",
            " [ 35.     0.7  197.  ]\n",
            " [ 20.     1.83 198.  ]\n",
            " [ 50.     1.1  200.  ]\n",
            " [ 35.     1.1  201.  ]\n",
            " [ 25.     0.8  201.  ]\n",
            " [ 25.     1.   205.  ]\n",
            " [ 60.     1.4  205.  ]\n",
            " [ 25.     1.3  205.  ]\n",
            " [ 35.     1.   206.  ]\n",
            " [ 25.     5.   207.  ]\n",
            " [ 25.     1.2  207.  ]\n",
            " [ 30.     1.7  207.  ]\n",
            " [ 35.     1.1  208.  ]\n",
            " [ 35.     0.9  209.  ]\n",
            " [ 38.     1.4  209.  ]\n",
            " [ 45.     1.1  209.  ]\n",
            " [ 50.     1.1  209.  ]\n",
            " [ 50.     1.1  209.  ]\n",
            " [ 30.     1.2  210.  ]\n",
            " [ 40.     1.   210.  ]\n",
            " [ 45.     1.18 211.  ]\n",
            " [ 35.     1.3  212.  ]\n",
            " [ 30.     1.3  212.  ]\n",
            " [ 35.     1.1  212.  ]\n",
            " [ 40.     0.9  213.  ]\n",
            " [ 38.     1.8  213.  ]\n",
            " [ 38.     1.4  213.  ]\n",
            " [ 25.     1.1  214.  ]\n",
            " [ 25.     2.4  214.  ]\n",
            " [ 35.     1.   214.  ]\n",
            " [ 40.     1.2  214.  ]\n",
            " [ 30.     0.5  214.  ]\n",
            " [ 35.     0.8  215.  ]\n",
            " [ 45.     1.   215.  ]\n",
            " [ 35.     1.2  215.  ]\n",
            " [ 60.     1.   215.  ]\n",
            " [ 30.     1.   216.  ]\n",
            " [ 38.     1.7  220.  ]\n",
            " [ 38.     1.   230.  ]\n",
            " [ 25.     0.8  230.  ]\n",
            " [ 50.     0.7  231.  ]\n",
            " [ 40.     1.   233.  ]\n",
            " [ 40.     0.7  233.  ]\n",
            " [ 25.     1.4  235.  ]\n",
            " [ 60.     1.   237.  ]\n",
            " [ 38.     1.2  237.  ]\n",
            " [ 35.     0.9  240.  ]\n",
            " [ 20.     1.83 241.  ]\n",
            " [ 38.     1.7  244.  ]\n",
            " [ 38.     0.9  244.  ]\n",
            " [ 35.     1.   244.  ]\n",
            " [ 30.     1.6  244.  ]\n",
            " [ 40.     0.9  244.  ]\n",
            " [ 38.     1.2  245.  ]\n",
            " [ 40.     0.7  245.  ]\n",
            " [ 30.     1.   245.  ]\n",
            " [ 38.     0.8  245.  ]\n",
            " [ 35.     1.1  245.  ]\n",
            " [ 38.     1.1  246.  ]\n",
            " [ 30.     0.7  246.  ]\n",
            " [ 38.     1.3  246.  ]\n",
            " [ 40.     1.   247.  ]\n",
            " [ 40.     2.7  250.  ]\n",
            " [ 30.     3.8  250.  ]\n",
            " [ 38.     1.1  250.  ]\n",
            " [ 40.     0.8  250.  ]\n",
            " [ 40.     1.2  250.  ]\n",
            " [ 35.     1.7  250.  ]\n",
            " [ 55.     1.   250.  ]\n",
            " [ 35.     1.1  256.  ]\n",
            " [ 38.     0.9  256.  ]\n",
            " [ 55.     0.8  257.  ]\n",
            " [ 35.     1.4  258.  ]\n",
            " [ 38.     1.   258.  ]\n",
            " [ 35.     0.9  270.  ]\n",
            " [ 38.     1.1  270.  ]\n",
            " [ 38.     1.2  271.  ]\n",
            " [ 60.     0.8  278.  ]\n",
            " [ 38.     1.4  280.  ]\n",
            " [ 45.     1.6  285.  ]]\n"
          ]
        }
      ]
    },
    {
      "cell_type": "code",
      "source": [
        "print(y)"
      ],
      "metadata": {
        "colab": {
          "base_uri": "https://localhost:8080/"
        },
        "id": "kMLiC2x5dDZO",
        "outputId": "70c8daf6-7b5a-48e2-b951-12b256cae9e0"
      },
      "execution_count": 116,
      "outputs": [
        {
          "output_type": "stream",
          "name": "stdout",
          "text": [
            "[1 1 1 1 1 1 1 1 1 1 1 1 1 1 0 1 1 1 1 1 0 1 1 0 1 1 1 1 1 1 1 1 1 0 1 1 1\n",
            " 1 0 1 1 1 1 0 1 1 1 1 1 1 1 1 1 1 1 1 0 0 1 1 1 1 0 1 1 1 1 1 1 0 0 1 0 1\n",
            " 1 0 0 0 0 0 0 1 0 1 0 0 0 0 0 0 0 0 1 0 0 0 0 0 0 0 0 0 0 0 1 0 0 0 0 1 0\n",
            " 0 1 0 0 0 0 0 1 0 0 0 0 1 0 1 0 0 0 0 0 0 0 0 0 0 0 0 0 1 0 0 0 1 0 0 0 1\n",
            " 0 1 0 0 0 0 0 0 0 0 0 0 0 0 1 1 1 0 1 0 0 0 0 0 0 0 0 0 0 0 0 0 1 1 1 1 1\n",
            " 1 1 0 0 0 0 0 0 1 1 0 0 0 0 0 0 0 0 0 0 0 0 0 0 0 0 0 1 0 0 0 0 0 1 0 0 0\n",
            " 0 0 0 0 0 0 1 0 0 0 0 0 0 0 0 0 0 0 0 0 0 0 1 0 0 0 0 0 0 0 0 0 0 0 0 0 0\n",
            " 0 1 0 0 0 1 0 0 0 0 0 0 0 0 0 0 0 0 0 0 0 0 0 0 0 0 0 0 0 0 0 0 0 0 0 0 0\n",
            " 0]\n"
          ]
        }
      ]
    },
    {
      "cell_type": "markdown",
      "source": [
        "## **SPLITTING THE DATASET INTO TRAIN & TEST SETS**"
      ],
      "metadata": {
        "id": "R4m9rAKFeS3F"
      }
    },
    {
      "cell_type": "code",
      "source": [
        "from sklearn.model_selection import train_test_split\n",
        "x_train, x_test, y_train, y_test = train_test_split(x, y, test_size = 0.2, random_state =0)"
      ],
      "metadata": {
        "id": "HdBP5m5reexD"
      },
      "execution_count": 117,
      "outputs": []
    },
    {
      "cell_type": "code",
      "source": [
        "print(x_train)"
      ],
      "metadata": {
        "colab": {
          "base_uri": "https://localhost:8080/"
        },
        "id": "_Rr8YEYhejU4",
        "outputId": "c879b163-3673-455f-c241-8e35643f7d1a"
      },
      "execution_count": 118,
      "outputs": [
        {
          "output_type": "stream",
          "name": "stdout",
          "text": [
            "[[ 40.     0.8  250.  ]\n",
            " [ 25.     2.5   77.  ]\n",
            " [ 35.     1.3   88.  ]\n",
            " [ 60.     1.   113.  ]\n",
            " [ 35.     0.7  197.  ]\n",
            " [ 25.     1.3   16.  ]\n",
            " [ 25.     0.9   38.  ]\n",
            " [ 35.     0.8  120.  ]\n",
            " [ 60.     1.4  205.  ]\n",
            " [ 35.     1.1  208.  ]\n",
            " [ 45.     1.3   26.  ]\n",
            " [ 20.     1.83 198.  ]\n",
            " [ 25.     0.8  230.  ]\n",
            " [ 50.     1.    30.  ]\n",
            " [ 25.     1.7   82.  ]\n",
            " [ 40.     1.2  121.  ]\n",
            " [ 45.     1.    80.  ]\n",
            " [ 40.     0.9  244.  ]\n",
            " [ 50.     1.3  121.  ]\n",
            " [ 35.     1.8  186.  ]\n",
            " [ 30.     1.3  212.  ]\n",
            " [ 50.     1.1  209.  ]\n",
            " [ 40.     1.2   74.  ]\n",
            " [ 25.     1.   205.  ]\n",
            " [ 40.     1.   140.  ]\n",
            " [ 35.     1.   206.  ]\n",
            " [ 25.     1.2   85.  ]\n",
            " [ 60.     1.1   33.  ]\n",
            " [ 35.     1.3  212.  ]\n",
            " [ 25.     1.2  154.  ]\n",
            " [ 35.     0.8  145.  ]\n",
            " [ 40.     1.   147.  ]\n",
            " [ 38.     2.2   45.  ]\n",
            " [ 60.     0.9  107.  ]\n",
            " [ 25.     1.    15.  ]\n",
            " [ 45.     0.9  174.  ]\n",
            " [ 25.     2.4  214.  ]\n",
            " [ 60.     3.2   94.  ]\n",
            " [ 38.     1.83  95.  ]\n",
            " [ 35.     1.    72.  ]\n",
            " [ 35.     1.   108.  ]\n",
            " [ 35.     1.1  212.  ]\n",
            " [ 60.     0.9  186.  ]\n",
            " [ 55.     1.   250.  ]\n",
            " [ 62.     0.8  192.  ]\n",
            " [ 40.     0.7  233.  ]\n",
            " [ 25.     1.   120.  ]\n",
            " [ 30.     1.2   29.  ]\n",
            " [ 25.     1.    78.  ]\n",
            " [ 60.     0.7  106.  ]\n",
            " [ 25.     1.    60.  ]\n",
            " [ 35.     1.18 119.  ]\n",
            " [ 55.     0.8  257.  ]\n",
            " [ 35.     1.2   90.  ]\n",
            " [ 30.     1.6   20.  ]\n",
            " [ 30.     1.2   26.  ]\n",
            " [ 40.     1.   187.  ]\n",
            " [ 38.     0.9   14.  ]\n",
            " [ 35.     2.7   54.  ]\n",
            " [ 60.     0.8   74.  ]\n",
            " [ 50.     1.3   97.  ]\n",
            " [ 30.     0.7  112.  ]\n",
            " [ 45.     1.1  121.  ]\n",
            " [ 60.     1.   215.  ]\n",
            " [ 60.     1.2   90.  ]\n",
            " [ 35.     0.9  146.  ]\n",
            " [ 20.     2.7    8.  ]\n",
            " [ 60.     1.1   85.  ]\n",
            " [ 30.     1.   245.  ]\n",
            " [ 40.     2.3   60.  ]\n",
            " [ 25.     1.2   66.  ]\n",
            " [ 40.     1.18 107.  ]\n",
            " [ 45.     1.8  180.  ]\n",
            " [ 20.     2.4  135.  ]\n",
            " [ 30.     0.7  246.  ]\n",
            " [ 20.     1.83  31.  ]\n",
            " [ 38.     2.5  162.  ]\n",
            " [ 38.     1.1   11.  ]\n",
            " [ 38.     1.1   88.  ]\n",
            " [ 40.     1.2  250.  ]\n",
            " [ 20.     1.9    7.  ]\n",
            " [ 25.     1.7  120.  ]\n",
            " [ 17.     2.1  100.  ]\n",
            " [ 30.     1.83  23.  ]\n",
            " [ 38.     1.83  27.  ]\n",
            " [ 38.     0.6   74.  ]\n",
            " [ 35.     1.1  245.  ]\n",
            " [ 50.     0.7  231.  ]\n",
            " [ 55.     1.9   15.  ]\n",
            " [ 35.     0.8  215.  ]\n",
            " [ 25.     5.   207.  ]\n",
            " [ 35.     0.9  240.  ]\n",
            " [ 50.     1.18  76.  ]\n",
            " [ 20.     1.4   43.  ]\n",
            " [ 20.     1.3    7.  ]\n",
            " [ 35.     0.9  209.  ]\n",
            " [ 30.     1.7   88.  ]\n",
            " [ 50.     1.   147.  ]\n",
            " [ 60.     0.8   79.  ]\n",
            " [ 38.     4.    10.  ]\n",
            " [ 35.     2.1  174.  ]\n",
            " [ 20.     1.1   55.  ]\n",
            " [ 30.     1.2   32.  ]\n",
            " [ 30.     1.    12.  ]\n",
            " [ 35.     1.4  120.  ]\n",
            " [ 25.     1.    43.  ]\n",
            " [ 38.     0.9  187.  ]\n",
            " [ 30.     1.7  207.  ]\n",
            " [ 40.     3.7   96.  ]\n",
            " [ 50.     0.9  196.  ]\n",
            " [ 35.     1.1   60.  ]\n",
            " [ 30.     1.5  171.  ]\n",
            " [ 25.     0.8  201.  ]\n",
            " [ 45.     6.1  107.  ]\n",
            " [ 35.     1.4  258.  ]\n",
            " [ 17.     1.   188.  ]\n",
            " [ 50.     1.    33.  ]\n",
            " [ 40.     1.    91.  ]\n",
            " [ 30.     0.8  108.  ]\n",
            " [ 35.     0.9  270.  ]\n",
            " [ 35.     0.8  194.  ]\n",
            " [ 45.     2.5  115.  ]\n",
            " [ 60.     1.3   90.  ]\n",
            " [ 38.     0.9  256.  ]\n",
            " [ 40.     1.1   86.  ]\n",
            " [ 30.     1.6  193.  ]\n",
            " [ 38.     0.7   83.  ]\n",
            " [ 60.     1.   186.  ]\n",
            " [ 35.     0.9  126.  ]\n",
            " [ 50.     1.    30.  ]\n",
            " [ 40.     0.7  147.  ]\n",
            " [ 40.     1.2   91.  ]\n",
            " [ 20.     1.9    4.  ]\n",
            " [ 60.     1.    83.  ]\n",
            " [ 25.     1.3   83.  ]\n",
            " [ 38.     1.2  271.  ]\n",
            " [ 40.     1.   233.  ]\n",
            " [ 30.     1.2  210.  ]\n",
            " [ 40.     0.8   68.  ]\n",
            " [ 30.     1.    42.  ]\n",
            " [ 20.     4.4   41.  ]\n",
            " [ 35.     1.1   79.  ]\n",
            " [ 60.     0.8  278.  ]\n",
            " [ 30.     0.9  109.  ]\n",
            " [ 60.     0.8   22.  ]\n",
            " [ 40.     0.9  213.  ]\n",
            " [ 35.     0.9  115.  ]\n",
            " [ 25.     1.7  111.  ]\n",
            " [ 45.     0.9   74.  ]\n",
            " [ 25.     1.   150.  ]\n",
            " [ 45.     1.18  87.  ]\n",
            " [ 45.     1.   187.  ]\n",
            " [ 40.     1.18 107.  ]\n",
            " [ 20.     1.83 241.  ]\n",
            " [ 38.     1.4  280.  ]\n",
            " [ 30.     0.8  186.  ]\n",
            " [ 15.     1.2   10.  ]\n",
            " [ 25.     1.83  67.  ]\n",
            " [ 40.     0.7  187.  ]\n",
            " [ 50.     0.7   79.  ]\n",
            " [ 40.     0.9  146.  ]\n",
            " [ 38.     0.75  95.  ]\n",
            " [ 35.     0.9  109.  ]\n",
            " [ 38.     1.1  270.  ]\n",
            " [ 40.     0.7  245.  ]\n",
            " [ 40.     0.9  110.  ]\n",
            " [ 30.     1.   216.  ]\n",
            " [ 60.     1.18  82.  ]\n",
            " [ 50.     1.8   78.  ]\n",
            " [ 30.     3.8  250.  ]\n",
            " [ 25.     0.9   10.  ]\n",
            " [ 60.     1.5   95.  ]\n",
            " [ 30.     1.    87.  ]\n",
            " [ 35.     3.5   30.  ]\n",
            " [ 40.     0.6   54.  ]\n",
            " [ 35.     1.5  145.  ]\n",
            " [ 38.     1.4  209.  ]\n",
            " [ 15.     1.3   65.  ]\n",
            " [ 38.     1.1    6.  ]\n",
            " [ 38.     1.    95.  ]\n",
            " [ 38.     1.2  237.  ]\n",
            " [ 25.     2.1  172.  ]\n",
            " [ 45.     1.2   33.  ]\n",
            " [ 45.     1.3   88.  ]\n",
            " [ 60.     1.3  107.  ]\n",
            " [ 40.     1.7   75.  ]\n",
            " [ 14.     0.8   14.  ]\n",
            " [ 25.     1.4  235.  ]\n",
            " [ 45.     1.1  209.  ]\n",
            " [ 30.     2.3   30.  ]\n",
            " [ 35.     1.18 107.  ]\n",
            " [ 50.     1.    44.  ]\n",
            " [ 38.     1.3  130.  ]\n",
            " [ 38.     1.7  220.  ]\n",
            " [ 35.     3.4  105.  ]\n",
            " [ 50.     1.    29.  ]\n",
            " [ 38.     5.8   26.  ]\n",
            " [ 25.     1.2  170.  ]\n",
            " [ 30.     1.1  129.  ]\n",
            " [ 45.     0.9  118.  ]\n",
            " [ 25.     1.1  214.  ]\n",
            " [ 25.     3.5  187.  ]\n",
            " [ 45.     3.    28.  ]\n",
            " [ 35.     1.    28.  ]\n",
            " [ 30.     0.7  104.  ]\n",
            " [ 50.     0.6  172.  ]\n",
            " [ 38.     1.1  246.  ]\n",
            " [ 30.     1.6  244.  ]\n",
            " [ 30.     1.83 113.  ]\n",
            " [ 38.     0.8  245.  ]\n",
            " [ 60.     1.2  147.  ]\n",
            " [ 25.     1.1   87.  ]\n",
            " [ 20.     1.   186.  ]\n",
            " [ 38.     1.4  213.  ]\n",
            " [ 60.     0.7   94.  ]\n",
            " [ 38.     1.7  244.  ]\n",
            " [ 50.     1.3   72.  ]\n",
            " [ 38.     1.9   23.  ]\n",
            " [ 60.     0.7  134.  ]\n",
            " [ 35.     1.7  250.  ]\n",
            " [ 60.     1.   146.  ]\n",
            " [ 35.     1.1  256.  ]\n",
            " [ 38.     3.    30.  ]\n",
            " [ 20.     1.6  180.  ]\n",
            " [ 25.     1.1   79.  ]\n",
            " [ 35.     0.9   71.  ]\n",
            " [ 40.     0.7   79.  ]\n",
            " [ 38.     1.8  213.  ]\n",
            " [ 38.     1.3  246.  ]\n",
            " [ 50.     1.4  192.  ]\n",
            " [ 35.     9.4   10.  ]\n",
            " [ 38.     1.18 185.  ]\n",
            " [ 35.     1.2  215.  ]\n",
            " [ 30.     1.18 180.  ]\n",
            " [ 60.     0.9   94.  ]\n",
            " [ 38.     0.6   40.  ]\n",
            " [ 20.     0.8  146.  ]]\n"
          ]
        }
      ]
    },
    {
      "cell_type": "code",
      "source": [
        "print(y_train)"
      ],
      "metadata": {
        "colab": {
          "base_uri": "https://localhost:8080/"
        },
        "id": "tXU4LFeaemxa",
        "outputId": "21804169-4ed8-42de-e8ab-a9849cd10b94"
      },
      "execution_count": 119,
      "outputs": [
        {
          "output_type": "stream",
          "name": "stdout",
          "text": [
            "[0 1 0 0 0 0 1 0 0 0 1 1 0 1 1 0 0 0 0 0 0 0 0 0 0 0 0 1 0 1 0 0 1 0 1 0 0\n",
            " 0 1 1 0 0 0 0 0 0 0 0 1 0 1 0 0 0 1 1 0 1 0 0 0 0 0 0 1 0 1 0 0 1 1 0 1 1\n",
            " 0 1 1 1 0 0 1 0 1 1 1 0 0 0 1 0 0 0 0 1 1 0 1 0 0 1 0 1 1 0 0 1 0 1 1 0 0\n",
            " 1 0 0 0 0 0 0 0 0 0 1 1 0 0 1 0 0 1 1 0 0 1 0 0 0 0 0 0 1 1 0 0 0 0 0 0 1\n",
            " 0 1 0 0 0 1 0 0 1 1 0 0 0 0 0 0 0 0 0 0 0 0 1 0 0 1 0 0 0 1 1 0 0 1 1 0 0\n",
            " 0 1 1 0 0 0 1 1 0 0 1 1 1 1 0 1 0 1 1 0 1 0 0 1 0 0 0 0 0 0 0 0 1 0 0 0 0\n",
            " 1 1 0 0 0 0 0 0 1 0 0 0 0 1 0]\n"
          ]
        }
      ]
    },
    {
      "cell_type": "code",
      "source": [
        "# Feature Scaling\n",
        "\n",
        "from sklearn.preprocessing import StandardScaler\n",
        "sc = StandardScaler()\n",
        "x_train1 = sc.fit_transform(x_train)\n",
        "x_test1 = sc.transform(x_test)\n",
        "print(x_test1)"
      ],
      "metadata": {
        "id": "yHkI9rezfAnE",
        "colab": {
          "base_uri": "https://localhost:8080/"
        },
        "outputId": "2aa7ef6f-a67b-4dac-d893-fab7b4b65e97"
      },
      "execution_count": 120,
      "outputs": [
        {
          "output_type": "stream",
          "name": "stdout",
          "text": [
            "[[-1.09630438  0.21823117 -0.48797068]\n",
            " [ 1.96147801 -0.51480287 -0.13562083]\n",
            " [-0.65947832 -0.30536457 -1.51892025]\n",
            " [-0.22265227 -0.30536457  0.90837873]\n",
            " [ 0.03944337 -0.30536457 -0.24002079]\n",
            " [-1.53313044 -0.72424116 -0.70982059]\n",
            " [-0.22265227 -0.61952201  0.77787879]\n",
            " [ 1.96147801 -0.30536457  0.24282901]\n",
            " [ 0.21417379 -0.41008372  0.58212887]\n",
            " [-0.22265227 -0.09592627  0.88227875]\n",
            " [-1.53313044 -0.20064542 -0.70982059]\n",
            " [ 1.0878259  -0.09592627 -1.49282026]\n",
            " [-0.22265227 -0.41008372  1.52172848]\n",
            " [-0.22265227 -0.51480287 -0.51407067]\n",
            " [-0.22265227 -0.51480287 -1.4014703 ]\n",
            " [-1.09630438 -0.09592627  1.01277869]\n",
            " [ 0.03944337 -0.51480287  1.52172848]\n",
            " [ 0.65099984 -0.41008372  1.14327864]\n",
            " [-0.65947832 -0.93367946  1.13022864]\n",
            " [-1.09630438  0.74182691 -0.25307078]\n",
            " [-1.53313044  1.57958009 -0.82727054]\n",
            " [ 1.96147801 -0.61952201 -0.30527076]\n",
            " [ 0.65099984 -0.22158925  1.09107866]\n",
            " [ 0.65099984 -0.72424116  0.76482879]\n",
            " [ 0.65099984 -0.61952201 -0.61847063]\n",
            " [ 2.13620844  5.66362686 -1.10132043]\n",
            " [ 0.65099984  0.21823117  2.05677826]\n",
            " [-0.22265227 -0.41008372  1.13022864]\n",
            " [ 0.21417379  1.3701418   1.60002845]\n",
            " [-0.22265227 -0.41008372 -0.86642052]\n",
            " [ 2.39830407  0.11351202 -1.53197025]\n",
            " [-0.65947832 -0.72424116 -0.2008708 ]\n",
            " [ 1.96147801 -0.41008372  1.43037852]\n",
            " [-0.22265227 -0.61952201 -0.08342085]\n",
            " [ 1.0878259  -0.30536457  0.94752872]\n",
            " [-0.65947832 -0.51480287  0.268929  ]\n",
            " [ 0.21417379  0.74182691 -1.55807024]\n",
            " [ 1.0878259  -0.30536457  1.06497867]\n",
            " [-0.65947832 -0.51480287 -0.42272071]\n",
            " [ 0.21417379 -0.61952201  0.77787879]\n",
            " [ 0.03944337 -0.41008372  1.33902855]\n",
            " [ 1.96147801  0.11351202  0.60822886]\n",
            " [ 0.03944337 -0.20064542  1.53477847]\n",
            " [ 0.21417379 -0.72424116  0.62127885]\n",
            " [ 1.96147801 -0.30536457 -1.53197025]\n",
            " [ 0.03944337  0.53238861 -1.20572038]\n",
            " [ 1.0878259   0.95126521 -0.52712067]\n",
            " [ 0.21417379 -0.41008372  1.07802866]\n",
            " [ 0.21417379 -0.51480287 -0.05732086]\n",
            " [-1.09630438 -0.30536457 -0.52712067]\n",
            " [-0.65947832  0.63710776 -1.00997046]\n",
            " [ 0.03944337 -0.30536457  1.60002845]\n",
            " [ 0.21417379 -0.41008372  1.56087846]\n",
            " [ 0.21417379 -0.41008372 -1.34927032]\n",
            " [-1.09630438 -0.41008372 -0.81422055]\n",
            " [-0.22265227 -0.30536457  0.96057871]\n",
            " [-1.09630438 -0.20064542  1.03887868]\n",
            " [ 0.21417379 -0.20064542  1.13022864]\n",
            " [-1.53313044 -0.09592627 -0.89252051]\n",
            " [ 0.03944337 -0.41008372  1.7044284 ]]\n"
          ]
        }
      ]
    },
    {
      "cell_type": "markdown",
      "source": [
        "## ***LOGISTIC REGRESSION***"
      ],
      "metadata": {
        "id": "Q-Qd2cRMfKsR"
      }
    },
    {
      "cell_type": "code",
      "source": [
        "# Applying logistic regression on the training set\n",
        "\n",
        "from sklearn.linear_model import LogisticRegression\n",
        "logreg = LogisticRegression()\n",
        "logreg.fit(x_train, y_train)"
      ],
      "metadata": {
        "colab": {
          "base_uri": "https://localhost:8080/"
        },
        "id": "d5RNWrAafQUJ",
        "outputId": "869a1eb3-3807-432a-b3e6-d73b6ef961a7"
      },
      "execution_count": 121,
      "outputs": [
        {
          "output_type": "execute_result",
          "data": {
            "text/plain": [
              "LogisticRegression()"
            ]
          },
          "metadata": {},
          "execution_count": 121
        }
      ]
    },
    {
      "cell_type": "code",
      "source": [
        "# Predicting the test set\n",
        "\n",
        "y_pred = logreg.predict(x_test)"
      ],
      "metadata": {
        "id": "YYMPvWzqfkM-"
      },
      "execution_count": 122,
      "outputs": []
    },
    {
      "cell_type": "code",
      "source": [
        "#calculating accuracy score\n",
        "mylist=[]\n",
        "from sklearn.metrics import accuracy_score\n",
        "ac = accuracy_score(y_test, y_pred)\n",
        "mylist.append(ac)\n",
        "print(ac)"
      ],
      "metadata": {
        "colab": {
          "base_uri": "https://localhost:8080/"
        },
        "id": "KfMHjvVzfnXT",
        "outputId": "ab57ae29-5146-47ef-e128-e93df6f6b970"
      },
      "execution_count": 123,
      "outputs": [
        {
          "output_type": "stream",
          "name": "stdout",
          "text": [
            "0.8833333333333333\n"
          ]
        }
      ]
    },
    {
      "cell_type": "markdown",
      "source": [
        "# ***K NEAREST NEIGHBORS***"
      ],
      "metadata": {
        "id": "CcWyTRRP0Dbb"
      }
    },
    {
      "cell_type": "code",
      "source": [
        "# Finding the optimum number of neighbors \n",
        "\n",
        "from sklearn.neighbors import KNeighborsClassifier\n",
        "from sklearn.metrics import accuracy_score\n",
        "list1 = []\n",
        "for neighbors in range(3,10):\n",
        "    classifier = KNeighborsClassifier(n_neighbors=neighbors, metric='minkowski')\n",
        "    classifier.fit(x_train1, y_train)\n",
        "    y_pred = classifier.predict(x_test1)\n",
        "    list1.append(accuracy_score(y_test,y_pred))\n",
        "plt.plot(list(range(3,10)), list1)\n",
        "plt.show()"
      ],
      "metadata": {
        "colab": {
          "base_uri": "https://localhost:8080/",
          "height": 374
        },
        "id": "WYj25Qa51XUH",
        "outputId": "eea3cb38-8e15-4200-b4d3-44b1db2105fe"
      },
      "execution_count": 124,
      "outputs": [
        {
          "output_type": "display_data",
          "data": {
            "text/plain": [
              "<Figure size 1080x432 with 1 Axes>"
            ],
            "image/png": "[encoded data removed]"
          },
          "metadata": {}
        }
      ]
    },
    {
      "cell_type": "code",
      "source": [
        "# Training the K Nearest Neighbor Classifier on the Training set\n",
        "\n",
        "classifier = KNeighborsClassifier(n_neighbors=6)\n",
        "classifier.fit(x_train1, y_train)"
      ],
      "metadata": {
        "colab": {
          "base_uri": "https://localhost:8080/"
        },
        "id": "NNEvXOCw36KG",
        "outputId": "84ba6a0f-12d1-4a52-913d-f40417f3296f"
      },
      "execution_count": 125,
      "outputs": [
        {
          "output_type": "execute_result",
          "data": {
            "text/plain": [
              "KNeighborsClassifier(n_neighbors=6)"
            ]
          },
          "metadata": {},
          "execution_count": 125
        }
      ]
    },
    {
      "cell_type": "code",
      "source": [
        "# Predicting the Test set results\n",
        "\n",
        "y_pred = classifier.predict(x_test1)\n",
        "print(y_pred)"
      ],
      "metadata": {
        "colab": {
          "base_uri": "https://localhost:8080/"
        },
        "id": "uEL06VxU4rfg",
        "outputId": "195becd6-e8a2-4963-8da7-d3bdc625fdd2"
      },
      "execution_count": 126,
      "outputs": [
        {
          "output_type": "stream",
          "name": "stdout",
          "text": [
            "[0 0 1 0 0 1 0 0 0 0 1 1 0 0 1 0 0 0 0 1 1 0 0 0 0 1 0 0 0 0 0 0 0 0 0 0 1\n",
            " 0 0 0 0 0 0 0 1 1 0 0 0 0 1 0 0 1 1 0 0 0 1 0]\n"
          ]
        }
      ]
    },
    {
      "cell_type": "code",
      "source": [
        "# calculating accuracy score\n",
        "\n",
        "from sklearn.metrics import accuracy_score\n",
        "ac = accuracy_score(y_test, y_pred)\n",
        "mylist.append(ac)\n",
        "print(ac)"
      ],
      "metadata": {
        "colab": {
          "base_uri": "https://localhost:8080/"
        },
        "id": "BuREkckp4yr2",
        "outputId": "0cbfc667-7880-482d-988a-e93ee23f6f5b"
      },
      "execution_count": 127,
      "outputs": [
        {
          "output_type": "stream",
          "name": "stdout",
          "text": [
            "0.9333333333333333\n"
          ]
        }
      ]
    },
    {
      "cell_type": "markdown",
      "source": [
        "# SUPPORT VECTOR CLASSIFIER"
      ],
      "metadata": {
        "id": "3Lcm9J8Z9TZR"
      }
    },
    {
      "cell_type": "code",
      "source": [
        "from sklearn.svm import SVC\n",
        "from sklearn.metrics import accuracy_score\n",
        "list1 = []\n",
        "for c in [0.5,0.6,0.7,0.8,0.9,1.0]:\n",
        "    classifier = SVC(C = c, random_state=0, kernel = 'rbf')\n",
        "    classifier.fit(x_train1, y_train)\n",
        "    y_pred = classifier.predict(x_test1)\n",
        "    list1.append(accuracy_score(y_test,y_pred))\n",
        "plt.plot([0.5,0.6,0.7,0.8,0.9,1.0], list1)\n",
        "plt.show()"
      ],
      "metadata": {
        "colab": {
          "base_uri": "https://localhost:8080/",
          "height": 374
        },
        "id": "pHidpP_Z5SxD",
        "outputId": "4ec5ccee-00ff-4453-bd9b-caa78c1718f7"
      },
      "execution_count": 128,
      "outputs": [
        {
          "output_type": "display_data",
          "data": {
            "text/plain": [
              "<Figure size 1080x432 with 1 Axes>"
            ],
            "image/png": "[encoded data removed]"
          },
          "metadata": {}
        }
      ]
    },
    {
      "cell_type": "code",
      "source": [
        "# Training the Support Vector Classifier on the Training set\n",
        "\n",
        "from sklearn.svm import SVC\n",
        "classifier = SVC(C = 0.6, random_state=0, kernel = 'rbf')\n",
        "classifier.fit(x_train1, y_train)"
      ],
      "metadata": {
        "colab": {
          "base_uri": "https://localhost:8080/"
        },
        "id": "_W59w_Vg9i54",
        "outputId": "7b3adb1f-ce39-47d9-c031-b20674b42281"
      },
      "execution_count": 129,
      "outputs": [
        {
          "output_type": "execute_result",
          "data": {
            "text/plain": [
              "SVC(C=0.6, random_state=0)"
            ]
          },
          "metadata": {},
          "execution_count": 129
        }
      ]
    },
    {
      "cell_type": "code",
      "source": [
        "# Predicting the test set results\n",
        "\n",
        "y_pred = classifier.predict(x_test1)\n",
        "print(y_pred)"
      ],
      "metadata": {
        "colab": {
          "base_uri": "https://localhost:8080/"
        },
        "id": "hbjSzJEH9sg_",
        "outputId": "fde4f2e8-c764-471c-8da3-a954e63c963d"
      },
      "execution_count": 130,
      "outputs": [
        {
          "output_type": "stream",
          "name": "stdout",
          "text": [
            "[1 0 1 0 0 1 0 0 0 0 1 1 0 0 1 0 0 0 0 1 1 0 0 0 0 0 0 0 0 0 1 0 0 0 0 0 1\n",
            " 0 0 0 0 0 0 0 1 1 0 0 0 1 1 0 0 1 1 0 0 0 1 0]\n"
          ]
        }
      ]
    },
    {
      "cell_type": "code",
      "source": [
        "#calculating accuracy score\n",
        "\n",
        "from sklearn.metrics import accuracy_score\n",
        "ac = accuracy_score(y_test, y_pred)\n",
        "print(ac)\n",
        "mylist.append(ac)\n"
      ],
      "metadata": {
        "colab": {
          "base_uri": "https://localhost:8080/"
        },
        "id": "V2WN_JU89tkb",
        "outputId": "fcb3b4ea-283b-4994-ad3a-05f66502ce66"
      },
      "execution_count": 131,
      "outputs": [
        {
          "output_type": "stream",
          "name": "stdout",
          "text": [
            "0.9\n"
          ]
        }
      ]
    },
    {
      "cell_type": "markdown",
      "source": [
        "# **DECISION TREE CLASSIFIER**"
      ],
      "metadata": {
        "id": "rY7uYhb1-Bji"
      }
    },
    {
      "cell_type": "code",
      "source": [
        "# Finding the optimum number of max_leaf_nodes\n",
        "\n",
        "from sklearn.tree import DecisionTreeClassifier\n",
        "from sklearn.metrics import accuracy_score\n",
        "list1 = []\n",
        "for leaves in range(2,10):\n",
        "    dectree = DecisionTreeClassifier(max_leaf_nodes = leaves, random_state=0, criterion='entropy')\n",
        "    dectree.fit(x_train, y_train)\n",
        "    y_pred = dectree.predict(x_test)\n",
        "    list1.append(accuracy_score(y_test,y_pred))\n",
        "#print(mylist)\n",
        "plt.plot(list(range(2,10)), list1)\n",
        "plt.show()"
      ],
      "metadata": {
        "id": "Sa5BAS-r-HTV",
        "colab": {
          "base_uri": "https://localhost:8080/",
          "height": 374
        },
        "outputId": "d88c5efa-f6d2-48fb-f6e9-55763d5cf2a0"
      },
      "execution_count": 132,
      "outputs": [
        {
          "output_type": "display_data",
          "data": {
            "text/plain": [
              "<Figure size 1080x432 with 1 Axes>"
            ],
            "image/png": "[encoded data removed]"
          },
          "metadata": {}
        }
      ]
    },
    {
      "cell_type": "code",
      "source": [
        "# Training the Decision Tree Classifier on the Training set\n",
        "\n",
        "dectree = DecisionTreeClassifier(max_leaf_nodes = 3, random_state=0, criterion='entropy')\n",
        "dectree.fit(x_train, y_train)"
      ],
      "metadata": {
        "id": "bHIdAzuq-pHv",
        "colab": {
          "base_uri": "https://localhost:8080/"
        },
        "outputId": "25de05eb-15c7-47aa-a870-67a4b94adb37"
      },
      "execution_count": 133,
      "outputs": [
        {
          "output_type": "execute_result",
          "data": {
            "text/plain": [
              "DecisionTreeClassifier(criterion='entropy', max_leaf_nodes=3, random_state=0)"
            ]
          },
          "metadata": {},
          "execution_count": 133
        }
      ]
    },
    {
      "cell_type": "code",
      "source": [
        "# Predicting the test set results\n",
        "\n",
        "y_pred = dectree.predict(x_test)\n",
        "print(y_pred)"
      ],
      "metadata": {
        "id": "249W_SaB-yr9",
        "colab": {
          "base_uri": "https://localhost:8080/"
        },
        "outputId": "c56f1c8c-a65d-49c6-8180-8aa56776d75c"
      },
      "execution_count": 134,
      "outputs": [
        {
          "output_type": "stream",
          "name": "stdout",
          "text": [
            "[0 0 1 0 0 0 0 0 0 0 0 1 0 0 1 0 0 0 0 0 1 0 0 0 0 1 0 0 0 1 1 0 0 0 0 0 1\n",
            " 0 0 0 0 0 0 0 1 1 0 0 0 0 1 0 0 1 1 0 0 0 1 0]\n"
          ]
        }
      ]
    },
    {
      "cell_type": "code",
      "source": [
        "# calculating accuracy score\n",
        "\n",
        "from sklearn.metrics import accuracy_score\n",
        "ac = accuracy_score(y_test, y_pred)\n",
        "print(ac)\n",
        "mylist.append(ac)"
      ],
      "metadata": {
        "id": "5tF81may-0NW",
        "colab": {
          "base_uri": "https://localhost:8080/"
        },
        "outputId": "040a0285-05cb-4a4d-ad58-05cee73562f7"
      },
      "execution_count": 135,
      "outputs": [
        {
          "output_type": "stream",
          "name": "stdout",
          "text": [
            "0.95\n"
          ]
        }
      ]
    },
    {
      "cell_type": "markdown",
      "source": [
        "# **RANDOM FOREST REGRESSION**"
      ],
      "metadata": {
        "id": "LTosoJbw_IdE"
      }
    },
    {
      "cell_type": "code",
      "source": [
        "#Finding the optimum number of n_estimators\n",
        "\n",
        "from sklearn.ensemble import RandomForestClassifier\n",
        "from sklearn.metrics import  accuracy_score\n",
        "list1 = []\n",
        "for estimators in range(10,30):\n",
        "    randfor = RandomForestClassifier(n_estimators = estimators, random_state=0, criterion='entropy')\n",
        "    randfor.fit(x_train, y_train)\n",
        "    y_pred = randfor.predict(x_test)\n",
        "    list1.append(accuracy_score(y_test,y_pred))\n",
        "#print(mylist)\n",
        "plt.plot(list(range(10,30)), list1)\n",
        "plt.show()"
      ],
      "metadata": {
        "id": "uharMTez_PJJ",
        "colab": {
          "base_uri": "https://localhost:8080/",
          "height": 374
        },
        "outputId": "4dc7db07-4032-4a04-bba4-e9be4dfb3a85"
      },
      "execution_count": 136,
      "outputs": [
        {
          "output_type": "display_data",
          "data": {
            "text/plain": [
              "<Figure size 1080x432 with 1 Axes>"
            ],
            "image/png": "[encoded data removed]"
          },
          "metadata": {}
        }
      ]
    },
    {
      "cell_type": "code",
      "source": [
        "# Training the RandomForest Classifier on the Training set\n",
        "\n",
        "from sklearn.ensemble import RandomForestClassifier\n",
        "randfor = RandomForestClassifier(n_estimators = 11, criterion='entropy', random_state=0)\n",
        "randfor.fit(x_train,y_train)"
      ],
      "metadata": {
        "id": "1WMCYQbSAMUP",
        "colab": {
          "base_uri": "https://localhost:8080/"
        },
        "outputId": "bb0cbb36-9e6f-4c36-a53f-fb4dd7197157"
      },
      "execution_count": 137,
      "outputs": [
        {
          "output_type": "execute_result",
          "data": {
            "text/plain": [
              "RandomForestClassifier(criterion='entropy', n_estimators=11, random_state=0)"
            ]
          },
          "metadata": {},
          "execution_count": 137
        }
      ]
    },
    {
      "cell_type": "code",
      "source": [
        "# Predicting the test set results\n",
        "\n",
        "y_pred = randfor.predict(x_test)\n",
        "print(y_pred)"
      ],
      "metadata": {
        "id": "A0JW170lAdYN",
        "colab": {
          "base_uri": "https://localhost:8080/"
        },
        "outputId": "a00fd272-24a7-4128-9cc9-66679dd0f763"
      },
      "execution_count": 138,
      "outputs": [
        {
          "output_type": "stream",
          "name": "stdout",
          "text": [
            "[1 0 1 0 0 1 0 0 0 0 1 1 0 0 1 0 0 0 0 1 1 0 0 0 0 1 0 0 0 1 1 0 0 0 0 0 1\n",
            " 0 0 0 0 0 0 0 1 1 0 0 0 0 1 0 0 1 1 0 0 0 1 0]\n"
          ]
        }
      ]
    },
    {
      "cell_type": "code",
      "source": [
        "#calculating the accuracy score\n",
        "\n",
        "from sklearn.metrics import accuracy_score\n",
        "ac = accuracy_score(y_test, y_pred)\n",
        "mylist.append(ac)\n",
        "print(ac)"
      ],
      "metadata": {
        "id": "ty6qAloIAebz",
        "colab": {
          "base_uri": "https://localhost:8080/"
        },
        "outputId": "bd5fc9b7-5282-4d01-9df4-73fc6847f0fc"
      },
      "execution_count": 139,
      "outputs": [
        {
          "output_type": "stream",
          "name": "stdout",
          "text": [
            "0.95\n"
          ]
        }
      ]
    },
    {
      "cell_type": "markdown",
      "source": [
        "## ***PLOTTING ACCURACY SCORE OF DIFFERENT MODELS***\n"
      ],
      "metadata": {
        "id": "r3n0d-_hAyfY"
      }
    },
    {
      "cell_type": "code",
      "source": [
        "mylist2 = [\"Logistic Regression\", \"KNearestNeighbours\",\"SupportVector\",\"DecisionTree\",\"RandomForest\"]"
      ],
      "metadata": {
        "id": "QpnoBrGYA687"
      },
      "execution_count": 140,
      "outputs": []
    },
    {
      "cell_type": "code",
      "source": [
        "plt.rcParams['figure.figsize']=15,6 \n",
        "sns.set_style(\"darkgrid\")\n",
        "ax = sns.barplot(x=mylist2, y=mylist, palette = \"rocket\", saturation =1.5)\n",
        "plt.xlabel(\"Classifier Models\", fontsize = 20 )\n",
        "plt.ylabel(\"% of Accuracy\", fontsize = 20)\n",
        "plt.title(\"Accuracy of different Classifier Models\", fontsize = 20)\n",
        "plt.xticks(fontsize = 12, horizontalalignment = 'center', rotation = 8)\n",
        "plt.yticks(fontsize = 13)\n",
        "for p in ax.patches:\n",
        "    width, height = p.get_width(), p.get_height()\n",
        "    x, y = p.get_xy() \n",
        "    ax.annotate(f'{height:.2%}', (x + width/2, y + height*1.02), ha='center', fontsize = 'x-large')\n",
        "plt.show()"
      ],
      "metadata": {
        "id": "XbLe089OBMVf",
        "colab": {
          "base_uri": "https://localhost:8080/",
          "height": 438
        },
        "outputId": "873fb669-30aa-49a2-d700-ced71ac1bf13"
      },
      "execution_count": 141,
      "outputs": [
        {
          "output_type": "display_data",
          "data": {
            "text/plain": [
              "<Figure size 1080x432 with 1 Axes>"
            ],
            "image/png": "[encoded data removed]"
          },
          "metadata": {}
        }
      ]
    }
  ]
}
